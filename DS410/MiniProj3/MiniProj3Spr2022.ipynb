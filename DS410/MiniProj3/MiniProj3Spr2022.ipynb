{
 "cells": [
  {
   "cell_type": "markdown",
   "metadata": {},
   "source": [
    "# DS/CMPSC 410 MiniProject #3\n",
    "# Spring 2022\n",
    "## Instructor: Professor John Yen\n",
    "## TA: Rupesh Prajapati \n",
    "## LAs: Lily Jakielaszek and Cayla Shan Pun\n",
    "\n",
    "### Learning Objectives\n",
    "- Be able to apply bucketing to numerical variables for their integration with OHE features.\n",
    "- Be able to apply k-means clustering to the Darknet dataset by combining buketing and one-hot encoding, first in local mode, then in cluster mode using the big data.\n",
    "- Be able to use external labels (e.g., mirai) to evaluate and compare the results of k-means clustering.\n",
    "- Be able to compare different mirai clusters identified by different k-means clustering and gain insights about characteristics of the clusters.  \n",
    "\n",
    "### Total points: 100 \n",
    "- Exercise 1: 5 points\n",
    "- Exercise 2: 10 points \n",
    "- Exercise 3: 15 points \n",
    "- Exercise 4: 5 points\n",
    "- Exercise 5: 10 points\n",
    "- Exercise 6: 5 points\n",
    "- Exercise 7: 5 points\n",
    "- Exercise 8: 10 points\n",
    "- Exercise 9: 15 points\n",
    "- Exercise 10: 20 points\n",
    "  \n",
    "### Due: 11:59 pm, April 17th, 2022"
   ]
  },
  {
   "cell_type": "code",
   "execution_count": 1,
   "metadata": {},
   "outputs": [],
   "source": [
    "import pyspark\n",
    "import csv"
   ]
  },
  {
   "cell_type": "code",
   "execution_count": 2,
   "metadata": {},
   "outputs": [],
   "source": [
    "from pyspark import SparkContext\n",
    "from pyspark.sql import SparkSession\n",
    "from pyspark.sql.types import StructField, StructType, StringType, LongType\n",
    "from pyspark.sql.functions import col, column\n",
    "from pyspark.sql.functions import expr\n",
    "from pyspark.sql.functions import split\n",
    "from pyspark.sql.functions import array_contains\n",
    "from pyspark.sql import Row\n",
    "from pyspark.ml import Pipeline\n",
    "from pyspark.ml.feature import OneHotEncoder, StringIndexer, VectorAssembler, IndexToString, PCA\n",
    "from pyspark.ml.clustering import KMeans\n",
    "from pyspark.ml.evaluation import ClusteringEvaluator"
   ]
  },
  {
   "cell_type": "code",
   "execution_count": 3,
   "metadata": {},
   "outputs": [],
   "source": [
    "import pandas as pd\n",
    "import numpy as np\n",
    "import math"
   ]
  },
  {
   "cell_type": "code",
   "execution_count": 4,
   "metadata": {},
   "outputs": [],
   "source": [
    "ss = SparkSession.builder.master(\"local\").appName(\"MiniProject #3\").getOrCreate()"
   ]
  },
  {
   "cell_type": "markdown",
   "metadata": {},
   "source": [
    "# Exercise 1 (5 points)\n",
    "Enter your name in this Markdown cell and complete the path for your data:\n",
    "- Name: Haichen Wei"
   ]
  },
  {
   "cell_type": "code",
   "execution_count": 5,
   "metadata": {},
   "outputs": [],
   "source": [
    "Scanners_big_df = ss.read.csv(\"/storage/home/hxw5245/MiniProj1/Day_2020_profile.csv\", header=True, inferSchema=True )"
   ]
  },
  {
   "cell_type": "code",
   "execution_count": 6,
   "metadata": {},
   "outputs": [
    {
     "name": "stdout",
     "output_type": "stream",
     "text": [
      "root\n",
      " |-- _c0: integer (nullable = true)\n",
      " |-- id: integer (nullable = true)\n",
      " |-- numports: integer (nullable = true)\n",
      " |-- lifetime: double (nullable = true)\n",
      " |-- Bytes: long (nullable = true)\n",
      " |-- Packets: integer (nullable = true)\n",
      " |-- average_packetsize: integer (nullable = true)\n",
      " |-- MinUniqueDests: integer (nullable = true)\n",
      " |-- MaxUniqueDests: integer (nullable = true)\n",
      " |-- MinUniqueDest24s: integer (nullable = true)\n",
      " |-- MaxUniqueDest24s: integer (nullable = true)\n",
      " |-- average_lifetime: double (nullable = true)\n",
      " |-- mirai: boolean (nullable = true)\n",
      " |-- zmap: boolean (nullable = true)\n",
      " |-- masscan: boolean (nullable = true)\n",
      " |-- country: string (nullable = true)\n",
      " |-- traffic_types_scanned_str: string (nullable = true)\n",
      " |-- ports_scanned_str: string (nullable = true)\n",
      " |-- host_tags_per_censys: string (nullable = true)\n",
      " |-- host_services_per_censys: string (nullable = true)\n",
      "\n"
     ]
    }
   ],
   "source": [
    "Scanners_big_df.printSchema()"
   ]
  },
  {
   "cell_type": "markdown",
   "metadata": {},
   "source": [
    "# We want to find out the range of the \"Packets\" column for the entire big dataset so that we can design bucketing based on the range.\n",
    "## The rest of the Jupyter Notebook (for local mode) will use the small dataset."
   ]
  },
  {
   "cell_type": "code",
   "execution_count": 7,
   "metadata": {},
   "outputs": [
    {
     "name": "stdout",
     "output_type": "stream",
     "text": [
      "+-------+-----------------+\n",
      "|summary|          Packets|\n",
      "+-------+-----------------+\n",
      "|  count|          2270625|\n",
      "|   mean|826.3704949077897|\n",
      "| stddev|95219.37995087758|\n",
      "|    min|                1|\n",
      "|    max|         29924992|\n",
      "+-------+-----------------+\n",
      "\n"
     ]
    }
   ],
   "source": [
    "Scanners_big_df.select(\"Packets\").describe().show()"
   ]
  },
  {
   "cell_type": "markdown",
   "metadata": {},
   "source": [
    "## The higest value for the \"Packets\" column is 29,924,992 (close to 30 million). The minimum value is 1."
   ]
  },
  {
   "cell_type": "code",
   "execution_count": 8,
   "metadata": {},
   "outputs": [],
   "source": [
    "Scanners_df = ss.read.csv(\"/storage/home/hxw5245/MiniProj1/sampled_profile.csv\", header= True, inferSchema=True )"
   ]
  },
  {
   "cell_type": "markdown",
   "metadata": {},
   "source": [
    "## We can use printSchema() to display the schema of the DataFrame Scanners_df to see whether it was inferred correctly."
   ]
  },
  {
   "cell_type": "code",
   "execution_count": 9,
   "metadata": {},
   "outputs": [
    {
     "name": "stdout",
     "output_type": "stream",
     "text": [
      "root\n",
      " |-- _c0: integer (nullable = true)\n",
      " |-- id: integer (nullable = true)\n",
      " |-- numports: integer (nullable = true)\n",
      " |-- lifetime: double (nullable = true)\n",
      " |-- Bytes: integer (nullable = true)\n",
      " |-- Packets: integer (nullable = true)\n",
      " |-- average_packetsize: integer (nullable = true)\n",
      " |-- MinUniqueDests: integer (nullable = true)\n",
      " |-- MaxUniqueDests: integer (nullable = true)\n",
      " |-- MinUniqueDest24s: integer (nullable = true)\n",
      " |-- MaxUniqueDest24s: integer (nullable = true)\n",
      " |-- average_lifetime: double (nullable = true)\n",
      " |-- mirai: boolean (nullable = true)\n",
      " |-- zmap: boolean (nullable = true)\n",
      " |-- masscan: boolean (nullable = true)\n",
      " |-- country: string (nullable = true)\n",
      " |-- traffic_types_scanned_str: string (nullable = true)\n",
      " |-- ports_scanned_str: string (nullable = true)\n",
      " |-- host_tags_per_censys: string (nullable = true)\n",
      " |-- host_services_per_censys: string (nullable = true)\n",
      "\n"
     ]
    }
   ],
   "source": [
    "Scanners_df.printSchema()"
   ]
  },
  {
   "cell_type": "markdown",
   "metadata": {},
   "source": [
    "## Part A Compute the Correlation among features.\n",
    "### Reason: Using two highly correlated features is (almost) like using a feature twice -- It can bias the clustering result because the distance calculation gives the feature more weight."
   ]
  },
  {
   "cell_type": "code",
   "execution_count": 10,
   "metadata": {},
   "outputs": [
    {
     "data": {
      "text/plain": [
       "0.9996587858794584"
      ]
     },
     "execution_count": 10,
     "metadata": {},
     "output_type": "execute_result"
    }
   ],
   "source": [
    "Scanners_df.stat.corr(\"Packets\", \"Bytes\")"
   ]
  },
  {
   "cell_type": "code",
   "execution_count": 11,
   "metadata": {},
   "outputs": [
    {
     "name": "stdout",
     "output_type": "stream",
     "text": [
      "+--------------------+\n",
      "|corr(Packets, Bytes)|\n",
      "+--------------------+\n",
      "|  0.9996587858794584|\n",
      "+--------------------+\n",
      "\n"
     ]
    }
   ],
   "source": [
    "from pyspark.sql.functions import corr\n",
    "Scanners_df.select(corr(\"Packets\", \"Bytes\")).show()"
   ]
  },
  {
   "cell_type": "code",
   "execution_count": 12,
   "metadata": {},
   "outputs": [
    {
     "name": "stdout",
     "output_type": "stream",
     "text": [
      "+-----------------------+\n",
      "|corr(lifetime, Packets)|\n",
      "+-----------------------+\n",
      "|     0.8327176197182774|\n",
      "+-----------------------+\n",
      "\n"
     ]
    }
   ],
   "source": [
    "Scanners_df.select(corr(\"lifetime\", \"Packets\")).show()"
   ]
  },
  {
   "cell_type": "code",
   "execution_count": 13,
   "metadata": {},
   "outputs": [
    {
     "name": "stdout",
     "output_type": "stream",
     "text": [
      "+------------------------+\n",
      "|corr(lifetime, numports)|\n",
      "+------------------------+\n",
      "|     0.41013843142637924|\n",
      "+------------------------+\n",
      "\n"
     ]
    }
   ],
   "source": [
    "Scanners_df.select(corr(\"lifetime\", \"numports\")).show()"
   ]
  },
  {
   "cell_type": "code",
   "execution_count": 14,
   "metadata": {},
   "outputs": [
    {
     "name": "stdout",
     "output_type": "stream",
     "text": [
      "+------------------------------+\n",
      "|corr(numports, MinUniqueDests)|\n",
      "+------------------------------+\n",
      "|          -2.46489881261615...|\n",
      "+------------------------------+\n",
      "\n"
     ]
    }
   ],
   "source": [
    "Scanners_df.select(corr(\"numports\", \"MinUniqueDests\")).show()"
   ]
  },
  {
   "cell_type": "markdown",
   "metadata": {},
   "source": [
    "# Part B: Transforming Numerical Features Using Bucketing"
   ]
  },
  {
   "cell_type": "markdown",
   "metadata": {},
   "source": [
    "## B.1 Bucketing\n",
    "Transform a numerical feature into multiple \"buckets\" by specifying their boundaries.\n",
    "- A benefit of this transformation is controlling the maximal distance of this feature (so that it does not overweigh other features such as One-Hot-Encoded features)\n"
   ]
  },
  {
   "cell_type": "code",
   "execution_count": 15,
   "metadata": {},
   "outputs": [
    {
     "name": "stdout",
     "output_type": "stream",
     "text": [
      "+-------+-----------------+\n",
      "|summary|          Packets|\n",
      "+-------+-----------------+\n",
      "|  count|           227062|\n",
      "|   mean|772.6227946552043|\n",
      "| stddev|85686.56151383772|\n",
      "|    min|                1|\n",
      "|    max|         23726033|\n",
      "+-------+-----------------+\n",
      "\n"
     ]
    }
   ],
   "source": [
    "Scanners_df.select(\"Packets\").describe().show()"
   ]
  },
  {
   "cell_type": "markdown",
   "metadata": {},
   "source": [
    "## Even though the highest value of \"Packets\" column for this smaller scanner dataset is 23,726,033.  We have found earlier that the higest value of \"Packets\" column for the big scanner dataset is close to 30 million."
   ]
  },
  {
   "cell_type": "code",
   "execution_count": 16,
   "metadata": {},
   "outputs": [],
   "source": [
    "Packets_RDD=Scanners_df.select(\"Packets\").rdd"
   ]
  },
  {
   "cell_type": "code",
   "execution_count": 17,
   "metadata": {},
   "outputs": [],
   "source": [
    "Packets_rdd = Packets_RDD.map(lambda row: row[0])"
   ]
  },
  {
   "cell_type": "code",
   "execution_count": 18,
   "metadata": {},
   "outputs": [
    {
     "data": {
      "text/plain": [
       "([0, 10, 100, 1000, 10000, 100000, 1000000, 10000000, 100000000],\n",
       " [83571, 106530, 33670, 2857, 307, 110, 13, 4])"
      ]
     },
     "execution_count": 18,
     "metadata": {},
     "output_type": "execute_result"
    }
   ],
   "source": [
    "Packets_rdd.histogram([0,10,100,1000,10000,100000,1000000,10000000,100000000])"
   ]
  },
  {
   "cell_type": "markdown",
   "metadata": {},
   "source": [
    "# Exercise 2 (10 points)\n",
    "Complete the code below to convert the feature ``Packets`` into 10 buckets (based on 11 borders in ``bucketBorders``)"
   ]
  },
  {
   "cell_type": "code",
   "execution_count": 19,
   "metadata": {},
   "outputs": [],
   "source": [
    "from pyspark.ml.feature import Bucketizer\n",
    "bucketBorders=[-1.0, 5.0, 10.0, 25.0, 50.0, 100.0, 1000.0, 10000.0, 100000.0, 1000000.0, 100000000.0]\n",
    "bucketer = Bucketizer().setSplits(bucketBorders).setInputCol(\"Packets\").setOutputCol(\"Packets_B10\")\n",
    "Scanners2_df = bucketer.transform(Scanners_df)"
   ]
  },
  {
   "cell_type": "code",
   "execution_count": 20,
   "metadata": {},
   "outputs": [
    {
     "name": "stdout",
     "output_type": "stream",
     "text": [
      "root\n",
      " |-- _c0: integer (nullable = true)\n",
      " |-- id: integer (nullable = true)\n",
      " |-- numports: integer (nullable = true)\n",
      " |-- lifetime: double (nullable = true)\n",
      " |-- Bytes: integer (nullable = true)\n",
      " |-- Packets: integer (nullable = true)\n",
      " |-- average_packetsize: integer (nullable = true)\n",
      " |-- MinUniqueDests: integer (nullable = true)\n",
      " |-- MaxUniqueDests: integer (nullable = true)\n",
      " |-- MinUniqueDest24s: integer (nullable = true)\n",
      " |-- MaxUniqueDest24s: integer (nullable = true)\n",
      " |-- average_lifetime: double (nullable = true)\n",
      " |-- mirai: boolean (nullable = true)\n",
      " |-- zmap: boolean (nullable = true)\n",
      " |-- masscan: boolean (nullable = true)\n",
      " |-- country: string (nullable = true)\n",
      " |-- traffic_types_scanned_str: string (nullable = true)\n",
      " |-- ports_scanned_str: string (nullable = true)\n",
      " |-- host_tags_per_censys: string (nullable = true)\n",
      " |-- host_services_per_censys: string (nullable = true)\n",
      " |-- Packets_B10: double (nullable = true)\n",
      "\n"
     ]
    }
   ],
   "source": [
    "Scanners2_df.printSchema()"
   ]
  },
  {
   "cell_type": "code",
   "execution_count": 21,
   "metadata": {},
   "outputs": [
    {
     "name": "stdout",
     "output_type": "stream",
     "text": [
      "+--------+-----------+\n",
      "| Packets|Packets_B10|\n",
      "+--------+-----------+\n",
      "| 5156788|        9.0|\n",
      "|  111408|        8.0|\n",
      "|  106182|        8.0|\n",
      "|  423063|        8.0|\n",
      "|  128252|        8.0|\n",
      "|  101375|        8.0|\n",
      "|22989586|        9.0|\n",
      "|  257781|        8.0|\n",
      "|  454434|        8.0|\n",
      "|  110155|        8.0|\n",
      "|  135825|        8.0|\n",
      "|  533497|        8.0|\n",
      "|  120583|        8.0|\n",
      "|  173663|        8.0|\n",
      "|  433552|        8.0|\n",
      "|  158969|        8.0|\n",
      "|  125822|        8.0|\n",
      "|  213661|        8.0|\n",
      "|  132546|        8.0|\n",
      "|  136777|        8.0|\n",
      "|  148520|        8.0|\n",
      "|  678087|        8.0|\n",
      "|  360056|        8.0|\n",
      "|  204668|        8.0|\n",
      "|  258245|        8.0|\n",
      "|  212670|        8.0|\n",
      "| 5503873|        9.0|\n",
      "|  122909|        8.0|\n",
      "|  177976|        8.0|\n",
      "|  431381|        8.0|\n",
      "+--------+-----------+\n",
      "only showing top 30 rows\n",
      "\n"
     ]
    }
   ],
   "source": [
    "Scanners2_df.select(\"Packets\",\"Packets_B10\").where(\"Packets > 100000\").show(30)"
   ]
  },
  {
   "cell_type": "code",
   "execution_count": 22,
   "metadata": {},
   "outputs": [
    {
     "name": "stdout",
     "output_type": "stream",
     "text": [
      "+-------+-----------------+\n",
      "|summary|         numports|\n",
      "+-------+-----------------+\n",
      "|  count|           227062|\n",
      "|   mean|6.280645814799482|\n",
      "| stddev|352.0095436248727|\n",
      "|    min|                1|\n",
      "|    max|            65386|\n",
      "+-------+-----------------+\n",
      "\n"
     ]
    }
   ],
   "source": [
    "Scanners2_df.select(\"numports\").describe().show()"
   ]
  },
  {
   "cell_type": "code",
   "execution_count": 23,
   "metadata": {},
   "outputs": [
    {
     "data": {
      "text/plain": [
       "17132"
      ]
     },
     "execution_count": 23,
     "metadata": {},
     "output_type": "execute_result"
    }
   ],
   "source": [
    "Scanners_df.where(col('mirai')).count()"
   ]
  },
  {
   "cell_type": "markdown",
   "metadata": {},
   "source": [
    "# Part C: One Hot Encoding \n",
    "## This part is identical to that of Miniproject Deliverable #2\n",
    "We want to apply one hot encoding to the set of ports scanned by scanners.  \n",
    "- C.1 Like Mini Project deliverable 1 and 2, we first convert the feature \"ports_scanned_str\" to a feature that is an Array of ports\n",
    "- C.2 We then calculate the total number of scanners for each port\n",
    "- C.3 We identify the top n port to use for one-hot encoding (You choose the number n).\n",
    "- C.4 Generate one-hot encoded feature for these top n ports."
   ]
  },
  {
   "cell_type": "code",
   "execution_count": null,
   "metadata": {},
   "outputs": [],
   "source": [
    "# Scanners_df.select(\"ports_scanned_str\").show(30)"
   ]
  },
  {
   "cell_type": "code",
   "execution_count": 24,
   "metadata": {},
   "outputs": [],
   "source": [
    "Scanners3_df=Scanners2_df.withColumn(\"Ports_Array\", split(col(\"ports_scanned_str\"), \"-\") )\n",
    "# Scanners_df2.persist().show(10)"
   ]
  },
  {
   "cell_type": "markdown",
   "metadata": {},
   "source": [
    "# C.1 Convert the `ports_scanned_str` column to an array\n",
    "## We only need the column ```Ports_Array``` to calculate the top ports being scanned"
   ]
  },
  {
   "cell_type": "code",
   "execution_count": 25,
   "metadata": {},
   "outputs": [],
   "source": [
    "Ports_Scanned_RDD = Scanners3_df.select(\"Ports_Array\").rdd"
   ]
  },
  {
   "cell_type": "code",
   "execution_count": null,
   "metadata": {},
   "outputs": [],
   "source": [
    "# Ports_Scanned_RDD.persist().take(5)"
   ]
  },
  {
   "cell_type": "markdown",
   "metadata": {},
   "source": [
    "# C.2 Calculate the Total Number of scanners for each port\n",
    "### Because each port number in the Ports_Array column for each row occurs only once, we can count the total occurance of each port number through flatMap."
   ]
  },
  {
   "cell_type": "code",
   "execution_count": 26,
   "metadata": {},
   "outputs": [],
   "source": [
    "Ports_list_RDD = Ports_Scanned_RDD.map(lambda row: row[0] )"
   ]
  },
  {
   "cell_type": "code",
   "execution_count": null,
   "metadata": {},
   "outputs": [],
   "source": [
    "# Ports_list_RDD.persist()"
   ]
  },
  {
   "cell_type": "code",
   "execution_count": 27,
   "metadata": {},
   "outputs": [],
   "source": [
    "Ports_list2_RDD = Ports_Scanned_RDD.flatMap(lambda row: row[0] )"
   ]
  },
  {
   "cell_type": "code",
   "execution_count": 28,
   "metadata": {},
   "outputs": [],
   "source": [
    "Port_count_RDD = Ports_list2_RDD.map(lambda x: (x, 1))\n",
    "# Port_count_RDD.take(2)"
   ]
  },
  {
   "cell_type": "code",
   "execution_count": 29,
   "metadata": {},
   "outputs": [],
   "source": [
    "Port_count_total_RDD = Port_count_RDD.reduceByKey(lambda x,y: x+y, 1)\n",
    "# Port_count_total_RDD.persist().take(5)"
   ]
  },
  {
   "cell_type": "code",
   "execution_count": 30,
   "metadata": {},
   "outputs": [],
   "source": [
    "Sorted_Count_Port_RDD = Port_count_total_RDD.map(lambda x: (x[1], x[0])).sortByKey( ascending = False)"
   ]
  },
  {
   "cell_type": "code",
   "execution_count": null,
   "metadata": {},
   "outputs": [],
   "source": [
    "# Sorted_Count_Port_RDD.persist().take(50)"
   ]
  },
  {
   "cell_type": "markdown",
   "metadata": {},
   "source": [
    "# C.3 Identify top n ports to use for one-hot encoding.\n",
    "### Select top_ports to be the number of top ports you want to use for one-hot encoding.  I recommend a number between 20 and 60."
   ]
  },
  {
   "cell_type": "code",
   "execution_count": 31,
   "metadata": {},
   "outputs": [],
   "source": [
    "top_ports= 50\n",
    "Sorted_Ports_RDD= Sorted_Count_Port_RDD.map(lambda x: x[1])\n",
    "Top_Ports_list = Sorted_Ports_RDD.take(top_ports)"
   ]
  },
  {
   "cell_type": "code",
   "execution_count": 32,
   "metadata": {},
   "outputs": [
    {
     "data": {
      "text/plain": [
       "['17132',\n",
       " '17140',\n",
       " '17128',\n",
       " '17138',\n",
       " '17130',\n",
       " '17136',\n",
       " '23',\n",
       " '445',\n",
       " '54594',\n",
       " '17142',\n",
       " '17134',\n",
       " '80',\n",
       " '8080',\n",
       " '0',\n",
       " '2323',\n",
       " '5555',\n",
       " '81',\n",
       " '1023',\n",
       " '52869',\n",
       " '8443',\n",
       " '49152',\n",
       " '7574',\n",
       " '37215',\n",
       " '34218',\n",
       " '34220',\n",
       " '33968',\n",
       " '34224',\n",
       " '34228',\n",
       " '33962',\n",
       " '33960',\n",
       " '33964',\n",
       " '34216',\n",
       " '34226',\n",
       " '33970',\n",
       " '33972',\n",
       " '50401',\n",
       " '34222',\n",
       " '34230',\n",
       " '33966',\n",
       " '33974',\n",
       " '3389',\n",
       " '1433',\n",
       " '22',\n",
       " '5353',\n",
       " '21',\n",
       " '8291',\n",
       " '8728',\n",
       " '443',\n",
       " '5900',\n",
       " '8000']"
      ]
     },
     "execution_count": 32,
     "metadata": {},
     "output_type": "execute_result"
    }
   ],
   "source": [
    "Top_Ports_list"
   ]
  },
  {
   "cell_type": "code",
   "execution_count": null,
   "metadata": {},
   "outputs": [],
   "source": [
    "# Scanners_df3=Scanners_df2.withColumn(FeatureName, array_contains(\"Ports_Array\", Top_Ports_list[0]))"
   ]
  },
  {
   "cell_type": "code",
   "execution_count": null,
   "metadata": {},
   "outputs": [],
   "source": [
    "# Scanners_df3.show(10)"
   ]
  },
  {
   "cell_type": "markdown",
   "metadata": {},
   "source": [
    "# C.4 Generate Hot-One Encoded Feature for each of the top ports in the Top_Ports_list\n",
    "\n",
    "- Iterate through the Top_Ports_list so that each top port is one-hot encoded."
   ]
  },
  {
   "cell_type": "markdown",
   "metadata": {},
   "source": [
    "The following PySpark code encodes top n ports using One Hot Encoding, where n is specified by the variable ```top_ports```"
   ]
  },
  {
   "cell_type": "code",
   "execution_count": 33,
   "metadata": {},
   "outputs": [],
   "source": [
    "for i in range(0, top_ports):\n",
    "    # \"Port\" + Top_Ports_list[i]  is the name of each new feature created through One Hot Encoding\n",
    "    Scanners_df3 = Scanners3_df.withColumn(\"Port\" + Top_Ports_list[i], array_contains(\"Ports_Array\", Top_Ports_list[i]))\n",
    "    Scanners3_df = Scanners_df3"
   ]
  },
  {
   "cell_type": "code",
   "execution_count": 34,
   "metadata": {},
   "outputs": [
    {
     "name": "stdout",
     "output_type": "stream",
     "text": [
      "root\n",
      " |-- _c0: integer (nullable = true)\n",
      " |-- id: integer (nullable = true)\n",
      " |-- numports: integer (nullable = true)\n",
      " |-- lifetime: double (nullable = true)\n",
      " |-- Bytes: integer (nullable = true)\n",
      " |-- Packets: integer (nullable = true)\n",
      " |-- average_packetsize: integer (nullable = true)\n",
      " |-- MinUniqueDests: integer (nullable = true)\n",
      " |-- MaxUniqueDests: integer (nullable = true)\n",
      " |-- MinUniqueDest24s: integer (nullable = true)\n",
      " |-- MaxUniqueDest24s: integer (nullable = true)\n",
      " |-- average_lifetime: double (nullable = true)\n",
      " |-- mirai: boolean (nullable = true)\n",
      " |-- zmap: boolean (nullable = true)\n",
      " |-- masscan: boolean (nullable = true)\n",
      " |-- country: string (nullable = true)\n",
      " |-- traffic_types_scanned_str: string (nullable = true)\n",
      " |-- ports_scanned_str: string (nullable = true)\n",
      " |-- host_tags_per_censys: string (nullable = true)\n",
      " |-- host_services_per_censys: string (nullable = true)\n",
      " |-- Packets_B10: double (nullable = true)\n",
      " |-- Ports_Array: array (nullable = true)\n",
      " |    |-- element: string (containsNull = true)\n",
      " |-- Port17132: boolean (nullable = true)\n",
      " |-- Port17140: boolean (nullable = true)\n",
      " |-- Port17128: boolean (nullable = true)\n",
      " |-- Port17138: boolean (nullable = true)\n",
      " |-- Port17130: boolean (nullable = true)\n",
      " |-- Port17136: boolean (nullable = true)\n",
      " |-- Port23: boolean (nullable = true)\n",
      " |-- Port445: boolean (nullable = true)\n",
      " |-- Port54594: boolean (nullable = true)\n",
      " |-- Port17142: boolean (nullable = true)\n",
      " |-- Port17134: boolean (nullable = true)\n",
      " |-- Port80: boolean (nullable = true)\n",
      " |-- Port8080: boolean (nullable = true)\n",
      " |-- Port0: boolean (nullable = true)\n",
      " |-- Port2323: boolean (nullable = true)\n",
      " |-- Port5555: boolean (nullable = true)\n",
      " |-- Port81: boolean (nullable = true)\n",
      " |-- Port1023: boolean (nullable = true)\n",
      " |-- Port52869: boolean (nullable = true)\n",
      " |-- Port8443: boolean (nullable = true)\n",
      " |-- Port49152: boolean (nullable = true)\n",
      " |-- Port7574: boolean (nullable = true)\n",
      " |-- Port37215: boolean (nullable = true)\n",
      " |-- Port34218: boolean (nullable = true)\n",
      " |-- Port34220: boolean (nullable = true)\n",
      " |-- Port33968: boolean (nullable = true)\n",
      " |-- Port34224: boolean (nullable = true)\n",
      " |-- Port34228: boolean (nullable = true)\n",
      " |-- Port33962: boolean (nullable = true)\n",
      " |-- Port33960: boolean (nullable = true)\n",
      " |-- Port33964: boolean (nullable = true)\n",
      " |-- Port34216: boolean (nullable = true)\n",
      " |-- Port34226: boolean (nullable = true)\n",
      " |-- Port33970: boolean (nullable = true)\n",
      " |-- Port33972: boolean (nullable = true)\n",
      " |-- Port50401: boolean (nullable = true)\n",
      " |-- Port34222: boolean (nullable = true)\n",
      " |-- Port34230: boolean (nullable = true)\n",
      " |-- Port33966: boolean (nullable = true)\n",
      " |-- Port33974: boolean (nullable = true)\n",
      " |-- Port3389: boolean (nullable = true)\n",
      " |-- Port1433: boolean (nullable = true)\n",
      " |-- Port22: boolean (nullable = true)\n",
      " |-- Port5353: boolean (nullable = true)\n",
      " |-- Port21: boolean (nullable = true)\n",
      " |-- Port8291: boolean (nullable = true)\n",
      " |-- Port8728: boolean (nullable = true)\n",
      " |-- Port443: boolean (nullable = true)\n",
      " |-- Port5900: boolean (nullable = true)\n",
      " |-- Port8000: boolean (nullable = true)\n",
      "\n"
     ]
    }
   ],
   "source": [
    "Scanners3_df.printSchema()"
   ]
  },
  {
   "cell_type": "markdown",
   "metadata": {},
   "source": [
    "# Exercise 3 (15 points)\n",
    "Complete the following code to use k-means to cluster the scanners using the following features\n",
    "- bucketing of 'packets' numerical feature\n",
    "- one-hot encoding of top k ports (k=50)"
   ]
  },
  {
   "cell_type": "markdown",
   "metadata": {},
   "source": [
    "# Part D: Clustering\n",
    "## Specify Parameters for k Means Clustering\n",
    "## We use the variable `cluster_num` for the number of clusters to be generated by k-means clustering."
   ]
  },
  {
   "cell_type": "code",
   "execution_count": 35,
   "metadata": {},
   "outputs": [
    {
     "data": {
      "text/plain": [
       "'distanceMeasure: the distance measure. Supported options: \\'euclidean\\' and \\'cosine\\'. (default: euclidean)\\nfeaturesCol: features column name. (default: features, current: features)\\ninitMode: The initialization algorithm. This can be either \"random\" to choose random points as initial cluster centers, or \"k-means||\" to use a parallel variant of k-means++ (default: k-means||)\\ninitSteps: The number of steps for k-means|| initialization mode. Must be > 0. (default: 2)\\nk: The number of clusters to create. Must be > 1. (default: 2, current: 100)\\nmaxIter: max number of iterations (>= 0). (default: 20)\\npredictionCol: prediction column name. (default: prediction, current: prediction)\\nseed: random seed. (default: -2471357743403942232, current: 123)\\ntol: the convergence tolerance for iterative algorithms (>= 0). (default: 0.0001)\\nweightCol: weight column name. If this is not set or empty, we treat all instance weights as 1.0. (undefined)'"
      ]
     },
     "execution_count": 35,
     "metadata": {},
     "output_type": "execute_result"
    }
   ],
   "source": [
    "cluster_num = 100\n",
    "seed = 123\n",
    "km = KMeans(featuresCol=\"features\", predictionCol=\"prediction\").setK(cluster_num).setSeed(seed)\n",
    "km.explainParams()"
   ]
  },
  {
   "cell_type": "code",
   "execution_count": 36,
   "metadata": {},
   "outputs": [],
   "source": [
    "input_features = [\"Packets_B10\"]\n",
    "for i in range(0, top_ports):\n",
    "    input_features.append( \"Port\"+Top_Ports_list[i] )"
   ]
  },
  {
   "cell_type": "code",
   "execution_count": 37,
   "metadata": {},
   "outputs": [
    {
     "name": "stdout",
     "output_type": "stream",
     "text": [
      "['Packets_B10', 'Port17132', 'Port17140', 'Port17128', 'Port17138', 'Port17130', 'Port17136', 'Port23', 'Port445', 'Port54594', 'Port17142', 'Port17134', 'Port80', 'Port8080', 'Port0', 'Port2323', 'Port5555', 'Port81', 'Port1023', 'Port52869', 'Port8443', 'Port49152', 'Port7574', 'Port37215', 'Port34218', 'Port34220', 'Port33968', 'Port34224', 'Port34228', 'Port33962', 'Port33960', 'Port33964', 'Port34216', 'Port34226', 'Port33970', 'Port33972', 'Port50401', 'Port34222', 'Port34230', 'Port33966', 'Port33974', 'Port3389', 'Port1433', 'Port22', 'Port5353', 'Port21', 'Port8291', 'Port8728', 'Port443', 'Port5900', 'Port8000']\n"
     ]
    }
   ],
   "source": [
    "print(input_features)"
   ]
  },
  {
   "cell_type": "code",
   "execution_count": 38,
   "metadata": {},
   "outputs": [],
   "source": [
    "va = VectorAssembler().setInputCols(input_features).setOutputCol(\"features\")"
   ]
  },
  {
   "cell_type": "code",
   "execution_count": 39,
   "metadata": {},
   "outputs": [],
   "source": [
    "data= va.transform(Scanners3_df)"
   ]
  },
  {
   "cell_type": "code",
   "execution_count": 40,
   "metadata": {},
   "outputs": [
    {
     "data": {
      "text/plain": [
       "DataFrame[_c0: int, id: int, numports: int, lifetime: double, Bytes: int, Packets: int, average_packetsize: int, MinUniqueDests: int, MaxUniqueDests: int, MinUniqueDest24s: int, MaxUniqueDest24s: int, average_lifetime: double, mirai: boolean, zmap: boolean, masscan: boolean, country: string, traffic_types_scanned_str: string, ports_scanned_str: string, host_tags_per_censys: string, host_services_per_censys: string, Packets_B10: double, Ports_Array: array<string>, Port17132: boolean, Port17140: boolean, Port17128: boolean, Port17138: boolean, Port17130: boolean, Port17136: boolean, Port23: boolean, Port445: boolean, Port54594: boolean, Port17142: boolean, Port17134: boolean, Port80: boolean, Port8080: boolean, Port0: boolean, Port2323: boolean, Port5555: boolean, Port81: boolean, Port1023: boolean, Port52869: boolean, Port8443: boolean, Port49152: boolean, Port7574: boolean, Port37215: boolean, Port34218: boolean, Port34220: boolean, Port33968: boolean, Port34224: boolean, Port34228: boolean, Port33962: boolean, Port33960: boolean, Port33964: boolean, Port34216: boolean, Port34226: boolean, Port33970: boolean, Port33972: boolean, Port50401: boolean, Port34222: boolean, Port34230: boolean, Port33966: boolean, Port33974: boolean, Port3389: boolean, Port1433: boolean, Port22: boolean, Port5353: boolean, Port21: boolean, Port8291: boolean, Port8728: boolean, Port443: boolean, Port5900: boolean, Port8000: boolean, features: vector]"
      ]
     },
     "execution_count": 40,
     "metadata": {},
     "output_type": "execute_result"
    }
   ],
   "source": [
    "data.persist()"
   ]
  },
  {
   "cell_type": "code",
   "execution_count": 41,
   "metadata": {},
   "outputs": [],
   "source": [
    "kmModel=km.fit(data)"
   ]
  },
  {
   "cell_type": "code",
   "execution_count": 42,
   "metadata": {},
   "outputs": [
    {
     "data": {
      "text/plain": [
       "KMeansModel: uid=KMeans_8fe228837210, k=100, distanceMeasure=euclidean, numFeatures=51"
      ]
     },
     "execution_count": 42,
     "metadata": {},
     "output_type": "execute_result"
    }
   ],
   "source": [
    "kmModel"
   ]
  },
  {
   "cell_type": "code",
   "execution_count": 43,
   "metadata": {},
   "outputs": [],
   "source": [
    "predictions = kmModel.transform(data)"
   ]
  },
  {
   "cell_type": "code",
   "execution_count": 44,
   "metadata": {},
   "outputs": [
    {
     "name": "stdout",
     "output_type": "stream",
     "text": [
      "+-------+-------+--------+--------+-----+-------+------------------+--------------+--------------+----------------+----------------+----------------+-----+-----+-------+-------+-------------------------+-----------------+--------------------+------------------------+-----------+--------------+---------+---------+---------+---------+---------+---------+------+-------+---------+---------+---------+------+--------+-----+--------+--------+------+--------+---------+--------+---------+--------+---------+---------+---------+---------+---------+---------+---------+---------+---------+---------+---------+---------+---------+---------+---------+---------+---------+---------+--------+--------+------+--------+------+--------+--------+-------+--------+--------+--------------------+----------+\n",
      "|    _c0|     id|numports|lifetime|Bytes|Packets|average_packetsize|MinUniqueDests|MaxUniqueDests|MinUniqueDest24s|MaxUniqueDest24s|average_lifetime|mirai| zmap|masscan|country|traffic_types_scanned_str|ports_scanned_str|host_tags_per_censys|host_services_per_censys|Packets_B10|   Ports_Array|Port17132|Port17140|Port17128|Port17138|Port17130|Port17136|Port23|Port445|Port54594|Port17142|Port17134|Port80|Port8080|Port0|Port2323|Port5555|Port81|Port1023|Port52869|Port8443|Port49152|Port7574|Port37215|Port34218|Port34220|Port33968|Port34224|Port34228|Port33962|Port33960|Port33964|Port34216|Port34226|Port33970|Port33972|Port50401|Port34222|Port34230|Port33966|Port33974|Port3389|Port1433|Port22|Port5353|Port21|Port8291|Port8728|Port443|Port5900|Port8000|            features|prediction|\n",
      "+-------+-------+--------+--------+-----+-------+------------------+--------------+--------------+----------------+----------------+----------------+-----+-----+-------+-------+-------------------------+-----------------+--------------------+------------------------+-----------+--------------+---------+---------+---------+---------+---------+---------+------+-------+---------+---------+---------+------+--------+-----+--------+--------+------+--------+---------+--------+---------+--------+---------+---------+---------+---------+---------+---------+---------+---------+---------+---------+---------+---------+---------+---------+---------+---------+---------+---------+--------+--------+------+--------+------+--------+--------+-------+--------+--------+--------------------+----------+\n",
      "|1645181|1645181|       1|     0.0|   60|      1|                60|             1|             1|               1|               1|             0.0|false|false|  false|     BR|                       15|            13716|                null|                    null|        0.0|       [13716]|    false|    false|    false|    false|    false|    false| false|  false|    false|    false|    false| false|   false|false|   false|   false| false|   false|    false|   false|    false|   false|    false|    false|    false|    false|    false|    false|    false|    false|    false|    false|    false|    false|    false|    false|    false|    false|    false|    false|   false|   false| false|   false| false|   false|   false|  false|   false|   false|          (51,[],[])|         1|\n",
      "|2091467|2091467|       2|  199.84|  752|     12|                62|             1|             1|               1|               1|           66.61|false|false|  false|     CN|                    11-16|      17128-17136|                null|                    null|        2.0|[17128, 17136]|    false|    false|     true|    false|    false|     true| false|  false|    false|    false|    false| false|   false|false|   false|   false| false|   false|    false|   false|    false|   false|    false|    false|    false|    false|    false|    false|    false|    false|    false|    false|    false|    false|    false|    false|    false|    false|    false|    false|   false|   false| false|   false| false|   false|   false|  false|   false|   false|(51,[0,3,6],[2.0,...|        17|\n",
      "| 888618| 888618|       1|     0.0|   60|      1|                60|             1|             1|               1|               1|             0.0|false|false|  false|     US|                       15|            35134|                null|                    null|        0.0|       [35134]|    false|    false|    false|    false|    false|    false| false|  false|    false|    false|    false| false|   false|false|   false|   false| false|   false|    false|   false|    false|   false|    false|    false|    false|    false|    false|    false|    false|    false|    false|    false|    false|    false|    false|    false|    false|    false|    false|    false|   false|   false| false|   false| false|   false|   false|  false|   false|   false|          (51,[],[])|         1|\n",
      "+-------+-------+--------+--------+-----+-------+------------------+--------------+--------------+----------------+----------------+----------------+-----+-----+-------+-------+-------------------------+-----------------+--------------------+------------------------+-----------+--------------+---------+---------+---------+---------+---------+---------+------+-------+---------+---------+---------+------+--------+-----+--------+--------+------+--------+---------+--------+---------+--------+---------+---------+---------+---------+---------+---------+---------+---------+---------+---------+---------+---------+---------+---------+---------+---------+---------+---------+--------+--------+------+--------+------+--------+--------+-------+--------+--------+--------------------+----------+\n",
      "only showing top 3 rows\n",
      "\n"
     ]
    }
   ],
   "source": [
    "predictions.persist().show(3)"
   ]
  },
  {
   "cell_type": "code",
   "execution_count": 45,
   "metadata": {},
   "outputs": [],
   "source": [
    "Cluster0_df=predictions.where(col(\"prediction\")==0)"
   ]
  },
  {
   "cell_type": "code",
   "execution_count": 46,
   "metadata": {},
   "outputs": [
    {
     "data": {
      "text/plain": [
       "705"
      ]
     },
     "execution_count": 46,
     "metadata": {},
     "output_type": "execute_result"
    }
   ],
   "source": [
    "Cluster0_df.count()"
   ]
  },
  {
   "cell_type": "markdown",
   "metadata": {},
   "source": [
    "# The following code shows the sizes of the clusters generated."
   ]
  },
  {
   "cell_type": "code",
   "execution_count": 47,
   "metadata": {},
   "outputs": [],
   "source": [
    "summary = kmModel.summary"
   ]
  },
  {
   "cell_type": "code",
   "execution_count": 48,
   "metadata": {},
   "outputs": [
    {
     "data": {
      "text/plain": [
       "[705,\n",
       " 36653,\n",
       " 6176,\n",
       " 7142,\n",
       " 4685,\n",
       " 1176,\n",
       " 675,\n",
       " 1109,\n",
       " 67,\n",
       " 728,\n",
       " 6551,\n",
       " 2562,\n",
       " 855,\n",
       " 6292,\n",
       " 519,\n",
       " 4434,\n",
       " 4722,\n",
       " 3837,\n",
       " 606,\n",
       " 2056,\n",
       " 859,\n",
       " 3377,\n",
       " 4706,\n",
       " 134,\n",
       " 2483,\n",
       " 418,\n",
       " 913,\n",
       " 2312,\n",
       " 6810,\n",
       " 3282,\n",
       " 1493,\n",
       " 4160,\n",
       " 883,\n",
       " 1312,\n",
       " 1755,\n",
       " 1687,\n",
       " 986,\n",
       " 999,\n",
       " 559,\n",
       " 2310,\n",
       " 966,\n",
       " 722,\n",
       " 936,\n",
       " 428,\n",
       " 2011,\n",
       " 1271,\n",
       " 330,\n",
       " 5888,\n",
       " 372,\n",
       " 1360,\n",
       " 4272,\n",
       " 569,\n",
       " 461,\n",
       " 3992,\n",
       " 2914,\n",
       " 3599,\n",
       " 1106,\n",
       " 1034,\n",
       " 725,\n",
       " 5897,\n",
       " 696,\n",
       " 241,\n",
       " 2068,\n",
       " 524,\n",
       " 6055,\n",
       " 528,\n",
       " 821,\n",
       " 3701,\n",
       " 968,\n",
       " 425,\n",
       " 1580,\n",
       " 773,\n",
       " 2545,\n",
       " 3651,\n",
       " 744,\n",
       " 637,\n",
       " 264,\n",
       " 312,\n",
       " 421,\n",
       " 1409,\n",
       " 1668,\n",
       " 685,\n",
       " 366,\n",
       " 1113,\n",
       " 6395,\n",
       " 196,\n",
       " 674,\n",
       " 690,\n",
       " 635,\n",
       " 3670,\n",
       " 1514,\n",
       " 572,\n",
       " 2672,\n",
       " 936,\n",
       " 695,\n",
       " 1183,\n",
       " 1034,\n",
       " 1021,\n",
       " 337,\n",
       " 802]"
      ]
     },
     "execution_count": 48,
     "metadata": {},
     "output_type": "execute_result"
    }
   ],
   "source": [
    "summary.clusterSizes"
   ]
  },
  {
   "cell_type": "markdown",
   "metadata": {},
   "source": [
    "# Exercise 4 (5 points)\n",
    "## Complete the following code to find the Silhouette Score of the clustering result."
   ]
  },
  {
   "cell_type": "code",
   "execution_count": 49,
   "metadata": {},
   "outputs": [],
   "source": [
    "evaluator = ClusteringEvaluator()\n",
    "silhouette = evaluator.evaluate(predictions)"
   ]
  },
  {
   "cell_type": "code",
   "execution_count": 50,
   "metadata": {},
   "outputs": [
    {
     "name": "stdout",
     "output_type": "stream",
     "text": [
      "Silhouette Score of the Clustering Result is  0.523235331825663\n"
     ]
    }
   ],
   "source": [
    "print('Silhouette Score of the Clustering Result is ', silhouette)"
   ]
  },
  {
   "cell_type": "code",
   "execution_count": 51,
   "metadata": {},
   "outputs": [],
   "source": [
    "centers = kmModel.clusterCenters()"
   ]
  },
  {
   "cell_type": "code",
   "execution_count": 52,
   "metadata": {},
   "outputs": [
    {
     "data": {
      "text/plain": [
       "array([5.01278409e+00, 9.54545455e-01, 9.61647727e-01, 9.65909091e-01,\n",
       "       9.97159091e-01, 9.61647727e-01, 9.65909091e-01, 0.00000000e+00,\n",
       "       0.00000000e+00, 2.84090909e-03, 9.81534091e-01, 1.00000000e+00,\n",
       "       0.00000000e+00, 0.00000000e+00, 5.68181818e-03, 0.00000000e+00,\n",
       "       0.00000000e+00, 0.00000000e+00, 0.00000000e+00, 0.00000000e+00,\n",
       "       0.00000000e+00, 0.00000000e+00, 0.00000000e+00, 0.00000000e+00,\n",
       "       1.17897727e-01, 1.84659091e-02, 2.13068182e-02, 5.49715909e-01,\n",
       "       3.40909091e-02, 1.84659091e-02, 1.03693182e-01, 1.22159091e-01,\n",
       "       6.49147727e-01, 1.16477273e-01, 1.13636364e-01, 1.20738636e-01,\n",
       "       0.00000000e+00, 6.67613636e-02, 7.24431818e-02, 8.66477273e-02,\n",
       "       8.80681818e-02, 1.42045455e-03, 0.00000000e+00, 0.00000000e+00,\n",
       "       0.00000000e+00, 0.00000000e+00, 0.00000000e+00, 0.00000000e+00,\n",
       "       0.00000000e+00, 0.00000000e+00, 0.00000000e+00])"
      ]
     },
     "execution_count": 52,
     "metadata": {},
     "output_type": "execute_result"
    }
   ],
   "source": [
    "centers[0]"
   ]
  },
  {
   "cell_type": "code",
   "execution_count": null,
   "metadata": {},
   "outputs": [],
   "source": [
    "# print(\"Cluster Centers:\")\n",
    "# i=0\n",
    "# for center in centers:\n",
    "#    print(\"Cluster \", str(i+1), center)\n",
    "#    i = i+1"
   ]
  },
  {
   "cell_type": "code",
   "execution_count": 53,
   "metadata": {},
   "outputs": [
    {
     "data": {
      "text/plain": [
       "51"
      ]
     },
     "execution_count": 53,
     "metadata": {},
     "output_type": "execute_result"
    }
   ],
   "source": [
    "len(input_features)"
   ]
  },
  {
   "cell_type": "code",
   "execution_count": 54,
   "metadata": {},
   "outputs": [
    {
     "data": {
      "text/plain": [
       "array([5.01278409e+00, 9.54545455e-01, 9.61647727e-01, 9.65909091e-01,\n",
       "       9.97159091e-01, 9.61647727e-01, 9.65909091e-01, 0.00000000e+00,\n",
       "       0.00000000e+00, 2.84090909e-03, 9.81534091e-01, 1.00000000e+00,\n",
       "       0.00000000e+00, 0.00000000e+00, 5.68181818e-03, 0.00000000e+00,\n",
       "       0.00000000e+00, 0.00000000e+00, 0.00000000e+00, 0.00000000e+00,\n",
       "       0.00000000e+00, 0.00000000e+00, 0.00000000e+00, 0.00000000e+00,\n",
       "       1.17897727e-01, 1.84659091e-02, 2.13068182e-02, 5.49715909e-01,\n",
       "       3.40909091e-02, 1.84659091e-02, 1.03693182e-01, 1.22159091e-01,\n",
       "       6.49147727e-01, 1.16477273e-01, 1.13636364e-01, 1.20738636e-01,\n",
       "       0.00000000e+00, 6.67613636e-02, 7.24431818e-02, 8.66477273e-02,\n",
       "       8.80681818e-02, 1.42045455e-03, 0.00000000e+00, 0.00000000e+00,\n",
       "       0.00000000e+00, 0.00000000e+00, 0.00000000e+00, 0.00000000e+00,\n",
       "       0.00000000e+00, 0.00000000e+00, 0.00000000e+00])"
      ]
     },
     "execution_count": 54,
     "metadata": {},
     "output_type": "execute_result"
    }
   ],
   "source": [
    "centers[0]"
   ]
  },
  {
   "cell_type": "code",
   "execution_count": 55,
   "metadata": {},
   "outputs": [
    {
     "data": {
      "text/plain": [
       "0.0"
      ]
     },
     "execution_count": 55,
     "metadata": {},
     "output_type": "execute_result"
    }
   ],
   "source": [
    "centers[0][50]"
   ]
  },
  {
   "cell_type": "markdown",
   "metadata": {},
   "source": [
    "# Part E Use Mirai Signature (External Label) to Evaluate/Interpret Clustering Results"
   ]
  },
  {
   "cell_type": "markdown",
   "metadata": {},
   "source": [
    "# Exercise 5 (10 points)\n",
    "## Complete the following code to compute the percentage of Mirai Malwares in each cluster."
   ]
  },
  {
   "cell_type": "code",
   "execution_count": 56,
   "metadata": {},
   "outputs": [
    {
     "name": "stdout",
     "output_type": "stream",
     "text": [
      "Cluster  1 ; Mirai Ratio: 0.01380514555425204 ; Cluster Size:  36653\n",
      "Cluster  2 ; Mirai Ratio: 0.010362694300518135 ; Cluster Size:  6176\n",
      "Cluster  3 ; Mirai Ratio: 0.6300756090730888 ; Cluster Size:  7142\n",
      "Cluster  5 ; Mirai Ratio: 0.027210884353741496 ; Cluster Size:  1176\n",
      "Cluster  21 ; Mirai Ratio: 0.015398282499259699 ; Cluster Size:  3377\n",
      "Cluster  27 ; Mirai Ratio: 0.8944636678200693 ; Cluster Size:  2312\n",
      "Cluster  29 ; Mirai Ratio: 0.7269957343083485 ; Cluster Size:  3282\n",
      "Cluster  34 ; Mirai Ratio: 0.007407407407407408 ; Cluster Size:  1755\n",
      "Cluster  38 ; Mirai Ratio: 0.04830053667262969 ; Cluster Size:  559\n",
      "Cluster  45 ; Mirai Ratio: 0.025177025963808025 ; Cluster Size:  1271\n",
      "Cluster  47 ; Mirai Ratio: 0.034986413043478264 ; Cluster Size:  5888\n"
     ]
    }
   ],
   "source": [
    "# Define columns of the Pandas dataframe\n",
    "column_list = ['cluster ID', 'size', 'mirai_ratio' ]\n",
    "for feature in input_features:\n",
    "    column_list.append(feature)\n",
    "mirai_clusters_df = pd.DataFrame( columns = column_list )\n",
    "threshold = 0.2\n",
    "for i in range(0, top_ports):\n",
    "    cluster_row = [ ]\n",
    "    cluster_i = predictions.where(col('prediction')==i)\n",
    "    cluster_i_size = cluster_i.count()\n",
    "    cluster_i_mirai_count = cluster_i.where(col(\"mirai\")).count()\n",
    "    cluster_i_mirai_ratio = cluster_i_mirai_count/cluster_i_size\n",
    "    if cluster_i_mirai_count > 0:\n",
    "        print(\"Cluster \", i, \"; Mirai Ratio:\", cluster_i_mirai_ratio, \"; Cluster Size: \", cluster_i_size)\n",
    "    if cluster_i_mirai_ratio > threshold:\n",
    "        cluster_row = [i, cluster_i_size, cluster_i_mirai_ratio]\n",
    "        # Add the cluster center (average) value for each input feature for cluster i to cluster_row\n",
    "        for j in range(0, len(input_features)):\n",
    "            cluster_row.append(centers[i][j])\n",
    "        mirai_clusters_df.loc[i]= cluster_row"
   ]
  },
  {
   "cell_type": "markdown",
   "metadata": {},
   "source": [
    "# Exercise 6 (5 points) \n",
    "## Complete the code below to save the Pandas dataframe in a CSV file in your directory."
   ]
  },
  {
   "cell_type": "code",
   "execution_count": 57,
   "metadata": {},
   "outputs": [],
   "source": [
    "mirai_clusters_df.to_csv(\"/storage/home/hxw5245/MiniProj3/Bucketing10_CC_Mirai.csv\")"
   ]
  },
  {
   "cell_type": "markdown",
   "metadata": {},
   "source": [
    "# Part F Comparing with Clustering Results Using Only OHE \n",
    "## The following code cells are similiar to those in MiniProject 2, which generates a k-means clusteringresult based only on One-Hot-Encoding of ports being scanned. Execute all of the code cells below, including new ones (not in MiniProject 2) that uses Mirai labels to interpret the clusters that contain a significant portion of Mirai signatures."
   ]
  },
  {
   "cell_type": "code",
   "execution_count": 58,
   "metadata": {},
   "outputs": [],
   "source": [
    "input_features2 = [ ]\n",
    "for i in range(0, top_ports ):\n",
    "    input_features2.append( \"Port\"+Top_Ports_list[i] )"
   ]
  },
  {
   "cell_type": "code",
   "execution_count": 59,
   "metadata": {},
   "outputs": [
    {
     "name": "stdout",
     "output_type": "stream",
     "text": [
      "['Port17132', 'Port17140', 'Port17128', 'Port17138', 'Port17130', 'Port17136', 'Port23', 'Port445', 'Port54594', 'Port17142', 'Port17134', 'Port80', 'Port8080', 'Port0', 'Port2323', 'Port5555', 'Port81', 'Port1023', 'Port52869', 'Port8443', 'Port49152', 'Port7574', 'Port37215', 'Port34218', 'Port34220', 'Port33968', 'Port34224', 'Port34228', 'Port33962', 'Port33960', 'Port33964', 'Port34216', 'Port34226', 'Port33970', 'Port33972', 'Port50401', 'Port34222', 'Port34230', 'Port33966', 'Port33974', 'Port3389', 'Port1433', 'Port22', 'Port5353', 'Port21', 'Port8291', 'Port8728', 'Port443', 'Port5900', 'Port8000']\n"
     ]
    }
   ],
   "source": [
    "print(input_features2)"
   ]
  },
  {
   "cell_type": "code",
   "execution_count": 60,
   "metadata": {},
   "outputs": [],
   "source": [
    "va2 = VectorAssembler().setInputCols(input_features2).setOutputCol(\"features2\")"
   ]
  },
  {
   "cell_type": "code",
   "execution_count": 61,
   "metadata": {},
   "outputs": [],
   "source": [
    "data2= va2.transform(Scanners3_df)"
   ]
  },
  {
   "cell_type": "code",
   "execution_count": 62,
   "metadata": {},
   "outputs": [
    {
     "data": {
      "text/plain": [
       "DataFrame[_c0: int, id: int, numports: int, lifetime: double, Bytes: int, Packets: int, average_packetsize: int, MinUniqueDests: int, MaxUniqueDests: int, MinUniqueDest24s: int, MaxUniqueDest24s: int, average_lifetime: double, mirai: boolean, zmap: boolean, masscan: boolean, country: string, traffic_types_scanned_str: string, ports_scanned_str: string, host_tags_per_censys: string, host_services_per_censys: string, Packets_B10: double, Ports_Array: array<string>, Port17132: boolean, Port17140: boolean, Port17128: boolean, Port17138: boolean, Port17130: boolean, Port17136: boolean, Port23: boolean, Port445: boolean, Port54594: boolean, Port17142: boolean, Port17134: boolean, Port80: boolean, Port8080: boolean, Port0: boolean, Port2323: boolean, Port5555: boolean, Port81: boolean, Port1023: boolean, Port52869: boolean, Port8443: boolean, Port49152: boolean, Port7574: boolean, Port37215: boolean, Port34218: boolean, Port34220: boolean, Port33968: boolean, Port34224: boolean, Port34228: boolean, Port33962: boolean, Port33960: boolean, Port33964: boolean, Port34216: boolean, Port34226: boolean, Port33970: boolean, Port33972: boolean, Port50401: boolean, Port34222: boolean, Port34230: boolean, Port33966: boolean, Port33974: boolean, Port3389: boolean, Port1433: boolean, Port22: boolean, Port5353: boolean, Port21: boolean, Port8291: boolean, Port8728: boolean, Port443: boolean, Port5900: boolean, Port8000: boolean, features2: vector]"
      ]
     },
     "execution_count": 62,
     "metadata": {},
     "output_type": "execute_result"
    }
   ],
   "source": [
    "data2.persist()"
   ]
  },
  {
   "cell_type": "code",
   "execution_count": 63,
   "metadata": {},
   "outputs": [
    {
     "data": {
      "text/plain": [
       "'distanceMeasure: the distance measure. Supported options: \\'euclidean\\' and \\'cosine\\'. (default: euclidean)\\nfeaturesCol: features column name. (default: features, current: features2)\\ninitMode: The initialization algorithm. This can be either \"random\" to choose random points as initial cluster centers, or \"k-means||\" to use a parallel variant of k-means++ (default: k-means||)\\ninitSteps: The number of steps for k-means|| initialization mode. Must be > 0. (default: 2)\\nk: The number of clusters to create. Must be > 1. (default: 2, current: 100)\\nmaxIter: max number of iterations (>= 0). (default: 20)\\npredictionCol: prediction column name. (default: prediction, current: prediction2)\\nseed: random seed. (default: -2471357743403942232, current: 123)\\ntol: the convergence tolerance for iterative algorithms (>= 0). (default: 0.0001)\\nweightCol: weight column name. If this is not set or empty, we treat all instance weights as 1.0. (undefined)'"
      ]
     },
     "execution_count": 63,
     "metadata": {},
     "output_type": "execute_result"
    }
   ],
   "source": [
    "km2 = KMeans(featuresCol=\"features2\", predictionCol=\"prediction2\").setK(cluster_num).setSeed(seed)\n",
    "km2.explainParams()"
   ]
  },
  {
   "cell_type": "code",
   "execution_count": 64,
   "metadata": {},
   "outputs": [],
   "source": [
    "kmModel2=km2.fit(data2)"
   ]
  },
  {
   "cell_type": "code",
   "execution_count": 65,
   "metadata": {},
   "outputs": [
    {
     "data": {
      "text/plain": [
       "KMeansModel: uid=KMeans_171cc7b9ccd7, k=100, distanceMeasure=euclidean, numFeatures=50"
      ]
     },
     "execution_count": 65,
     "metadata": {},
     "output_type": "execute_result"
    }
   ],
   "source": [
    "kmModel2"
   ]
  },
  {
   "cell_type": "code",
   "execution_count": 66,
   "metadata": {},
   "outputs": [],
   "source": [
    "predictions2 = kmModel2.transform(data2)"
   ]
  },
  {
   "cell_type": "code",
   "execution_count": 67,
   "metadata": {},
   "outputs": [
    {
     "name": "stdout",
     "output_type": "stream",
     "text": [
      "+-------+-------+--------+--------+-----+-------+------------------+--------------+--------------+----------------+----------------+----------------+-----+-----+-------+-------+-------------------------+-----------------+--------------------+------------------------+-----------+--------------+---------+---------+---------+---------+---------+---------+------+-------+---------+---------+---------+------+--------+-----+--------+--------+------+--------+---------+--------+---------+--------+---------+---------+---------+---------+---------+---------+---------+---------+---------+---------+---------+---------+---------+---------+---------+---------+---------+---------+--------+--------+------+--------+------+--------+--------+-------+--------+--------+--------------------+-----------+\n",
      "|    _c0|     id|numports|lifetime|Bytes|Packets|average_packetsize|MinUniqueDests|MaxUniqueDests|MinUniqueDest24s|MaxUniqueDest24s|average_lifetime|mirai| zmap|masscan|country|traffic_types_scanned_str|ports_scanned_str|host_tags_per_censys|host_services_per_censys|Packets_B10|   Ports_Array|Port17132|Port17140|Port17128|Port17138|Port17130|Port17136|Port23|Port445|Port54594|Port17142|Port17134|Port80|Port8080|Port0|Port2323|Port5555|Port81|Port1023|Port52869|Port8443|Port49152|Port7574|Port37215|Port34218|Port34220|Port33968|Port34224|Port34228|Port33962|Port33960|Port33964|Port34216|Port34226|Port33970|Port33972|Port50401|Port34222|Port34230|Port33966|Port33974|Port3389|Port1433|Port22|Port5353|Port21|Port8291|Port8728|Port443|Port5900|Port8000|           features2|prediction2|\n",
      "+-------+-------+--------+--------+-----+-------+------------------+--------------+--------------+----------------+----------------+----------------+-----+-----+-------+-------+-------------------------+-----------------+--------------------+------------------------+-----------+--------------+---------+---------+---------+---------+---------+---------+------+-------+---------+---------+---------+------+--------+-----+--------+--------+------+--------+---------+--------+---------+--------+---------+---------+---------+---------+---------+---------+---------+---------+---------+---------+---------+---------+---------+---------+---------+---------+---------+---------+--------+--------+------+--------+------+--------+--------+-------+--------+--------+--------------------+-----------+\n",
      "|1645181|1645181|       1|     0.0|   60|      1|                60|             1|             1|               1|               1|             0.0|false|false|  false|     BR|                       15|            13716|                null|                    null|        0.0|       [13716]|    false|    false|    false|    false|    false|    false| false|  false|    false|    false|    false| false|   false|false|   false|   false| false|   false|    false|   false|    false|   false|    false|    false|    false|    false|    false|    false|    false|    false|    false|    false|    false|    false|    false|    false|    false|    false|    false|    false|   false|   false| false|   false| false|   false|   false|  false|   false|   false|          (50,[],[])|          6|\n",
      "|2091467|2091467|       2|  199.84|  752|     12|                62|             1|             1|               1|               1|           66.61|false|false|  false|     CN|                    11-16|      17128-17136|                null|                    null|        2.0|[17128, 17136]|    false|    false|     true|    false|    false|     true| false|  false|    false|    false|    false| false|   false|false|   false|   false| false|   false|    false|   false|    false|   false|    false|    false|    false|    false|    false|    false|    false|    false|    false|    false|    false|    false|    false|    false|    false|    false|    false|    false|   false|   false| false|   false| false|   false|   false|  false|   false|   false|(50,[2,5],[1.0,1.0])|         39|\n",
      "| 888618| 888618|       1|     0.0|   60|      1|                60|             1|             1|               1|               1|             0.0|false|false|  false|     US|                       15|            35134|                null|                    null|        0.0|       [35134]|    false|    false|    false|    false|    false|    false| false|  false|    false|    false|    false| false|   false|false|   false|   false| false|   false|    false|   false|    false|   false|    false|    false|    false|    false|    false|    false|    false|    false|    false|    false|    false|    false|    false|    false|    false|    false|    false|    false|   false|   false| false|   false| false|   false|   false|  false|   false|   false|          (50,[],[])|          6|\n",
      "+-------+-------+--------+--------+-----+-------+------------------+--------------+--------------+----------------+----------------+----------------+-----+-----+-------+-------+-------------------------+-----------------+--------------------+------------------------+-----------+--------------+---------+---------+---------+---------+---------+---------+------+-------+---------+---------+---------+------+--------+-----+--------+--------+------+--------+---------+--------+---------+--------+---------+---------+---------+---------+---------+---------+---------+---------+---------+---------+---------+---------+---------+---------+---------+---------+---------+---------+--------+--------+------+--------+------+--------+--------+-------+--------+--------+--------------------+-----------+\n",
      "only showing top 3 rows\n",
      "\n"
     ]
    }
   ],
   "source": [
    "predictions2.persist().show(3)"
   ]
  },
  {
   "cell_type": "code",
   "execution_count": 68,
   "metadata": {},
   "outputs": [],
   "source": [
    "summary2 = kmModel2.summary"
   ]
  },
  {
   "cell_type": "code",
   "execution_count": 69,
   "metadata": {},
   "outputs": [
    {
     "data": {
      "text/plain": [
       "[1226,\n",
       " 7751,\n",
       " 760,\n",
       " 25079,\n",
       " 430,\n",
       " 2808,\n",
       " 37512,\n",
       " 532,\n",
       " 318,\n",
       " 611,\n",
       " 8408,\n",
       " 22175,\n",
       " 17349,\n",
       " 7438,\n",
       " 220,\n",
       " 505,\n",
       " 966,\n",
       " 1518,\n",
       " 979,\n",
       " 1226,\n",
       " 168,\n",
       " 369,\n",
       " 8087,\n",
       " 1182,\n",
       " 412,\n",
       " 229,\n",
       " 531,\n",
       " 448,\n",
       " 256,\n",
       " 1160,\n",
       " 287,\n",
       " 226,\n",
       " 634,\n",
       " 4042,\n",
       " 7079,\n",
       " 7044,\n",
       " 1204,\n",
       " 641,\n",
       " 8115,\n",
       " 894,\n",
       " 1042,\n",
       " 381,\n",
       " 4057,\n",
       " 8360,\n",
       " 189,\n",
       " 89,\n",
       " 1802,\n",
       " 249,\n",
       " 515,\n",
       " 312,\n",
       " 924,\n",
       " 53,\n",
       " 222,\n",
       " 1048,\n",
       " 253,\n",
       " 432,\n",
       " 446,\n",
       " 903,\n",
       " 284,\n",
       " 974,\n",
       " 320,\n",
       " 445,\n",
       " 545,\n",
       " 638,\n",
       " 1567,\n",
       " 603,\n",
       " 227,\n",
       " 743,\n",
       " 343,\n",
       " 437,\n",
       " 466,\n",
       " 780,\n",
       " 200,\n",
       " 609,\n",
       " 255,\n",
       " 323,\n",
       " 395,\n",
       " 606,\n",
       " 185,\n",
       " 304,\n",
       " 2402,\n",
       " 985,\n",
       " 854,\n",
       " 643,\n",
       " 326,\n",
       " 736,\n",
       " 411,\n",
       " 94,\n",
       " 656,\n",
       " 787,\n",
       " 1109,\n",
       " 1253,\n",
       " 464,\n",
       " 1120,\n",
       " 403,\n",
       " 374,\n",
       " 14,\n",
       " 712,\n",
       " 157,\n",
       " 217]"
      ]
     },
     "execution_count": 69,
     "metadata": {},
     "output_type": "execute_result"
    }
   ],
   "source": [
    "summary2.clusterSizes"
   ]
  },
  {
   "cell_type": "code",
   "execution_count": 70,
   "metadata": {},
   "outputs": [],
   "source": [
    "centers2 = kmModel2.clusterCenters()"
   ]
  },
  {
   "cell_type": "code",
   "execution_count": 71,
   "metadata": {},
   "outputs": [],
   "source": [
    "evaluator2 = ClusteringEvaluator(featuresCol='features2', predictionCol='prediction2')\n",
    "silhouette2 = evaluator2.evaluate(predictions2)"
   ]
  },
  {
   "cell_type": "code",
   "execution_count": 72,
   "metadata": {},
   "outputs": [
    {
     "name": "stdout",
     "output_type": "stream",
     "text": [
      "Silhouette Score of the Clustering Result is  0.7394072054440451\n"
     ]
    }
   ],
   "source": [
    "print('Silhouette Score of the Clustering Result is ', silhouette2)"
   ]
  },
  {
   "cell_type": "code",
   "execution_count": 73,
   "metadata": {},
   "outputs": [
    {
     "data": {
      "text/plain": [
       "['Port17132',\n",
       " 'Port17140',\n",
       " 'Port17128',\n",
       " 'Port17138',\n",
       " 'Port17130',\n",
       " 'Port17136',\n",
       " 'Port23',\n",
       " 'Port445',\n",
       " 'Port54594',\n",
       " 'Port17142',\n",
       " 'Port17134',\n",
       " 'Port80',\n",
       " 'Port8080',\n",
       " 'Port0',\n",
       " 'Port2323',\n",
       " 'Port5555',\n",
       " 'Port81',\n",
       " 'Port1023',\n",
       " 'Port52869',\n",
       " 'Port8443',\n",
       " 'Port49152',\n",
       " 'Port7574',\n",
       " 'Port37215',\n",
       " 'Port34218',\n",
       " 'Port34220',\n",
       " 'Port33968',\n",
       " 'Port34224',\n",
       " 'Port34228',\n",
       " 'Port33962',\n",
       " 'Port33960',\n",
       " 'Port33964',\n",
       " 'Port34216',\n",
       " 'Port34226',\n",
       " 'Port33970',\n",
       " 'Port33972',\n",
       " 'Port50401',\n",
       " 'Port34222',\n",
       " 'Port34230',\n",
       " 'Port33966',\n",
       " 'Port33974',\n",
       " 'Port3389',\n",
       " 'Port1433',\n",
       " 'Port22',\n",
       " 'Port5353',\n",
       " 'Port21',\n",
       " 'Port8291',\n",
       " 'Port8728',\n",
       " 'Port443',\n",
       " 'Port5900',\n",
       " 'Port8000']"
      ]
     },
     "execution_count": 73,
     "metadata": {},
     "output_type": "execute_result"
    }
   ],
   "source": [
    "input_features2"
   ]
  },
  {
   "cell_type": "code",
   "execution_count": 74,
   "metadata": {},
   "outputs": [
    {
     "name": "stdout",
     "output_type": "stream",
     "text": [
      "Cluster  6 ; Mirai Ratio: 0.0018127532522925996 ; Cluster Size:  37512\n",
      "Cluster  12 ; Mirai Ratio: 0.7860971813937403 ; Cluster Size:  17349\n",
      "Cluster  38 ; Mirai Ratio: 0.006654343807763401 ; Cluster Size:  8115\n",
      "Cluster  46 ; Mirai Ratio: 0.24250832408435072 ; Cluster Size:  1802\n",
      "Cluster  48 ; Mirai Ratio: 0.8970873786407767 ; Cluster Size:  515\n"
     ]
    }
   ],
   "source": [
    "# Define columns of the Pandas dataframe\n",
    "column_list2 = ['cluster ID', 'size', 'mirai_ratio' ]\n",
    "for feature in input_features2:\n",
    "    column_list2.append(feature)\n",
    "mirai_clusters2_df = pd.DataFrame( columns = column_list2 )\n",
    "threshold = 0.2\n",
    "for i in range(0, top_ports):\n",
    "    cluster_i = predictions2.where(col('prediction2')==i)\n",
    "    cluster_i_size = cluster_i.count()\n",
    "    cluster_i_mirai_count = cluster_i.where(col('mirai')).count()\n",
    "    cluster_i_mirai_ratio = cluster_i_mirai_count/cluster_i_size\n",
    "    if cluster_i_mirai_count > 0:\n",
    "        print(\"Cluster \", i, \"; Mirai Ratio:\", cluster_i_mirai_ratio, \"; Cluster Size: \", cluster_i_size)\n",
    "    if cluster_i_mirai_ratio > threshold:\n",
    "        cluster_row2 = [i, cluster_i_size, cluster_i_mirai_ratio]\n",
    "        for j in range(0, len(input_features2)):\n",
    "            cluster_row2.append(centers2[i][j])\n",
    "        mirai_clusters2_df.loc[i]= cluster_row2"
   ]
  },
  {
   "cell_type": "markdown",
   "metadata": {},
   "source": [
    "# Exercise 7 (5 points)\n",
    "Complete the code below to save the Pandas dataframe in a CSV file in your directory"
   ]
  },
  {
   "cell_type": "code",
   "execution_count": 75,
   "metadata": {},
   "outputs": [],
   "source": [
    "mirai_clusters2_df.to_csv(\"/storage/home/hxw5245/MiniProj3/OHE_CC_Mirai.csv\")"
   ]
  },
  {
   "cell_type": "markdown",
   "metadata": {},
   "source": [
    "# Exercise 8 (10 points) \n",
    "## Select a cluster that has a high mirai ratio. Complete the code below to see the distribtion of scanner's country in a cluster."
   ]
  },
  {
   "cell_type": "code",
   "execution_count": 76,
   "metadata": {},
   "outputs": [],
   "source": [
    "# This is an example.  You should modify it based on the cluster you want to investigate.\n",
    "cluster = predictions2.where(col('prediction2')==12)"
   ]
  },
  {
   "cell_type": "code",
   "execution_count": 77,
   "metadata": {},
   "outputs": [
    {
     "name": "stdout",
     "output_type": "stream",
     "text": [
      "+-------+-----+\n",
      "|Country|count|\n",
      "+-------+-----+\n",
      "|     EG|12161|\n",
      "|     MX| 1668|\n",
      "|     GR|  533|\n",
      "|     CN|  517|\n",
      "|     BR|  309|\n",
      "|     ID|  212|\n",
      "|     IR|  209|\n",
      "|     IN|  168|\n",
      "|     TW|  148|\n",
      "|     KR|  148|\n",
      "|     US|  147|\n",
      "|     TH|  119|\n",
      "|     RU|   88|\n",
      "|     AR|   75|\n",
      "|     TR|   59|\n",
      "|     VN|   54|\n",
      "|     LK|   49|\n",
      "|     IT|   43|\n",
      "|     ES|   38|\n",
      "|     ZA|   32|\n",
      "+-------+-----+\n",
      "only showing top 20 rows\n",
      "\n"
     ]
    }
   ],
   "source": [
    "cluster.groupBy(\"Country\").count().orderBy(\"count\", ascending=False).show()"
   ]
  },
  {
   "cell_type": "markdown",
   "metadata": {},
   "source": [
    "# Exercise 9 (15 points)\n",
    "Modify a copy of this Jupyter Notebook for clustering the big data (Day_2020_profile) using the cluster mode in ICDS. \n",
    "You will need to modify the two output files so that they you can later compare the output files between the local mode and the cluster mode.\n",
    "- You need to submit \n",
    "- .py file for running in the cluster mode\n",
    "- The log file that contains the run time information.\n",
    "- One output file (CSV) for clusters generated from Bucketing Packets and OHE whose percentage of scanners matching the Mirai signature is higher than the threshold.\n",
    "- One output file (CSV) for clusters generated from only OHE whose percentage of scanners matching the Mirai signature is higher than the threshold."
   ]
  },
  {
   "cell_type": "markdown",
   "metadata": {},
   "source": [
    "# Exercise 10 (20 points) Submit a word file that answers the following two questions.\n",
    "- (a) Discuss the characteristics for clusters generated from each approach (in the cluster mode).\n",
    "- (b) Compare the characteristics for clusters formed from each approach."
   ]
  },
  {
   "cell_type": "code",
   "execution_count": null,
   "metadata": {},
   "outputs": [],
   "source": [
    "ss.stop()"
   ]
  }
 ],
 "metadata": {
  "kernelspec": {
   "display_name": "Python 3",
   "language": "python",
   "name": "python3"
  },
  "language_info": {
   "codemirror_mode": {
    "name": "ipython",
    "version": 3
   },
   "file_extension": ".py",
   "mimetype": "text/x-python",
   "name": "python",
   "nbconvert_exporter": "python",
   "pygments_lexer": "ipython3",
   "version": "3.8.3"
  }
 },
 "nbformat": 4,
 "nbformat_minor": 4
}
