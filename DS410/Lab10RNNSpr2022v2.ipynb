{
 "cells": [
  {
   "cell_type": "markdown",
   "metadata": {},
   "source": [
    "# DS/CMPSC 410 Spring 2021\n",
    "# Instructor: Professor John Yen\n",
    "# TA: Rupesh Prajapati \n",
    "# LAs: Lily Jakielaszek and Cayla Shan Pun\n",
    "# Lab 10 (bonus) Recurrent Neural Networks\n",
    "\n",
    "## The goals of this lab are for you to be able to\n",
    "### - Use tensorflow and keras to implement an RNN for time series prediction \n",
    "### - Be able to prepare a time series data for training and testing.\n",
    "### - Be able to design the normalization and sliding window size for forecasting \n",
    "### - Be able to normalize a time series using min-max scaling \n",
    "### - Be able to compare the learning outcomes of a simple RNN with and without normalization\n",
    "### - Be able to decide the number of epochs needed for training\n",
    "\n",
    "## Exercises: \n",
    "- Exercise 1: 5 points\n",
    "- Exercise 2: 10 points\n",
    "- Exercise 3: 10 points\n",
    "- Exercise 4: 10 points\n",
    "- Exercise 5: 10 points\n",
    "- Exercise 6: 15 points\n",
    "- Exercise 7: 10 ponts\n",
    "- Exercise 8: 10 points\n",
    "- Exercise 9: 10 points\n",
    "- Exercise 10: 10 points\n",
    "\n",
    "## Total Points (Lab): 100 points (bonus, as described in the Canvas Announcement)\n",
    "\n",
    "# Due: midnight, April 29 (Friday), 2022"
   ]
  },
  {
   "cell_type": "markdown",
   "metadata": {},
   "source": [
    "# Install tensorflow and keras\n",
    "The first thing to do is to install tensorflow and keras in your ICDS Roar environment.\n",
    "- Open a terminal window in Jupyter Lab\n",
    "- Type the following in ther terminal window \n",
    "```pip install tensorflow```\n",
    "- After the installation of tensorflow completes, type the following in the terminal window \n",
    "```pip install keras```\n",
    "- Wait until the installation completes. Then run the \"import tensorflow as tf\" in Jupyter Notebook and continue based on the instructions on Jupyter Notebook."
   ]
  },
  {
   "cell_type": "code",
   "execution_count": 1,
   "metadata": {},
   "outputs": [],
   "source": [
    "import numpy as np\n",
    "import pandas as pd\n",
    "import tensorflow as tf\n",
    "from tensorflow import keras\n",
    "from tensorflow.keras import *"
   ]
  },
  {
   "cell_type": "code",
   "execution_count": 2,
   "metadata": {},
   "outputs": [],
   "source": [
    "import pyspark"
   ]
  },
  {
   "cell_type": "code",
   "execution_count": 3,
   "metadata": {},
   "outputs": [],
   "source": [
    "from pyspark import SparkContext\n",
    "from pyspark.sql import SparkSession\n",
    "from pyspark.sql.types import StructField, StructType, StringType, LongType\n",
    "from pyspark.sql.functions import col, column\n",
    "from pyspark.sql.functions import expr\n",
    "from pyspark.sql.functions import split\n",
    "from pyspark.sql import Row\n",
    "from pyspark.ml import Pipeline\n",
    "from pyspark.ml.feature import OneHotEncoder, StringIndexer, VectorAssembler, IndexToString\n",
    "from pyspark.ml.clustering import KMeans"
   ]
  },
  {
   "cell_type": "code",
   "execution_count": 4,
   "metadata": {},
   "outputs": [],
   "source": [
    "import matplotlib.pyplot as plt"
   ]
  },
  {
   "cell_type": "markdown",
   "metadata": {},
   "source": [
    "# Data for Time Series Prediction\n",
    "### This lab uses an hourly energy consumption data from Kaggle\n",
    "https://www.kaggle.com/datasets/robikscube/hourly-energy-consumption\n",
    "### The file AEP_hourly.csv contains hourly energy consumption from American Eletric Power (AEP).\n",
    "### The original source of the data is PJM Interconnection LLC (PJM), which is a regional transmission organization (RTO) in the United States. It is part of the Eastern Interconnection grid operating an electric transmission system serving all or parts of Delaware, Illinois, Indiana, Kentucky, Maryland, Michigan, New Jersey, North Carolina, Ohio, Pennsylvania, Tennessee, Virginia, West Virginia, and the District of Columbia."
   ]
  },
  {
   "cell_type": "code",
   "execution_count": 5,
   "metadata": {},
   "outputs": [],
   "source": [
    "ss = SparkSession.builder.master(\"local\").appName(\"Lab 10 RNN\").getOrCreate()"
   ]
  },
  {
   "cell_type": "markdown",
   "metadata": {},
   "source": [
    "# Exercise 1 ( 5 points )\n",
    "Enter your name and update the path below to your directory for the lab."
   ]
  },
  {
   "cell_type": "markdown",
   "metadata": {},
   "source": [
    "## Answer to Exercise 1\n",
    "Your Name: Haichen Wei"
   ]
  },
  {
   "cell_type": "code",
   "execution_count": 6,
   "metadata": {},
   "outputs": [],
   "source": [
    "AEP_hourly_df = ss.read.csv(\"/storage/home/hxw5245/Lab10/AEP_hourly.csv\", header=True, inferSchema=True)"
   ]
  },
  {
   "cell_type": "code",
   "execution_count": 7,
   "metadata": {},
   "outputs": [
    {
     "name": "stdout",
     "output_type": "stream",
     "text": [
      "root\n",
      " |-- Datetime: string (nullable = true)\n",
      " |-- AEP_MW: double (nullable = true)\n",
      "\n"
     ]
    }
   ],
   "source": [
    "AEP_hourly_df.printSchema()"
   ]
  },
  {
   "cell_type": "code",
   "execution_count": 8,
   "metadata": {},
   "outputs": [
    {
     "name": "stdout",
     "output_type": "stream",
     "text": [
      "+-------------------+-------+\n",
      "|           Datetime| AEP_MW|\n",
      "+-------------------+-------+\n",
      "|2004-12-31 01:00:00|13478.0|\n",
      "|2004-12-31 02:00:00|12865.0|\n",
      "|2004-12-31 03:00:00|12577.0|\n",
      "+-------------------+-------+\n",
      "only showing top 3 rows\n",
      "\n"
     ]
    }
   ],
   "source": [
    "AEP_hourly_df.show(3)"
   ]
  },
  {
   "cell_type": "markdown",
   "metadata": {},
   "source": [
    "# Part A: Prepare a Min-Max Scaling Function"
   ]
  },
  {
   "cell_type": "markdown",
   "metadata": {},
   "source": [
    "## One way to obtain the maximum value of a column of PySpark DataFrame is to use aggregation fuction. The `agg()` sql function can be used to calculate min, max, average, sum, etc directly on a column of a DataFrame or after a GroupBy. To apply `agg` to a column, it takes a `dictionary` that maps a column name to the name (string) of an aggregation function.\n",
    "\n",
    "## Reminder: A `dictionary` in Python is expressed as `{ <key> : <value> }`. In this case, the key is a column name, and the value is the name of an aggregation function (e.g., max, min, etc)"
   ]
  },
  {
   "cell_type": "code",
   "execution_count": 9,
   "metadata": {},
   "outputs": [],
   "source": [
    "max_df = AEP_hourly_df.agg({'AEP_MW': 'max'})"
   ]
  },
  {
   "cell_type": "code",
   "execution_count": 10,
   "metadata": {},
   "outputs": [
    {
     "name": "stdout",
     "output_type": "stream",
     "text": [
      "+-----------+\n",
      "|max(AEP_MW)|\n",
      "+-----------+\n",
      "|    25695.0|\n",
      "+-----------+\n",
      "\n"
     ]
    }
   ],
   "source": [
    "max_df.show()"
   ]
  },
  {
   "cell_type": "code",
   "execution_count": 11,
   "metadata": {},
   "outputs": [],
   "source": [
    "max_AEP_list = max_df.rdd.map(lambda x: x[0]).collect()"
   ]
  },
  {
   "cell_type": "code",
   "execution_count": 12,
   "metadata": {},
   "outputs": [
    {
     "data": {
      "text/plain": [
       "[25695.0]"
      ]
     },
     "execution_count": 12,
     "metadata": {},
     "output_type": "execute_result"
    }
   ],
   "source": [
    "max_AEP_list"
   ]
  },
  {
   "cell_type": "code",
   "execution_count": 13,
   "metadata": {},
   "outputs": [],
   "source": [
    "max_AEP = max_AEP_list[0]"
   ]
  },
  {
   "cell_type": "markdown",
   "metadata": {},
   "source": [
    "## We use a similar procedure to find the minimum value of the `AEP_MW` column."
   ]
  },
  {
   "cell_type": "code",
   "execution_count": 14,
   "metadata": {},
   "outputs": [],
   "source": [
    "min_df = AEP_hourly_df.agg({'AEP_MW': 'min'})"
   ]
  },
  {
   "cell_type": "code",
   "execution_count": 15,
   "metadata": {},
   "outputs": [
    {
     "name": "stdout",
     "output_type": "stream",
     "text": [
      "+-----------+\n",
      "|min(AEP_MW)|\n",
      "+-----------+\n",
      "|     9581.0|\n",
      "+-----------+\n",
      "\n"
     ]
    }
   ],
   "source": [
    "min_df.show()"
   ]
  },
  {
   "cell_type": "code",
   "execution_count": 16,
   "metadata": {},
   "outputs": [],
   "source": [
    "min_AEP_list = min_df.rdd.map(lambda x: x[0]).collect()"
   ]
  },
  {
   "cell_type": "code",
   "execution_count": 17,
   "metadata": {},
   "outputs": [
    {
     "data": {
      "text/plain": [
       "[9581.0]"
      ]
     },
     "execution_count": 17,
     "metadata": {},
     "output_type": "execute_result"
    }
   ],
   "source": [
    "min_AEP_list"
   ]
  },
  {
   "cell_type": "code",
   "execution_count": 18,
   "metadata": {},
   "outputs": [],
   "source": [
    "min_AEP = min_AEP_list[0]"
   ]
  },
  {
   "cell_type": "markdown",
   "metadata": {},
   "source": [
    "## We define a function for scaling a value, which is between min and max, to a number between 0 and 1. "
   ]
  },
  {
   "cell_type": "code",
   "execution_count": 19,
   "metadata": {},
   "outputs": [],
   "source": [
    "def min_max_scale (x, min, max):\n",
    "    return ((x-min)/(max-min))"
   ]
  },
  {
   "cell_type": "markdown",
   "metadata": {},
   "source": [
    "## Similarly, we define a function for inverse mapping, which is to map a number between 0 and 1 to a number between min and max."
   ]
  },
  {
   "cell_type": "code",
   "execution_count": 20,
   "metadata": {},
   "outputs": [],
   "source": [
    "def inverse_min_max_scale (s, min, max):\n",
    "    return (min + s*(max-min))"
   ]
  },
  {
   "cell_type": "markdown",
   "metadata": {},
   "source": [
    "## A simple test to see whether the two functions are correct for scaling a number between min_AEP and max_AEP."
   ]
  },
  {
   "cell_type": "code",
   "execution_count": 21,
   "metadata": {},
   "outputs": [],
   "source": [
    "# The test value needs to be between min_AEP and max_AEP\n",
    "x = 10000\n",
    "s = min_max_scale(x, min_AEP, max_AEP)"
   ]
  },
  {
   "cell_type": "code",
   "execution_count": 22,
   "metadata": {},
   "outputs": [],
   "source": [
    "inv = inverse_min_max_scale (s, min_AEP, max_AEP)"
   ]
  },
  {
   "cell_type": "code",
   "execution_count": 23,
   "metadata": {},
   "outputs": [
    {
     "name": "stdout",
     "output_type": "stream",
     "text": [
      " s =  0.026002234082164576 inverse of s = 10000.0\n"
     ]
    }
   ],
   "source": [
    "print(\" s = \", s, \"inverse of s =\", inv)"
   ]
  },
  {
   "cell_type": "markdown",
   "metadata": {},
   "source": [
    "# Part B Convert Time Series Data into a list. Visualize and normalize the series. \n",
    "## We will use both the original time series and the normalized time series later in this lab so that we can compare the results of RNN learning on these two input data.  \n",
    "### Part D and E will use the original time series.\n",
    "### Part F and G will use the normalized time series."
   ]
  },
  {
   "cell_type": "code",
   "execution_count": 24,
   "metadata": {},
   "outputs": [
    {
     "data": {
      "text/plain": [
       "DataFrame[Datetime: string, AEP_MW: double]"
      ]
     },
     "execution_count": 24,
     "metadata": {},
     "output_type": "execute_result"
    }
   ],
   "source": [
    "AEP_hourly_df"
   ]
  },
  {
   "cell_type": "code",
   "execution_count": 25,
   "metadata": {},
   "outputs": [],
   "source": [
    "time_series_df = AEP_hourly_df.select(col(\"AEP_MW\"))"
   ]
  },
  {
   "cell_type": "code",
   "execution_count": 26,
   "metadata": {},
   "outputs": [],
   "source": [
    "time_series_rdd = time_series_df.rdd"
   ]
  },
  {
   "cell_type": "code",
   "execution_count": 27,
   "metadata": {},
   "outputs": [
    {
     "data": {
      "text/plain": [
       "[Row(AEP_MW=13478.0), Row(AEP_MW=12865.0), Row(AEP_MW=12577.0)]"
      ]
     },
     "execution_count": 27,
     "metadata": {},
     "output_type": "execute_result"
    }
   ],
   "source": [
    "time_series_rdd.take(3)"
   ]
  },
  {
   "cell_type": "code",
   "execution_count": 28,
   "metadata": {},
   "outputs": [],
   "source": [
    "time_series2_rdd = time_series_rdd.map(lambda row: row[0])"
   ]
  },
  {
   "cell_type": "code",
   "execution_count": 29,
   "metadata": {},
   "outputs": [
    {
     "data": {
      "text/plain": [
       "[13478.0, 12865.0, 12577.0]"
      ]
     },
     "execution_count": 29,
     "metadata": {},
     "output_type": "execute_result"
    }
   ],
   "source": [
    "time_series2_rdd.take(3)"
   ]
  },
  {
   "cell_type": "markdown",
   "metadata": {},
   "source": [
    "## Convert the Time Series data from RDD to a list."
   ]
  },
  {
   "cell_type": "code",
   "execution_count": 30,
   "metadata": {},
   "outputs": [],
   "source": [
    "AEP_tsd_list = time_series2_rdd.collect()"
   ]
  },
  {
   "cell_type": "markdown",
   "metadata": {},
   "source": [
    "## In the beginning of this notebook, we imported `matplotlib.pyplot` as `plt`. Therefore, we can plot the time series using `plt` below. The code below plots the first 300 hours of the time series data."
   ]
  },
  {
   "cell_type": "code",
   "execution_count": 31,
   "metadata": {},
   "outputs": [
    {
     "data": {
      "image/png": "[encoded data removed]",
      "text/plain": [
       "<Figure size 432x288 with 1 Axes>"
      ]
     },
     "metadata": {
      "needs_background": "light"
     },
     "output_type": "display_data"
    }
   ],
   "source": [
    "plt.title('AEP Hourly')\n",
    "plt.plot(AEP_tsd_list[:300])\n",
    "plt.show()"
   ]
  },
  {
   "cell_type": "markdown",
   "metadata": {},
   "source": [
    "# Normalize the time series using min_max scaling."
   ]
  },
  {
   "cell_type": "markdown",
   "metadata": {},
   "source": [
    "# Exercise 2 (10 points)\n",
    "## Complete the code below to generate a plot for normalized time series data. Note: We will use norm_AEP_tsd_list later in this lab (Part F and G). "
   ]
  },
  {
   "cell_type": "code",
   "execution_count": 32,
   "metadata": {},
   "outputs": [],
   "source": [
    "norm_AEP_tsd_rdd = time_series2_rdd.map(lambda x: min_max_scale(x, min_AEP, max_AEP))"
   ]
  },
  {
   "cell_type": "code",
   "execution_count": 33,
   "metadata": {},
   "outputs": [],
   "source": [
    "norm_AEP_tsd_list= norm_AEP_tsd_rdd.collect()"
   ]
  },
  {
   "cell_type": "code",
   "execution_count": 34,
   "metadata": {},
   "outputs": [
    {
     "data": {
      "image/png": "[encoded data removed]",
      "text/plain": [
       "<Figure size 432x288 with 1 Axes>"
      ]
     },
     "metadata": {
      "needs_background": "light"
     },
     "output_type": "display_data"
    }
   ],
   "source": [
    "plt.title('Scaled AEP Hourly')\n",
    "plt.plot(norm_AEP_tsd_list[:300])\n",
    "plt.show()"
   ]
  },
  {
   "cell_type": "markdown",
   "metadata": {},
   "source": [
    "# Part C Split the original time series data into two: a training set (earlier time), and a testing set (later time)\n",
    "## We will first determine the size of training set (90% of data) and testing/validation set (10%)."
   ]
  },
  {
   "cell_type": "code",
   "execution_count": 35,
   "metadata": {},
   "outputs": [],
   "source": [
    "data_size = len(AEP_tsd_list)"
   ]
  },
  {
   "cell_type": "code",
   "execution_count": 36,
   "metadata": {},
   "outputs": [
    {
     "name": "stdout",
     "output_type": "stream",
     "text": [
      "121273\n"
     ]
    }
   ],
   "source": [
    "print(data_size)"
   ]
  },
  {
   "cell_type": "code",
   "execution_count": 37,
   "metadata": {},
   "outputs": [],
   "source": [
    "training_size = int(data_size *0.9)"
   ]
  },
  {
   "cell_type": "code",
   "execution_count": 38,
   "metadata": {},
   "outputs": [],
   "source": [
    "testing_size = data_size - training_size"
   ]
  },
  {
   "cell_type": "code",
   "execution_count": 39,
   "metadata": {},
   "outputs": [],
   "source": [
    "time_series_list = AEP_tsd_list"
   ]
  },
  {
   "cell_type": "markdown",
   "metadata": {},
   "source": [
    "## Divide the original time series data in training and testing (for Part D)\n",
    "### In Part F, we will do the similar spliting on the normalized time series data."
   ]
  },
  {
   "cell_type": "code",
   "execution_count": 40,
   "metadata": {},
   "outputs": [],
   "source": [
    "training_tsd = AEP_tsd_list[0:training_size]"
   ]
  },
  {
   "cell_type": "code",
   "execution_count": 41,
   "metadata": {},
   "outputs": [],
   "source": [
    "test_tsd = AEP_tsd_list[training_size:data_size]"
   ]
  },
  {
   "cell_type": "markdown",
   "metadata": {},
   "source": [
    "# Part D Create Training and Testing Data Using Original (Not Normalized) Time Series.\n",
    "\n",
    "## We will use 200 hours as the length of the input sliding window to predict the energy consumption of the next hour.\n",
    "## Each training data instance consists of 200 features (i.e., energy consumption of 200 consecutive hours), and 1 output value (i.e., energy consumption of the 201th hour from the beginning of input sliding window).\n",
    "### Design Rationale: We chose 200 hours because energy consumption of weekends and weekdays differ. Therefore, it makes sense to have the sliding window covers at least previous 7 days, which is 168 (24*7) hours."
   ]
  },
  {
   "cell_type": "markdown",
   "metadata": {},
   "source": [
    "### We will use Pandas dataframe to store input features and output for the training data and testing data.\n",
    "### First, we create a list of column names for the Panda dataframe to be used to store training instances and testing instances."
   ]
  },
  {
   "cell_type": "code",
   "execution_count": 42,
   "metadata": {},
   "outputs": [],
   "source": [
    "column_names = []\n",
    "# input_length is the length of the time series to be used for prediction\n",
    "input_length = 200 \n",
    "for i in range(0, input_length):\n",
    "    columna_names = column_names.append(\"hour_\"+str(i))"
   ]
  },
  {
   "cell_type": "code",
   "execution_count": 43,
   "metadata": {},
   "outputs": [],
   "source": [
    "# Divide the training_tsd into length of 201, using 200 hourly data to predict the next hourly energy consumption\n",
    "training_input_df = pd.DataFrame( columns=[ column_names ] )\n",
    "training_output_df = pd.DataFrame( columns= [ \"forecast\"] )\n",
    "output_time = 1\n",
    "total_length = input_length + output_time\n",
    "remaining_tsd2 = training_tsd\n",
    "index = 0\n",
    "for i in range(0, training_size, total_length):\n",
    "    remaining_tsd = remaining_tsd2\n",
    "    begin = 0 \n",
    "    input_end = begin + input_length\n",
    "    output_end = input_end + output_time\n",
    "    if len(remaining_tsd) >= total_length:\n",
    "        for j in range(0, input_length):\n",
    "            column_name = \"hour_\"+str(j)\n",
    "            training_input_df.loc[index,column_name]= remaining_tsd[begin+j]\n",
    "        training_output_df.loc[index] = remaining_tsd[output_end-1]\n",
    "        index= index +1\n",
    "        remaining_tsd2 = remaining_tsd[output_end:]"
   ]
  },
  {
   "cell_type": "code",
   "execution_count": 44,
   "metadata": {},
   "outputs": [
    {
     "data": {
      "text/html": [
       "<div>\n",
       "<style scoped>\n",
       "    .dataframe tbody tr th:only-of-type {\n",
       "        vertical-align: middle;\n",
       "    }\n",
       "\n",
       "    .dataframe tbody tr th {\n",
       "        vertical-align: top;\n",
       "    }\n",
       "\n",
       "    .dataframe thead tr th {\n",
       "        text-align: left;\n",
       "    }\n",
       "</style>\n",
       "<table border=\"1\" class=\"dataframe\">\n",
       "  <thead>\n",
       "    <tr>\n",
       "      <th></th>\n",
       "      <th>hour_0</th>\n",
       "      <th>hour_1</th>\n",
       "      <th>hour_2</th>\n",
       "      <th>hour_3</th>\n",
       "      <th>hour_4</th>\n",
       "      <th>hour_5</th>\n",
       "      <th>hour_6</th>\n",
       "      <th>hour_7</th>\n",
       "      <th>hour_8</th>\n",
       "      <th>hour_9</th>\n",
       "      <th>...</th>\n",
       "      <th>hour_190</th>\n",
       "      <th>hour_191</th>\n",
       "      <th>hour_192</th>\n",
       "      <th>hour_193</th>\n",
       "      <th>hour_194</th>\n",
       "      <th>hour_195</th>\n",
       "      <th>hour_196</th>\n",
       "      <th>hour_197</th>\n",
       "      <th>hour_198</th>\n",
       "      <th>hour_199</th>\n",
       "    </tr>\n",
       "  </thead>\n",
       "  <tbody>\n",
       "    <tr>\n",
       "      <th>0</th>\n",
       "      <td>13478</td>\n",
       "      <td>12865</td>\n",
       "      <td>12577</td>\n",
       "      <td>12517</td>\n",
       "      <td>12670</td>\n",
       "      <td>13038</td>\n",
       "      <td>13692</td>\n",
       "      <td>14297</td>\n",
       "      <td>14719</td>\n",
       "      <td>14941</td>\n",
       "      <td>...</td>\n",
       "      <td>17618</td>\n",
       "      <td>17147</td>\n",
       "      <td>15358</td>\n",
       "      <td>14851</td>\n",
       "      <td>14441</td>\n",
       "      <td>14105</td>\n",
       "      <td>14048</td>\n",
       "      <td>14394</td>\n",
       "      <td>15034</td>\n",
       "      <td>15783</td>\n",
       "    </tr>\n",
       "    <tr>\n",
       "      <th>1</th>\n",
       "      <td>16576</td>\n",
       "      <td>16912</td>\n",
       "      <td>16991</td>\n",
       "      <td>16793</td>\n",
       "      <td>16764</td>\n",
       "      <td>16643</td>\n",
       "      <td>16666</td>\n",
       "      <td>16869</td>\n",
       "      <td>17916</td>\n",
       "      <td>18424</td>\n",
       "      <td>...</td>\n",
       "      <td>20491</td>\n",
       "      <td>20295</td>\n",
       "      <td>19843</td>\n",
       "      <td>19422</td>\n",
       "      <td>19050</td>\n",
       "      <td>18519</td>\n",
       "      <td>18301</td>\n",
       "      <td>17748</td>\n",
       "      <td>17696</td>\n",
       "      <td>18153</td>\n",
       "    </tr>\n",
       "    <tr>\n",
       "      <th>2</th>\n",
       "      <td>20441</td>\n",
       "      <td>20502</td>\n",
       "      <td>20486</td>\n",
       "      <td>20274</td>\n",
       "      <td>19304</td>\n",
       "      <td>18139</td>\n",
       "      <td>16704</td>\n",
       "      <td>16281</td>\n",
       "      <td>16064</td>\n",
       "      <td>16155</td>\n",
       "      <td>...</td>\n",
       "      <td>15782</td>\n",
       "      <td>16935</td>\n",
       "      <td>17249</td>\n",
       "      <td>17045</td>\n",
       "      <td>16958</td>\n",
       "      <td>16499</td>\n",
       "      <td>15426</td>\n",
       "      <td>14223</td>\n",
       "      <td>13563</td>\n",
       "      <td>13318</td>\n",
       "    </tr>\n",
       "    <tr>\n",
       "      <th>3</th>\n",
       "      <td>13239</td>\n",
       "      <td>13556</td>\n",
       "      <td>14605</td>\n",
       "      <td>16104</td>\n",
       "      <td>17348</td>\n",
       "      <td>17211</td>\n",
       "      <td>17212</td>\n",
       "      <td>17260</td>\n",
       "      <td>17153</td>\n",
       "      <td>16879</td>\n",
       "      <td>...</td>\n",
       "      <td>12292</td>\n",
       "      <td>12015</td>\n",
       "      <td>11934</td>\n",
       "      <td>12077</td>\n",
       "      <td>12253</td>\n",
       "      <td>12690</td>\n",
       "      <td>13423</td>\n",
       "      <td>14082</td>\n",
       "      <td>14509</td>\n",
       "      <td>14606</td>\n",
       "    </tr>\n",
       "    <tr>\n",
       "      <th>4</th>\n",
       "      <td>14567</td>\n",
       "      <td>14565</td>\n",
       "      <td>14347</td>\n",
       "      <td>14318</td>\n",
       "      <td>14675</td>\n",
       "      <td>15910</td>\n",
       "      <td>16406</td>\n",
       "      <td>16582</td>\n",
       "      <td>16447</td>\n",
       "      <td>16162</td>\n",
       "      <td>...</td>\n",
       "      <td>14419</td>\n",
       "      <td>14392</td>\n",
       "      <td>14137</td>\n",
       "      <td>13920</td>\n",
       "      <td>13714</td>\n",
       "      <td>13581</td>\n",
       "      <td>13854</td>\n",
       "      <td>14598</td>\n",
       "      <td>14640</td>\n",
       "      <td>14316</td>\n",
       "    </tr>\n",
       "    <tr>\n",
       "      <th>...</th>\n",
       "      <td>...</td>\n",
       "      <td>...</td>\n",
       "      <td>...</td>\n",
       "      <td>...</td>\n",
       "      <td>...</td>\n",
       "      <td>...</td>\n",
       "      <td>...</td>\n",
       "      <td>...</td>\n",
       "      <td>...</td>\n",
       "      <td>...</td>\n",
       "      <td>...</td>\n",
       "      <td>...</td>\n",
       "      <td>...</td>\n",
       "      <td>...</td>\n",
       "      <td>...</td>\n",
       "      <td>...</td>\n",
       "      <td>...</td>\n",
       "      <td>...</td>\n",
       "      <td>...</td>\n",
       "      <td>...</td>\n",
       "      <td>...</td>\n",
       "    </tr>\n",
       "    <tr>\n",
       "      <th>538</th>\n",
       "      <td>14639</td>\n",
       "      <td>15264</td>\n",
       "      <td>15506</td>\n",
       "      <td>15496</td>\n",
       "      <td>15311</td>\n",
       "      <td>14978</td>\n",
       "      <td>14402</td>\n",
       "      <td>13483</td>\n",
       "      <td>13469</td>\n",
       "      <td>13267</td>\n",
       "      <td>...</td>\n",
       "      <td>15114</td>\n",
       "      <td>14938</td>\n",
       "      <td>15090</td>\n",
       "      <td>15840</td>\n",
       "      <td>16138</td>\n",
       "      <td>16156</td>\n",
       "      <td>16077</td>\n",
       "      <td>15816</td>\n",
       "      <td>15212</td>\n",
       "      <td>14506</td>\n",
       "    </tr>\n",
       "    <tr>\n",
       "      <th>539</th>\n",
       "      <td>14379</td>\n",
       "      <td>14447</td>\n",
       "      <td>14471</td>\n",
       "      <td>14804</td>\n",
       "      <td>15610</td>\n",
       "      <td>16906</td>\n",
       "      <td>17429</td>\n",
       "      <td>17115</td>\n",
       "      <td>16596</td>\n",
       "      <td>16177</td>\n",
       "      <td>...</td>\n",
       "      <td>14735</td>\n",
       "      <td>12628</td>\n",
       "      <td>12578</td>\n",
       "      <td>12510</td>\n",
       "      <td>12639</td>\n",
       "      <td>13081</td>\n",
       "      <td>13870</td>\n",
       "      <td>15199</td>\n",
       "      <td>15967</td>\n",
       "      <td>16007</td>\n",
       "    </tr>\n",
       "    <tr>\n",
       "      <th>540</th>\n",
       "      <td>16102</td>\n",
       "      <td>15966</td>\n",
       "      <td>15761</td>\n",
       "      <td>15840</td>\n",
       "      <td>15720</td>\n",
       "      <td>15644</td>\n",
       "      <td>15808</td>\n",
       "      <td>16427</td>\n",
       "      <td>16510</td>\n",
       "      <td>16445</td>\n",
       "      <td>...</td>\n",
       "      <td>11424</td>\n",
       "      <td>12029</td>\n",
       "      <td>12388</td>\n",
       "      <td>12409</td>\n",
       "      <td>12509</td>\n",
       "      <td>12614</td>\n",
       "      <td>12526</td>\n",
       "      <td>12525</td>\n",
       "      <td>12406</td>\n",
       "      <td>12581</td>\n",
       "    </tr>\n",
       "    <tr>\n",
       "      <th>541</th>\n",
       "      <td>13452</td>\n",
       "      <td>13325</td>\n",
       "      <td>13059</td>\n",
       "      <td>12576</td>\n",
       "      <td>11985</td>\n",
       "      <td>11441</td>\n",
       "      <td>11587</td>\n",
       "      <td>11296</td>\n",
       "      <td>11100</td>\n",
       "      <td>10984</td>\n",
       "      <td>...</td>\n",
       "      <td>13319</td>\n",
       "      <td>13472</td>\n",
       "      <td>13704</td>\n",
       "      <td>13945</td>\n",
       "      <td>13700</td>\n",
       "      <td>13336</td>\n",
       "      <td>12898</td>\n",
       "      <td>12369</td>\n",
       "      <td>12388</td>\n",
       "      <td>12223</td>\n",
       "    </tr>\n",
       "    <tr>\n",
       "      <th>542</th>\n",
       "      <td>12017</td>\n",
       "      <td>12333</td>\n",
       "      <td>13074</td>\n",
       "      <td>14335</td>\n",
       "      <td>15222</td>\n",
       "      <td>15056</td>\n",
       "      <td>14785</td>\n",
       "      <td>14560</td>\n",
       "      <td>14196</td>\n",
       "      <td>13902</td>\n",
       "      <td>...</td>\n",
       "      <td>11257</td>\n",
       "      <td>11194</td>\n",
       "      <td>11249</td>\n",
       "      <td>11585</td>\n",
       "      <td>12340</td>\n",
       "      <td>13690</td>\n",
       "      <td>14497</td>\n",
       "      <td>14409</td>\n",
       "      <td>14313</td>\n",
       "      <td>14187</td>\n",
       "    </tr>\n",
       "  </tbody>\n",
       "</table>\n",
       "<p>543 rows × 200 columns</p>\n",
       "</div>"
      ],
      "text/plain": [
       "    hour_0 hour_1 hour_2 hour_3 hour_4 hour_5 hour_6 hour_7 hour_8 hour_9  \\\n",
       "0    13478  12865  12577  12517  12670  13038  13692  14297  14719  14941   \n",
       "1    16576  16912  16991  16793  16764  16643  16666  16869  17916  18424   \n",
       "2    20441  20502  20486  20274  19304  18139  16704  16281  16064  16155   \n",
       "3    13239  13556  14605  16104  17348  17211  17212  17260  17153  16879   \n",
       "4    14567  14565  14347  14318  14675  15910  16406  16582  16447  16162   \n",
       "..     ...    ...    ...    ...    ...    ...    ...    ...    ...    ...   \n",
       "538  14639  15264  15506  15496  15311  14978  14402  13483  13469  13267   \n",
       "539  14379  14447  14471  14804  15610  16906  17429  17115  16596  16177   \n",
       "540  16102  15966  15761  15840  15720  15644  15808  16427  16510  16445   \n",
       "541  13452  13325  13059  12576  11985  11441  11587  11296  11100  10984   \n",
       "542  12017  12333  13074  14335  15222  15056  14785  14560  14196  13902   \n",
       "\n",
       "     ... hour_190 hour_191 hour_192 hour_193 hour_194 hour_195 hour_196  \\\n",
       "0    ...    17618    17147    15358    14851    14441    14105    14048   \n",
       "1    ...    20491    20295    19843    19422    19050    18519    18301   \n",
       "2    ...    15782    16935    17249    17045    16958    16499    15426   \n",
       "3    ...    12292    12015    11934    12077    12253    12690    13423   \n",
       "4    ...    14419    14392    14137    13920    13714    13581    13854   \n",
       "..   ...      ...      ...      ...      ...      ...      ...      ...   \n",
       "538  ...    15114    14938    15090    15840    16138    16156    16077   \n",
       "539  ...    14735    12628    12578    12510    12639    13081    13870   \n",
       "540  ...    11424    12029    12388    12409    12509    12614    12526   \n",
       "541  ...    13319    13472    13704    13945    13700    13336    12898   \n",
       "542  ...    11257    11194    11249    11585    12340    13690    14497   \n",
       "\n",
       "    hour_197 hour_198 hour_199  \n",
       "0      14394    15034    15783  \n",
       "1      17748    17696    18153  \n",
       "2      14223    13563    13318  \n",
       "3      14082    14509    14606  \n",
       "4      14598    14640    14316  \n",
       "..       ...      ...      ...  \n",
       "538    15816    15212    14506  \n",
       "539    15199    15967    16007  \n",
       "540    12525    12406    12581  \n",
       "541    12369    12388    12223  \n",
       "542    14409    14313    14187  \n",
       "\n",
       "[543 rows x 200 columns]"
      ]
     },
     "execution_count": 44,
     "metadata": {},
     "output_type": "execute_result"
    }
   ],
   "source": [
    "training_input_df"
   ]
  },
  {
   "cell_type": "markdown",
   "metadata": {},
   "source": [
    "## We need to convert the Pandas dataframe to numpy array.\n",
    "### The shape of RNN input is `(<number of training instances>, <size of sliding window>, <number of output>)`\n",
    "### Because the output of our prediction problem is 1, we need to reshape the training data using `np.reshape`."
   ]
  },
  {
   "cell_type": "code",
   "execution_count": 45,
   "metadata": {},
   "outputs": [],
   "source": [
    "training_input_array = training_input_df.to_numpy()"
   ]
  },
  {
   "cell_type": "code",
   "execution_count": 46,
   "metadata": {},
   "outputs": [
    {
     "data": {
      "text/plain": [
       "(543, 200)"
      ]
     },
     "execution_count": 46,
     "metadata": {},
     "output_type": "execute_result"
    }
   ],
   "source": [
    "training_input_array.shape"
   ]
  },
  {
   "cell_type": "code",
   "execution_count": 47,
   "metadata": {},
   "outputs": [],
   "source": [
    "training_input_array2= np.reshape(training_input_array, [543, 200, 1])"
   ]
  },
  {
   "cell_type": "code",
   "execution_count": 48,
   "metadata": {},
   "outputs": [
    {
     "data": {
      "text/plain": [
       "(543, 200, 1)"
      ]
     },
     "execution_count": 48,
     "metadata": {},
     "output_type": "execute_result"
    }
   ],
   "source": [
    "training_input_array2.shape"
   ]
  },
  {
   "cell_type": "markdown",
   "metadata": {},
   "source": [
    "## Similarly, we convert the Pandas dataframe for training output to numpy array."
   ]
  },
  {
   "cell_type": "code",
   "execution_count": 49,
   "metadata": {},
   "outputs": [],
   "source": [
    "training_output_array = training_output_df.to_numpy()"
   ]
  },
  {
   "cell_type": "code",
   "execution_count": 50,
   "metadata": {},
   "outputs": [
    {
     "data": {
      "text/plain": [
       "(543, 1)"
      ]
     },
     "execution_count": 50,
     "metadata": {},
     "output_type": "execute_result"
    }
   ],
   "source": [
    "training_output_array.shape"
   ]
  },
  {
   "cell_type": "markdown",
   "metadata": {},
   "source": [
    "### Note: We still do a reshape here on the training ouput. Even though it is not needed in this case, it may be needed in other cases."
   ]
  },
  {
   "cell_type": "code",
   "execution_count": 51,
   "metadata": {},
   "outputs": [],
   "source": [
    "training_output_array2=np.reshape(training_output_array, [543, 1])"
   ]
  },
  {
   "cell_type": "markdown",
   "metadata": {},
   "source": [
    "## We create testing input and testing output data in a similar way.\n",
    "### Reminder: The time series of testing data, generated earlier in Part C, is `test_tsd`."
   ]
  },
  {
   "cell_type": "markdown",
   "metadata": {},
   "source": [
    "# Exercise 3 (10 points)\n",
    "Complete the code below for generating testing data instances using Pandas dataframe."
   ]
  },
  {
   "cell_type": "code",
   "execution_count": 52,
   "metadata": {},
   "outputs": [
    {
     "data": {
      "text/plain": [
       "12128"
      ]
     },
     "execution_count": 52,
     "metadata": {},
     "output_type": "execute_result"
    }
   ],
   "source": [
    "testing_size"
   ]
  },
  {
   "cell_type": "code",
   "execution_count": 53,
   "metadata": {},
   "outputs": [],
   "source": [
    "# Divide the testing_tsd into length of 201, using 200 hourly data to predict the next hourly energy consumption\n",
    "testing_input_df = pd.DataFrame( columns=[ column_names ] )\n",
    "testing_output_df = pd.DataFrame( columns= [ \"forecast\"] )\n",
    "input_length = 200\n",
    "output_time = 1\n",
    "total_length = input_length + output_time\n",
    "remaining_tsd2 = test_tsd\n",
    "index = 0\n",
    "# Set up these three constants to be used in the for loop\n",
    "begin=0\n",
    "input_end = begin + input_length\n",
    "output_end = input_end + output_time\n",
    "for i in range(0, testing_size, total_length):\n",
    "    remaining_tsd = remaining_tsd2\n",
    "    if len(remaining_tsd) >= total_length:\n",
    "        for j in range(0, input_length):\n",
    "            column_name = \"hour_\"+str(j)\n",
    "            testing_input_df.loc[index,column_name]= remaining_tsd[begin+j]\n",
    "        testing_output_df.loc[index] = remaining_tsd[output_end-1]\n",
    "        index= index +1\n",
    "        remaining_tsd2 = remaining_tsd[output_end:]"
   ]
  },
  {
   "cell_type": "markdown",
   "metadata": {},
   "source": [
    "## Like testing data, we convert the Pandas dataframe to np array, then reshape it into the shape expected by RNN."
   ]
  },
  {
   "cell_type": "code",
   "execution_count": 54,
   "metadata": {},
   "outputs": [],
   "source": [
    "testing_input_array = testing_input_df.to_numpy()"
   ]
  },
  {
   "cell_type": "code",
   "execution_count": 55,
   "metadata": {},
   "outputs": [],
   "source": [
    "testing_output_array = testing_output_df.to_numpy()"
   ]
  },
  {
   "cell_type": "code",
   "execution_count": 56,
   "metadata": {},
   "outputs": [
    {
     "data": {
      "text/plain": [
       "(60, 200)"
      ]
     },
     "execution_count": 56,
     "metadata": {},
     "output_type": "execute_result"
    }
   ],
   "source": [
    "testing_input_array.shape"
   ]
  },
  {
   "cell_type": "code",
   "execution_count": 57,
   "metadata": {},
   "outputs": [],
   "source": [
    "testing_input_array2 = np.reshape( testing_input_array, [60, 200, 1] )"
   ]
  },
  {
   "cell_type": "code",
   "execution_count": 58,
   "metadata": {},
   "outputs": [
    {
     "data": {
      "text/plain": [
       "(60, 200, 1)"
      ]
     },
     "execution_count": 58,
     "metadata": {},
     "output_type": "execute_result"
    }
   ],
   "source": [
    "testing_input_array2.shape"
   ]
  },
  {
   "cell_type": "code",
   "execution_count": 59,
   "metadata": {},
   "outputs": [],
   "source": [
    "testing_output_array2 = np.reshape( testing_output_array, [60, 1] )"
   ]
  },
  {
   "cell_type": "code",
   "execution_count": 60,
   "metadata": {},
   "outputs": [
    {
     "data": {
      "text/plain": [
       "(60, 1)"
      ]
     },
     "execution_count": 60,
     "metadata": {},
     "output_type": "execute_result"
    }
   ],
   "source": [
    "testing_output_array2.shape"
   ]
  },
  {
   "cell_type": "markdown",
   "metadata": {},
   "source": [
    "# Part E RNN Learning for Original Time Series\n",
    "# We build an RNN using a type of keras layer: SimpleRNN"
   ]
  },
  {
   "cell_type": "code",
   "execution_count": 61,
   "metadata": {},
   "outputs": [],
   "source": [
    "model2 = tf.keras.Sequential( [ \\\n",
    "                             tf.keras.layers.SimpleRNN(200), \\\n",
    "                              ])"
   ]
  },
  {
   "cell_type": "markdown",
   "metadata": {},
   "source": [
    "## Notice the loss function is MeanSquredError because the output is a number, not a category (like hand written chracter recognition problem in Lab 9)."
   ]
  },
  {
   "cell_type": "code",
   "execution_count": 62,
   "metadata": {},
   "outputs": [],
   "source": [
    "model2.compile(optimizer='sgd', loss=tf.keras.losses.MeanSquaredError())"
   ]
  },
  {
   "cell_type": "markdown",
   "metadata": {},
   "source": [
    "## The final data preparation is to convert the training input/output, testing input/output to tensors of `float32` data type, which is what is expected in RNN."
   ]
  },
  {
   "cell_type": "code",
   "execution_count": 63,
   "metadata": {},
   "outputs": [],
   "source": [
    "training_input_tensor = tf.convert_to_tensor(training_input_array2, dtype=tf.float32)"
   ]
  },
  {
   "cell_type": "code",
   "execution_count": 64,
   "metadata": {},
   "outputs": [],
   "source": [
    "training_output_tensor = tf.convert_to_tensor(training_output_array2, dtype=tf.float32)"
   ]
  },
  {
   "cell_type": "code",
   "execution_count": 65,
   "metadata": {},
   "outputs": [],
   "source": [
    "testing_input_tensor = tf.convert_to_tensor(testing_input_array2, dtype=tf.float32)"
   ]
  },
  {
   "cell_type": "code",
   "execution_count": 66,
   "metadata": {},
   "outputs": [],
   "source": [
    "testing_output_tensor = tf.convert_to_tensor(testing_output_array2, dtype=tf.float32)"
   ]
  },
  {
   "cell_type": "markdown",
   "metadata": {},
   "source": [
    "# Finally, we can run RNN on the training and testing tensor. We will use a batch size of 256, maximum epochs of 30."
   ]
  },
  {
   "cell_type": "code",
   "execution_count": 67,
   "metadata": {},
   "outputs": [
    {
     "name": "stdout",
     "output_type": "stream",
     "text": [
      "Epoch 1/30\n",
      "3/3 [==============================] - 2s 370ms/step - loss: 243903952.0000 - val_loss: 220069648.0000\n",
      "Epoch 2/30\n",
      "3/3 [==============================] - 1s 191ms/step - loss: 243903648.0000 - val_loss: 220069648.0000\n",
      "Epoch 3/30\n",
      "3/3 [==============================] - 1s 189ms/step - loss: 243903648.0000 - val_loss: 220069648.0000\n",
      "Epoch 4/30\n",
      "3/3 [==============================] - 1s 193ms/step - loss: 243903648.0000 - val_loss: 220069648.0000\n",
      "Epoch 5/30\n",
      "3/3 [==============================] - 1s 192ms/step - loss: 243903648.0000 - val_loss: 220069648.0000\n",
      "Epoch 6/30\n",
      "3/3 [==============================] - 1s 192ms/step - loss: 243903648.0000 - val_loss: 220069648.0000\n",
      "Epoch 7/30\n",
      "3/3 [==============================] - 1s 190ms/step - loss: 243903648.0000 - val_loss: 220069648.0000\n",
      "Epoch 8/30\n",
      "3/3 [==============================] - 1s 188ms/step - loss: 243903648.0000 - val_loss: 220069648.0000\n",
      "Epoch 9/30\n",
      "3/3 [==============================] - 1s 191ms/step - loss: 243903648.0000 - val_loss: 220069648.0000\n",
      "Epoch 10/30\n",
      "3/3 [==============================] - 1s 188ms/step - loss: 243903664.0000 - val_loss: 220069648.0000\n",
      "Epoch 11/30\n",
      "3/3 [==============================] - 1s 191ms/step - loss: 243903648.0000 - val_loss: 220069648.0000\n",
      "Epoch 12/30\n",
      "3/3 [==============================] - 1s 188ms/step - loss: 243903648.0000 - val_loss: 220069648.0000\n",
      "Epoch 13/30\n",
      "3/3 [==============================] - 1s 187ms/step - loss: 243903664.0000 - val_loss: 220069648.0000\n",
      "Epoch 14/30\n",
      "3/3 [==============================] - 1s 189ms/step - loss: 243903648.0000 - val_loss: 220069648.0000\n",
      "Epoch 15/30\n",
      "3/3 [==============================] - 1s 187ms/step - loss: 243903664.0000 - val_loss: 220069648.0000\n",
      "Epoch 16/30\n",
      "3/3 [==============================] - 1s 194ms/step - loss: 243903664.0000 - val_loss: 220069648.0000\n",
      "Epoch 17/30\n",
      "3/3 [==============================] - 1s 191ms/step - loss: 243903664.0000 - val_loss: 220069648.0000\n",
      "Epoch 18/30\n",
      "3/3 [==============================] - 1s 192ms/step - loss: 243903664.0000 - val_loss: 220069648.0000\n",
      "Epoch 19/30\n",
      "3/3 [==============================] - 1s 188ms/step - loss: 243903648.0000 - val_loss: 220069648.0000\n",
      "Epoch 20/30\n",
      "3/3 [==============================] - 1s 191ms/step - loss: 243903664.0000 - val_loss: 220069648.0000\n",
      "Epoch 21/30\n",
      "3/3 [==============================] - 1s 189ms/step - loss: 243903648.0000 - val_loss: 220069648.0000\n",
      "Epoch 22/30\n",
      "3/3 [==============================] - 1s 191ms/step - loss: 243903648.0000 - val_loss: 220069648.0000\n",
      "Epoch 23/30\n",
      "3/3 [==============================] - 1s 190ms/step - loss: 243903648.0000 - val_loss: 220069648.0000\n",
      "Epoch 24/30\n",
      "3/3 [==============================] - 1s 193ms/step - loss: 243903648.0000 - val_loss: 220069648.0000\n",
      "Epoch 25/30\n",
      "3/3 [==============================] - 1s 188ms/step - loss: 243903680.0000 - val_loss: 220069648.0000\n",
      "Epoch 26/30\n",
      "3/3 [==============================] - 1s 186ms/step - loss: 243903664.0000 - val_loss: 220069648.0000\n",
      "Epoch 27/30\n",
      "3/3 [==============================] - 1s 185ms/step - loss: 243903648.0000 - val_loss: 220069648.0000\n",
      "Epoch 28/30\n",
      "3/3 [==============================] - 1s 186ms/step - loss: 243903648.0000 - val_loss: 220069648.0000\n",
      "Epoch 29/30\n",
      "3/3 [==============================] - 1s 188ms/step - loss: 243903648.0000 - val_loss: 220069648.0000\n",
      "Epoch 30/30\n",
      "3/3 [==============================] - 1s 191ms/step - loss: 243903664.0000 - val_loss: 220069648.0000\n"
     ]
    },
    {
     "data": {
      "text/plain": [
       "<keras.callbacks.History at 0x2af419578a30>"
      ]
     },
     "execution_count": 67,
     "metadata": {},
     "output_type": "execute_result"
    }
   ],
   "source": [
    "model2.fit(training_input_tensor, training_output_tensor, batch_size=256, epochs=30, verbose=1, \\\n",
    "           validation_data = (testing_input_tensor, testing_output_tensor) )"
   ]
  },
  {
   "cell_type": "markdown",
   "metadata": {},
   "source": [
    "# Part F Create Training and Testing Data Using Normalized Time Series.\n",
    "\n",
    "### Like Part D, we will use 200 hours as the length of the input sliding window to predict the energy consumption of the next hour. Each training data instance consists of 200 features (i.e., energy consumption of 200 consecutive hours), and 1 output value (i.e., energy consumption of the 201th hour from the beginning of input sliding window). Design Rationale: We chose 200 hours because energy consumption of weekends and weekdays differ. Therefore, it makes sense to have the sliding window covers at least previous 7 days, which is 168 (24*7) hours."
   ]
  },
  {
   "cell_type": "markdown",
   "metadata": {},
   "source": [
    "## Divide the NORMALIZED time series data in training and testing \n",
    "## To avoid confusion with variables in Part D and E, we will add \"n\" in the front of each variable (except temporary variables in the loop).\n",
    "## Reminding: We have created, toward the end of Part C, normlized AEP time series: `norm_AEP_tsd_list`"
   ]
  },
  {
   "cell_type": "code",
   "execution_count": 68,
   "metadata": {},
   "outputs": [],
   "source": [
    "n_training_tsd = norm_AEP_tsd_list[0:training_size]"
   ]
  },
  {
   "cell_type": "code",
   "execution_count": 69,
   "metadata": {},
   "outputs": [],
   "source": [
    "n_test_tsd = norm_AEP_tsd_list[training_size:data_size]"
   ]
  },
  {
   "cell_type": "code",
   "execution_count": 70,
   "metadata": {},
   "outputs": [],
   "source": [
    "column_names = []\n",
    "# input_length is the length of the time series to be used for prediction\n",
    "input_length = 200 \n",
    "for i in range(0, input_length):\n",
    "    columna_names = column_names.append(\"hour_\"+str(i))"
   ]
  },
  {
   "cell_type": "code",
   "execution_count": 71,
   "metadata": {},
   "outputs": [],
   "source": [
    "# Divide the normalized n_training_tsd into length of 201, using 200 hourly data to predict the next hourly energy consumption\n",
    "n_training_input_df = pd.DataFrame( columns=[ column_names ] )\n",
    "n_training_output_df = pd.DataFrame( columns= [ \"forecast\"] )\n",
    "output_time = 1\n",
    "total_length = input_length + output_time\n",
    "remaining_tsd2 = n_training_tsd\n",
    "index = 0\n",
    "for i in range(0, training_size, total_length):\n",
    "    remaining_tsd = remaining_tsd2\n",
    "    begin = 0 \n",
    "    input_end = begin + input_length\n",
    "    output_end = input_end + output_time\n",
    "    if len(remaining_tsd) >= total_length:\n",
    "        for j in range(0, input_length):\n",
    "            column_name = \"hour_\"+str(j)\n",
    "            n_training_input_df.loc[index,column_name]= remaining_tsd[begin+j]\n",
    "        n_training_output_df.loc[index] = remaining_tsd[output_end-1]\n",
    "        index= index +1\n",
    "        remaining_tsd2 = remaining_tsd[output_end:]"
   ]
  },
  {
   "cell_type": "code",
   "execution_count": 72,
   "metadata": {},
   "outputs": [
    {
     "data": {
      "text/html": [
       "<div>\n",
       "<style scoped>\n",
       "    .dataframe tbody tr th:only-of-type {\n",
       "        vertical-align: middle;\n",
       "    }\n",
       "\n",
       "    .dataframe tbody tr th {\n",
       "        vertical-align: top;\n",
       "    }\n",
       "\n",
       "    .dataframe thead tr th {\n",
       "        text-align: left;\n",
       "    }\n",
       "</style>\n",
       "<table border=\"1\" class=\"dataframe\">\n",
       "  <thead>\n",
       "    <tr>\n",
       "      <th></th>\n",
       "      <th>hour_0</th>\n",
       "      <th>hour_1</th>\n",
       "      <th>hour_2</th>\n",
       "      <th>hour_3</th>\n",
       "      <th>hour_4</th>\n",
       "      <th>hour_5</th>\n",
       "      <th>hour_6</th>\n",
       "      <th>hour_7</th>\n",
       "      <th>hour_8</th>\n",
       "      <th>hour_9</th>\n",
       "      <th>...</th>\n",
       "      <th>hour_190</th>\n",
       "      <th>hour_191</th>\n",
       "      <th>hour_192</th>\n",
       "      <th>hour_193</th>\n",
       "      <th>hour_194</th>\n",
       "      <th>hour_195</th>\n",
       "      <th>hour_196</th>\n",
       "      <th>hour_197</th>\n",
       "      <th>hour_198</th>\n",
       "      <th>hour_199</th>\n",
       "    </tr>\n",
       "  </thead>\n",
       "  <tbody>\n",
       "    <tr>\n",
       "      <th>0</th>\n",
       "      <td>0.241839</td>\n",
       "      <td>0.203798</td>\n",
       "      <td>0.185925</td>\n",
       "      <td>0.182202</td>\n",
       "      <td>0.191697</td>\n",
       "      <td>0.214534</td>\n",
       "      <td>0.25512</td>\n",
       "      <td>0.292665</td>\n",
       "      <td>0.318853</td>\n",
       "      <td>0.33263</td>\n",
       "      <td>...</td>\n",
       "      <td>0.498759</td>\n",
       "      <td>0.46953</td>\n",
       "      <td>0.358508</td>\n",
       "      <td>0.327045</td>\n",
       "      <td>0.301601</td>\n",
       "      <td>0.28075</td>\n",
       "      <td>0.277212</td>\n",
       "      <td>0.298684</td>\n",
       "      <td>0.338401</td>\n",
       "      <td>0.384883</td>\n",
       "    </tr>\n",
       "    <tr>\n",
       "      <th>1</th>\n",
       "      <td>0.434095</td>\n",
       "      <td>0.454946</td>\n",
       "      <td>0.459849</td>\n",
       "      <td>0.447561</td>\n",
       "      <td>0.445761</td>\n",
       "      <td>0.438252</td>\n",
       "      <td>0.43968</td>\n",
       "      <td>0.452278</td>\n",
       "      <td>0.517252</td>\n",
       "      <td>0.548777</td>\n",
       "      <td>...</td>\n",
       "      <td>0.677051</td>\n",
       "      <td>0.664888</td>\n",
       "      <td>0.636838</td>\n",
       "      <td>0.610711</td>\n",
       "      <td>0.587626</td>\n",
       "      <td>0.554673</td>\n",
       "      <td>0.541144</td>\n",
       "      <td>0.506826</td>\n",
       "      <td>0.503599</td>\n",
       "      <td>0.53196</td>\n",
       "    </tr>\n",
       "    <tr>\n",
       "      <th>2</th>\n",
       "      <td>0.673948</td>\n",
       "      <td>0.677734</td>\n",
       "      <td>0.676741</td>\n",
       "      <td>0.663584</td>\n",
       "      <td>0.603388</td>\n",
       "      <td>0.531091</td>\n",
       "      <td>0.442038</td>\n",
       "      <td>0.415788</td>\n",
       "      <td>0.402321</td>\n",
       "      <td>0.407968</td>\n",
       "      <td>...</td>\n",
       "      <td>0.384821</td>\n",
       "      <td>0.456373</td>\n",
       "      <td>0.47586</td>\n",
       "      <td>0.4632</td>\n",
       "      <td>0.457801</td>\n",
       "      <td>0.429316</td>\n",
       "      <td>0.362728</td>\n",
       "      <td>0.288072</td>\n",
       "      <td>0.247114</td>\n",
       "      <td>0.23191</td>\n",
       "    </tr>\n",
       "    <tr>\n",
       "      <th>3</th>\n",
       "      <td>0.227008</td>\n",
       "      <td>0.24668</td>\n",
       "      <td>0.311779</td>\n",
       "      <td>0.404803</td>\n",
       "      <td>0.482003</td>\n",
       "      <td>0.473501</td>\n",
       "      <td>0.473563</td>\n",
       "      <td>0.476542</td>\n",
       "      <td>0.469902</td>\n",
       "      <td>0.452898</td>\n",
       "      <td>...</td>\n",
       "      <td>0.168239</td>\n",
       "      <td>0.151049</td>\n",
       "      <td>0.146022</td>\n",
       "      <td>0.154896</td>\n",
       "      <td>0.165819</td>\n",
       "      <td>0.192938</td>\n",
       "      <td>0.238426</td>\n",
       "      <td>0.279322</td>\n",
       "      <td>0.305821</td>\n",
       "      <td>0.311841</td>\n",
       "    </tr>\n",
       "    <tr>\n",
       "      <th>4</th>\n",
       "      <td>0.30942</td>\n",
       "      <td>0.309296</td>\n",
       "      <td>0.295768</td>\n",
       "      <td>0.293968</td>\n",
       "      <td>0.316123</td>\n",
       "      <td>0.392764</td>\n",
       "      <td>0.423545</td>\n",
       "      <td>0.434467</td>\n",
       "      <td>0.426089</td>\n",
       "      <td>0.408403</td>\n",
       "      <td>...</td>\n",
       "      <td>0.300236</td>\n",
       "      <td>0.29856</td>\n",
       "      <td>0.282736</td>\n",
       "      <td>0.269269</td>\n",
       "      <td>0.256485</td>\n",
       "      <td>0.248231</td>\n",
       "      <td>0.265173</td>\n",
       "      <td>0.311344</td>\n",
       "      <td>0.313951</td>\n",
       "      <td>0.293844</td>\n",
       "    </tr>\n",
       "    <tr>\n",
       "      <th>...</th>\n",
       "      <td>...</td>\n",
       "      <td>...</td>\n",
       "      <td>...</td>\n",
       "      <td>...</td>\n",
       "      <td>...</td>\n",
       "      <td>...</td>\n",
       "      <td>...</td>\n",
       "      <td>...</td>\n",
       "      <td>...</td>\n",
       "      <td>...</td>\n",
       "      <td>...</td>\n",
       "      <td>...</td>\n",
       "      <td>...</td>\n",
       "      <td>...</td>\n",
       "      <td>...</td>\n",
       "      <td>...</td>\n",
       "      <td>...</td>\n",
       "      <td>...</td>\n",
       "      <td>...</td>\n",
       "      <td>...</td>\n",
       "      <td>...</td>\n",
       "    </tr>\n",
       "    <tr>\n",
       "      <th>538</th>\n",
       "      <td>0.313889</td>\n",
       "      <td>0.352675</td>\n",
       "      <td>0.367693</td>\n",
       "      <td>0.367072</td>\n",
       "      <td>0.355591</td>\n",
       "      <td>0.334926</td>\n",
       "      <td>0.299181</td>\n",
       "      <td>0.24215</td>\n",
       "      <td>0.241281</td>\n",
       "      <td>0.228745</td>\n",
       "      <td>...</td>\n",
       "      <td>0.343366</td>\n",
       "      <td>0.332444</td>\n",
       "      <td>0.341877</td>\n",
       "      <td>0.38842</td>\n",
       "      <td>0.406913</td>\n",
       "      <td>0.40803</td>\n",
       "      <td>0.403128</td>\n",
       "      <td>0.386931</td>\n",
       "      <td>0.349448</td>\n",
       "      <td>0.305635</td>\n",
       "    </tr>\n",
       "    <tr>\n",
       "      <th>539</th>\n",
       "      <td>0.297754</td>\n",
       "      <td>0.301973</td>\n",
       "      <td>0.303463</td>\n",
       "      <td>0.324128</td>\n",
       "      <td>0.374147</td>\n",
       "      <td>0.454574</td>\n",
       "      <td>0.48703</td>\n",
       "      <td>0.467544</td>\n",
       "      <td>0.435336</td>\n",
       "      <td>0.409333</td>\n",
       "      <td>...</td>\n",
       "      <td>0.319846</td>\n",
       "      <td>0.18909</td>\n",
       "      <td>0.185987</td>\n",
       "      <td>0.181767</td>\n",
       "      <td>0.189773</td>\n",
       "      <td>0.217202</td>\n",
       "      <td>0.266166</td>\n",
       "      <td>0.348641</td>\n",
       "      <td>0.396301</td>\n",
       "      <td>0.398784</td>\n",
       "    </tr>\n",
       "    <tr>\n",
       "      <th>540</th>\n",
       "      <td>0.404679</td>\n",
       "      <td>0.396239</td>\n",
       "      <td>0.383517</td>\n",
       "      <td>0.38842</td>\n",
       "      <td>0.380973</td>\n",
       "      <td>0.376257</td>\n",
       "      <td>0.386434</td>\n",
       "      <td>0.424848</td>\n",
       "      <td>0.429999</td>\n",
       "      <td>0.425965</td>\n",
       "      <td>...</td>\n",
       "      <td>0.114373</td>\n",
       "      <td>0.151918</td>\n",
       "      <td>0.174196</td>\n",
       "      <td>0.1755</td>\n",
       "      <td>0.181705</td>\n",
       "      <td>0.188221</td>\n",
       "      <td>0.18276</td>\n",
       "      <td>0.182698</td>\n",
       "      <td>0.175313</td>\n",
       "      <td>0.186174</td>\n",
       "    </tr>\n",
       "    <tr>\n",
       "      <th>541</th>\n",
       "      <td>0.240226</td>\n",
       "      <td>0.232345</td>\n",
       "      <td>0.215837</td>\n",
       "      <td>0.185863</td>\n",
       "      <td>0.149187</td>\n",
       "      <td>0.115428</td>\n",
       "      <td>0.124488</td>\n",
       "      <td>0.106429</td>\n",
       "      <td>0.0942659</td>\n",
       "      <td>0.0870671</td>\n",
       "      <td>...</td>\n",
       "      <td>0.231972</td>\n",
       "      <td>0.241467</td>\n",
       "      <td>0.255864</td>\n",
       "      <td>0.27082</td>\n",
       "      <td>0.255616</td>\n",
       "      <td>0.233027</td>\n",
       "      <td>0.205846</td>\n",
       "      <td>0.173017</td>\n",
       "      <td>0.174196</td>\n",
       "      <td>0.163957</td>\n",
       "    </tr>\n",
       "    <tr>\n",
       "      <th>542</th>\n",
       "      <td>0.151173</td>\n",
       "      <td>0.170783</td>\n",
       "      <td>0.216768</td>\n",
       "      <td>0.295023</td>\n",
       "      <td>0.350068</td>\n",
       "      <td>0.339767</td>\n",
       "      <td>0.322949</td>\n",
       "      <td>0.308986</td>\n",
       "      <td>0.286397</td>\n",
       "      <td>0.268152</td>\n",
       "      <td>...</td>\n",
       "      <td>0.104009</td>\n",
       "      <td>0.100099</td>\n",
       "      <td>0.103512</td>\n",
       "      <td>0.124364</td>\n",
       "      <td>0.171218</td>\n",
       "      <td>0.254996</td>\n",
       "      <td>0.305076</td>\n",
       "      <td>0.299615</td>\n",
       "      <td>0.293658</td>\n",
       "      <td>0.285838</td>\n",
       "    </tr>\n",
       "  </tbody>\n",
       "</table>\n",
       "<p>543 rows × 200 columns</p>\n",
       "</div>"
      ],
      "text/plain": [
       "       hour_0    hour_1    hour_2    hour_3    hour_4    hour_5    hour_6  \\\n",
       "0    0.241839  0.203798  0.185925  0.182202  0.191697  0.214534   0.25512   \n",
       "1    0.434095  0.454946  0.459849  0.447561  0.445761  0.438252   0.43968   \n",
       "2    0.673948  0.677734  0.676741  0.663584  0.603388  0.531091  0.442038   \n",
       "3    0.227008   0.24668  0.311779  0.404803  0.482003  0.473501  0.473563   \n",
       "4     0.30942  0.309296  0.295768  0.293968  0.316123  0.392764  0.423545   \n",
       "..        ...       ...       ...       ...       ...       ...       ...   \n",
       "538  0.313889  0.352675  0.367693  0.367072  0.355591  0.334926  0.299181   \n",
       "539  0.297754  0.301973  0.303463  0.324128  0.374147  0.454574   0.48703   \n",
       "540  0.404679  0.396239  0.383517   0.38842  0.380973  0.376257  0.386434   \n",
       "541  0.240226  0.232345  0.215837  0.185863  0.149187  0.115428  0.124488   \n",
       "542  0.151173  0.170783  0.216768  0.295023  0.350068  0.339767  0.322949   \n",
       "\n",
       "       hour_7     hour_8     hour_9  ...  hour_190  hour_191  hour_192  \\\n",
       "0    0.292665   0.318853    0.33263  ...  0.498759   0.46953  0.358508   \n",
       "1    0.452278   0.517252   0.548777  ...  0.677051  0.664888  0.636838   \n",
       "2    0.415788   0.402321   0.407968  ...  0.384821  0.456373   0.47586   \n",
       "3    0.476542   0.469902   0.452898  ...  0.168239  0.151049  0.146022   \n",
       "4    0.434467   0.426089   0.408403  ...  0.300236   0.29856  0.282736   \n",
       "..        ...        ...        ...  ...       ...       ...       ...   \n",
       "538   0.24215   0.241281   0.228745  ...  0.343366  0.332444  0.341877   \n",
       "539  0.467544   0.435336   0.409333  ...  0.319846   0.18909  0.185987   \n",
       "540  0.424848   0.429999   0.425965  ...  0.114373  0.151918  0.174196   \n",
       "541  0.106429  0.0942659  0.0870671  ...  0.231972  0.241467  0.255864   \n",
       "542  0.308986   0.286397   0.268152  ...  0.104009  0.100099  0.103512   \n",
       "\n",
       "     hour_193  hour_194  hour_195  hour_196  hour_197  hour_198  hour_199  \n",
       "0    0.327045  0.301601   0.28075  0.277212  0.298684  0.338401  0.384883  \n",
       "1    0.610711  0.587626  0.554673  0.541144  0.506826  0.503599   0.53196  \n",
       "2      0.4632  0.457801  0.429316  0.362728  0.288072  0.247114   0.23191  \n",
       "3    0.154896  0.165819  0.192938  0.238426  0.279322  0.305821  0.311841  \n",
       "4    0.269269  0.256485  0.248231  0.265173  0.311344  0.313951  0.293844  \n",
       "..        ...       ...       ...       ...       ...       ...       ...  \n",
       "538   0.38842  0.406913   0.40803  0.403128  0.386931  0.349448  0.305635  \n",
       "539  0.181767  0.189773  0.217202  0.266166  0.348641  0.396301  0.398784  \n",
       "540    0.1755  0.181705  0.188221   0.18276  0.182698  0.175313  0.186174  \n",
       "541   0.27082  0.255616  0.233027  0.205846  0.173017  0.174196  0.163957  \n",
       "542  0.124364  0.171218  0.254996  0.305076  0.299615  0.293658  0.285838  \n",
       "\n",
       "[543 rows x 200 columns]"
      ]
     },
     "execution_count": 72,
     "metadata": {},
     "output_type": "execute_result"
    }
   ],
   "source": [
    "n_training_input_df"
   ]
  },
  {
   "cell_type": "markdown",
   "metadata": {},
   "source": [
    "### Like in Part D, we need to convert the Pandas dataframe to numpy array. The shape of RNN input is `(<number of training instances>, <size of sliding window>, <number of output>)`. Because the output of our prediction problem is 1, we need to reshape the training data using `np.reshape`."
   ]
  },
  {
   "cell_type": "code",
   "execution_count": 73,
   "metadata": {},
   "outputs": [],
   "source": [
    "n_training_input_array = n_training_input_df.to_numpy()"
   ]
  },
  {
   "cell_type": "code",
   "execution_count": 74,
   "metadata": {},
   "outputs": [
    {
     "data": {
      "text/plain": [
       "(543, 200)"
      ]
     },
     "execution_count": 74,
     "metadata": {},
     "output_type": "execute_result"
    }
   ],
   "source": [
    "n_training_input_array.shape"
   ]
  },
  {
   "cell_type": "code",
   "execution_count": 75,
   "metadata": {},
   "outputs": [],
   "source": [
    "n_training_input_array2= np.reshape(n_training_input_array, [543, 200, 1])"
   ]
  },
  {
   "cell_type": "code",
   "execution_count": 76,
   "metadata": {},
   "outputs": [
    {
     "data": {
      "text/plain": [
       "(543, 200, 1)"
      ]
     },
     "execution_count": 76,
     "metadata": {},
     "output_type": "execute_result"
    }
   ],
   "source": [
    "n_training_input_array2.shape"
   ]
  },
  {
   "cell_type": "markdown",
   "metadata": {},
   "source": [
    "## Similarly, we convert the Pandas dataframe for training output to numpy array."
   ]
  },
  {
   "cell_type": "code",
   "execution_count": 77,
   "metadata": {},
   "outputs": [],
   "source": [
    "n_training_output_array = n_training_output_df.to_numpy()"
   ]
  },
  {
   "cell_type": "code",
   "execution_count": 78,
   "metadata": {},
   "outputs": [
    {
     "data": {
      "text/plain": [
       "(543, 1)"
      ]
     },
     "execution_count": 78,
     "metadata": {},
     "output_type": "execute_result"
    }
   ],
   "source": [
    "n_training_output_array.shape"
   ]
  },
  {
   "cell_type": "markdown",
   "metadata": {},
   "source": [
    "### Note: We still do a reshape here on the training ouput. Even though it is not needed in this case, it may be needed in other cases."
   ]
  },
  {
   "cell_type": "code",
   "execution_count": 79,
   "metadata": {},
   "outputs": [],
   "source": [
    "n_training_output_array2=np.reshape(n_training_output_array, [543, 1])"
   ]
  },
  {
   "cell_type": "markdown",
   "metadata": {},
   "source": [
    "## We create testing input and testing output data in a similar way.\n",
    "### Reminder: The time series of normalized testing data, generated earlier in the beginning of Part F, is `n_test_tsd`."
   ]
  },
  {
   "cell_type": "markdown",
   "metadata": {},
   "source": [
    "# Exercise 4 (10 points)\n",
    "Complete the code below for generating normalized testing data instances using Pandas dataframe."
   ]
  },
  {
   "cell_type": "code",
   "execution_count": 80,
   "metadata": {},
   "outputs": [
    {
     "data": {
      "text/plain": [
       "12128"
      ]
     },
     "execution_count": 80,
     "metadata": {},
     "output_type": "execute_result"
    }
   ],
   "source": [
    "testing_size"
   ]
  },
  {
   "cell_type": "code",
   "execution_count": 81,
   "metadata": {},
   "outputs": [],
   "source": [
    "# Divide the normalized n_test_tsd into length of 201, using 200 hourly data to predict the next hourly energy consumption\n",
    "n_testing_input_df = pd.DataFrame( columns=[ column_names ] )\n",
    "n_testing_output_df = pd.DataFrame( columns= [ \"forecast\"] )\n",
    "input_length = 200\n",
    "output_time = 1\n",
    "total_length = input_length + output_time\n",
    "remaining_tsd2 = n_test_tsd\n",
    "index = 0\n",
    "# Set up these three constants to be used in the for loop\n",
    "begin=0\n",
    "input_end = begin + input_length\n",
    "output_end = input_end + output_time\n",
    "for i in range(0, testing_size, total_length):\n",
    "    remaining_tsd = remaining_tsd2\n",
    "    if len(remaining_tsd) >= total_length:\n",
    "        for j in range(0, input_length):\n",
    "            column_name = \"hour_\"+str(j)\n",
    "            n_testing_input_df.loc[index,column_name]= remaining_tsd[begin+j]\n",
    "        n_testing_output_df.loc[index] = remaining_tsd[output_end-1]\n",
    "        index= index +1\n",
    "        remaining_tsd2 = remaining_tsd[output_end:]"
   ]
  },
  {
   "cell_type": "markdown",
   "metadata": {},
   "source": [
    "## Like the normalized training data, we convert the Pandas dataframe for normalized testing data to np array, then reshape it into the shape expected by RNN."
   ]
  },
  {
   "cell_type": "code",
   "execution_count": 82,
   "metadata": {},
   "outputs": [],
   "source": [
    "n_testing_input_array = n_testing_input_df.to_numpy()"
   ]
  },
  {
   "cell_type": "code",
   "execution_count": 83,
   "metadata": {},
   "outputs": [],
   "source": [
    "n_testing_output_array = n_testing_output_df.to_numpy()"
   ]
  },
  {
   "cell_type": "code",
   "execution_count": 84,
   "metadata": {},
   "outputs": [
    {
     "data": {
      "text/plain": [
       "(60, 200)"
      ]
     },
     "execution_count": 84,
     "metadata": {},
     "output_type": "execute_result"
    }
   ],
   "source": [
    "n_testing_input_array.shape"
   ]
  },
  {
   "cell_type": "code",
   "execution_count": 85,
   "metadata": {},
   "outputs": [],
   "source": [
    "n_testing_input_array2 = np.reshape( n_testing_input_array, [60, 200, 1] )"
   ]
  },
  {
   "cell_type": "code",
   "execution_count": 86,
   "metadata": {},
   "outputs": [
    {
     "data": {
      "text/plain": [
       "(60, 200, 1)"
      ]
     },
     "execution_count": 86,
     "metadata": {},
     "output_type": "execute_result"
    }
   ],
   "source": [
    "n_testing_input_array2.shape"
   ]
  },
  {
   "cell_type": "code",
   "execution_count": 87,
   "metadata": {},
   "outputs": [],
   "source": [
    "n_testing_output_array2 = np.reshape( n_testing_output_array, [60, 1] )"
   ]
  },
  {
   "cell_type": "code",
   "execution_count": 88,
   "metadata": {},
   "outputs": [
    {
     "data": {
      "text/plain": [
       "(60, 1)"
      ]
     },
     "execution_count": 88,
     "metadata": {},
     "output_type": "execute_result"
    }
   ],
   "source": [
    "n_testing_output_array2.shape"
   ]
  },
  {
   "cell_type": "markdown",
   "metadata": {},
   "source": [
    "# Part F RNN Learning for Normalized Time Series\n",
    "# Like Part E, we build an RNN using SimpleRNN in kera.\n",
    "## To distinguish it from the model built in part E, we name this model \"model3\"."
   ]
  },
  {
   "cell_type": "code",
   "execution_count": 89,
   "metadata": {},
   "outputs": [],
   "source": [
    "model3 = tf.keras.Sequential( [ \\\n",
    "                             tf.keras.layers.SimpleRNN(200), \\\n",
    "                              ])"
   ]
  },
  {
   "cell_type": "markdown",
   "metadata": {},
   "source": [
    "### Similar to Part E, the loss function is MeanSquredError because the output is a number, not a category (like hand written chracter recognition problem in Lab 9)."
   ]
  },
  {
   "cell_type": "code",
   "execution_count": 90,
   "metadata": {},
   "outputs": [],
   "source": [
    "model3.compile(optimizer='sgd', loss=tf.keras.losses.MeanSquaredError())"
   ]
  },
  {
   "cell_type": "markdown",
   "metadata": {},
   "source": [
    "### Like Part E, the final data preparation is to convert the training input/output, testing input/output to tensors of `float32` data type, which is what is expected in RNN."
   ]
  },
  {
   "cell_type": "code",
   "execution_count": 91,
   "metadata": {},
   "outputs": [],
   "source": [
    "n_training_input_tensor = tf.convert_to_tensor(n_training_input_array2, dtype=tf.float32)"
   ]
  },
  {
   "cell_type": "code",
   "execution_count": 92,
   "metadata": {},
   "outputs": [],
   "source": [
    "n_training_output_tensor = tf.convert_to_tensor(n_training_output_array2, dtype=tf.float32)"
   ]
  },
  {
   "cell_type": "code",
   "execution_count": 93,
   "metadata": {},
   "outputs": [],
   "source": [
    "n_testing_input_tensor = tf.convert_to_tensor(n_testing_input_array2, dtype=tf.float32)"
   ]
  },
  {
   "cell_type": "code",
   "execution_count": 94,
   "metadata": {},
   "outputs": [],
   "source": [
    "n_testing_output_tensor = tf.convert_to_tensor(n_testing_output_array2, dtype=tf.float32)"
   ]
  },
  {
   "cell_type": "markdown",
   "metadata": {},
   "source": [
    "# Like Part E, we can run RNN on the training and testing tensor of normalized time series data. We will use the same hyperparameters as Part E: batch size= 256, maximum epochs= 30."
   ]
  },
  {
   "cell_type": "markdown",
   "metadata": {},
   "source": [
    "# Exercise 5 (10 points)\n",
    "Complete the code below for training RNN using normalized training data, validating it using normalized testing data."
   ]
  },
  {
   "cell_type": "code",
   "execution_count": 95,
   "metadata": {},
   "outputs": [
    {
     "name": "stdout",
     "output_type": "stream",
     "text": [
      "Epoch 1/30\n",
      "3/3 [==============================] - 2s 285ms/step - loss: 0.1905 - val_loss: 0.1406\n",
      "Epoch 2/30\n",
      "3/3 [==============================] - 1s 188ms/step - loss: 0.1747 - val_loss: 0.1328\n",
      "Epoch 3/30\n",
      "3/3 [==============================] - 1s 190ms/step - loss: 0.1667 - val_loss: 0.1289\n",
      "Epoch 4/30\n",
      "3/3 [==============================] - 1s 190ms/step - loss: 0.1623 - val_loss: 0.1263\n",
      "Epoch 5/30\n",
      "3/3 [==============================] - 1s 188ms/step - loss: 0.1593 - val_loss: 0.1244\n",
      "Epoch 6/30\n",
      "3/3 [==============================] - 1s 186ms/step - loss: 0.1571 - val_loss: 0.1230\n",
      "Epoch 7/30\n",
      "3/3 [==============================] - 1s 191ms/step - loss: 0.1555 - val_loss: 0.1218\n",
      "Epoch 8/30\n",
      "3/3 [==============================] - 1s 192ms/step - loss: 0.1541 - val_loss: 0.1208\n",
      "Epoch 9/30\n",
      "3/3 [==============================] - 1s 190ms/step - loss: 0.1529 - val_loss: 0.1199\n",
      "Epoch 10/30\n",
      "3/3 [==============================] - 1s 187ms/step - loss: 0.1518 - val_loss: 0.1191\n",
      "Epoch 11/30\n",
      "3/3 [==============================] - 1s 191ms/step - loss: 0.1508 - val_loss: 0.1183\n",
      "Epoch 12/30\n",
      "3/3 [==============================] - 1s 189ms/step - loss: 0.1499 - val_loss: 0.1176\n",
      "Epoch 13/30\n",
      "3/3 [==============================] - 1s 189ms/step - loss: 0.1491 - val_loss: 0.1170\n",
      "Epoch 14/30\n",
      "3/3 [==============================] - 1s 191ms/step - loss: 0.1482 - val_loss: 0.1163\n",
      "Epoch 15/30\n",
      "3/3 [==============================] - 1s 190ms/step - loss: 0.1475 - val_loss: 0.1158\n",
      "Epoch 16/30\n",
      "3/3 [==============================] - 1s 189ms/step - loss: 0.1468 - val_loss: 0.1152\n",
      "Epoch 17/30\n",
      "3/3 [==============================] - 1s 190ms/step - loss: 0.1461 - val_loss: 0.1147\n",
      "Epoch 18/30\n",
      "3/3 [==============================] - 1s 190ms/step - loss: 0.1455 - val_loss: 0.1142\n",
      "Epoch 19/30\n",
      "3/3 [==============================] - 1s 185ms/step - loss: 0.1448 - val_loss: 0.1137\n",
      "Epoch 20/30\n",
      "3/3 [==============================] - 1s 196ms/step - loss: 0.1443 - val_loss: 0.1133\n",
      "Epoch 21/30\n",
      "3/3 [==============================] - 1s 191ms/step - loss: 0.1437 - val_loss: 0.1128\n",
      "Epoch 22/30\n",
      "3/3 [==============================] - 1s 187ms/step - loss: 0.1431 - val_loss: 0.1124\n",
      "Epoch 23/30\n",
      "3/3 [==============================] - 1s 189ms/step - loss: 0.1426 - val_loss: 0.1119\n",
      "Epoch 24/30\n",
      "3/3 [==============================] - 1s 190ms/step - loss: 0.1420 - val_loss: 0.1115\n",
      "Epoch 25/30\n",
      "3/3 [==============================] - 1s 191ms/step - loss: 0.1415 - val_loss: 0.1111\n",
      "Epoch 26/30\n",
      "3/3 [==============================] - 1s 190ms/step - loss: 0.1410 - val_loss: 0.1107\n",
      "Epoch 27/30\n",
      "3/3 [==============================] - 1s 189ms/step - loss: 0.1404 - val_loss: 0.1103\n",
      "Epoch 28/30\n",
      "3/3 [==============================] - 1s 191ms/step - loss: 0.1399 - val_loss: 0.1099\n",
      "Epoch 29/30\n",
      "3/3 [==============================] - 1s 189ms/step - loss: 0.1395 - val_loss: 0.1095\n",
      "Epoch 30/30\n",
      "3/3 [==============================] - 1s 186ms/step - loss: 0.1389 - val_loss: 0.1091\n"
     ]
    },
    {
     "data": {
      "text/plain": [
       "<keras.callbacks.History at 0x2af40fcfd550>"
      ]
     },
     "execution_count": 95,
     "metadata": {},
     "output_type": "execute_result"
    }
   ],
   "source": [
    "model3.fit(n_training_input_tensor, n_training_output_tensor, batch_size=256, epochs=30, verbose=1, \\\n",
    "           validation_data = (n_testing_input_tensor, n_testing_output_tensor) )"
   ]
  },
  {
   "cell_type": "markdown",
   "metadata": {},
   "source": [
    "# Exercise 6 (15 points) \n",
    "- (i) Compare the performance of the two RNN's: (1) the RNN in Part E trained using original time series, and (2) the RNN in Part G trained using normalized time series. (7 points)\n",
    "- (ii) Discuss what you believe is the reason that results in the difference.  (8 points)"
   ]
  },
  {
   "cell_type": "markdown",
   "metadata": {},
   "source": [
    "## Answer to Exercise 6 \n",
    "- (i) The validation loss for original time series is extremely large and remain the same, and the validation loss of RNN using normalized time series is around 0.1, and it decreases as training proceeds.\n",
    "- (ii) Uneven scales across different variables make the model produce some strange results, and normalization helps to format the series to a common scale that between 0 and 1. "
   ]
  },
  {
   "cell_type": "code",
   "execution_count": 96,
   "metadata": {},
   "outputs": [],
   "source": [
    "n_testing_pred_tensor = model3.predict(n_testing_input_tensor)"
   ]
  },
  {
   "cell_type": "code",
   "execution_count": 97,
   "metadata": {},
   "outputs": [
    {
     "data": {
      "text/plain": [
       "array([[ 2.40805224e-01, -1.33347493e-02,  1.55916125e-01, ...,\n",
       "         5.33319190e-02, -3.75508890e-02, -8.68669152e-02],\n",
       "       [ 1.13117255e-01, -9.66725722e-02,  1.36046320e-01, ...,\n",
       "         1.69934221e-02, -7.90943876e-02,  4.15418210e-04],\n",
       "       [ 3.37267905e-01,  5.79681387e-03,  2.88432628e-01, ...,\n",
       "         1.24113090e-01,  2.57307454e-03, -6.24510981e-02],\n",
       "       ...,\n",
       "       [ 3.52829039e-01, -3.75830829e-02,  2.42743358e-01, ...,\n",
       "         6.32639006e-02, -1.95014365e-02, -1.69890914e-02],\n",
       "       [ 3.06626439e-01, -5.32018282e-02,  2.67663419e-01, ...,\n",
       "         6.12031110e-02, -3.33453119e-02, -1.11495182e-01],\n",
       "       [ 4.60291445e-01, -6.55382574e-02,  3.04630667e-01, ...,\n",
       "         1.91142410e-01,  4.70660515e-02, -1.06095001e-01]], dtype=float32)"
      ]
     },
     "execution_count": 97,
     "metadata": {},
     "output_type": "execute_result"
    }
   ],
   "source": [
    "n_testing_pred_tensor"
   ]
  },
  {
   "cell_type": "code",
   "execution_count": 98,
   "metadata": {},
   "outputs": [
    {
     "data": {
      "text/plain": [
       "(60, 200)"
      ]
     },
     "execution_count": 98,
     "metadata": {},
     "output_type": "execute_result"
    }
   ],
   "source": [
    "n_testing_pred_tensor.shape"
   ]
  },
  {
   "cell_type": "code",
   "execution_count": 99,
   "metadata": {},
   "outputs": [
    {
     "data": {
      "text/plain": [
       "<tf.Tensor: shape=(60, 1), dtype=float32, numpy=\n",
       "array([[0.2486037 ],\n",
       "       [0.24736254],\n",
       "       [0.54939806],\n",
       "       [0.12163337],\n",
       "       [0.2783294 ],\n",
       "       [0.46468908],\n",
       "       [0.20212238],\n",
       "       [0.35751522],\n",
       "       [0.21074842],\n",
       "       [0.31221297],\n",
       "       [0.75071365],\n",
       "       [0.15135907],\n",
       "       [0.31432295],\n",
       "       [0.37203673],\n",
       "       [0.18617351],\n",
       "       [0.2943403 ],\n",
       "       [0.27398536],\n",
       "       [0.07347648],\n",
       "       [0.16010922],\n",
       "       [0.07974432],\n",
       "       [0.27739853],\n",
       "       [0.2655455 ],\n",
       "       [0.11033884],\n",
       "       [0.21732655],\n",
       "       [0.1702867 ],\n",
       "       [0.68964875],\n",
       "       [0.30681396],\n",
       "       [0.21608539],\n",
       "       [0.22632493],\n",
       "       [0.43483928],\n",
       "       [0.33238178],\n",
       "       [0.37793222],\n",
       "       [0.27975672],\n",
       "       [0.6168549 ],\n",
       "       [0.4730669 ],\n",
       "       [0.13950601],\n",
       "       [0.48963633],\n",
       "       [0.35304704],\n",
       "       [0.20038477],\n",
       "       [0.64732534],\n",
       "       [0.28298375],\n",
       "       [0.16712175],\n",
       "       [0.4190766 ],\n",
       "       [0.11648256],\n",
       "       [0.30166316],\n",
       "       [0.2908651 ],\n",
       "       [0.12001986],\n",
       "       [0.21900211],\n",
       "       [0.23792975],\n",
       "       [0.33672583],\n",
       "       [0.40045923],\n",
       "       [0.25586447],\n",
       "       [0.2904307 ],\n",
       "       [0.23091722],\n",
       "       [0.42410326],\n",
       "       [0.45358074],\n",
       "       [0.18927641],\n",
       "       [0.41647014],\n",
       "       [0.46475115],\n",
       "       [0.68226385]], dtype=float32)>"
      ]
     },
     "execution_count": 99,
     "metadata": {},
     "output_type": "execute_result"
    }
   ],
   "source": [
    "n_testing_output_tensor"
   ]
  },
  {
   "cell_type": "markdown",
   "metadata": {},
   "source": [
    "# We modified the SimpleRNN to specify (1) the number of hidden units is 24, and (2) the final activation function is `relu`."
   ]
  },
  {
   "cell_type": "code",
   "execution_count": 100,
   "metadata": {},
   "outputs": [],
   "source": [
    "model4 = tf.keras.Sequential( [ \\\n",
    "                             tf.keras.layers.SimpleRNN(units=24, activation='relu'), \\\n",
    "                              ])"
   ]
  },
  {
   "cell_type": "markdown",
   "metadata": {},
   "source": [
    "### Similar to Part E, the loss function is MeanSquredError because the output is a number, not a category (like hand written chracter recognition problem in Lab 9)."
   ]
  },
  {
   "cell_type": "code",
   "execution_count": 101,
   "metadata": {},
   "outputs": [],
   "source": [
    "model4.compile(optimizer='sgd', loss=tf.keras.losses.MeanSquaredError())"
   ]
  },
  {
   "cell_type": "markdown",
   "metadata": {},
   "source": [
    "# Exercise 7 (10 points) Complete the code below to increase the epoch to 100."
   ]
  },
  {
   "cell_type": "code",
   "execution_count": 102,
   "metadata": {},
   "outputs": [
    {
     "name": "stdout",
     "output_type": "stream",
     "text": [
      "Epoch 1/100\n",
      "3/3 [==============================] - 1s 142ms/step - loss: 0.1174 - val_loss: 0.0922\n",
      "Epoch 2/100\n",
      "3/3 [==============================] - 0s 45ms/step - loss: 0.1171 - val_loss: 0.0919\n",
      "Epoch 3/100\n",
      "3/3 [==============================] - 0s 47ms/step - loss: 0.1168 - val_loss: 0.0917\n",
      "Epoch 4/100\n",
      "3/3 [==============================] - 0s 46ms/step - loss: 0.1165 - val_loss: 0.0914\n",
      "Epoch 5/100\n",
      "3/3 [==============================] - 0s 45ms/step - loss: 0.1162 - val_loss: 0.0912\n",
      "Epoch 6/100\n",
      "3/3 [==============================] - 0s 45ms/step - loss: 0.1159 - val_loss: 0.0909\n",
      "Epoch 7/100\n",
      "3/3 [==============================] - 0s 46ms/step - loss: 0.1156 - val_loss: 0.0907\n",
      "Epoch 8/100\n",
      "3/3 [==============================] - 0s 45ms/step - loss: 0.1153 - val_loss: 0.0904\n",
      "Epoch 9/100\n",
      "3/3 [==============================] - 0s 44ms/step - loss: 0.1150 - val_loss: 0.0902\n",
      "Epoch 10/100\n",
      "3/3 [==============================] - 0s 45ms/step - loss: 0.1147 - val_loss: 0.0899\n",
      "Epoch 11/100\n",
      "3/3 [==============================] - 0s 45ms/step - loss: 0.1144 - val_loss: 0.0897\n",
      "Epoch 12/100\n",
      "3/3 [==============================] - 0s 46ms/step - loss: 0.1140 - val_loss: 0.0894\n",
      "Epoch 13/100\n",
      "3/3 [==============================] - 0s 45ms/step - loss: 0.1137 - val_loss: 0.0891\n",
      "Epoch 14/100\n",
      "3/3 [==============================] - 0s 45ms/step - loss: 0.1134 - val_loss: 0.0888\n",
      "Epoch 15/100\n",
      "3/3 [==============================] - 0s 46ms/step - loss: 0.1130 - val_loss: 0.0885\n",
      "Epoch 16/100\n",
      "3/3 [==============================] - 0s 46ms/step - loss: 0.1127 - val_loss: 0.0882\n",
      "Epoch 17/100\n",
      "3/3 [==============================] - 0s 45ms/step - loss: 0.1123 - val_loss: 0.0879\n",
      "Epoch 18/100\n",
      "3/3 [==============================] - 0s 47ms/step - loss: 0.1119 - val_loss: 0.0875\n",
      "Epoch 19/100\n",
      "3/3 [==============================] - 0s 46ms/step - loss: 0.1114 - val_loss: 0.0871\n",
      "Epoch 20/100\n",
      "3/3 [==============================] - 0s 47ms/step - loss: 0.1110 - val_loss: 0.0866\n",
      "Epoch 21/100\n",
      "3/3 [==============================] - 0s 46ms/step - loss: 0.1104 - val_loss: 0.0861\n",
      "Epoch 22/100\n",
      "3/3 [==============================] - 0s 46ms/step - loss: 0.1098 - val_loss: 0.0855\n",
      "Epoch 23/100\n",
      "3/3 [==============================] - 0s 46ms/step - loss: 0.1091 - val_loss: 0.0849\n",
      "Epoch 24/100\n",
      "3/3 [==============================] - 0s 47ms/step - loss: 0.1083 - val_loss: 0.0843\n",
      "Epoch 25/100\n",
      "3/3 [==============================] - 0s 46ms/step - loss: 0.1075 - val_loss: 0.0837\n",
      "Epoch 26/100\n",
      "3/3 [==============================] - 0s 45ms/step - loss: 0.1067 - val_loss: 0.0830\n",
      "Epoch 27/100\n",
      "3/3 [==============================] - 0s 48ms/step - loss: 0.1059 - val_loss: 0.0824\n",
      "Epoch 28/100\n",
      "3/3 [==============================] - 0s 46ms/step - loss: 0.1051 - val_loss: 0.0818\n",
      "Epoch 29/100\n",
      "3/3 [==============================] - 0s 46ms/step - loss: 0.1043 - val_loss: 0.0811\n",
      "Epoch 30/100\n",
      "3/3 [==============================] - 0s 48ms/step - loss: 0.1035 - val_loss: 0.0805\n",
      "Epoch 31/100\n",
      "3/3 [==============================] - 0s 46ms/step - loss: 0.1027 - val_loss: 0.0799\n",
      "Epoch 32/100\n",
      "3/3 [==============================] - 0s 46ms/step - loss: 0.1019 - val_loss: 0.0793\n",
      "Epoch 33/100\n",
      "3/3 [==============================] - 0s 45ms/step - loss: 0.1011 - val_loss: 0.0786\n",
      "Epoch 34/100\n",
      "3/3 [==============================] - 0s 46ms/step - loss: 0.1002 - val_loss: 0.0780\n",
      "Epoch 35/100\n",
      "3/3 [==============================] - 0s 48ms/step - loss: 0.0993 - val_loss: 0.0773\n",
      "Epoch 36/100\n",
      "3/3 [==============================] - 0s 47ms/step - loss: 0.0984 - val_loss: 0.0766\n",
      "Epoch 37/100\n",
      "3/3 [==============================] - 0s 45ms/step - loss: 0.0974 - val_loss: 0.0759\n",
      "Epoch 38/100\n",
      "3/3 [==============================] - 0s 49ms/step - loss: 0.0965 - val_loss: 0.0752\n",
      "Epoch 39/100\n",
      "3/3 [==============================] - 0s 46ms/step - loss: 0.0955 - val_loss: 0.0745\n",
      "Epoch 40/100\n",
      "3/3 [==============================] - 0s 50ms/step - loss: 0.0945 - val_loss: 0.0738\n",
      "Epoch 41/100\n",
      "3/3 [==============================] - 0s 45ms/step - loss: 0.0935 - val_loss: 0.0731\n",
      "Epoch 42/100\n",
      "3/3 [==============================] - 0s 45ms/step - loss: 0.0925 - val_loss: 0.0725\n",
      "Epoch 43/100\n",
      "3/3 [==============================] - 0s 45ms/step - loss: 0.0917 - val_loss: 0.0719\n",
      "Epoch 44/100\n",
      "3/3 [==============================] - 0s 46ms/step - loss: 0.0908 - val_loss: 0.0714\n",
      "Epoch 45/100\n",
      "3/3 [==============================] - 0s 47ms/step - loss: 0.0900 - val_loss: 0.0709\n",
      "Epoch 46/100\n",
      "3/3 [==============================] - 0s 46ms/step - loss: 0.0892 - val_loss: 0.0704\n",
      "Epoch 47/100\n",
      "3/3 [==============================] - 0s 45ms/step - loss: 0.0885 - val_loss: 0.0700\n",
      "Epoch 48/100\n",
      "3/3 [==============================] - 0s 45ms/step - loss: 0.0878 - val_loss: 0.0696\n",
      "Epoch 49/100\n",
      "3/3 [==============================] - 0s 45ms/step - loss: 0.0872 - val_loss: 0.0692\n",
      "Epoch 50/100\n",
      "3/3 [==============================] - 0s 47ms/step - loss: 0.0867 - val_loss: 0.0689\n",
      "Epoch 51/100\n",
      "3/3 [==============================] - 0s 46ms/step - loss: 0.0862 - val_loss: 0.0686\n",
      "Epoch 52/100\n",
      "3/3 [==============================] - 0s 46ms/step - loss: 0.0857 - val_loss: 0.0684\n",
      "Epoch 53/100\n",
      "3/3 [==============================] - 0s 45ms/step - loss: 0.0853 - val_loss: 0.0681\n",
      "Epoch 54/100\n",
      "3/3 [==============================] - 0s 45ms/step - loss: 0.0849 - val_loss: 0.0678\n",
      "Epoch 55/100\n",
      "3/3 [==============================] - 0s 47ms/step - loss: 0.0845 - val_loss: 0.0676\n",
      "Epoch 56/100\n",
      "3/3 [==============================] - 0s 46ms/step - loss: 0.0841 - val_loss: 0.0673\n",
      "Epoch 57/100\n",
      "3/3 [==============================] - 0s 45ms/step - loss: 0.0838 - val_loss: 0.0671\n",
      "Epoch 58/100\n",
      "3/3 [==============================] - 0s 46ms/step - loss: 0.0835 - val_loss: 0.0669\n",
      "Epoch 59/100\n",
      "3/3 [==============================] - 0s 45ms/step - loss: 0.0831 - val_loss: 0.0667\n",
      "Epoch 60/100\n",
      "3/3 [==============================] - 0s 45ms/step - loss: 0.0828 - val_loss: 0.0664\n",
      "Epoch 61/100\n",
      "3/3 [==============================] - 0s 46ms/step - loss: 0.0825 - val_loss: 0.0662\n",
      "Epoch 62/100\n",
      "3/3 [==============================] - 0s 47ms/step - loss: 0.0822 - val_loss: 0.0659\n",
      "Epoch 63/100\n",
      "3/3 [==============================] - 0s 45ms/step - loss: 0.0819 - val_loss: 0.0656\n",
      "Epoch 64/100\n",
      "3/3 [==============================] - 0s 46ms/step - loss: 0.0815 - val_loss: 0.0654\n",
      "Epoch 65/100\n",
      "3/3 [==============================] - 0s 45ms/step - loss: 0.0812 - val_loss: 0.0652\n",
      "Epoch 66/100\n",
      "3/3 [==============================] - 0s 45ms/step - loss: 0.0809 - val_loss: 0.0649\n",
      "Epoch 67/100\n",
      "3/3 [==============================] - 0s 45ms/step - loss: 0.0806 - val_loss: 0.0646\n",
      "Epoch 68/100\n",
      "3/3 [==============================] - 0s 46ms/step - loss: 0.0802 - val_loss: 0.0643\n",
      "Epoch 69/100\n",
      "3/3 [==============================] - 0s 46ms/step - loss: 0.0799 - val_loss: 0.0641\n",
      "Epoch 70/100\n",
      "3/3 [==============================] - 0s 46ms/step - loss: 0.0795 - val_loss: 0.0638\n",
      "Epoch 71/100\n",
      "3/3 [==============================] - 0s 46ms/step - loss: 0.0791 - val_loss: 0.0635\n",
      "Epoch 72/100\n",
      "3/3 [==============================] - 0s 47ms/step - loss: 0.0788 - val_loss: 0.0632\n",
      "Epoch 73/100\n",
      "3/3 [==============================] - 0s 46ms/step - loss: 0.0783 - val_loss: 0.0629\n",
      "Epoch 74/100\n",
      "3/3 [==============================] - 0s 45ms/step - loss: 0.0780 - val_loss: 0.0626\n",
      "Epoch 75/100\n",
      "3/3 [==============================] - 0s 45ms/step - loss: 0.0776 - val_loss: 0.0623\n",
      "Epoch 76/100\n",
      "3/3 [==============================] - 0s 45ms/step - loss: 0.0773 - val_loss: 0.0621\n",
      "Epoch 77/100\n",
      "3/3 [==============================] - 0s 45ms/step - loss: 0.0769 - val_loss: 0.0619\n",
      "Epoch 78/100\n",
      "3/3 [==============================] - 0s 46ms/step - loss: 0.0766 - val_loss: 0.0616\n",
      "Epoch 79/100\n",
      "3/3 [==============================] - 0s 45ms/step - loss: 0.0762 - val_loss: 0.0614\n",
      "Epoch 80/100\n",
      "3/3 [==============================] - 0s 46ms/step - loss: 0.0759 - val_loss: 0.0612\n",
      "Epoch 81/100\n",
      "3/3 [==============================] - 0s 45ms/step - loss: 0.0756 - val_loss: 0.0609\n",
      "Epoch 82/100\n",
      "3/3 [==============================] - 0s 46ms/step - loss: 0.0753 - val_loss: 0.0607\n",
      "Epoch 83/100\n",
      "3/3 [==============================] - 0s 45ms/step - loss: 0.0751 - val_loss: 0.0605\n",
      "Epoch 84/100\n",
      "3/3 [==============================] - 0s 45ms/step - loss: 0.0748 - val_loss: 0.0603\n",
      "Epoch 85/100\n",
      "3/3 [==============================] - 0s 45ms/step - loss: 0.0745 - val_loss: 0.0601\n",
      "Epoch 86/100\n",
      "3/3 [==============================] - 0s 46ms/step - loss: 0.0743 - val_loss: 0.0600\n",
      "Epoch 87/100\n",
      "3/3 [==============================] - 0s 46ms/step - loss: 0.0740 - val_loss: 0.0598\n",
      "Epoch 88/100\n",
      "3/3 [==============================] - 0s 45ms/step - loss: 0.0738 - val_loss: 0.0596\n",
      "Epoch 89/100\n",
      "3/3 [==============================] - 0s 45ms/step - loss: 0.0735 - val_loss: 0.0594\n",
      "Epoch 90/100\n",
      "3/3 [==============================] - 0s 45ms/step - loss: 0.0733 - val_loss: 0.0593\n",
      "Epoch 91/100\n",
      "3/3 [==============================] - 0s 45ms/step - loss: 0.0731 - val_loss: 0.0591\n",
      "Epoch 92/100\n",
      "3/3 [==============================] - 0s 45ms/step - loss: 0.0728 - val_loss: 0.0590\n",
      "Epoch 93/100\n",
      "3/3 [==============================] - 0s 47ms/step - loss: 0.0726 - val_loss: 0.0588\n",
      "Epoch 94/100\n",
      "3/3 [==============================] - 0s 46ms/step - loss: 0.0724 - val_loss: 0.0587\n",
      "Epoch 95/100\n",
      "3/3 [==============================] - 0s 46ms/step - loss: 0.0722 - val_loss: 0.0585\n",
      "Epoch 96/100\n",
      "3/3 [==============================] - 0s 45ms/step - loss: 0.0720 - val_loss: 0.0583\n",
      "Epoch 97/100\n",
      "3/3 [==============================] - 0s 46ms/step - loss: 0.0718 - val_loss: 0.0582\n",
      "Epoch 98/100\n",
      "3/3 [==============================] - 0s 45ms/step - loss: 0.0716 - val_loss: 0.0581\n",
      "Epoch 99/100\n",
      "3/3 [==============================] - 0s 45ms/step - loss: 0.0714 - val_loss: 0.0580\n",
      "Epoch 100/100\n",
      "3/3 [==============================] - 0s 46ms/step - loss: 0.0712 - val_loss: 0.0578\n"
     ]
    },
    {
     "data": {
      "text/plain": [
       "<keras.callbacks.History at 0x2af480492f70>"
      ]
     },
     "execution_count": 102,
     "metadata": {},
     "output_type": "execute_result"
    }
   ],
   "source": [
    "model4.fit(n_training_input_tensor, n_training_output_tensor, batch_size=256, epochs=100, verbose=1, \\\n",
    "           validation_data = (n_testing_input_tensor, n_testing_output_tensor) )"
   ]
  },
  {
   "cell_type": "markdown",
   "metadata": {},
   "source": [
    "# Exercise 8 Complete the code below to specify 24 hidden units in simple RNN, 8 nodes in the next layer, and 1 node in the final layer. (10 points)"
   ]
  },
  {
   "cell_type": "code",
   "execution_count": 103,
   "metadata": {},
   "outputs": [],
   "source": [
    "model5 = tf.keras.Sequential( [ \\\n",
    "                             tf.keras.layers.SimpleRNN(units=24, activation='relu'), \\\n",
    "                               tf.keras.layers.Dense(8, activation='relu'), \\\n",
    "                               tf.keras.layers.Dense(1, activation='relu'), \\\n",
    "                              ])"
   ]
  },
  {
   "cell_type": "code",
   "execution_count": 104,
   "metadata": {},
   "outputs": [],
   "source": [
    "model5.compile(optimizer='sgd', loss=tf.keras.losses.MeanSquaredError())"
   ]
  },
  {
   "cell_type": "code",
   "execution_count": 105,
   "metadata": {},
   "outputs": [
    {
     "name": "stdout",
     "output_type": "stream",
     "text": [
      "Epoch 1/100\n",
      "1/1 [==============================] - 1s 1s/step - loss: 0.0312 - val_loss: 0.0207\n",
      "Epoch 2/100\n",
      "1/1 [==============================] - 0s 68ms/step - loss: 0.0261 - val_loss: 0.0172\n",
      "Epoch 3/100\n",
      "1/1 [==============================] - 0s 73ms/step - loss: 0.0220 - val_loss: 0.0144\n",
      "Epoch 4/100\n",
      "1/1 [==============================] - 0s 71ms/step - loss: 0.0186 - val_loss: 0.0122\n",
      "Epoch 5/100\n",
      "1/1 [==============================] - 0s 79ms/step - loss: 0.0158 - val_loss: 0.0105\n",
      "Epoch 6/100\n",
      "1/1 [==============================] - 0s 72ms/step - loss: 0.0136 - val_loss: 0.0091\n",
      "Epoch 7/100\n",
      "1/1 [==============================] - 0s 73ms/step - loss: 0.0117 - val_loss: 0.0080\n",
      "Epoch 8/100\n",
      "1/1 [==============================] - 0s 73ms/step - loss: 0.0102 - val_loss: 0.0071\n",
      "Epoch 9/100\n",
      "1/1 [==============================] - 0s 70ms/step - loss: 0.0090 - val_loss: 0.0064\n",
      "Epoch 10/100\n",
      "1/1 [==============================] - 0s 77ms/step - loss: 0.0080 - val_loss: 0.0058\n",
      "Epoch 11/100\n",
      "1/1 [==============================] - 0s 74ms/step - loss: 0.0072 - val_loss: 0.0054\n",
      "Epoch 12/100\n",
      "1/1 [==============================] - 0s 74ms/step - loss: 0.0065 - val_loss: 0.0051\n",
      "Epoch 13/100\n",
      "1/1 [==============================] - 0s 75ms/step - loss: 0.0059 - val_loss: 0.0048\n",
      "Epoch 14/100\n",
      "1/1 [==============================] - 0s 75ms/step - loss: 0.0055 - val_loss: 0.0046\n",
      "Epoch 15/100\n",
      "1/1 [==============================] - 0s 69ms/step - loss: 0.0051 - val_loss: 0.0045\n",
      "Epoch 16/100\n",
      "1/1 [==============================] - 0s 74ms/step - loss: 0.0048 - val_loss: 0.0043\n",
      "Epoch 17/100\n",
      "1/1 [==============================] - 0s 70ms/step - loss: 0.0046 - val_loss: 0.0042\n",
      "Epoch 18/100\n",
      "1/1 [==============================] - 0s 68ms/step - loss: 0.0044 - val_loss: 0.0042\n",
      "Epoch 19/100\n",
      "1/1 [==============================] - 0s 69ms/step - loss: 0.0042 - val_loss: 0.0041\n",
      "Epoch 20/100\n",
      "1/1 [==============================] - 0s 69ms/step - loss: 0.0041 - val_loss: 0.0041\n",
      "Epoch 21/100\n",
      "1/1 [==============================] - 0s 72ms/step - loss: 0.0039 - val_loss: 0.0040\n",
      "Epoch 22/100\n",
      "1/1 [==============================] - 0s 68ms/step - loss: 0.0038 - val_loss: 0.0040\n",
      "Epoch 23/100\n",
      "1/1 [==============================] - 0s 68ms/step - loss: 0.0037 - val_loss: 0.0039\n",
      "Epoch 24/100\n",
      "1/1 [==============================] - 0s 77ms/step - loss: 0.0037 - val_loss: 0.0039\n",
      "Epoch 25/100\n",
      "1/1 [==============================] - 0s 71ms/step - loss: 0.0036 - val_loss: 0.0039\n",
      "Epoch 26/100\n",
      "1/1 [==============================] - 0s 69ms/step - loss: 0.0035 - val_loss: 0.0039\n",
      "Epoch 27/100\n",
      "1/1 [==============================] - 0s 71ms/step - loss: 0.0035 - val_loss: 0.0038\n",
      "Epoch 28/100\n",
      "1/1 [==============================] - 0s 73ms/step - loss: 0.0034 - val_loss: 0.0038\n",
      "Epoch 29/100\n",
      "1/1 [==============================] - 0s 69ms/step - loss: 0.0034 - val_loss: 0.0038\n",
      "Epoch 30/100\n",
      "1/1 [==============================] - 0s 69ms/step - loss: 0.0033 - val_loss: 0.0037\n",
      "Epoch 31/100\n",
      "1/1 [==============================] - 0s 69ms/step - loss: 0.0033 - val_loss: 0.0037\n",
      "Epoch 32/100\n",
      "1/1 [==============================] - 0s 77ms/step - loss: 0.0032 - val_loss: 0.0037\n",
      "Epoch 33/100\n",
      "1/1 [==============================] - 0s 74ms/step - loss: 0.0032 - val_loss: 0.0036\n",
      "Epoch 34/100\n",
      "1/1 [==============================] - 0s 69ms/step - loss: 0.0031 - val_loss: 0.0036\n",
      "Epoch 35/100\n",
      "1/1 [==============================] - 0s 74ms/step - loss: 0.0031 - val_loss: 0.0036\n",
      "Epoch 36/100\n",
      "1/1 [==============================] - 0s 71ms/step - loss: 0.0030 - val_loss: 0.0035\n",
      "Epoch 37/100\n",
      "1/1 [==============================] - 0s 71ms/step - loss: 0.0030 - val_loss: 0.0035\n",
      "Epoch 38/100\n",
      "1/1 [==============================] - 0s 71ms/step - loss: 0.0030 - val_loss: 0.0034\n",
      "Epoch 39/100\n",
      "1/1 [==============================] - 0s 70ms/step - loss: 0.0029 - val_loss: 0.0034\n",
      "Epoch 40/100\n",
      "1/1 [==============================] - 0s 75ms/step - loss: 0.0029 - val_loss: 0.0034\n",
      "Epoch 41/100\n",
      "1/1 [==============================] - 0s 74ms/step - loss: 0.0029 - val_loss: 0.0034\n",
      "Epoch 42/100\n",
      "1/1 [==============================] - 0s 74ms/step - loss: 0.0029 - val_loss: 0.0033\n",
      "Epoch 43/100\n",
      "1/1 [==============================] - 0s 75ms/step - loss: 0.0028 - val_loss: 0.0033\n",
      "Epoch 44/100\n",
      "1/1 [==============================] - 0s 75ms/step - loss: 0.0028 - val_loss: 0.0033\n",
      "Epoch 45/100\n",
      "1/1 [==============================] - 0s 71ms/step - loss: 0.0028 - val_loss: 0.0033\n",
      "Epoch 46/100\n",
      "1/1 [==============================] - 0s 70ms/step - loss: 0.0028 - val_loss: 0.0032\n",
      "Epoch 47/100\n",
      "1/1 [==============================] - 0s 70ms/step - loss: 0.0027 - val_loss: 0.0032\n",
      "Epoch 48/100\n",
      "1/1 [==============================] - 0s 70ms/step - loss: 0.0027 - val_loss: 0.0032\n",
      "Epoch 49/100\n",
      "1/1 [==============================] - 0s 74ms/step - loss: 0.0027 - val_loss: 0.0032\n",
      "Epoch 50/100\n",
      "1/1 [==============================] - 0s 70ms/step - loss: 0.0027 - val_loss: 0.0031\n",
      "Epoch 51/100\n",
      "1/1 [==============================] - 0s 70ms/step - loss: 0.0027 - val_loss: 0.0031\n",
      "Epoch 52/100\n",
      "1/1 [==============================] - 0s 70ms/step - loss: 0.0026 - val_loss: 0.0031\n",
      "Epoch 53/100\n",
      "1/1 [==============================] - 0s 71ms/step - loss: 0.0026 - val_loss: 0.0031\n",
      "Epoch 54/100\n",
      "1/1 [==============================] - 0s 69ms/step - loss: 0.0026 - val_loss: 0.0031\n",
      "Epoch 55/100\n",
      "1/1 [==============================] - 0s 69ms/step - loss: 0.0026 - val_loss: 0.0031\n",
      "Epoch 56/100\n",
      "1/1 [==============================] - 0s 70ms/step - loss: 0.0026 - val_loss: 0.0031\n",
      "Epoch 57/100\n",
      "1/1 [==============================] - 0s 75ms/step - loss: 0.0026 - val_loss: 0.0030\n",
      "Epoch 58/100\n",
      "1/1 [==============================] - 0s 76ms/step - loss: 0.0026 - val_loss: 0.0030\n",
      "Epoch 59/100\n",
      "1/1 [==============================] - 0s 74ms/step - loss: 0.0025 - val_loss: 0.0030\n",
      "Epoch 60/100\n",
      "1/1 [==============================] - 0s 71ms/step - loss: 0.0025 - val_loss: 0.0030\n",
      "Epoch 61/100\n",
      "1/1 [==============================] - 0s 76ms/step - loss: 0.0025 - val_loss: 0.0030\n",
      "Epoch 62/100\n",
      "1/1 [==============================] - 0s 75ms/step - loss: 0.0025 - val_loss: 0.0030\n",
      "Epoch 63/100\n",
      "1/1 [==============================] - 0s 71ms/step - loss: 0.0025 - val_loss: 0.0030\n",
      "Epoch 64/100\n",
      "1/1 [==============================] - 0s 70ms/step - loss: 0.0025 - val_loss: 0.0030\n",
      "Epoch 65/100\n",
      "1/1 [==============================] - 0s 71ms/step - loss: 0.0025 - val_loss: 0.0030\n",
      "Epoch 66/100\n",
      "1/1 [==============================] - 0s 76ms/step - loss: 0.0025 - val_loss: 0.0030\n",
      "Epoch 67/100\n",
      "1/1 [==============================] - 0s 72ms/step - loss: 0.0025 - val_loss: 0.0030\n",
      "Epoch 68/100\n",
      "1/1 [==============================] - 0s 75ms/step - loss: 0.0024 - val_loss: 0.0029\n",
      "Epoch 69/100\n",
      "1/1 [==============================] - 0s 71ms/step - loss: 0.0024 - val_loss: 0.0029\n",
      "Epoch 70/100\n",
      "1/1 [==============================] - 0s 73ms/step - loss: 0.0024 - val_loss: 0.0029\n",
      "Epoch 71/100\n",
      "1/1 [==============================] - 0s 79ms/step - loss: 0.0024 - val_loss: 0.0029\n",
      "Epoch 72/100\n",
      "1/1 [==============================] - 0s 70ms/step - loss: 0.0024 - val_loss: 0.0029\n",
      "Epoch 73/100\n",
      "1/1 [==============================] - 0s 75ms/step - loss: 0.0024 - val_loss: 0.0029\n",
      "Epoch 74/100\n",
      "1/1 [==============================] - 0s 77ms/step - loss: 0.0024 - val_loss: 0.0029\n",
      "Epoch 75/100\n",
      "1/1 [==============================] - 0s 75ms/step - loss: 0.0024 - val_loss: 0.0029\n",
      "Epoch 76/100\n",
      "1/1 [==============================] - 0s 69ms/step - loss: 0.0024 - val_loss: 0.0029\n",
      "Epoch 77/100\n",
      "1/1 [==============================] - 0s 73ms/step - loss: 0.0024 - val_loss: 0.0029\n",
      "Epoch 78/100\n",
      "1/1 [==============================] - 0s 68ms/step - loss: 0.0024 - val_loss: 0.0029\n",
      "Epoch 79/100\n",
      "1/1 [==============================] - 0s 75ms/step - loss: 0.0023 - val_loss: 0.0028\n",
      "Epoch 80/100\n",
      "1/1 [==============================] - 0s 70ms/step - loss: 0.0023 - val_loss: 0.0028\n",
      "Epoch 81/100\n",
      "1/1 [==============================] - 0s 70ms/step - loss: 0.0023 - val_loss: 0.0028\n",
      "Epoch 82/100\n",
      "1/1 [==============================] - 0s 74ms/step - loss: 0.0023 - val_loss: 0.0028\n",
      "Epoch 83/100\n",
      "1/1 [==============================] - 0s 75ms/step - loss: 0.0023 - val_loss: 0.0028\n",
      "Epoch 84/100\n",
      "1/1 [==============================] - 0s 72ms/step - loss: 0.0023 - val_loss: 0.0028\n",
      "Epoch 85/100\n",
      "1/1 [==============================] - 0s 76ms/step - loss: 0.0023 - val_loss: 0.0028\n",
      "Epoch 86/100\n",
      "1/1 [==============================] - 0s 71ms/step - loss: 0.0023 - val_loss: 0.0028\n",
      "Epoch 87/100\n",
      "1/1 [==============================] - 0s 76ms/step - loss: 0.0023 - val_loss: 0.0028\n",
      "Epoch 88/100\n",
      "1/1 [==============================] - 0s 75ms/step - loss: 0.0023 - val_loss: 0.0028\n",
      "Epoch 89/100\n",
      "1/1 [==============================] - 0s 74ms/step - loss: 0.0023 - val_loss: 0.0028\n",
      "Epoch 90/100\n",
      "1/1 [==============================] - 0s 70ms/step - loss: 0.0023 - val_loss: 0.0028\n",
      "Epoch 91/100\n",
      "1/1 [==============================] - 0s 75ms/step - loss: 0.0023 - val_loss: 0.0028\n",
      "Epoch 92/100\n",
      "1/1 [==============================] - 0s 75ms/step - loss: 0.0023 - val_loss: 0.0027\n",
      "Epoch 93/100\n",
      "1/1 [==============================] - 0s 78ms/step - loss: 0.0022 - val_loss: 0.0027\n",
      "Epoch 94/100\n",
      "1/1 [==============================] - 0s 77ms/step - loss: 0.0022 - val_loss: 0.0027\n",
      "Epoch 95/100\n",
      "1/1 [==============================] - 0s 75ms/step - loss: 0.0022 - val_loss: 0.0027\n",
      "Epoch 96/100\n",
      "1/1 [==============================] - 0s 78ms/step - loss: 0.0022 - val_loss: 0.0027\n",
      "Epoch 97/100\n",
      "1/1 [==============================] - 0s 80ms/step - loss: 0.0022 - val_loss: 0.0027\n",
      "Epoch 98/100\n",
      "1/1 [==============================] - 0s 70ms/step - loss: 0.0022 - val_loss: 0.0027\n",
      "Epoch 99/100\n",
      "1/1 [==============================] - 0s 69ms/step - loss: 0.0022 - val_loss: 0.0027\n",
      "Epoch 100/100\n",
      "1/1 [==============================] - 0s 74ms/step - loss: 0.0022 - val_loss: 0.0027\n"
     ]
    },
    {
     "data": {
      "text/plain": [
       "<keras.callbacks.History at 0x2af48063d5b0>"
      ]
     },
     "execution_count": 105,
     "metadata": {},
     "output_type": "execute_result"
    }
   ],
   "source": [
    "model5.fit(n_training_input_tensor, n_training_output_tensor, batch_size=543, epochs=100, verbose=1, \\\n",
    "           validation_data = (n_testing_input_tensor, n_testing_output_tensor) )"
   ]
  },
  {
   "cell_type": "code",
   "execution_count": null,
   "metadata": {},
   "outputs": [],
   "source": []
  },
  {
   "cell_type": "markdown",
   "metadata": {},
   "source": [
    "# Part H Apply RNN+DNN Model to predict 300 hours"
   ]
  },
  {
   "cell_type": "markdown",
   "metadata": {},
   "source": [
    "# We will create consecutive sliding windows to simulate how well the model can predict in the real world."
   ]
  },
  {
   "cell_type": "markdown",
   "metadata": {},
   "source": [
    "# We want to use 1 year of hourly data to train a model that predicts next hour's energy consumption from previous 200 hours."
   ]
  },
  {
   "cell_type": "code",
   "execution_count": 106,
   "metadata": {},
   "outputs": [],
   "source": [
    "total_data_size = len(norm_AEP_tsd_list)"
   ]
  },
  {
   "cell_type": "code",
   "execution_count": 107,
   "metadata": {},
   "outputs": [
    {
     "name": "stdout",
     "output_type": "stream",
     "text": [
      "121273\n"
     ]
    }
   ],
   "source": [
    "print(total_data_size)"
   ]
  },
  {
   "cell_type": "markdown",
   "metadata": {},
   "source": [
    "### 1 Year has 365*24 = 8760 hours\n",
    "### Testing_size: 200 input hours + 300 hours prediction= 500 hours\n",
    "### Total size: 9260"
   ]
  },
  {
   "cell_type": "code",
   "execution_count": 108,
   "metadata": {},
   "outputs": [],
   "source": [
    "testing_size = 500\n",
    "training_size = 365*24"
   ]
  },
  {
   "cell_type": "code",
   "execution_count": 109,
   "metadata": {},
   "outputs": [],
   "source": [
    "data_size = training_size+testing_size"
   ]
  },
  {
   "cell_type": "code",
   "execution_count": 110,
   "metadata": {},
   "outputs": [
    {
     "name": "stdout",
     "output_type": "stream",
     "text": [
      "9260\n"
     ]
    }
   ],
   "source": [
    "print(data_size)"
   ]
  },
  {
   "cell_type": "code",
   "execution_count": 111,
   "metadata": {},
   "outputs": [],
   "source": [
    "begin_index_data = total_data_size - data_size"
   ]
  },
  {
   "cell_type": "code",
   "execution_count": 112,
   "metadata": {},
   "outputs": [],
   "source": [
    "n_data = norm_AEP_tsd_list[begin_index_data:]"
   ]
  },
  {
   "cell_type": "code",
   "execution_count": 113,
   "metadata": {},
   "outputs": [
    {
     "data": {
      "text/plain": [
       "9260"
      ]
     },
     "execution_count": 113,
     "metadata": {},
     "output_type": "execute_result"
    }
   ],
   "source": [
    "len(n_data)"
   ]
  },
  {
   "cell_type": "code",
   "execution_count": 114,
   "metadata": {},
   "outputs": [
    {
     "data": {
      "text/plain": [
       "9260"
      ]
     },
     "execution_count": 114,
     "metadata": {},
     "output_type": "execute_result"
    }
   ],
   "source": [
    "data_size"
   ]
  },
  {
   "cell_type": "code",
   "execution_count": 115,
   "metadata": {},
   "outputs": [],
   "source": [
    "n_train= n_data[:training_size]"
   ]
  },
  {
   "cell_type": "code",
   "execution_count": 116,
   "metadata": {},
   "outputs": [],
   "source": [
    "train_size=len(n_train)"
   ]
  },
  {
   "cell_type": "code",
   "execution_count": 117,
   "metadata": {},
   "outputs": [
    {
     "name": "stdout",
     "output_type": "stream",
     "text": [
      "8760\n"
     ]
    }
   ],
   "source": [
    "print(train_size)"
   ]
  },
  {
   "cell_type": "code",
   "execution_count": 118,
   "metadata": {},
   "outputs": [],
   "source": [
    "n_test = n_data[training_size:]"
   ]
  },
  {
   "cell_type": "code",
   "execution_count": 119,
   "metadata": {},
   "outputs": [
    {
     "data": {
      "text/plain": [
       "500"
      ]
     },
     "execution_count": 119,
     "metadata": {},
     "output_type": "execute_result"
    }
   ],
   "source": [
    "len(n_test)"
   ]
  },
  {
   "cell_type": "code",
   "execution_count": 120,
   "metadata": {},
   "outputs": [],
   "source": [
    "n_training_input2= list()"
   ]
  },
  {
   "cell_type": "code",
   "execution_count": 121,
   "metadata": {},
   "outputs": [],
   "source": [
    "n_training_input2.append(remaining_tsd[0:5])"
   ]
  },
  {
   "cell_type": "code",
   "execution_count": 122,
   "metadata": {},
   "outputs": [
    {
     "data": {
      "text/plain": [
       "[[0.703487650490257,\n",
       "  0.7415911629638824,\n",
       "  0.7945885565346903,\n",
       "  0.8177981879111331,\n",
       "  0.809420379793968]]"
      ]
     },
     "execution_count": 122,
     "metadata": {},
     "output_type": "execute_result"
    }
   ],
   "source": [
    "n_training_input2"
   ]
  },
  {
   "cell_type": "code",
   "execution_count": 123,
   "metadata": {},
   "outputs": [],
   "source": [
    "# Divide the normalized n_train into length of 201, using 200 hourly data to predict the next hourly energy consumption\n",
    "# NOTE: We create input training instances using sliding window of 1 time unit (1 hour).\n",
    "n_training_input2 = list()\n",
    "n_training_output2 = list()\n",
    "input_length =200\n",
    "output_time = 1\n",
    "total_length = input_length + output_time\n",
    "remaining_tsd2 = n_train\n",
    "index = 0\n",
    "for i in range(0, train_size, 1):\n",
    "    remaining_tsd = remaining_tsd2\n",
    "    begin = 0 \n",
    "    input_end = begin + input_length\n",
    "    output_end = input_end + output_time\n",
    "    if len(remaining_tsd) >= total_length:\n",
    "        input_list = remaining_tsd[0:input_length]\n",
    "        n_training_input2.append(list(input_list))\n",
    "        output = remaining_tsd[output_end-1]\n",
    "        n_training_output2.append(output)\n",
    "        remaining_tsd2 = remaining_tsd[1:]"
   ]
  },
  {
   "cell_type": "markdown",
   "metadata": {},
   "source": [
    "# Convert the input data (in list) into array of the correct shape."
   ]
  },
  {
   "cell_type": "code",
   "execution_count": 124,
   "metadata": {},
   "outputs": [],
   "source": [
    "n_training_input2_array = np.array(n_training_input2)"
   ]
  },
  {
   "cell_type": "code",
   "execution_count": 125,
   "metadata": {},
   "outputs": [
    {
     "data": {
      "text/plain": [
       "(8560, 200)"
      ]
     },
     "execution_count": 125,
     "metadata": {},
     "output_type": "execute_result"
    }
   ],
   "source": [
    "n_training_input2_array.shape"
   ]
  },
  {
   "cell_type": "code",
   "execution_count": 126,
   "metadata": {},
   "outputs": [],
   "source": [
    "n_training_input2_array2= np.reshape(n_training_input2_array, [8560, 200, 1])"
   ]
  },
  {
   "cell_type": "code",
   "execution_count": 127,
   "metadata": {},
   "outputs": [
    {
     "data": {
      "text/plain": [
       "(8560, 200, 1)"
      ]
     },
     "execution_count": 127,
     "metadata": {},
     "output_type": "execute_result"
    }
   ],
   "source": [
    "n_training_input2_array2.shape"
   ]
  },
  {
   "cell_type": "markdown",
   "metadata": {},
   "source": [
    "## Similarly, we convert the output list for training output to numpy array."
   ]
  },
  {
   "cell_type": "code",
   "execution_count": 128,
   "metadata": {},
   "outputs": [],
   "source": [
    "n_training_output2_array = np.array(n_training_output2) "
   ]
  },
  {
   "cell_type": "code",
   "execution_count": 129,
   "metadata": {},
   "outputs": [
    {
     "data": {
      "text/plain": [
       "(8560,)"
      ]
     },
     "execution_count": 129,
     "metadata": {},
     "output_type": "execute_result"
    }
   ],
   "source": [
    "n_training_output2_array.shape"
   ]
  },
  {
   "cell_type": "code",
   "execution_count": 130,
   "metadata": {},
   "outputs": [],
   "source": [
    "n_training_output2_array2= np.reshape(n_training_output2_array, [8560, 1])"
   ]
  },
  {
   "cell_type": "code",
   "execution_count": 131,
   "metadata": {},
   "outputs": [
    {
     "data": {
      "text/plain": [
       "(8560, 1)"
      ]
     },
     "execution_count": 131,
     "metadata": {},
     "output_type": "execute_result"
    }
   ],
   "source": [
    "n_training_output2_array2.shape"
   ]
  },
  {
   "cell_type": "code",
   "execution_count": 132,
   "metadata": {},
   "outputs": [],
   "source": [
    "# Divide the normalized testing of 200+ 300 into length of 201, using 200 hourly data to predict the next hourly energy consumption\n",
    "# NOTE: We create input training instances using sliding window of 1 time unit (1 hour).\n",
    "n_testing_input2 = list()\n",
    "n_testing_output2 = list()\n",
    "input_length =200\n",
    "output_time = 1\n",
    "total_length = input_length + output_time\n",
    "remaining_tsd2 = n_test\n",
    "index = 0\n",
    "for i in range(0, train_size, 1):\n",
    "    remaining_tsd = remaining_tsd2\n",
    "    begin = 0 \n",
    "    input_end = begin + input_length\n",
    "    output_end = input_end + output_time\n",
    "    if len(remaining_tsd) >= total_length:\n",
    "        input_list = remaining_tsd[0:input_length]\n",
    "        n_testing_input2.append(list(input_list))\n",
    "        output = remaining_tsd[output_end-1]\n",
    "        n_testing_output2.append(output)\n",
    "        remaining_tsd2 = remaining_tsd[1:]"
   ]
  },
  {
   "cell_type": "markdown",
   "metadata": {},
   "source": [
    "# Convert the output data (in list) into array of the correct shape."
   ]
  },
  {
   "cell_type": "code",
   "execution_count": 133,
   "metadata": {},
   "outputs": [],
   "source": [
    "n_testing_input2_array = np.array(n_testing_input2)"
   ]
  },
  {
   "cell_type": "code",
   "execution_count": 134,
   "metadata": {},
   "outputs": [
    {
     "data": {
      "text/plain": [
       "(300, 200)"
      ]
     },
     "execution_count": 134,
     "metadata": {},
     "output_type": "execute_result"
    }
   ],
   "source": [
    "n_testing_input2_array.shape"
   ]
  },
  {
   "cell_type": "code",
   "execution_count": 135,
   "metadata": {},
   "outputs": [],
   "source": [
    "n_testing_input2_array2= np.reshape(n_testing_input2_array, [300, 200, 1])"
   ]
  },
  {
   "cell_type": "code",
   "execution_count": 136,
   "metadata": {},
   "outputs": [
    {
     "data": {
      "text/plain": [
       "(300, 200, 1)"
      ]
     },
     "execution_count": 136,
     "metadata": {},
     "output_type": "execute_result"
    }
   ],
   "source": [
    "n_testing_input2_array2.shape"
   ]
  },
  {
   "cell_type": "markdown",
   "metadata": {},
   "source": [
    "## Similarly, we convert the output list for testing output to numpy array."
   ]
  },
  {
   "cell_type": "code",
   "execution_count": 137,
   "metadata": {},
   "outputs": [],
   "source": [
    "n_testing_output2_array = np.array(n_testing_output2) "
   ]
  },
  {
   "cell_type": "code",
   "execution_count": 138,
   "metadata": {},
   "outputs": [
    {
     "data": {
      "text/plain": [
       "(300,)"
      ]
     },
     "execution_count": 138,
     "metadata": {},
     "output_type": "execute_result"
    }
   ],
   "source": [
    "n_testing_output2_array.shape"
   ]
  },
  {
   "cell_type": "code",
   "execution_count": 139,
   "metadata": {},
   "outputs": [],
   "source": [
    "n_testing_output2_array2= np.reshape(n_testing_output2_array, [300, 1])"
   ]
  },
  {
   "cell_type": "code",
   "execution_count": 140,
   "metadata": {},
   "outputs": [
    {
     "data": {
      "text/plain": [
       "(300, 1)"
      ]
     },
     "execution_count": 140,
     "metadata": {},
     "output_type": "execute_result"
    }
   ],
   "source": [
    "n_testing_output2_array2.shape"
   ]
  },
  {
   "cell_type": "markdown",
   "metadata": {},
   "source": [
    "## Convert to tensor"
   ]
  },
  {
   "cell_type": "code",
   "execution_count": 141,
   "metadata": {},
   "outputs": [],
   "source": [
    "n_training_input2_tensor = tf.convert_to_tensor(n_training_input2_array2, dtype=tf.float32)"
   ]
  },
  {
   "cell_type": "code",
   "execution_count": 142,
   "metadata": {},
   "outputs": [],
   "source": [
    "n_training_output2_tensor = tf.convert_to_tensor(n_training_output2_array2, dtype=tf.float32)"
   ]
  },
  {
   "cell_type": "code",
   "execution_count": 143,
   "metadata": {},
   "outputs": [],
   "source": [
    "n_testing_input2_tensor = tf.convert_to_tensor(n_testing_input2_array2, dtype=tf.float32)"
   ]
  },
  {
   "cell_type": "code",
   "execution_count": 144,
   "metadata": {},
   "outputs": [],
   "source": [
    "n_testing_output2_tensor = tf.convert_to_tensor(n_testing_output2_array2, dtype=tf.float32)"
   ]
  },
  {
   "cell_type": "markdown",
   "metadata": {},
   "source": [
    "# Exercise 9 (10 points) Complete the code below for running the model for 100 epoch."
   ]
  },
  {
   "cell_type": "code",
   "execution_count": 145,
   "metadata": {},
   "outputs": [],
   "source": [
    "model7 = tf.keras.Sequential( [ \\\n",
    "                             tf.keras.layers.SimpleRNN(units=24, activation='relu'), \\\n",
    "                               tf.keras.layers.Dense(8, activation='relu'), \\\n",
    "                               tf.keras.layers.Dense(1, activation='relu'), \\\n",
    "                              ])"
   ]
  },
  {
   "cell_type": "code",
   "execution_count": 146,
   "metadata": {},
   "outputs": [],
   "source": [
    "model7.compile(optimizer='sgd', loss=tf.keras.losses.MeanSquaredError())"
   ]
  },
  {
   "cell_type": "code",
   "execution_count": 147,
   "metadata": {},
   "outputs": [
    {
     "name": "stdout",
     "output_type": "stream",
     "text": [
      "Epoch 1/100\n",
      "16/16 [==============================] - 2s 59ms/step - loss: 0.0720 - val_loss: 0.1909\n",
      "Epoch 2/100\n",
      "16/16 [==============================] - 1s 47ms/step - loss: 0.0402 - val_loss: 0.1391\n",
      "Epoch 3/100\n",
      "16/16 [==============================] - 1s 47ms/step - loss: 0.0257 - val_loss: 0.1086\n",
      "Epoch 4/100\n",
      "16/16 [==============================] - 1s 46ms/step - loss: 0.0192 - val_loss: 0.0903\n",
      "Epoch 5/100\n",
      "16/16 [==============================] - 1s 44ms/step - loss: 0.0163 - val_loss: 0.0790\n",
      "Epoch 6/100\n",
      "16/16 [==============================] - 1s 46ms/step - loss: 0.0150 - val_loss: 0.0720\n",
      "Epoch 7/100\n",
      "16/16 [==============================] - 1s 47ms/step - loss: 0.0144 - val_loss: 0.0675\n",
      "Epoch 8/100\n",
      "16/16 [==============================] - 1s 44ms/step - loss: 0.0141 - val_loss: 0.0645\n",
      "Epoch 9/100\n",
      "16/16 [==============================] - 1s 46ms/step - loss: 0.0139 - val_loss: 0.0626\n",
      "Epoch 10/100\n",
      "16/16 [==============================] - 1s 45ms/step - loss: 0.0138 - val_loss: 0.0611\n",
      "Epoch 11/100\n",
      "16/16 [==============================] - 1s 46ms/step - loss: 0.0137 - val_loss: 0.0601\n",
      "Epoch 12/100\n",
      "16/16 [==============================] - 1s 46ms/step - loss: 0.0136 - val_loss: 0.0592\n",
      "Epoch 13/100\n",
      "16/16 [==============================] - 1s 44ms/step - loss: 0.0136 - val_loss: 0.0585\n",
      "Epoch 14/100\n",
      "16/16 [==============================] - 1s 44ms/step - loss: 0.0135 - val_loss: 0.0579\n",
      "Epoch 15/100\n",
      "16/16 [==============================] - 1s 46ms/step - loss: 0.0134 - val_loss: 0.0575\n",
      "Epoch 16/100\n",
      "16/16 [==============================] - 1s 47ms/step - loss: 0.0133 - val_loss: 0.0570\n",
      "Epoch 17/100\n",
      "16/16 [==============================] - 1s 43ms/step - loss: 0.0132 - val_loss: 0.0564\n",
      "Epoch 18/100\n",
      "16/16 [==============================] - 1s 45ms/step - loss: 0.0132 - val_loss: 0.0560\n",
      "Epoch 19/100\n",
      "16/16 [==============================] - 1s 48ms/step - loss: 0.0131 - val_loss: 0.0555\n",
      "Epoch 20/100\n",
      "16/16 [==============================] - 1s 46ms/step - loss: 0.0130 - val_loss: 0.0550\n",
      "Epoch 21/100\n",
      "16/16 [==============================] - 1s 46ms/step - loss: 0.0129 - val_loss: 0.0546\n",
      "Epoch 22/100\n",
      "16/16 [==============================] - 1s 47ms/step - loss: 0.0128 - val_loss: 0.0542\n",
      "Epoch 23/100\n",
      "16/16 [==============================] - 1s 44ms/step - loss: 0.0127 - val_loss: 0.0537\n",
      "Epoch 24/100\n",
      "16/16 [==============================] - 1s 46ms/step - loss: 0.0127 - val_loss: 0.0533\n",
      "Epoch 25/100\n",
      "16/16 [==============================] - 1s 46ms/step - loss: 0.0126 - val_loss: 0.0528\n",
      "Epoch 26/100\n",
      "16/16 [==============================] - 1s 46ms/step - loss: 0.0125 - val_loss: 0.0523\n",
      "Epoch 27/100\n",
      "16/16 [==============================] - 1s 45ms/step - loss: 0.0124 - val_loss: 0.0518\n",
      "Epoch 28/100\n",
      "16/16 [==============================] - 1s 44ms/step - loss: 0.0123 - val_loss: 0.0513\n",
      "Epoch 29/100\n",
      "16/16 [==============================] - 1s 45ms/step - loss: 0.0122 - val_loss: 0.0508\n",
      "Epoch 30/100\n",
      "16/16 [==============================] - 1s 46ms/step - loss: 0.0121 - val_loss: 0.0504\n",
      "Epoch 31/100\n",
      "16/16 [==============================] - 1s 46ms/step - loss: 0.0120 - val_loss: 0.0499\n",
      "Epoch 32/100\n",
      "16/16 [==============================] - 1s 45ms/step - loss: 0.0120 - val_loss: 0.0494\n",
      "Epoch 33/100\n",
      "16/16 [==============================] - 1s 47ms/step - loss: 0.0119 - val_loss: 0.0490\n",
      "Epoch 34/100\n",
      "16/16 [==============================] - 1s 46ms/step - loss: 0.0118 - val_loss: 0.0485\n",
      "Epoch 35/100\n",
      "16/16 [==============================] - 1s 46ms/step - loss: 0.0117 - val_loss: 0.0481\n",
      "Epoch 36/100\n",
      "16/16 [==============================] - 1s 47ms/step - loss: 0.0116 - val_loss: 0.0476\n",
      "Epoch 37/100\n",
      "16/16 [==============================] - 1s 46ms/step - loss: 0.0115 - val_loss: 0.0471\n",
      "Epoch 38/100\n",
      "16/16 [==============================] - 1s 46ms/step - loss: 0.0114 - val_loss: 0.0466\n",
      "Epoch 39/100\n",
      "16/16 [==============================] - 1s 45ms/step - loss: 0.0113 - val_loss: 0.0460\n",
      "Epoch 40/100\n",
      "16/16 [==============================] - 1s 45ms/step - loss: 0.0112 - val_loss: 0.0454\n",
      "Epoch 41/100\n",
      "16/16 [==============================] - 1s 44ms/step - loss: 0.0111 - val_loss: 0.0449\n",
      "Epoch 42/100\n",
      "16/16 [==============================] - 1s 46ms/step - loss: 0.0110 - val_loss: 0.0444\n",
      "Epoch 43/100\n",
      "16/16 [==============================] - 1s 43ms/step - loss: 0.0109 - val_loss: 0.0439\n",
      "Epoch 44/100\n",
      "16/16 [==============================] - 1s 44ms/step - loss: 0.0108 - val_loss: 0.0434\n",
      "Epoch 45/100\n",
      "16/16 [==============================] - 1s 44ms/step - loss: 0.0107 - val_loss: 0.0429\n",
      "Epoch 46/100\n",
      "16/16 [==============================] - 1s 44ms/step - loss: 0.0106 - val_loss: 0.0424\n",
      "Epoch 47/100\n",
      "16/16 [==============================] - 1s 46ms/step - loss: 0.0105 - val_loss: 0.0418\n",
      "Epoch 48/100\n",
      "16/16 [==============================] - 1s 47ms/step - loss: 0.0104 - val_loss: 0.0413\n",
      "Epoch 49/100\n",
      "16/16 [==============================] - 1s 47ms/step - loss: 0.0103 - val_loss: 0.0407\n",
      "Epoch 50/100\n",
      "16/16 [==============================] - 1s 44ms/step - loss: 0.0102 - val_loss: 0.0401\n",
      "Epoch 51/100\n",
      "16/16 [==============================] - 1s 46ms/step - loss: 0.0101 - val_loss: 0.0396\n",
      "Epoch 52/100\n",
      "16/16 [==============================] - 1s 46ms/step - loss: 0.0100 - val_loss: 0.0391\n",
      "Epoch 53/100\n",
      "16/16 [==============================] - 1s 47ms/step - loss: 0.0099 - val_loss: 0.0387\n",
      "Epoch 54/100\n",
      "16/16 [==============================] - 1s 46ms/step - loss: 0.0098 - val_loss: 0.0381\n",
      "Epoch 55/100\n",
      "16/16 [==============================] - 1s 45ms/step - loss: 0.0097 - val_loss: 0.0377\n",
      "Epoch 56/100\n",
      "16/16 [==============================] - 1s 46ms/step - loss: 0.0096 - val_loss: 0.0371\n",
      "Epoch 57/100\n",
      "16/16 [==============================] - 1s 46ms/step - loss: 0.0095 - val_loss: 0.0367\n",
      "Epoch 58/100\n",
      "16/16 [==============================] - 1s 46ms/step - loss: 0.0094 - val_loss: 0.0361\n",
      "Epoch 59/100\n",
      "16/16 [==============================] - 1s 45ms/step - loss: 0.0092 - val_loss: 0.0355\n",
      "Epoch 60/100\n",
      "16/16 [==============================] - 1s 45ms/step - loss: 0.0091 - val_loss: 0.0350\n",
      "Epoch 61/100\n",
      "16/16 [==============================] - 1s 46ms/step - loss: 0.0090 - val_loss: 0.0343\n",
      "Epoch 62/100\n",
      "16/16 [==============================] - 1s 45ms/step - loss: 0.0089 - val_loss: 0.0337\n",
      "Epoch 63/100\n",
      "16/16 [==============================] - 1s 46ms/step - loss: 0.0088 - val_loss: 0.0330\n",
      "Epoch 64/100\n",
      "16/16 [==============================] - 1s 47ms/step - loss: 0.0086 - val_loss: 0.0324\n",
      "Epoch 65/100\n",
      "16/16 [==============================] - 1s 47ms/step - loss: 0.0085 - val_loss: 0.0317\n",
      "Epoch 66/100\n",
      "16/16 [==============================] - 1s 45ms/step - loss: 0.0084 - val_loss: 0.0311\n",
      "Epoch 67/100\n",
      "16/16 [==============================] - 1s 48ms/step - loss: 0.0083 - val_loss: 0.0304\n",
      "Epoch 68/100\n",
      "16/16 [==============================] - 1s 45ms/step - loss: 0.0082 - val_loss: 0.0298\n",
      "Epoch 69/100\n",
      "16/16 [==============================] - 1s 45ms/step - loss: 0.0081 - val_loss: 0.0292\n",
      "Epoch 70/100\n",
      "16/16 [==============================] - 1s 46ms/step - loss: 0.0079 - val_loss: 0.0286\n",
      "Epoch 71/100\n",
      "16/16 [==============================] - 1s 45ms/step - loss: 0.0078 - val_loss: 0.0280\n",
      "Epoch 72/100\n",
      "16/16 [==============================] - 1s 45ms/step - loss: 0.0077 - val_loss: 0.0274\n",
      "Epoch 73/100\n",
      "16/16 [==============================] - 1s 45ms/step - loss: 0.0076 - val_loss: 0.0267\n",
      "Epoch 74/100\n",
      "16/16 [==============================] - 1s 44ms/step - loss: 0.0075 - val_loss: 0.0261\n",
      "Epoch 75/100\n",
      "16/16 [==============================] - 1s 45ms/step - loss: 0.0074 - val_loss: 0.0255\n",
      "Epoch 76/100\n",
      "16/16 [==============================] - 1s 46ms/step - loss: 0.0073 - val_loss: 0.0250\n",
      "Epoch 77/100\n",
      "16/16 [==============================] - 1s 45ms/step - loss: 0.0072 - val_loss: 0.0244\n",
      "Epoch 78/100\n",
      "16/16 [==============================] - 1s 47ms/step - loss: 0.0071 - val_loss: 0.0238\n",
      "Epoch 79/100\n",
      "16/16 [==============================] - 1s 46ms/step - loss: 0.0070 - val_loss: 0.0233\n",
      "Epoch 80/100\n",
      "16/16 [==============================] - 1s 47ms/step - loss: 0.0069 - val_loss: 0.0228\n",
      "Epoch 81/100\n",
      "16/16 [==============================] - 1s 47ms/step - loss: 0.0068 - val_loss: 0.0223\n",
      "Epoch 82/100\n",
      "16/16 [==============================] - 1s 45ms/step - loss: 0.0067 - val_loss: 0.0218\n",
      "Epoch 83/100\n",
      "16/16 [==============================] - 1s 45ms/step - loss: 0.0066 - val_loss: 0.0212\n",
      "Epoch 84/100\n",
      "16/16 [==============================] - 1s 45ms/step - loss: 0.0065 - val_loss: 0.0207\n",
      "Epoch 85/100\n",
      "16/16 [==============================] - 1s 44ms/step - loss: 0.0064 - val_loss: 0.0203\n",
      "Epoch 86/100\n",
      "16/16 [==============================] - 1s 46ms/step - loss: 0.0063 - val_loss: 0.0197\n",
      "Epoch 87/100\n",
      "16/16 [==============================] - 1s 45ms/step - loss: 0.0063 - val_loss: 0.0193\n",
      "Epoch 88/100\n",
      "16/16 [==============================] - 1s 45ms/step - loss: 0.0062 - val_loss: 0.0187\n",
      "Epoch 89/100\n",
      "16/16 [==============================] - 1s 45ms/step - loss: 0.0061 - val_loss: 0.0183\n",
      "Epoch 90/100\n",
      "16/16 [==============================] - 1s 44ms/step - loss: 0.0060 - val_loss: 0.0179\n",
      "Epoch 91/100\n",
      "16/16 [==============================] - 1s 45ms/step - loss: 0.0059 - val_loss: 0.0175\n",
      "Epoch 92/100\n",
      "16/16 [==============================] - 1s 45ms/step - loss: 0.0059 - val_loss: 0.0170\n",
      "Epoch 93/100\n",
      "16/16 [==============================] - 1s 46ms/step - loss: 0.0058 - val_loss: 0.0166\n",
      "Epoch 94/100\n",
      "16/16 [==============================] - 1s 49ms/step - loss: 0.0057 - val_loss: 0.0162\n",
      "Epoch 95/100\n",
      "16/16 [==============================] - 1s 46ms/step - loss: 0.0056 - val_loss: 0.0157\n",
      "Epoch 96/100\n",
      "16/16 [==============================] - 1s 45ms/step - loss: 0.0056 - val_loss: 0.0154\n",
      "Epoch 97/100\n",
      "16/16 [==============================] - 1s 46ms/step - loss: 0.0055 - val_loss: 0.0150\n",
      "Epoch 98/100\n",
      "16/16 [==============================] - 1s 45ms/step - loss: 0.0055 - val_loss: 0.0146\n",
      "Epoch 99/100\n",
      "16/16 [==============================] - 1s 44ms/step - loss: 0.0054 - val_loss: 0.0143\n",
      "Epoch 100/100\n",
      "16/16 [==============================] - 1s 45ms/step - loss: 0.0053 - val_loss: 0.0139\n"
     ]
    },
    {
     "data": {
      "text/plain": [
       "<keras.callbacks.History at 0x2af480e72f70>"
      ]
     },
     "execution_count": 147,
     "metadata": {},
     "output_type": "execute_result"
    }
   ],
   "source": [
    "model7.fit(n_training_input2_tensor, n_training_output2_tensor, batch_size=543, epochs=100, verbose=1, \\\n",
    "           validation_data = (n_testing_input2_tensor, n_testing_output2_tensor) )"
   ]
  },
  {
   "cell_type": "code",
   "execution_count": null,
   "metadata": {},
   "outputs": [],
   "source": []
  },
  {
   "cell_type": "code",
   "execution_count": 148,
   "metadata": {},
   "outputs": [],
   "source": [
    "n_testing_predict2_tensor = model7.predict(n_testing_input2_tensor)"
   ]
  },
  {
   "cell_type": "code",
   "execution_count": 149,
   "metadata": {},
   "outputs": [
    {
     "data": {
      "text/plain": [
       "(300, 1)"
      ]
     },
     "execution_count": 149,
     "metadata": {},
     "output_type": "execute_result"
    }
   ],
   "source": [
    "n_testing_predict2_tensor.shape"
   ]
  },
  {
   "cell_type": "code",
   "execution_count": 150,
   "metadata": {},
   "outputs": [],
   "source": [
    "n_testing_predict2_array = np.asarray(n_testing_predict2_tensor)"
   ]
  },
  {
   "cell_type": "code",
   "execution_count": 151,
   "metadata": {},
   "outputs": [],
   "source": [
    "n_testing_predict2_array2 = n_testing_predict2_array.reshape(300)"
   ]
  },
  {
   "cell_type": "code",
   "execution_count": 152,
   "metadata": {},
   "outputs": [],
   "source": [
    "n_testing_output3_array = n_testing_output2_array.reshape(300)"
   ]
  },
  {
   "cell_type": "markdown",
   "metadata": {},
   "source": [
    "# Exercise 10 (10 points) Complete the code below for plotting predicted energy consumption vs actual energy consumption.\n"
   ]
  },
  {
   "cell_type": "code",
   "execution_count": 153,
   "metadata": {},
   "outputs": [
    {
     "data": {
      "image/png": "[encoded data removed]",
      "text/plain": [
       "<Figure size 432x288 with 1 Axes>"
      ]
     },
     "metadata": {
      "needs_background": "light"
     },
     "output_type": "display_data"
    }
   ],
   "source": [
    "plt.title('Actual vs Predicted Scaled AEP Hourly')\n",
    "plt.plot(n_testing_output3_array, color='b')\n",
    "plt.plot(n_testing_predict2_array2, color='r')\n",
    "plt.show()"
   ]
  },
  {
   "cell_type": "markdown",
   "metadata": {},
   "source": [
    "# Exercise 10 (10 points) Summary lessons learned from this lab regarding the design and implementation of RNN for time series prediction."
   ]
  },
  {
   "cell_type": "markdown",
   "metadata": {},
   "source": [
    "# Answer to Exercise 10:\n",
    "\n",
    "When we create a time series model, we need to normalize the series if their scales are different, otherwise we may get wrong results. When combining two models, we can use consecutive sliding windows to convert two nested loops into a single loop, and then reducing the time complexity."
   ]
  },
  {
   "cell_type": "code",
   "execution_count": null,
   "metadata": {},
   "outputs": [],
   "source": []
  }
 ],
 "metadata": {
  "kernelspec": {
   "display_name": "Python 3",
   "language": "python",
   "name": "python3"
  },
  "language_info": {
   "codemirror_mode": {
    "name": "ipython",
    "version": 3
   },
   "file_extension": ".py",
   "mimetype": "text/x-python",
   "name": "python",
   "nbconvert_exporter": "python",
   "pygments_lexer": "ipython3",
   "version": "3.8.3"
  }
 },
 "nbformat": 4,
 "nbformat_minor": 4
}
