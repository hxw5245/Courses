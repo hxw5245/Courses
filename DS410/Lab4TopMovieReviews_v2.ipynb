{
 "cells": [
  {
   "cell_type": "markdown",
   "metadata": {},
   "source": [
    "# DS/CMPSC 410 Spring 2022\n",
    "# Instructor: Professor John Yen\n",
    "# TA: Rupesh Prajapati \n",
    "# LA's: Lily Jakielaszek and Cayla Shan Pun\n",
    "\n",
    "# Lab 4: Data Frames Transformation, SQL Functions, and Join\n",
    "# The goals of this lab are for you to be able to\n",
    "## - Use Data Frames in Spark for Processing Structured Data\n",
    "## - Perform Basic DataFrame Transformation: Filtering Rows and Selecting Columns of DataFrame\n",
    "## - Create New Column of DataFrame using `withColumn`\n",
    "## - Use SQL Function split, col \n",
    "## - Filter on a Column that is an Array using `array_contains`\n",
    "## - Transform DataFrame to RDD, and RDD to DataFrame\n",
    "## - Perform Join on DataFrames \n",
    "## - Perform sorting on a DataFrame column\n",
    "## - Generate histogram from an RDD\n",
    "## - Apply the obove to find Movies in a Genre that has good reviews with a significant number of ratings.\n",
    "\n",
    "## Total Number of Exercises: \n",
    "- Exercise 1: 5 points\n",
    "- Exercise 2: 5 points\n",
    "- Exercise 3: 10 points\n",
    "- Exercise 4: 10 points\n",
    "- Exercise 5: 10 points\n",
    "- Exercise 6: 10 points\n",
    "- Exercise 7: 10 points\n",
    "- Exercise 8: 10 points\n",
    "- Exercise 9: 10 points\n",
    "- Exercise 10: 10 points\n",
    "- Exercise 11: 10 points\n",
    "## Total Points: 100 points\n",
    "\n",
    "# Due: midnight, February 6, 2022"
   ]
  },
  {
   "cell_type": "markdown",
   "metadata": {},
   "source": [
    "## The first thing we need to do in each Jupyter Notebook running pyspark is to import pyspark first."
   ]
  },
  {
   "cell_type": "code",
   "execution_count": 1,
   "metadata": {},
   "outputs": [],
   "source": [
    "import pyspark"
   ]
  },
  {
   "cell_type": "markdown",
   "metadata": {},
   "source": [
    "### Once we import pyspark, we need to import \"SparkContext\".  Every spark program needs a SparkContext object\n",
    "### In order to use Spark SQL on DataFrames, we also need to import SparkSession from PySpark.SQL"
   ]
  },
  {
   "cell_type": "code",
   "execution_count": 2,
   "metadata": {},
   "outputs": [],
   "source": [
    "from pyspark import SparkContext\n",
    "from pyspark.sql import SparkSession\n",
    "from pyspark.sql.types import StructField, StructType, StringType, LongType, IntegerType, FloatType\n",
    "from pyspark.sql.functions import col, column\n",
    "from pyspark.sql.functions import expr\n",
    "from pyspark.sql.functions import split\n",
    "from pyspark.sql import Row"
   ]
  },
  {
   "cell_type": "markdown",
   "metadata": {},
   "source": [
    "## We then create a Spark Session variable (rather than Spark Context) in order to use DataFrame. \n",
    "- Note: We temporarily use \"local\" as the parameter for master in this notebook so that we can test it in jupyter Server.  However, we need to remove `.master(\"local\")` before we submit it to ICDS cluster to run this in cluster  mode."
   ]
  },
  {
   "cell_type": "code",
   "execution_count": 3,
   "metadata": {},
   "outputs": [],
   "source": [
    "ss=SparkSession.builder.master(\"local\").appName(\"Lab 4 DataFrame\").getOrCreate()"
   ]
  },
  {
   "cell_type": "markdown",
   "metadata": {},
   "source": [
    "# Exercise 1 (5 points) \n",
    "- (a) Add your name below AND \n",
    "- (b) replace the path below in both `ss.read.csv` statements with the path of your home directory.\n",
    "\n",
    "## Answer for Exercise 1 (Double click this Markdown cell to fill your name below.)\n",
    "- a: Student Name: Haichen Wei"
   ]
  },
  {
   "cell_type": "code",
   "execution_count": 4,
   "metadata": {},
   "outputs": [],
   "source": [
    "movies_DF = ss.read.csv(\"/storage/home/hxw5245/Lab4/movies_2.csv\", header=True, inferSchema=True)"
   ]
  },
  {
   "cell_type": "code",
   "execution_count": 5,
   "metadata": {},
   "outputs": [
    {
     "name": "stdout",
     "output_type": "stream",
     "text": [
      "root\n",
      " |-- MovieID: integer (nullable = true)\n",
      " |-- MovieTitle: string (nullable = true)\n",
      " |-- Genres: string (nullable = true)\n",
      "\n"
     ]
    }
   ],
   "source": [
    "movies_DF.printSchema()"
   ]
  },
  {
   "cell_type": "code",
   "execution_count": 6,
   "metadata": {},
   "outputs": [
    {
     "name": "stdout",
     "output_type": "stream",
     "text": [
      "+-------+--------------------+--------------------+\n",
      "|MovieID|          MovieTitle|              Genres|\n",
      "+-------+--------------------+--------------------+\n",
      "|      1|    Toy Story (1995)|Adventure|Animati...|\n",
      "|      2|      Jumanji (1995)|Adventure|Childre...|\n",
      "|      3|Grumpier Old Men ...|      Comedy|Romance|\n",
      "|      4|Waiting to Exhale...|Comedy|Drama|Romance|\n",
      "|      5|Father of the Bri...|              Comedy|\n",
      "|      6|         Heat (1995)|Action|Crime|Thri...|\n",
      "|      7|      Sabrina (1995)|      Comedy|Romance|\n",
      "|      8| Tom and Huck (1995)|  Adventure|Children|\n",
      "|      9| Sudden Death (1995)|              Action|\n",
      "|     10|    GoldenEye (1995)|Action|Adventure|...|\n",
      "+-------+--------------------+--------------------+\n",
      "only showing top 10 rows\n",
      "\n"
     ]
    }
   ],
   "source": [
    "movies_DF.show(10)"
   ]
  },
  {
   "cell_type": "code",
   "execution_count": 7,
   "metadata": {},
   "outputs": [],
   "source": [
    "ratings_DF = ss.read.csv(\"/storage/home/hxw5245/Lab4/ratings_2.csv\", header=True, inferSchema=True)"
   ]
  },
  {
   "cell_type": "code",
   "execution_count": 8,
   "metadata": {},
   "outputs": [
    {
     "name": "stdout",
     "output_type": "stream",
     "text": [
      "root\n",
      " |-- UserID: integer (nullable = true)\n",
      " |-- MovieID: integer (nullable = true)\n",
      " |-- Rating: double (nullable = true)\n",
      " |-- RatingID: integer (nullable = true)\n",
      "\n"
     ]
    }
   ],
   "source": [
    "ratings_DF.printSchema()"
   ]
  },
  {
   "cell_type": "code",
   "execution_count": 9,
   "metadata": {},
   "outputs": [
    {
     "name": "stdout",
     "output_type": "stream",
     "text": [
      "+------+-------+------+----------+\n",
      "|UserID|MovieID|Rating|  RatingID|\n",
      "+------+-------+------+----------+\n",
      "|     1|     31|   2.5|1260759144|\n",
      "|     1|   1029|   3.0|1260759179|\n",
      "|     1|   1061|   3.0|1260759182|\n",
      "|     1|   1129|   2.0|1260759185|\n",
      "|     1|   1172|   4.0|1260759205|\n",
      "+------+-------+------+----------+\n",
      "only showing top 5 rows\n",
      "\n"
     ]
    }
   ],
   "source": [
    "ratings_DF.show(5)"
   ]
  },
  {
   "cell_type": "markdown",
   "metadata": {
    "jupyter": {
     "outputs_hidden": true
    }
   },
   "source": [
    "# 2. DataFrames Transformations\n",
    "DataFrame in Spark provides higher-level transformations that are convenient for selecting rows, columns, and for creating new columns.  These transformations are part of Spark SQL.\n",
    "\n",
    "## 2.1 DF Transformation for Filtering Rows\n",
    "Select rows from a DataFrame that satisfy a condition.  This is similar to \"WHERE\" clause in SQL query language."
   ]
  },
  {
   "cell_type": "code",
   "execution_count": 10,
   "metadata": {},
   "outputs": [
    {
     "name": "stdout",
     "output_type": "stream",
     "text": [
      "+-------+----------------+--------------------+\n",
      "|MovieID|      MovieTitle|              Genres|\n",
      "+-------+----------------+--------------------+\n",
      "|      1|Toy Story (1995)|Adventure|Animati...|\n",
      "+-------+----------------+--------------------+\n",
      "\n"
     ]
    }
   ],
   "source": [
    "movies_DF.where(col(\"MovieTitle\")== \"Toy Story (1995)\").show()"
   ]
  },
  {
   "cell_type": "code",
   "execution_count": 11,
   "metadata": {},
   "outputs": [
    {
     "name": "stdout",
     "output_type": "stream",
     "text": [
      "+-------+----------------+--------------------+\n",
      "|MovieID|      MovieTitle|              Genres|\n",
      "+-------+----------------+--------------------+\n",
      "|      1|Toy Story (1995)|Adventure|Animati...|\n",
      "+-------+----------------+--------------------+\n",
      "\n"
     ]
    }
   ],
   "source": [
    "movies_DF.where(\"Toy Story (1995)\" == col(\"MovieTitle\")).show()"
   ]
  },
  {
   "cell_type": "code",
   "execution_count": 12,
   "metadata": {},
   "outputs": [
    {
     "data": {
      "text/plain": [
       "62106"
      ]
     },
     "execution_count": 12,
     "metadata": {},
     "output_type": "execute_result"
    }
   ],
   "source": [
    "ratings_DF.where(col(\"Rating\") > 3).count()"
   ]
  },
  {
   "cell_type": "code",
   "execution_count": 13,
   "metadata": {},
   "outputs": [
    {
     "data": {
      "text/plain": [
       "62106"
      ]
     },
     "execution_count": 13,
     "metadata": {},
     "output_type": "execute_result"
    }
   ],
   "source": [
    "ratings_DF.filter(3 < col(\"Rating\")).count()"
   ]
  },
  {
   "cell_type": "markdown",
   "metadata": {},
   "source": [
    "# Exercise 2 (5 points) Filtering DF Rows\n",
    "### Complete the following statement to (1) select the `ratings_DF` DataFrame for reviews that are exactly 5, and (2) count the total number of such reviews."
   ]
  },
  {
   "cell_type": "code",
   "execution_count": 14,
   "metadata": {},
   "outputs": [
    {
     "data": {
      "text/plain": [
       "15095"
      ]
     },
     "execution_count": 14,
     "metadata": {},
     "output_type": "execute_result"
    }
   ],
   "source": [
    "ratings_DF.where( col(\"Rating\") == 5 ).count()"
   ]
  },
  {
   "cell_type": "markdown",
   "metadata": {},
   "source": [
    "## 2.2 DataFrame Transformation for Selecting Columns\n",
    "\n",
    "DataFrame transformation `select` is similar to the projection operation in SQL: it returns a DataFrame that contains all of the columns selected."
   ]
  },
  {
   "cell_type": "code",
   "execution_count": 15,
   "metadata": {},
   "outputs": [
    {
     "name": "stdout",
     "output_type": "stream",
     "text": [
      "+--------------------+\n",
      "|          MovieTitle|\n",
      "+--------------------+\n",
      "|    Toy Story (1995)|\n",
      "|      Jumanji (1995)|\n",
      "|Grumpier Old Men ...|\n",
      "|Waiting to Exhale...|\n",
      "|Father of the Bri...|\n",
      "+--------------------+\n",
      "only showing top 5 rows\n",
      "\n"
     ]
    }
   ],
   "source": [
    "movies_DF.select(\"MovieTitle\").show(5)"
   ]
  },
  {
   "cell_type": "code",
   "execution_count": 16,
   "metadata": {},
   "outputs": [
    {
     "name": "stdout",
     "output_type": "stream",
     "text": [
      "+--------------------+\n",
      "|          MovieTitle|\n",
      "+--------------------+\n",
      "|    Toy Story (1995)|\n",
      "|      Jumanji (1995)|\n",
      "|Grumpier Old Men ...|\n",
      "|Waiting to Exhale...|\n",
      "|Father of the Bri...|\n",
      "+--------------------+\n",
      "only showing top 5 rows\n",
      "\n"
     ]
    }
   ],
   "source": [
    "movies_DF.select(col(\"MovieTitle\")).show(5)"
   ]
  },
  {
   "cell_type": "markdown",
   "metadata": {},
   "source": [
    "# Exercise 3 (10 points) Selecting DF Columns\n",
    "## Complete the following PySpark statement to (1) select only `MovieID` and `Rating` columns, and (2) save it in a DataFrame called `movie_rating_DF`."
   ]
  },
  {
   "cell_type": "code",
   "execution_count": 17,
   "metadata": {},
   "outputs": [],
   "source": [
    "movie_rating_DF = ratings_DF.select(\"MovieID\", \"Rating\")"
   ]
  },
  {
   "cell_type": "code",
   "execution_count": 18,
   "metadata": {},
   "outputs": [
    {
     "name": "stdout",
     "output_type": "stream",
     "text": [
      "+-------+------+\n",
      "|MovieID|Rating|\n",
      "+-------+------+\n",
      "|     31|   2.5|\n",
      "|   1029|   3.0|\n",
      "|   1061|   3.0|\n",
      "|   1129|   2.0|\n",
      "|   1172|   4.0|\n",
      "+-------+------+\n",
      "only showing top 5 rows\n",
      "\n"
     ]
    }
   ],
   "source": [
    "movie_rating_DF.show(5)"
   ]
  },
  {
   "cell_type": "markdown",
   "metadata": {},
   "source": [
    "# 2.3 Statistical Summary of Numerical Columns\n",
    "DataFrame provides a `describe` method that provides a summary of basic statistical information (e.g., count, mean, standard deviation, min, max) for numerical columns."
   ]
  },
  {
   "cell_type": "code",
   "execution_count": 19,
   "metadata": {},
   "outputs": [
    {
     "name": "stdout",
     "output_type": "stream",
     "text": [
      "+-------+------------------+------------------+------------------+--------------------+\n",
      "|summary|            UserID|           MovieID|            Rating|            RatingID|\n",
      "+-------+------------------+------------------+------------------+--------------------+\n",
      "|  count|            100004|            100004|            100004|              100004|\n",
      "|   mean| 347.0113095476181|12548.664363425463| 3.543608255669773|1.1296390869392424E9|\n",
      "| stddev|195.16383797819535|26369.198968815268|1.0580641091070326|1.9168582602710962E8|\n",
      "|    min|                 1|                 1|               0.5|           789652009|\n",
      "|    max|               671|            163949|               5.0|          1476640644|\n",
      "+-------+------------------+------------------+------------------+--------------------+\n",
      "\n"
     ]
    }
   ],
   "source": [
    "ratings_DF.describe().show()"
   ]
  },
  {
   "cell_type": "markdown",
   "metadata": {},
   "source": [
    "## RDD has a histogram method to compute the total number of rows in each \"bucket\".\n",
    "The code below selects the Rating column from `ratings_DF`, converts it to an RDD, which maps to extract the rating value for each row, which is used to compute the total number of reviews in 6 buckets. For example, the first bucket is for reviews >= 0, but less than 1. The last bucket is\n",
    "for reviews >=5, but less than 6."
   ]
  },
  {
   "cell_type": "code",
   "execution_count": 20,
   "metadata": {},
   "outputs": [
    {
     "data": {
      "text/plain": [
       "([0, 1, 2, 3, 4, 5, 6], [1101, 5013, 11720, 30602, 36473, 15095])"
      ]
     },
     "execution_count": 20,
     "metadata": {},
     "output_type": "execute_result"
    }
   ],
   "source": [
    "ratings_DF.select(col(\"Rating\")).rdd.map(lambda row: row[0]).histogram([0,1,2,3,4,5,6])"
   ]
  },
  {
   "cell_type": "markdown",
   "metadata": {
    "jupyter": {
     "outputs_hidden": true
    }
   },
   "source": [
    "# 3. Transforming the Generes Column into Array of Generes \n",
    "## We want transform a column Generes, which represent all Generes of a movie using a string that uses \"|\" to connect the Generes so that we can later filter for movies of a Genere more efficiently.\n",
    "## This transformation can be done using `split` Spark SQL function (which is different from python `split` function)"
   ]
  },
  {
   "cell_type": "code",
   "execution_count": 21,
   "metadata": {},
   "outputs": [
    {
     "name": "stdout",
     "output_type": "stream",
     "text": [
      "+---------------------+\n",
      "|split(Genres, \\|, -1)|\n",
      "+---------------------+\n",
      "| [Adventure, Anima...|\n",
      "| [Adventure, Child...|\n",
      "|    [Comedy, Romance]|\n",
      "| [Comedy, Drama, R...|\n",
      "|             [Comedy]|\n",
      "+---------------------+\n",
      "only showing top 5 rows\n",
      "\n"
     ]
    }
   ],
   "source": [
    "Splitted_Generes_DF= movies_DF.select(split(col(\"Genres\"), '\\|'))\n",
    "Splitted_Generes_DF.show(5)"
   ]
  },
  {
   "cell_type": "markdown",
   "metadata": {},
   "source": [
    "## 3.1 Adding a Column to a DataFrame using withColumn\n",
    "### We often need to transform content of a column into another column. For example, we would like to transform the column Genres in the movies DataFrame into an `Array` of genres that each movie belongs, we can do this using the DataFrame method `withColumn`."
   ]
  },
  {
   "cell_type": "markdown",
   "metadata": {},
   "source": [
    "# Exercise 4 (10 points)\n",
    "Complete the code below to create a new column called \"Genres_Array\", whose values are arrays of genres for each movie."
   ]
  },
  {
   "cell_type": "code",
   "execution_count": 22,
   "metadata": {},
   "outputs": [],
   "source": [
    "movies2_DF= movies_DF.withColumn(\"Genres_Array\",split(\"Genres\", '\\|') )"
   ]
  },
  {
   "cell_type": "code",
   "execution_count": 23,
   "metadata": {},
   "outputs": [
    {
     "name": "stdout",
     "output_type": "stream",
     "text": [
      "root\n",
      " |-- MovieID: integer (nullable = true)\n",
      " |-- MovieTitle: string (nullable = true)\n",
      " |-- Genres: string (nullable = true)\n",
      " |-- Genres_Array: array (nullable = true)\n",
      " |    |-- element: string (containsNull = true)\n",
      "\n"
     ]
    }
   ],
   "source": [
    "movies2_DF.printSchema()"
   ]
  },
  {
   "cell_type": "code",
   "execution_count": 24,
   "metadata": {},
   "outputs": [
    {
     "name": "stdout",
     "output_type": "stream",
     "text": [
      "+-------+--------------------+--------------------+--------------------+\n",
      "|MovieID|          MovieTitle|              Genres|        Genres_Array|\n",
      "+-------+--------------------+--------------------+--------------------+\n",
      "|      1|    Toy Story (1995)|Adventure|Animati...|[Adventure, Anima...|\n",
      "|      2|      Jumanji (1995)|Adventure|Childre...|[Adventure, Child...|\n",
      "|      3|Grumpier Old Men ...|      Comedy|Romance|   [Comedy, Romance]|\n",
      "|      4|Waiting to Exhale...|Comedy|Drama|Romance|[Comedy, Drama, R...|\n",
      "|      5|Father of the Bri...|              Comedy|            [Comedy]|\n",
      "+-------+--------------------+--------------------+--------------------+\n",
      "only showing top 5 rows\n",
      "\n"
     ]
    }
   ],
   "source": [
    "movies2_DF.show(5)"
   ]
  },
  {
   "cell_type": "markdown",
   "metadata": {},
   "source": [
    "# 4. Computing Total Reviews and Average Rating for Each Movie\n",
    "Because it is convenient and efficient to compute both total reviews and average rating for each movie using key value pairs, we will convert the reviews Data Frame into RDD."
   ]
  },
  {
   "cell_type": "code",
   "execution_count": 25,
   "metadata": {},
   "outputs": [
    {
     "data": {
      "text/plain": [
       "[Row(UserID=1, MovieID=31, Rating=2.5, RatingID=1260759144),\n",
       " Row(UserID=1, MovieID=1029, Rating=3.0, RatingID=1260759179),\n",
       " Row(UserID=1, MovieID=1061, Rating=3.0, RatingID=1260759182)]"
      ]
     },
     "execution_count": 25,
     "metadata": {},
     "output_type": "execute_result"
    }
   ],
   "source": [
    "ratings_RDD = ratings_DF.rdd\n",
    "ratings_RDD.take(3)"
   ]
  },
  {
   "cell_type": "code",
   "execution_count": 26,
   "metadata": {},
   "outputs": [],
   "source": [
    "movie_ratings_RDD = ratings_RDD.map(lambda row: (row.MovieID, row.Rating))"
   ]
  },
  {
   "cell_type": "code",
   "execution_count": 27,
   "metadata": {},
   "outputs": [
    {
     "data": {
      "text/plain": [
       "[(31, 2.5),\n",
       " (1029, 3.0),\n",
       " (1061, 3.0),\n",
       " (1129, 2.0),\n",
       " (1172, 4.0),\n",
       " (1263, 2.0),\n",
       " (1287, 2.0),\n",
       " (1293, 2.0),\n",
       " (1339, 3.5),\n",
       " (1343, 2.0)]"
      ]
     },
     "execution_count": 27,
     "metadata": {},
     "output_type": "execute_result"
    }
   ],
   "source": [
    "movie_ratings_RDD.take(10)"
   ]
  },
  {
   "cell_type": "markdown",
   "metadata": {},
   "source": [
    "# Exercise 5 (10 points)\n",
    "Complete the code below to compute the total number of reviews for each movie."
   ]
  },
  {
   "cell_type": "code",
   "execution_count": 28,
   "metadata": {},
   "outputs": [],
   "source": [
    "movie_review_1_RDD = movie_ratings_RDD.map(lambda x: (x[0] , 1 ))\n",
    "movie_review_total_RDD = movie_review_1_RDD.reduceByKey(lambda x, y: x+y , 3)"
   ]
  },
  {
   "cell_type": "code",
   "execution_count": 29,
   "metadata": {},
   "outputs": [
    {
     "data": {
      "text/plain": [
       "[(1029, 42),\n",
       " (1263, 48),\n",
       " (1287, 46),\n",
       " (1293, 46),\n",
       " (1371, 47),\n",
       " (1953, 46),\n",
       " (2193, 42),\n",
       " (39, 120),\n",
       " (144, 26),\n",
       " (150, 200)]"
      ]
     },
     "execution_count": 29,
     "metadata": {},
     "output_type": "execute_result"
    }
   ],
   "source": [
    "movie_review_total_RDD.take(10)"
   ]
  },
  {
   "cell_type": "markdown",
   "metadata": {},
   "source": [
    "# Exercise 6 (10 points)\n",
    "Complete the code below to compute the total ratings for each movie."
   ]
  },
  {
   "cell_type": "code",
   "execution_count": 30,
   "metadata": {},
   "outputs": [],
   "source": [
    "# Compute average rating for each movie\n",
    "rating_total_RDD = movie_ratings_RDD.reduceByKey(lambda x, y: x+y, 3)"
   ]
  },
  {
   "cell_type": "code",
   "execution_count": 31,
   "metadata": {},
   "outputs": [
    {
     "data": {
      "text/plain": [
       "[(1029, 155.5),\n",
       " (1263, 185.5),\n",
       " (1287, 179.0),\n",
       " (1293, 183.0),\n",
       " (1371, 143.5),\n",
       " (1953, 185.0),\n",
       " (2193, 134.5),\n",
       " (39, 426.0),\n",
       " (144, 86.5),\n",
       " (150, 780.5)]"
      ]
     },
     "execution_count": 31,
     "metadata": {},
     "output_type": "execute_result"
    }
   ],
   "source": [
    "rating_total_RDD.take(10)"
   ]
  },
  {
   "cell_type": "markdown",
   "metadata": {},
   "source": [
    "## Join Transformation on Two RDDs\n",
    "Two Key Value Pairs RDDs can be joined on the RDD (similar to the join operation in SQL) to return a new RDD, whose rows is an inner join of the two input RDDs.  Only key value pairs occur in both input RDDs occur in the output RDD."
   ]
  },
  {
   "cell_type": "code",
   "execution_count": 32,
   "metadata": {},
   "outputs": [],
   "source": [
    "# Join the two RDDs (one counts total reviews, the other computes sum of ratings)\n",
    "joined_RDD = rating_total_RDD.join(movie_review_total_RDD)"
   ]
  },
  {
   "cell_type": "code",
   "execution_count": 33,
   "metadata": {},
   "outputs": [
    {
     "data": {
      "text/plain": [
       "[(1029, (155.5, 42)),\n",
       " (1263, (185.5, 48)),\n",
       " (1287, (179.0, 46)),\n",
       " (1293, (183.0, 46))]"
      ]
     },
     "execution_count": 33,
     "metadata": {},
     "output_type": "execute_result"
    }
   ],
   "source": [
    "joined_RDD.take(4)"
   ]
  },
  {
   "cell_type": "markdown",
   "metadata": {},
   "source": [
    "# The following code computes average rating for each movie from the joined RDD."
   ]
  },
  {
   "cell_type": "code",
   "execution_count": 34,
   "metadata": {},
   "outputs": [],
   "source": [
    "# Compute average rating for each movie\n",
    "average_rating_RDD = joined_RDD.map(lambda x: (x[0], x[1][0]/x[1][1] ))"
   ]
  },
  {
   "cell_type": "code",
   "execution_count": 35,
   "metadata": {},
   "outputs": [
    {
     "data": {
      "text/plain": [
       "[(1029, 3.7023809523809526),\n",
       " (1263, 3.8645833333333335),\n",
       " (1287, 3.891304347826087),\n",
       " (1293, 3.9782608695652173)]"
      ]
     },
     "execution_count": 35,
     "metadata": {},
     "output_type": "execute_result"
    }
   ],
   "source": [
    "average_rating_RDD.take(4)"
   ]
  },
  {
   "cell_type": "markdown",
   "metadata": {},
   "source": [
    "### The following code joins the average_rating_RDD with movie_review_total_RDD so that we obtain an RDD in the form of \n",
    "```\n",
    "(<movieID>, (<average rating>, <total review>)\n",
    "```\n",
    "### because we want to keep both average rating and total review of each movie so that we can filter on either of them."
   ]
  },
  {
   "cell_type": "code",
   "execution_count": 36,
   "metadata": {},
   "outputs": [],
   "source": [
    "# We want to keep both average review and total number of reviews for each movie. \n",
    "# So we do another join her.\n",
    "avg_rating_total_review_RDD = average_rating_RDD.join(movie_review_total_RDD)"
   ]
  },
  {
   "cell_type": "code",
   "execution_count": 37,
   "metadata": {},
   "outputs": [
    {
     "data": {
      "text/plain": [
       "[(144, (3.326923076923077, 26)),\n",
       " (150, (3.9025, 200)),\n",
       " (168, (3.116279069767442, 43)),\n",
       " (186, (2.875, 48))]"
      ]
     },
     "execution_count": 37,
     "metadata": {},
     "output_type": "execute_result"
    }
   ],
   "source": [
    "avg_rating_total_review_RDD.take(4)"
   ]
  },
  {
   "cell_type": "markdown",
   "metadata": {},
   "source": [
    "## Transforming RDD to Data Frame\n",
    "An RDD can be transformed to a Data Frame using toDF().  We want to transform the RDD containing average rating and total reviews for each movie into a Data Frame so that we can answer questions that involve both movie reviews and generes such as the following:\n",
    "- What movies in a genre (e.g., comedy) has a top 10 average review among those that receive at least k reviews?"
   ]
  },
  {
   "cell_type": "code",
   "execution_count": 38,
   "metadata": {},
   "outputs": [],
   "source": [
    "# Before transforming to Data Frame, we first convert the key value pairs of avg_rating_total_reivew_RDD \n",
    "# which has the format of (<movie ID> (<average rating> <review total>) )  to a tuple of the format\n",
    "# (<movie ID> <average rating> <review total>)\n",
    "avg_rating_total_review_tuple_RDD = avg_rating_total_review_RDD.map(lambda x: (x[0], x[1][0], x[1][1]) )"
   ]
  },
  {
   "cell_type": "code",
   "execution_count": 39,
   "metadata": {},
   "outputs": [
    {
     "data": {
      "text/plain": [
       "[(144, 3.326923076923077, 26),\n",
       " (150, 3.9025, 200),\n",
       " (168, 3.116279069767442, 43),\n",
       " (186, 2.875, 48),\n",
       " (222, 3.9318181818181817, 22)]"
      ]
     },
     "execution_count": 39,
     "metadata": {},
     "output_type": "execute_result"
    }
   ],
   "source": [
    "avg_rating_total_review_tuple_RDD.take(5)"
   ]
  },
  {
   "cell_type": "markdown",
   "metadata": {},
   "source": [
    "## Defining a Schema for Data Frame\n",
    "As we have seen before, each Data Frame has a Schema, which defines the names of the column and the type of values for the column (e.g., string, integer, or float).  There are two ways to specify the schema of a Data Frame:\n",
    "- Infer the schema from the heading and the value of an input file (e.g., CSV).  This is how the schema of movies_DF was created in the beginning of this notebook.\n",
    "- Explicitly specify the Schema\n",
    "We will use one approach in the second category here to specify the column names and the type of column values of the DataFrame to be converted from the RDD above."
   ]
  },
  {
   "cell_type": "markdown",
   "metadata": {},
   "source": [
    "# Exercise 7 (10 points)\n",
    "Define a schema and use it to convert the `avg_rating_total_reive_tuple_RDD` to a DataFrame. The schema should contains three columns: MovieID, AvgRating, and TotalReviews with type integer, float, and integer respectively."
   ]
  },
  {
   "cell_type": "code",
   "execution_count": 40,
   "metadata": {},
   "outputs": [],
   "source": [
    "schema = StructType([ StructField(\"MovieID\", IntegerType(), True ), \\\n",
    "                     StructField(\"AvgRating\", FloatType(), True ), \\\n",
    "                     StructField(\"TotalReviews\", IntegerType(), True) \\\n",
    "                    ])"
   ]
  },
  {
   "cell_type": "code",
   "execution_count": 41,
   "metadata": {},
   "outputs": [],
   "source": [
    "# Convert the RDD to a Data Frame\n",
    "avg_review_DF = avg_rating_total_review_tuple_RDD.toDF(schema)"
   ]
  },
  {
   "cell_type": "code",
   "execution_count": 42,
   "metadata": {},
   "outputs": [
    {
     "name": "stdout",
     "output_type": "stream",
     "text": [
      "root\n",
      " |-- MovieID: integer (nullable = true)\n",
      " |-- AvgRating: float (nullable = true)\n",
      " |-- TotalReviews: integer (nullable = true)\n",
      "\n"
     ]
    }
   ],
   "source": [
    "avg_review_DF.printSchema()"
   ]
  },
  {
   "cell_type": "code",
   "execution_count": 43,
   "metadata": {},
   "outputs": [
    {
     "name": "stdout",
     "output_type": "stream",
     "text": [
      "+-------+---------+------------+\n",
      "|MovieID|AvgRating|TotalReviews|\n",
      "+-------+---------+------------+\n",
      "|    144|3.3269231|          26|\n",
      "|    150|   3.9025|         200|\n",
      "|    168|3.1162791|          43|\n",
      "|    186|    2.875|          48|\n",
      "|    222|3.9318182|          22|\n",
      "+-------+---------+------------+\n",
      "only showing top 5 rows\n",
      "\n"
     ]
    }
   ],
   "source": [
    "avg_review_DF.show(5)"
   ]
  },
  {
   "cell_type": "markdown",
   "metadata": {},
   "source": [
    "# 5. Join Transformation on Two DataFrames\n",
    "We want to join the avg_rating_total_review_DF with movies2_DF"
   ]
  },
  {
   "cell_type": "code",
   "execution_count": 44,
   "metadata": {},
   "outputs": [],
   "source": [
    "joined_DF = avg_review_DF.join(movies2_DF,'MovieID', 'inner')"
   ]
  },
  {
   "cell_type": "code",
   "execution_count": 45,
   "metadata": {},
   "outputs": [
    {
     "name": "stdout",
     "output_type": "stream",
     "text": [
      "root\n",
      " |-- MovieID: integer (nullable = true)\n",
      " |-- MovieTitle: string (nullable = true)\n",
      " |-- Genres: string (nullable = true)\n",
      " |-- Genres_Array: array (nullable = true)\n",
      " |    |-- element: string (containsNull = true)\n",
      "\n"
     ]
    }
   ],
   "source": [
    "movies2_DF.printSchema()"
   ]
  },
  {
   "cell_type": "code",
   "execution_count": 46,
   "metadata": {},
   "outputs": [
    {
     "name": "stdout",
     "output_type": "stream",
     "text": [
      "root\n",
      " |-- MovieID: integer (nullable = true)\n",
      " |-- AvgRating: float (nullable = true)\n",
      " |-- TotalReviews: integer (nullable = true)\n",
      " |-- MovieTitle: string (nullable = true)\n",
      " |-- Genres: string (nullable = true)\n",
      " |-- Genres_Array: array (nullable = true)\n",
      " |    |-- element: string (containsNull = true)\n",
      "\n"
     ]
    }
   ],
   "source": [
    "joined_DF.printSchema()"
   ]
  },
  {
   "cell_type": "code",
   "execution_count": 47,
   "metadata": {},
   "outputs": [
    {
     "name": "stdout",
     "output_type": "stream",
     "text": [
      "+-------+---------+------------+--------------------+--------------------+--------------------+\n",
      "|MovieID|AvgRating|TotalReviews|          MovieTitle|              Genres|        Genres_Array|\n",
      "+-------+---------+------------+--------------------+--------------------+--------------------+\n",
      "|    144|3.3269231|          26|Brothers McMullen...|              Comedy|            [Comedy]|\n",
      "|    150|   3.9025|         200|    Apollo 13 (1995)|Adventure|Drama|IMAX|[Adventure, Drama...|\n",
      "|    168|3.1162791|          43| First Knight (1995)|Action|Drama|Romance|[Action, Drama, R...|\n",
      "|    186|    2.875|          48|  Nine Months (1995)|      Comedy|Romance|   [Comedy, Romance]|\n",
      "|    222|3.9318182|          22|Circle of Friends...|       Drama|Romance|    [Drama, Romance]|\n",
      "|    300|     3.75|          90|    Quiz Show (1994)|               Drama|             [Drama]|\n",
      "+-------+---------+------------+--------------------+--------------------+--------------------+\n",
      "only showing top 6 rows\n",
      "\n"
     ]
    }
   ],
   "source": [
    "joined_DF.show(6)"
   ]
  },
  {
   "cell_type": "markdown",
   "metadata": {},
   "source": [
    "# 6. Filter DataFrame on an Array Column of DataFrame Using `array_contains`\n",
    "\n",
    "## Exercise 8 (10 points)\n",
    "Complete the following code to filter for Adventure movies."
   ]
  },
  {
   "cell_type": "code",
   "execution_count": 48,
   "metadata": {},
   "outputs": [],
   "source": [
    "from pyspark.sql.functions import array_contains\n",
    "Adventure_DF = joined_DF.filter(array_contains(\"Genres_Array\", \\\n",
    "                                               \"Adventure\")).select(\"MovieID\",\"AvgRating\",\"TotalReviews\",\"MovieTitle\")"
   ]
  },
  {
   "cell_type": "code",
   "execution_count": 49,
   "metadata": {},
   "outputs": [
    {
     "name": "stdout",
     "output_type": "stream",
     "text": [
      "+-------+---------+------------+--------------------+\n",
      "|MovieID|AvgRating|TotalReviews|          MovieTitle|\n",
      "+-------+---------+------------+--------------------+\n",
      "|    150|   3.9025|         200|    Apollo 13 (1995)|\n",
      "|    480|3.7062044|         274|Jurassic Park (1993)|\n",
      "|    552|     3.14|          50|Three Musketeers,...|\n",
      "|    588|3.6744187|         215|      Aladdin (1992)|\n",
      "|    720|      4.0|          45|Wallace & Gromit:...|\n",
      "|     60| 2.828125|          32|Indian in the Cup...|\n",
      "|   1884|    3.625|          44|Fear and Loathing...|\n",
      "+-------+---------+------------+--------------------+\n",
      "only showing top 7 rows\n",
      "\n"
     ]
    }
   ],
   "source": [
    "Adventure_DF.show(7)"
   ]
  },
  {
   "cell_type": "code",
   "execution_count": 50,
   "metadata": {},
   "outputs": [
    {
     "data": {
      "text/plain": [
       "1116"
      ]
     },
     "execution_count": 50,
     "metadata": {},
     "output_type": "execute_result"
    }
   ],
   "source": [
    "Adventure_DF.count()"
   ]
  },
  {
   "cell_type": "code",
   "execution_count": 51,
   "metadata": {},
   "outputs": [],
   "source": [
    "Sorted_Adventure_DF = Adventure_DF.orderBy('AvgRating', ascending=False)"
   ]
  },
  {
   "cell_type": "code",
   "execution_count": 52,
   "metadata": {},
   "outputs": [
    {
     "name": "stdout",
     "output_type": "stream",
     "text": [
      "+-------+---------+------------+--------------------+\n",
      "|MovieID|AvgRating|TotalReviews|          MovieTitle|\n",
      "+-------+---------+------------+--------------------+\n",
      "|     53|      5.0|           1|     Lamerica (1994)|\n",
      "|   7355|      5.0|           1|Mr. Toad's Wild R...|\n",
      "|  92210|      5.0|           1|Disappearance of ...|\n",
      "|  95313|      5.0|           1|Jack-Jack Attack ...|\n",
      "| 126430|      5.0|           1|  The Pacific (2010)|\n",
      "| 110873|      5.0|           1|Centenarian Who C...|\n",
      "|   5244|      5.0|           1|Shogun Assassin (...|\n",
      "|  80839|      5.0|           1|  Secretariat (2010)|\n",
      "| 102666|      5.0|           1|Ivan Vasilievich:...|\n",
      "|   2880|      5.0|           1|Armour of God (Lo...|\n",
      "|   5264|      5.0|           1|Clockstoppers (2002)|\n",
      "|   6725|      5.0|           1|Sgt. Pepper's Lon...|\n",
      "|   3612|      5.0|           1|The Slipper and t...|\n",
      "|  97057|      5.0|           1|     Kon-Tiki (2012)|\n",
      "|   5301|      5.0|           1|Bite the Bullet (...|\n",
      "|   4591|      5.0|           1|Erik the Viking (...|\n",
      "|   7302|      5.0|           1|Thief of Bagdad, ...|\n",
      "| 156025|      5.0|           1|Ice Age: The Grea...|\n",
      "|  32515|      5.0|           1|       Walker (1987)|\n",
      "|   4567|      5.0|           1|American Ninja 3:...|\n",
      "|  84414|      5.0|           1|All-Star Superman...|\n",
      "|   7087|      5.0|           2|Passage to India,...|\n",
      "| 106471|      5.0|           1|One Piece Film: S...|\n",
      "|   4565|      5.0|           1|American Ninja (1...|\n",
      "|   7700|     4.75|           2|Wages of Fear, Th...|\n",
      "|  48501|      4.5|           1|     G.O.R.A. (2004)|\n",
      "| 114552|      4.5|           1|Boxtrolls, The (2...|\n",
      "|  95499|      4.5|           1|Dragon Ball Z: Br...|\n",
      "| 136016|      4.5|           2|The Good Dinosaur...|\n",
      "|   4964|      4.5|           1|        Baran (2001)|\n",
      "|  80748|      4.5|           1|Alice in Wonderla...|\n",
      "|   6405|      4.5|           2|Treasure Island (...|\n",
      "|   6116|      4.5|           1|Pirate Movie, The...|\n",
      "|  95475|      4.5|           1|Dragon Ball Z: Co...|\n",
      "|   8341|      4.5|           2| Oliver Twist (1948)|\n",
      "|  62331|      4.5|           1|  Dead Leaves (2004)|\n",
      "|  33138|      4.5|           2|  Palindromes (2004)|\n",
      "|  34435|      4.5|           1|       Sholay (1975)|\n",
      "|  51277|      4.5|           2|36th Chamber of S...|\n",
      "|  71433|      4.5|           1|Black God, White ...|\n",
      "| 115664|      4.5|           1|The Book of Life ...|\n",
      "|  68835|      4.5|           1|Were the World Mi...|\n",
      "| 102252|      4.5|           1|Legendary Weapons...|\n",
      "|   7771|      4.5|           4|Zorba the Greek (...|\n",
      "|   7075|      4.5|           5|Court Jester, The...|\n",
      "| 110352|      4.5|           1|Survival Island (...|\n",
      "|  27186|      4.5|           1|Kirikou and the S...|\n",
      "|  95965|      4.5|           1|Dragon Ball Z: Ba...|\n",
      "|   6536|      4.5|           1|Sinbad: Legend of...|\n",
      "|   1948|4.4583335|          12|    Tom Jones (1963)|\n",
      "+-------+---------+------------+--------------------+\n",
      "only showing top 50 rows\n",
      "\n"
     ]
    }
   ],
   "source": [
    "Sorted_Adventure_DF.show(50)"
   ]
  },
  {
   "cell_type": "code",
   "execution_count": 53,
   "metadata": {},
   "outputs": [
    {
     "name": "stdout",
     "output_type": "stream",
     "text": [
      "+-------+------------------+------------------+------------------+--------------------+\n",
      "|summary|           MovieID|         AvgRating|      TotalReviews|          MovieTitle|\n",
      "+-------+------------------+------------------+------------------+--------------------+\n",
      "|  count|              1116|              1116|              1116|                1116|\n",
      "|   mean|34887.717741935485|3.2298615851496284|19.728494623655912|                null|\n",
      "| stddev| 42190.01946774694|0.8093798887312385|36.577661514336434|                null|\n",
      "|    min|                 1|               0.5|                 1|'Hellboy': The Se...|\n",
      "|    max|            162672|               5.0|               291|Zorba the Greek (...|\n",
      "+-------+------------------+------------------+------------------+--------------------+\n",
      "\n"
     ]
    }
   ],
   "source": [
    "Sorted_Adventure_DF.describe().show()"
   ]
  },
  {
   "cell_type": "markdown",
   "metadata": {},
   "source": [
    "# Exercise 9 (10 points)\n",
    "Complete the code below to show the histogram of the number of total reviews for adventure movies."
   ]
  },
  {
   "cell_type": "code",
   "execution_count": 54,
   "metadata": {},
   "outputs": [
    {
     "data": {
      "text/plain": [
       "([1, 3, 5, 10, 100, 300], [384, 137, 156, 388, 51])"
      ]
     },
     "execution_count": 54,
     "metadata": {},
     "output_type": "execute_result"
    }
   ],
   "source": [
    "Sorted_Adventure_DF.select(\"TotalReviews\").rdd.map(lambda row: row[0]).histogram([1, 3, 5, 10, 100, 300 ])"
   ]
  },
  {
   "cell_type": "markdown",
   "metadata": {},
   "source": [
    "# Exercise 10 (10 points)\n",
    "Use the histogram information in the previous exercise to select a threshold on the minumum number of reviews to be included in what you consider \"top adventure movies\". Use DataFrame method `where` or `filter` to find all adventure movies whose TotalReviews is more than x, where x is a threshold you have chosen based on the histogram."
   ]
  },
  {
   "cell_type": "code",
   "execution_count": 55,
   "metadata": {},
   "outputs": [],
   "source": [
    "Top_Adventure_DF = Sorted_Adventure_DF.where(col(\"TotalReviews\") > 300 )"
   ]
  },
  {
   "cell_type": "code",
   "execution_count": 56,
   "metadata": {},
   "outputs": [
    {
     "name": "stdout",
     "output_type": "stream",
     "text": [
      "+-------+---------+------------+--------------------+\n",
      "|MovieID|AvgRating|TotalReviews|          MovieTitle|\n",
      "+-------+---------+------------+--------------------+\n",
      "|   1948|4.4583335|          12|    Tom Jones (1963)|\n",
      "|    969|     4.42|          50|African Queen, Th...|\n",
      "|  32898|4.3333335|           6|Trip to the Moon,...|\n",
      "|   2344|4.3333335|           6|Runaway Train (1985)|\n",
      "|   7063|4.3333335|           9|Aguirre: The Wrat...|\n",
      "|   1254|      4.3|          30|Treasure of the S...|\n",
      "|   6016|4.2971015|          69|City of God (Cida...|\n",
      "|   2019|4.2777777|          54|Seven Samurai (Sh...|\n",
      "|    908| 4.270115|          87|North by Northwes...|\n",
      "|   2936|     4.25|           6|Sullivan's Travel...|\n",
      "+-------+---------+------------+--------------------+\n",
      "only showing top 10 rows\n",
      "\n"
     ]
    }
   ],
   "source": [
    "Top_Adventure_DF.show(10)"
   ]
  },
  {
   "cell_type": "code",
   "execution_count": 57,
   "metadata": {},
   "outputs": [
    {
     "data": {
      "text/plain": [
       "546"
      ]
     },
     "execution_count": 57,
     "metadata": {},
     "output_type": "execute_result"
    }
   ],
   "source": [
    "Top_Adventure_DF.count()"
   ]
  },
  {
   "cell_type": "markdown",
   "metadata": {},
   "source": [
    "## Exercise 11 (10 ponts)\n",
    "Complete the code below to save the Adventure Movies, ordered by average rating, that received at least x reviews (x is the threshold you set for Exercise 9."
   ]
  },
  {
   "cell_type": "code",
   "execution_count": 58,
   "metadata": {},
   "outputs": [],
   "source": [
    "output_path = \"/storage/home/hxw5245/Lab4/Lab4_Sorted_Top_Adventure_Movies\"\n",
    "Top_Adventure_rdd = Top_Adventure_DF.rdd\n",
    "Top_Adventure_rdd.saveAsTextFile(output_path)"
   ]
  },
  {
   "cell_type": "code",
   "execution_count": 59,
   "metadata": {},
   "outputs": [],
   "source": [
    "ss.stop()"
   ]
  },
  {
   "cell_type": "code",
   "execution_count": null,
   "metadata": {},
   "outputs": [],
   "source": []
  }
 ],
 "metadata": {
  "kernelspec": {
   "display_name": "Python 3",
   "language": "python",
   "name": "python3"
  },
  "language_info": {
   "codemirror_mode": {
    "name": "ipython",
    "version": 3
   },
   "file_extension": ".py",
   "mimetype": "text/x-python",
   "name": "python",
   "nbconvert_exporter": "python",
   "pygments_lexer": "ipython3",
   "version": "3.8.3"
  }
 },
 "nbformat": 4,
 "nbformat_minor": 4
}
