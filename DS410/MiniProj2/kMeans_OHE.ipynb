{
 "cells": [
  {
   "cell_type": "markdown",
   "metadata": {},
   "source": [
    "# DS/CMPSC 410 MiniProject Deliverable #2\n",
    "\n",
    "# Spring 2022\n",
    "### Instructor: Prof. John Yen\n",
    "### TA: Rupesh Prajapati\n",
    "### LA: Lily Jakielaszek and Cayla Shan Pun\n",
    "\n",
    "### Learning Objectives\n",
    "- Be able to apply k-means clustering to the Darknet dataset.\n",
    "- Be able to identify the set of top k ports for one-hot encoding ports scanned.\n",
    "- Be able to characterize generated clusters using cluster centers.\n",
    "- Be able to compare and evaluate the result of k-means clustering with different features using Silhouette score and external labels.\n",
    "\n",
    "### Total points: 100 \n",
    "- Exercise 1: 5 points\n",
    "- Exercise 2: 5 points \n",
    "- Exercise 3: 10 points \n",
    "- Exercise 4: 5 points\n",
    "- Exercise 5: 10 points\n",
    "- Exercise 6: 10 points\n",
    "- Exercise 7: 15 points\n",
    "- Exercise 8: 10 points\n",
    "- Exercise 9: 30 points\n",
    "  \n",
    "### Due: 11:59 pm, April 10, 2022"
   ]
  },
  {
   "cell_type": "code",
   "execution_count": 1,
   "metadata": {},
   "outputs": [],
   "source": [
    "import pyspark\n",
    "import csv"
   ]
  },
  {
   "cell_type": "code",
   "execution_count": 2,
   "metadata": {},
   "outputs": [],
   "source": [
    "from pyspark import SparkContext\n",
    "from pyspark.sql import SparkSession\n",
    "from pyspark.sql.types import StructField, StructType, StringType, LongType\n",
    "from pyspark.sql.functions import col, column\n",
    "from pyspark.sql.functions import expr\n",
    "from pyspark.sql.functions import split\n",
    "from pyspark.sql.functions import array_contains\n",
    "from pyspark.sql import Row\n",
    "from pyspark.ml import Pipeline\n",
    "from pyspark.ml.feature import OneHotEncoder, StringIndexer, VectorAssembler, IndexToString\n",
    "from pyspark.ml.clustering import KMeans\n",
    "from pyspark.ml.evaluation import ClusteringEvaluator"
   ]
  },
  {
   "cell_type": "code",
   "execution_count": 3,
   "metadata": {},
   "outputs": [],
   "source": [
    "ss = SparkSession.builder.master(\"local\").appName(\"MiniProject 2 Clustering OHE\").getOrCreate()"
   ]
  },
  {
   "cell_type": "markdown",
   "metadata": {},
   "source": [
    "## Exercise 1 (5 points)\n",
    "Complete the path for input file in the code below and enter your name in this Markdown cell:\n",
    "- Name: Haichen Wei"
   ]
  },
  {
   "cell_type": "code",
   "execution_count": 4,
   "metadata": {},
   "outputs": [],
   "source": [
    "Scanners_df = ss.read.csv(\"/storage/home/hxw5245/MiniProj1/sampled_profile.csv\", header= True, inferSchema=True )"
   ]
  },
  {
   "cell_type": "markdown",
   "metadata": {},
   "source": [
    "## We can use printSchema() to display the schema of the DataFrame Scanners_df to see whether it was inferred correctly."
   ]
  },
  {
   "cell_type": "code",
   "execution_count": 5,
   "metadata": {},
   "outputs": [
    {
     "name": "stdout",
     "output_type": "stream",
     "text": [
      "root\n",
      " |-- _c0: integer (nullable = true)\n",
      " |-- id: integer (nullable = true)\n",
      " |-- numports: integer (nullable = true)\n",
      " |-- lifetime: double (nullable = true)\n",
      " |-- Bytes: integer (nullable = true)\n",
      " |-- Packets: integer (nullable = true)\n",
      " |-- average_packetsize: integer (nullable = true)\n",
      " |-- MinUniqueDests: integer (nullable = true)\n",
      " |-- MaxUniqueDests: integer (nullable = true)\n",
      " |-- MinUniqueDest24s: integer (nullable = true)\n",
      " |-- MaxUniqueDest24s: integer (nullable = true)\n",
      " |-- average_lifetime: double (nullable = true)\n",
      " |-- mirai: boolean (nullable = true)\n",
      " |-- zmap: boolean (nullable = true)\n",
      " |-- masscan: boolean (nullable = true)\n",
      " |-- country: string (nullable = true)\n",
      " |-- traffic_types_scanned_str: string (nullable = true)\n",
      " |-- ports_scanned_str: string (nullable = true)\n",
      " |-- host_tags_per_censys: string (nullable = true)\n",
      " |-- host_services_per_censys: string (nullable = true)\n",
      "\n"
     ]
    }
   ],
   "source": [
    "Scanners_df.printSchema()"
   ]
  },
  {
   "cell_type": "markdown",
   "metadata": {},
   "source": [
    "# Exercise 1: Write Your Name Below: (5 points)\n",
    "## Solution to Exercise 1: Haichen Wei"
   ]
  },
  {
   "cell_type": "markdown",
   "metadata": {},
   "source": [
    "# Part A: One Hot Encoding of Top 50 Ports\n",
    "We want to apply one hot encoding to the top k set of ports scanned by scanners. \n",
    "- A1: Find top k ports scanned by most scanners (This is similar to the first part of MiniProject 1)\n",
    "- A2: Generate One Hot Encodding for these top k ports"
   ]
  },
  {
   "cell_type": "code",
   "execution_count": 6,
   "metadata": {},
   "outputs": [
    {
     "name": "stdout",
     "output_type": "stream",
     "text": [
      "+-----------------+\n",
      "|ports_scanned_str|\n",
      "+-----------------+\n",
      "|            13716|\n",
      "|      17128-17136|\n",
      "|            35134|\n",
      "|            17140|\n",
      "+-----------------+\n",
      "only showing top 4 rows\n",
      "\n"
     ]
    }
   ],
   "source": [
    "Scanners_df.select(\"ports_scanned_str\").show(4)"
   ]
  },
  {
   "cell_type": "markdown",
   "metadata": {},
   "source": [
    "# Count the Total Number of Scanners, regardless how many ports they scan, that Scan a Given Port\n",
    "Like MiniProject 1, to calculate this, we need to \n",
    "- (a) convert the ports_scanned_str into an array/list of ports\n",
    "- (b) Convert the DataFrame into an RDD\n",
    "- (c) Use flatMap to count the total number of scanners for each port."
   ]
  },
  {
   "cell_type": "markdown",
   "metadata": {},
   "source": [
    "# The Following Code Implements the three steps.\n",
    "## (a) Split the column \"Ports_Array\" into an Array of ports."
   ]
  },
  {
   "cell_type": "code",
   "execution_count": 7,
   "metadata": {},
   "outputs": [
    {
     "name": "stdout",
     "output_type": "stream",
     "text": [
      "+-------+-------+--------+--------+-----+-------+------------------+--------------+--------------+----------------+----------------+----------------+-----+-----+-------+-------+-------------------------+--------------------+--------------------+------------------------+--------------------+\n",
      "|    _c0|     id|numports|lifetime|Bytes|Packets|average_packetsize|MinUniqueDests|MaxUniqueDests|MinUniqueDest24s|MaxUniqueDest24s|average_lifetime|mirai| zmap|masscan|country|traffic_types_scanned_str|   ports_scanned_str|host_tags_per_censys|host_services_per_censys|         Ports_Array|\n",
      "+-------+-------+--------+--------+-----+-------+------------------+--------------+--------------+----------------+----------------+----------------+-----+-----+-------+-------+-------------------------+--------------------+--------------------+------------------------+--------------------+\n",
      "|1645181|1645181|       1|     0.0|   60|      1|                60|             1|             1|               1|               1|             0.0|false|false|  false|     BR|                       15|               13716|                null|                    null|             [13716]|\n",
      "|2091467|2091467|       2|  199.84|  752|     12|                62|             1|             1|               1|               1|           66.61|false|false|  false|     CN|                    11-16|         17128-17136|                null|                    null|      [17128, 17136]|\n",
      "| 888618| 888618|       1|     0.0|   60|      1|                60|             1|             1|               1|               1|             0.0|false|false|  false|     US|                       15|               35134|                null|                    null|             [35134]|\n",
      "|1512937|1512937|       1|  793.37| 1561|     23|                67|             1|             1|               1|               1|          396.69|false|false|  false|     JP|                    11-16|               17140|                null|                    null|             [17140]|\n",
      "| 654939| 654939|       1|   48.69|  571|      3|               190|             1|             2|               1|               2|           24.34|false|false|  false|     TR|                       16|               54594|                null|                    8081|             [54594]|\n",
      "|  73109|  73109|       1| 1056.83| 1924|     26|                74|             1|             1|               1|               1|         1056.83|false|false|  false|     CN|                       11|               17130|                null|                    null|             [17130]|\n",
      "| 923577| 923577|       1|  348.42|  465|      3|               155|             1|             2|               1|               2|          174.21|false|false|  false|     JO|                       16|               54594|                null|                    null|             [54594]|\n",
      "|1349341|1349341|       1|     0.0|   60|      1|                60|             1|             1|               1|               1|             0.0|false|false|  false|     US|                       15|               37876|                null|                    null|             [37876]|\n",
      "|1959916|1959916|       1|  814.15| 1631|     24|                67|             1|             1|               1|               1|          407.07|false|false|  false|     TW|                    11-16|               17142|                null|                    null|             [17142]|\n",
      "| 565394| 565394|       7| 2505.48| 5422|     71|                76|             1|             3|               1|               3|          119.31|false|false|  false|     CN|                    11-16|17128-17130-17132...|                null|                    null|[17128, 17130, 17...|\n",
      "+-------+-------+--------+--------+-----+-------+------------------+--------------+--------------+----------------+----------------+----------------+-----+-----+-------+-------+-------------------------+--------------------+--------------------+------------------------+--------------------+\n",
      "only showing top 10 rows\n",
      "\n"
     ]
    }
   ],
   "source": [
    "# (a)\n",
    "Scanners_df2=Scanners_df.withColumn(\"Ports_Array\", split(col(\"ports_scanned_str\"), \"-\") )\n",
    "Scanners_df2.show(10)"
   ]
  },
  {
   "cell_type": "markdown",
   "metadata": {},
   "source": [
    "## (b) We convert the column ```Ports_Array``` into an RDD so that we can apply flatMap for counting."
   ]
  },
  {
   "cell_type": "code",
   "execution_count": 8,
   "metadata": {},
   "outputs": [],
   "source": [
    "Ports_Scanned_RDD = Scanners_df2.select(\"Ports_Array\").rdd"
   ]
  },
  {
   "cell_type": "code",
   "execution_count": 9,
   "metadata": {},
   "outputs": [
    {
     "data": {
      "text/plain": [
       "[Row(Ports_Array=['13716']),\n",
       " Row(Ports_Array=['17128', '17136']),\n",
       " Row(Ports_Array=['35134']),\n",
       " Row(Ports_Array=['17140']),\n",
       " Row(Ports_Array=['54594'])]"
      ]
     },
     "execution_count": 9,
     "metadata": {},
     "output_type": "execute_result"
    }
   ],
   "source": [
    "Ports_Scanned_RDD.take(5)"
   ]
  },
  {
   "cell_type": "markdown",
   "metadata": {},
   "source": [
    "## II.(c) Because each port number in the Ports_Array column for each row/scanner occurs only once, we can count the total number of scanners by counting the total occurance of each port number through flatMap.\n",
    "### Because each element of the rdd is a Row object, we need to first extract the first element of the row object, which is the list of Ports, from the ``Ports_Scanned_RDD``\n",
    "### We can then count the total number of occurance of a port using map and reduceByKey, like counting word/hashtag frequency in tweets."
   ]
  },
  {
   "cell_type": "code",
   "execution_count": 10,
   "metadata": {},
   "outputs": [],
   "source": [
    "# This step is for demonstration purpose only.\n",
    "Ports_list_RDD = Ports_Scanned_RDD.map(lambda row: row[0] )"
   ]
  },
  {
   "cell_type": "code",
   "execution_count": 11,
   "metadata": {},
   "outputs": [
    {
     "data": {
      "text/plain": [
       "[['13716'], ['17128', '17136'], ['35134']]"
      ]
     },
     "execution_count": 11,
     "metadata": {},
     "output_type": "execute_result"
    }
   ],
   "source": [
    "Ports_list_RDD.take(3)"
   ]
  },
  {
   "cell_type": "code",
   "execution_count": 12,
   "metadata": {},
   "outputs": [],
   "source": [
    "Ports_list2_RDD = Ports_Scanned_RDD.flatMap(lambda row: row[0] )"
   ]
  },
  {
   "cell_type": "code",
   "execution_count": 13,
   "metadata": {},
   "outputs": [
    {
     "data": {
      "text/plain": [
       "['13716', '17128', '17136', '35134', '17140', '54594', '17130']"
      ]
     },
     "execution_count": 13,
     "metadata": {},
     "output_type": "execute_result"
    }
   ],
   "source": [
    "Ports_list2_RDD.take(7)"
   ]
  },
  {
   "cell_type": "code",
   "execution_count": 14,
   "metadata": {},
   "outputs": [
    {
     "data": {
      "text/plain": [
       "[('13716', 1),\n",
       " ('17128', 1),\n",
       " ('17136', 1),\n",
       " ('35134', 1),\n",
       " ('17140', 1),\n",
       " ('54594', 1),\n",
       " ('17130', 1)]"
      ]
     },
     "execution_count": 14,
     "metadata": {},
     "output_type": "execute_result"
    }
   ],
   "source": [
    "Port_count_RDD = Ports_list2_RDD.map(lambda x: (x, 1))\n",
    "Port_count_RDD.take(7)"
   ]
  },
  {
   "cell_type": "code",
   "execution_count": 15,
   "metadata": {},
   "outputs": [
    {
     "data": {
      "text/plain": [
       "[('13716', 14),\n",
       " ('17128', 31850),\n",
       " ('17136', 31617),\n",
       " ('35134', 13),\n",
       " ('17140', 31865)]"
      ]
     },
     "execution_count": 15,
     "metadata": {},
     "output_type": "execute_result"
    }
   ],
   "source": [
    "Port_count_total_RDD = Port_count_RDD.reduceByKey(lambda x,y: x+y)\n",
    "Port_count_total_RDD.take(5)"
   ]
  },
  {
   "cell_type": "markdown",
   "metadata": {},
   "source": [
    "# Exercise 2 (5%)\n",
    "### Find the total number of ports being scanned by \n",
    "- (a) completing the code below"
   ]
  },
  {
   "cell_type": "code",
   "execution_count": 16,
   "metadata": {},
   "outputs": [
    {
     "data": {
      "text/plain": [
       "65536"
      ]
     },
     "execution_count": 16,
     "metadata": {},
     "output_type": "execute_result"
    }
   ],
   "source": [
    "Port_count_total_RDD.count()"
   ]
  },
  {
   "cell_type": "markdown",
   "metadata": {},
   "source": [
    "# Exercise 3 (10 points)\n",
    "### Complete the code below for finding top 50 ports."
   ]
  },
  {
   "cell_type": "code",
   "execution_count": 17,
   "metadata": {},
   "outputs": [],
   "source": [
    "Sorted_Count_Port_RDD = Port_count_total_RDD.map(lambda x: (x[1], x[0])).sortByKey( ascending = False)"
   ]
  },
  {
   "cell_type": "code",
   "execution_count": 18,
   "metadata": {},
   "outputs": [
    {
     "data": {
      "text/plain": [
       "[(32014, '17132'),\n",
       " (31865, '17140'),\n",
       " (31850, '17128'),\n",
       " (31805, '17138'),\n",
       " (31630, '17130'),\n",
       " (31617, '17136'),\n",
       " (29199, '23'),\n",
       " (25466, '445'),\n",
       " (25216, '54594'),\n",
       " (21700, '17142'),\n",
       " (21560, '17134'),\n",
       " (15010, '80'),\n",
       " (13698, '8080'),\n",
       " (8778, '0'),\n",
       " (6265, '2323'),\n",
       " (5552, '5555'),\n",
       " (4930, '81'),\n",
       " (4103, '1023'),\n",
       " (4058, '52869'),\n",
       " (4012, '8443'),\n",
       " (3954, '49152'),\n",
       " (3885, '7574'),\n",
       " (3874, '37215'),\n",
       " (3318, '34218'),\n",
       " (3279, '34220'),\n",
       " (3258, '33968'),\n",
       " (3257, '34224'),\n",
       " (3253, '34228'),\n",
       " (3252, '33962'),\n",
       " (3236, '33960'),\n",
       " (3209, '33964'),\n",
       " (3179, '34216'),\n",
       " (3167, '34226'),\n",
       " (3155, '33970'),\n",
       " (3130, '33972'),\n",
       " (2428, '50401'),\n",
       " (1954, '34222'),\n",
       " (1921, '34230'),\n",
       " (1919, '33966'),\n",
       " (1819, '33974'),\n",
       " (1225, '3389'),\n",
       " (1064, '1433'),\n",
       " (885, '22'),\n",
       " (878, '5353'),\n",
       " (604, '21'),\n",
       " (594, '8291'),\n",
       " (554, '8728'),\n",
       " (512, '443'),\n",
       " (382, '5900'),\n",
       " (330, '8000')]"
      ]
     },
     "execution_count": 18,
     "metadata": {},
     "output_type": "execute_result"
    }
   ],
   "source": [
    "Sorted_Count_Port_RDD.take(50)"
   ]
  },
  {
   "cell_type": "code",
   "execution_count": 19,
   "metadata": {},
   "outputs": [],
   "source": [
    "top_ports= 50\n",
    "Sorted_Ports_RDD= Sorted_Count_Port_RDD.map(lambda x: x[1] )\n",
    "Top_Ports_list = Sorted_Ports_RDD.take(top_ports)"
   ]
  },
  {
   "cell_type": "code",
   "execution_count": 20,
   "metadata": {},
   "outputs": [
    {
     "data": {
      "text/plain": [
       "['17132',\n",
       " '17140',\n",
       " '17128',\n",
       " '17138',\n",
       " '17130',\n",
       " '17136',\n",
       " '23',\n",
       " '445',\n",
       " '54594',\n",
       " '17142',\n",
       " '17134',\n",
       " '80',\n",
       " '8080',\n",
       " '0',\n",
       " '2323',\n",
       " '5555',\n",
       " '81',\n",
       " '1023',\n",
       " '52869',\n",
       " '8443',\n",
       " '49152',\n",
       " '7574',\n",
       " '37215',\n",
       " '34218',\n",
       " '34220',\n",
       " '33968',\n",
       " '34224',\n",
       " '34228',\n",
       " '33962',\n",
       " '33960',\n",
       " '33964',\n",
       " '34216',\n",
       " '34226',\n",
       " '33970',\n",
       " '33972',\n",
       " '50401',\n",
       " '34222',\n",
       " '34230',\n",
       " '33966',\n",
       " '33974',\n",
       " '3389',\n",
       " '1433',\n",
       " '22',\n",
       " '5353',\n",
       " '21',\n",
       " '8291',\n",
       " '8728',\n",
       " '443',\n",
       " '5900',\n",
       " '8000']"
      ]
     },
     "execution_count": 20,
     "metadata": {},
     "output_type": "execute_result"
    }
   ],
   "source": [
    "Top_Ports_list"
   ]
  },
  {
   "cell_type": "markdown",
   "metadata": {},
   "source": [
    "#  A.2 One Hot Encoding of Top K Ports\n",
    "## One-Hot-Encoded Feature/Column Name\n",
    "Because we need to create a name for each one-hot-encoded feature, which is one of the top k ports, we can adopt the convention that the column name is \"PortXXXX\", where \"XXXX\" is a port number. This can be done by concatenating two strings using ``+``."
   ]
  },
  {
   "cell_type": "code",
   "execution_count": 21,
   "metadata": {},
   "outputs": [
    {
     "data": {
      "text/plain": [
       "'17132'"
      ]
     },
     "execution_count": 21,
     "metadata": {},
     "output_type": "execute_result"
    }
   ],
   "source": [
    "Top_Ports_list[0]"
   ]
  },
  {
   "cell_type": "code",
   "execution_count": 22,
   "metadata": {},
   "outputs": [],
   "source": [
    "FeatureName = \"Port\"+Top_Ports_list[0]"
   ]
  },
  {
   "cell_type": "code",
   "execution_count": 23,
   "metadata": {},
   "outputs": [
    {
     "data": {
      "text/plain": [
       "'Port17132'"
      ]
     },
     "execution_count": 23,
     "metadata": {},
     "output_type": "execute_result"
    }
   ],
   "source": [
    "FeatureName"
   ]
  },
  {
   "cell_type": "markdown",
   "metadata": {},
   "source": [
    "## One-Hot-Encoding using withColumn and array_contains"
   ]
  },
  {
   "cell_type": "code",
   "execution_count": 24,
   "metadata": {},
   "outputs": [],
   "source": [
    "from pyspark.sql.functions import array_contains"
   ]
  },
  {
   "cell_type": "code",
   "execution_count": 25,
   "metadata": {},
   "outputs": [],
   "source": [
    "Scanners_df3=Scanners_df2.withColumn(FeatureName, array_contains(\"Ports_Array\", Top_Ports_list[0]))"
   ]
  },
  {
   "cell_type": "code",
   "execution_count": 26,
   "metadata": {},
   "outputs": [
    {
     "name": "stdout",
     "output_type": "stream",
     "text": [
      "+-------+-------+--------+--------+-----+-------+------------------+--------------+--------------+----------------+----------------+----------------+-----+-----+-------+-------+-------------------------+--------------------+--------------------+------------------------+--------------------+---------+\n",
      "|    _c0|     id|numports|lifetime|Bytes|Packets|average_packetsize|MinUniqueDests|MaxUniqueDests|MinUniqueDest24s|MaxUniqueDest24s|average_lifetime|mirai| zmap|masscan|country|traffic_types_scanned_str|   ports_scanned_str|host_tags_per_censys|host_services_per_censys|         Ports_Array|Port17132|\n",
      "+-------+-------+--------+--------+-----+-------+------------------+--------------+--------------+----------------+----------------+----------------+-----+-----+-------+-------+-------------------------+--------------------+--------------------+------------------------+--------------------+---------+\n",
      "|1645181|1645181|       1|     0.0|   60|      1|                60|             1|             1|               1|               1|             0.0|false|false|  false|     BR|                       15|               13716|                null|                    null|             [13716]|    false|\n",
      "|2091467|2091467|       2|  199.84|  752|     12|                62|             1|             1|               1|               1|           66.61|false|false|  false|     CN|                    11-16|         17128-17136|                null|                    null|      [17128, 17136]|    false|\n",
      "| 888618| 888618|       1|     0.0|   60|      1|                60|             1|             1|               1|               1|             0.0|false|false|  false|     US|                       15|               35134|                null|                    null|             [35134]|    false|\n",
      "|1512937|1512937|       1|  793.37| 1561|     23|                67|             1|             1|               1|               1|          396.69|false|false|  false|     JP|                    11-16|               17140|                null|                    null|             [17140]|    false|\n",
      "| 654939| 654939|       1|   48.69|  571|      3|               190|             1|             2|               1|               2|           24.34|false|false|  false|     TR|                       16|               54594|                null|                    8081|             [54594]|    false|\n",
      "|  73109|  73109|       1| 1056.83| 1924|     26|                74|             1|             1|               1|               1|         1056.83|false|false|  false|     CN|                       11|               17130|                null|                    null|             [17130]|    false|\n",
      "| 923577| 923577|       1|  348.42|  465|      3|               155|             1|             2|               1|               2|          174.21|false|false|  false|     JO|                       16|               54594|                null|                    null|             [54594]|    false|\n",
      "|1349341|1349341|       1|     0.0|   60|      1|                60|             1|             1|               1|               1|             0.0|false|false|  false|     US|                       15|               37876|                null|                    null|             [37876]|    false|\n",
      "|1959916|1959916|       1|  814.15| 1631|     24|                67|             1|             1|               1|               1|          407.07|false|false|  false|     TW|                    11-16|               17142|                null|                    null|             [17142]|    false|\n",
      "| 565394| 565394|       7| 2505.48| 5422|     71|                76|             1|             3|               1|               3|          119.31|false|false|  false|     CN|                    11-16|17128-17130-17132...|                null|                    null|[17128, 17130, 17...|     true|\n",
      "+-------+-------+--------+--------+-----+-------+------------------+--------------+--------------+----------------+----------------+----------------+-----+-----+-------+-------+-------------------------+--------------------+--------------------+------------------------+--------------------+---------+\n",
      "only showing top 10 rows\n",
      "\n"
     ]
    }
   ],
   "source": [
    "Scanners_df3.show(10)"
   ]
  },
  {
   "cell_type": "markdown",
   "metadata": {},
   "source": [
    "## Verify the Correctness of One-Hot-Encoded Feature\n",
    "## Exercise 4 (5 points)\n",
    "### Check whether one-hot encoding of the first top port is encoded correctly by completing the code below and enter your answer the in the next Markdown cell."
   ]
  },
  {
   "cell_type": "code",
   "execution_count": 32,
   "metadata": {},
   "outputs": [],
   "source": [
    "First_top_port_scanners_count = Scanners_df3.where(col(\"Port17132\") == True).rdd.count()"
   ]
  },
  {
   "cell_type": "code",
   "execution_count": 33,
   "metadata": {},
   "outputs": [
    {
     "name": "stdout",
     "output_type": "stream",
     "text": [
      "32014\n"
     ]
    }
   ],
   "source": [
    "print(First_top_port_scanners_count)"
   ]
  },
  {
   "cell_type": "markdown",
   "metadata": {},
   "source": [
    "## Answer for Exercise 4:\n",
    "- The total number of scanners that scan the first top port, based on ``Sorted_Count_Port_RDD`` is: 32014.\n",
    "- Is this number the same as the number of scanners whose One-Hot-Encoded feature of the first top port is True?\n",
    "\n",
    "    It is the same number as One-Hot-Encoded feature of the first top port is True."
   ]
  },
  {
   "cell_type": "markdown",
   "metadata": {},
   "source": [
    "## Generate Hot-One Encoded Feature for each of the top k ports in the Top_Ports_list\n",
    "\n",
    "- Iterate through the Top_Ports_list so that each top port is one-hot encoded."
   ]
  },
  {
   "cell_type": "markdown",
   "metadata": {},
   "source": [
    "## Exercise 5 (10 points)\n",
    "Complete the following PySpark code for encoding the n ports using One Hot Encoding, where n is specified by the variable ```top_ports```"
   ]
  },
  {
   "cell_type": "code",
   "execution_count": 34,
   "metadata": {},
   "outputs": [
    {
     "data": {
      "text/plain": [
       "50"
      ]
     },
     "execution_count": 34,
     "metadata": {},
     "output_type": "execute_result"
    }
   ],
   "source": [
    "top_ports"
   ]
  },
  {
   "cell_type": "code",
   "execution_count": 35,
   "metadata": {},
   "outputs": [
    {
     "data": {
      "text/plain": [
       "'8000'"
      ]
     },
     "execution_count": 35,
     "metadata": {},
     "output_type": "execute_result"
    }
   ],
   "source": [
    "Top_Ports_list[49]"
   ]
  },
  {
   "cell_type": "code",
   "execution_count": 36,
   "metadata": {},
   "outputs": [],
   "source": [
    "for i in range(0, top_ports):\n",
    "    # \"Port\" + Top_Ports_list[i]  is the name of each new feature created through One Hot Encoding\n",
    "    Scanners_df3 = Scanners_df2.withColumn(\"Port\" + Top_Ports_list[i], array_contains(\"Ports_Array\", Top_Ports_list[i]))\n",
    "    Scanners_df2 = Scanners_df3"
   ]
  },
  {
   "cell_type": "code",
   "execution_count": 37,
   "metadata": {},
   "outputs": [
    {
     "name": "stdout",
     "output_type": "stream",
     "text": [
      "root\n",
      " |-- _c0: integer (nullable = true)\n",
      " |-- id: integer (nullable = true)\n",
      " |-- numports: integer (nullable = true)\n",
      " |-- lifetime: double (nullable = true)\n",
      " |-- Bytes: integer (nullable = true)\n",
      " |-- Packets: integer (nullable = true)\n",
      " |-- average_packetsize: integer (nullable = true)\n",
      " |-- MinUniqueDests: integer (nullable = true)\n",
      " |-- MaxUniqueDests: integer (nullable = true)\n",
      " |-- MinUniqueDest24s: integer (nullable = true)\n",
      " |-- MaxUniqueDest24s: integer (nullable = true)\n",
      " |-- average_lifetime: double (nullable = true)\n",
      " |-- mirai: boolean (nullable = true)\n",
      " |-- zmap: boolean (nullable = true)\n",
      " |-- masscan: boolean (nullable = true)\n",
      " |-- country: string (nullable = true)\n",
      " |-- traffic_types_scanned_str: string (nullable = true)\n",
      " |-- ports_scanned_str: string (nullable = true)\n",
      " |-- host_tags_per_censys: string (nullable = true)\n",
      " |-- host_services_per_censys: string (nullable = true)\n",
      " |-- Ports_Array: array (nullable = true)\n",
      " |    |-- element: string (containsNull = true)\n",
      " |-- Port17132: boolean (nullable = true)\n",
      " |-- Port17140: boolean (nullable = true)\n",
      " |-- Port17128: boolean (nullable = true)\n",
      " |-- Port17138: boolean (nullable = true)\n",
      " |-- Port17130: boolean (nullable = true)\n",
      " |-- Port17136: boolean (nullable = true)\n",
      " |-- Port23: boolean (nullable = true)\n",
      " |-- Port445: boolean (nullable = true)\n",
      " |-- Port54594: boolean (nullable = true)\n",
      " |-- Port17142: boolean (nullable = true)\n",
      " |-- Port17134: boolean (nullable = true)\n",
      " |-- Port80: boolean (nullable = true)\n",
      " |-- Port8080: boolean (nullable = true)\n",
      " |-- Port0: boolean (nullable = true)\n",
      " |-- Port2323: boolean (nullable = true)\n",
      " |-- Port5555: boolean (nullable = true)\n",
      " |-- Port81: boolean (nullable = true)\n",
      " |-- Port1023: boolean (nullable = true)\n",
      " |-- Port52869: boolean (nullable = true)\n",
      " |-- Port8443: boolean (nullable = true)\n",
      " |-- Port49152: boolean (nullable = true)\n",
      " |-- Port7574: boolean (nullable = true)\n",
      " |-- Port37215: boolean (nullable = true)\n",
      " |-- Port34218: boolean (nullable = true)\n",
      " |-- Port34220: boolean (nullable = true)\n",
      " |-- Port33968: boolean (nullable = true)\n",
      " |-- Port34224: boolean (nullable = true)\n",
      " |-- Port34228: boolean (nullable = true)\n",
      " |-- Port33962: boolean (nullable = true)\n",
      " |-- Port33960: boolean (nullable = true)\n",
      " |-- Port33964: boolean (nullable = true)\n",
      " |-- Port34216: boolean (nullable = true)\n",
      " |-- Port34226: boolean (nullable = true)\n",
      " |-- Port33970: boolean (nullable = true)\n",
      " |-- Port33972: boolean (nullable = true)\n",
      " |-- Port50401: boolean (nullable = true)\n",
      " |-- Port34222: boolean (nullable = true)\n",
      " |-- Port34230: boolean (nullable = true)\n",
      " |-- Port33966: boolean (nullable = true)\n",
      " |-- Port33974: boolean (nullable = true)\n",
      " |-- Port3389: boolean (nullable = true)\n",
      " |-- Port1433: boolean (nullable = true)\n",
      " |-- Port22: boolean (nullable = true)\n",
      " |-- Port5353: boolean (nullable = true)\n",
      " |-- Port21: boolean (nullable = true)\n",
      " |-- Port8291: boolean (nullable = true)\n",
      " |-- Port8728: boolean (nullable = true)\n",
      " |-- Port443: boolean (nullable = true)\n",
      " |-- Port5900: boolean (nullable = true)\n",
      " |-- Port8000: boolean (nullable = true)\n",
      "\n"
     ]
    }
   ],
   "source": [
    "Scanners_df2.printSchema()"
   ]
  },
  {
   "cell_type": "markdown",
   "metadata": {},
   "source": [
    "## Exercise 6 (10 points)\n",
    "Complete the code below to use k-means to cluster the scanners using one-hot-encoded top 50 ports and the following two  features:\n",
    "- lifetime  : The average lifetime of scanners.\n",
    "- Packets   : The average number of packets scanned by each scanner."
   ]
  },
  {
   "cell_type": "markdown",
   "metadata": {},
   "source": [
    "## Specify Parameters for k Means Clustering"
   ]
  },
  {
   "cell_type": "code",
   "execution_count": 38,
   "metadata": {},
   "outputs": [],
   "source": [
    "input_features = [ \"lifetime\", \"Packets\"]\n",
    "for i in range(0, top_ports ):\n",
    "    input_features.append( \"Port\"+ Top_Ports_list[i] )"
   ]
  },
  {
   "cell_type": "code",
   "execution_count": 39,
   "metadata": {},
   "outputs": [
    {
     "name": "stdout",
     "output_type": "stream",
     "text": [
      "['lifetime', 'Packets', 'Port17132', 'Port17140', 'Port17128', 'Port17138', 'Port17130', 'Port17136', 'Port23', 'Port445', 'Port54594', 'Port17142', 'Port17134', 'Port80', 'Port8080', 'Port0', 'Port2323', 'Port5555', 'Port81', 'Port1023', 'Port52869', 'Port8443', 'Port49152', 'Port7574', 'Port37215', 'Port34218', 'Port34220', 'Port33968', 'Port34224', 'Port34228', 'Port33962', 'Port33960', 'Port33964', 'Port34216', 'Port34226', 'Port33970', 'Port33972', 'Port50401', 'Port34222', 'Port34230', 'Port33966', 'Port33974', 'Port3389', 'Port1433', 'Port22', 'Port5353', 'Port21', 'Port8291', 'Port8728', 'Port443', 'Port5900', 'Port8000']\n"
     ]
    }
   ],
   "source": [
    "print(input_features)"
   ]
  },
  {
   "cell_type": "code",
   "execution_count": 40,
   "metadata": {},
   "outputs": [],
   "source": [
    "va = VectorAssembler().setInputCols(input_features).setOutputCol(\"features\")"
   ]
  },
  {
   "cell_type": "code",
   "execution_count": 41,
   "metadata": {},
   "outputs": [],
   "source": [
    "data= va.transform(Scanners_df2)"
   ]
  },
  {
   "cell_type": "code",
   "execution_count": 42,
   "metadata": {},
   "outputs": [
    {
     "name": "stdout",
     "output_type": "stream",
     "text": [
      "+-------+-------+--------+--------+-----+-------+------------------+--------------+--------------+----------------+----------------+----------------+-----+-----+-------+-------+-------------------------+-----------------+--------------------+------------------------+--------------+---------+---------+---------+---------+---------+---------+------+-------+---------+---------+---------+------+--------+-----+--------+--------+------+--------+---------+--------+---------+--------+---------+---------+---------+---------+---------+---------+---------+---------+---------+---------+---------+---------+---------+---------+---------+---------+---------+---------+--------+--------+------+--------+------+--------+--------+-------+--------+--------+--------------------+\n",
      "|    _c0|     id|numports|lifetime|Bytes|Packets|average_packetsize|MinUniqueDests|MaxUniqueDests|MinUniqueDest24s|MaxUniqueDest24s|average_lifetime|mirai| zmap|masscan|country|traffic_types_scanned_str|ports_scanned_str|host_tags_per_censys|host_services_per_censys|   Ports_Array|Port17132|Port17140|Port17128|Port17138|Port17130|Port17136|Port23|Port445|Port54594|Port17142|Port17134|Port80|Port8080|Port0|Port2323|Port5555|Port81|Port1023|Port52869|Port8443|Port49152|Port7574|Port37215|Port34218|Port34220|Port33968|Port34224|Port34228|Port33962|Port33960|Port33964|Port34216|Port34226|Port33970|Port33972|Port50401|Port34222|Port34230|Port33966|Port33974|Port3389|Port1433|Port22|Port5353|Port21|Port8291|Port8728|Port443|Port5900|Port8000|            features|\n",
      "+-------+-------+--------+--------+-----+-------+------------------+--------------+--------------+----------------+----------------+----------------+-----+-----+-------+-------+-------------------------+-----------------+--------------------+------------------------+--------------+---------+---------+---------+---------+---------+---------+------+-------+---------+---------+---------+------+--------+-----+--------+--------+------+--------+---------+--------+---------+--------+---------+---------+---------+---------+---------+---------+---------+---------+---------+---------+---------+---------+---------+---------+---------+---------+---------+---------+--------+--------+------+--------+------+--------+--------+-------+--------+--------+--------------------+\n",
      "|1645181|1645181|       1|     0.0|   60|      1|                60|             1|             1|               1|               1|             0.0|false|false|  false|     BR|                       15|            13716|                null|                    null|       [13716]|    false|    false|    false|    false|    false|    false| false|  false|    false|    false|    false| false|   false|false|   false|   false| false|   false|    false|   false|    false|   false|    false|    false|    false|    false|    false|    false|    false|    false|    false|    false|    false|    false|    false|    false|    false|    false|    false|    false|   false|   false| false|   false| false|   false|   false|  false|   false|   false|      (52,[1],[1.0])|\n",
      "|2091467|2091467|       2|  199.84|  752|     12|                62|             1|             1|               1|               1|           66.61|false|false|  false|     CN|                    11-16|      17128-17136|                null|                    null|[17128, 17136]|    false|    false|     true|    false|    false|     true| false|  false|    false|    false|    false| false|   false|false|   false|   false| false|   false|    false|   false|    false|   false|    false|    false|    false|    false|    false|    false|    false|    false|    false|    false|    false|    false|    false|    false|    false|    false|    false|    false|   false|   false| false|   false| false|   false|   false|  false|   false|   false|(52,[0,1,4,7],[19...|\n",
      "| 888618| 888618|       1|     0.0|   60|      1|                60|             1|             1|               1|               1|             0.0|false|false|  false|     US|                       15|            35134|                null|                    null|       [35134]|    false|    false|    false|    false|    false|    false| false|  false|    false|    false|    false| false|   false|false|   false|   false| false|   false|    false|   false|    false|   false|    false|    false|    false|    false|    false|    false|    false|    false|    false|    false|    false|    false|    false|    false|    false|    false|    false|    false|   false|   false| false|   false| false|   false|   false|  false|   false|   false|      (52,[1],[1.0])|\n",
      "+-------+-------+--------+--------+-----+-------+------------------+--------------+--------------+----------------+----------------+----------------+-----+-----+-------+-------+-------------------------+-----------------+--------------------+------------------------+--------------+---------+---------+---------+---------+---------+---------+------+-------+---------+---------+---------+------+--------+-----+--------+--------+------+--------+---------+--------+---------+--------+---------+---------+---------+---------+---------+---------+---------+---------+---------+---------+---------+---------+---------+---------+---------+---------+---------+---------+--------+--------+------+--------+------+--------+--------+-------+--------+--------+--------------------+\n",
      "only showing top 3 rows\n",
      "\n"
     ]
    }
   ],
   "source": [
    "data.show(3)"
   ]
  },
  {
   "cell_type": "code",
   "execution_count": 43,
   "metadata": {},
   "outputs": [
    {
     "data": {
      "text/plain": [
       "DataFrame[_c0: int, id: int, numports: int, lifetime: double, Bytes: int, Packets: int, average_packetsize: int, MinUniqueDests: int, MaxUniqueDests: int, MinUniqueDest24s: int, MaxUniqueDest24s: int, average_lifetime: double, mirai: boolean, zmap: boolean, masscan: boolean, country: string, traffic_types_scanned_str: string, ports_scanned_str: string, host_tags_per_censys: string, host_services_per_censys: string, Ports_Array: array<string>, Port17132: boolean, Port17140: boolean, Port17128: boolean, Port17138: boolean, Port17130: boolean, Port17136: boolean, Port23: boolean, Port445: boolean, Port54594: boolean, Port17142: boolean, Port17134: boolean, Port80: boolean, Port8080: boolean, Port0: boolean, Port2323: boolean, Port5555: boolean, Port81: boolean, Port1023: boolean, Port52869: boolean, Port8443: boolean, Port49152: boolean, Port7574: boolean, Port37215: boolean, Port34218: boolean, Port34220: boolean, Port33968: boolean, Port34224: boolean, Port34228: boolean, Port33962: boolean, Port33960: boolean, Port33964: boolean, Port34216: boolean, Port34226: boolean, Port33970: boolean, Port33972: boolean, Port50401: boolean, Port34222: boolean, Port34230: boolean, Port33966: boolean, Port33974: boolean, Port3389: boolean, Port1433: boolean, Port22: boolean, Port5353: boolean, Port21: boolean, Port8291: boolean, Port8728: boolean, Port443: boolean, Port5900: boolean, Port8000: boolean, features: vector]"
      ]
     },
     "execution_count": 43,
     "metadata": {},
     "output_type": "execute_result"
    }
   ],
   "source": [
    "data.persist()"
   ]
  },
  {
   "cell_type": "code",
   "execution_count": 44,
   "metadata": {},
   "outputs": [
    {
     "data": {
      "text/plain": [
       "'distanceMeasure: the distance measure. Supported options: \\'euclidean\\' and \\'cosine\\'. (default: euclidean)\\nfeaturesCol: features column name. (default: features, current: features)\\ninitMode: The initialization algorithm. This can be either \"random\" to choose random points as initial cluster centers, or \"k-means||\" to use a parallel variant of k-means++ (default: k-means||)\\ninitSteps: The number of steps for k-means|| initialization mode. Must be > 0. (default: 2)\\nk: The number of clusters to create. Must be > 1. (default: 2, current: 100)\\nmaxIter: max number of iterations (>= 0). (default: 20)\\npredictionCol: prediction column name. (default: prediction, current: prediction)\\nseed: random seed. (default: -2704299597103909330, current: 123)\\ntol: the convergence tolerance for iterative algorithms (>= 0). (default: 0.0001)\\nweightCol: weight column name. If this is not set or empty, we treat all instance weights as 1.0. (undefined)'"
      ]
     },
     "execution_count": 44,
     "metadata": {},
     "output_type": "execute_result"
    }
   ],
   "source": [
    "km = KMeans(featuresCol= \"features\", predictionCol=\"prediction\").setK(100).setSeed(123)\n",
    "km.explainParams()"
   ]
  },
  {
   "cell_type": "code",
   "execution_count": 45,
   "metadata": {},
   "outputs": [],
   "source": [
    "kmModel=km.fit(data)"
   ]
  },
  {
   "cell_type": "code",
   "execution_count": 46,
   "metadata": {},
   "outputs": [
    {
     "data": {
      "text/plain": [
       "KMeansModel: uid=KMeans_afd1ed92556e, k=41, distanceMeasure=euclidean, numFeatures=52"
      ]
     },
     "execution_count": 46,
     "metadata": {},
     "output_type": "execute_result"
    }
   ],
   "source": [
    "kmModel"
   ]
  },
  {
   "cell_type": "code",
   "execution_count": 47,
   "metadata": {},
   "outputs": [],
   "source": [
    "predictions = kmModel.transform(data)"
   ]
  },
  {
   "cell_type": "code",
   "execution_count": 48,
   "metadata": {},
   "outputs": [
    {
     "name": "stdout",
     "output_type": "stream",
     "text": [
      "+-------+-------+--------+--------+-----+-------+------------------+--------------+--------------+----------------+----------------+----------------+-----+-----+-------+-------+-------------------------+-----------------+--------------------+------------------------+--------------+---------+---------+---------+---------+---------+---------+------+-------+---------+---------+---------+------+--------+-----+--------+--------+------+--------+---------+--------+---------+--------+---------+---------+---------+---------+---------+---------+---------+---------+---------+---------+---------+---------+---------+---------+---------+---------+---------+---------+--------+--------+------+--------+------+--------+--------+-------+--------+--------+--------------------+----------+\n",
      "|    _c0|     id|numports|lifetime|Bytes|Packets|average_packetsize|MinUniqueDests|MaxUniqueDests|MinUniqueDest24s|MaxUniqueDest24s|average_lifetime|mirai| zmap|masscan|country|traffic_types_scanned_str|ports_scanned_str|host_tags_per_censys|host_services_per_censys|   Ports_Array|Port17132|Port17140|Port17128|Port17138|Port17130|Port17136|Port23|Port445|Port54594|Port17142|Port17134|Port80|Port8080|Port0|Port2323|Port5555|Port81|Port1023|Port52869|Port8443|Port49152|Port7574|Port37215|Port34218|Port34220|Port33968|Port34224|Port34228|Port33962|Port33960|Port33964|Port34216|Port34226|Port33970|Port33972|Port50401|Port34222|Port34230|Port33966|Port33974|Port3389|Port1433|Port22|Port5353|Port21|Port8291|Port8728|Port443|Port5900|Port8000|            features|prediction|\n",
      "+-------+-------+--------+--------+-----+-------+------------------+--------------+--------------+----------------+----------------+----------------+-----+-----+-------+-------+-------------------------+-----------------+--------------------+------------------------+--------------+---------+---------+---------+---------+---------+---------+------+-------+---------+---------+---------+------+--------+-----+--------+--------+------+--------+---------+--------+---------+--------+---------+---------+---------+---------+---------+---------+---------+---------+---------+---------+---------+---------+---------+---------+---------+---------+---------+---------+--------+--------+------+--------+------+--------+--------+-------+--------+--------+--------------------+----------+\n",
      "|1645181|1645181|       1|     0.0|   60|      1|                60|             1|             1|               1|               1|             0.0|false|false|  false|     BR|                       15|            13716|                null|                    null|       [13716]|    false|    false|    false|    false|    false|    false| false|  false|    false|    false|    false| false|   false|false|   false|   false| false|   false|    false|   false|    false|   false|    false|    false|    false|    false|    false|    false|    false|    false|    false|    false|    false|    false|    false|    false|    false|    false|    false|    false|   false|   false| false|   false| false|   false|   false|  false|   false|   false|      (52,[1],[1.0])|         0|\n",
      "|2091467|2091467|       2|  199.84|  752|     12|                62|             1|             1|               1|               1|           66.61|false|false|  false|     CN|                    11-16|      17128-17136|                null|                    null|[17128, 17136]|    false|    false|     true|    false|    false|     true| false|  false|    false|    false|    false| false|   false|false|   false|   false| false|   false|    false|   false|    false|   false|    false|    false|    false|    false|    false|    false|    false|    false|    false|    false|    false|    false|    false|    false|    false|    false|    false|    false|   false|   false| false|   false| false|   false|   false|  false|   false|   false|(52,[0,1,4,7],[19...|         0|\n",
      "| 888618| 888618|       1|     0.0|   60|      1|                60|             1|             1|               1|               1|             0.0|false|false|  false|     US|                       15|            35134|                null|                    null|       [35134]|    false|    false|    false|    false|    false|    false| false|  false|    false|    false|    false| false|   false|false|   false|   false| false|   false|    false|   false|    false|   false|    false|    false|    false|    false|    false|    false|    false|    false|    false|    false|    false|    false|    false|    false|    false|    false|    false|    false|   false|   false| false|   false| false|   false|   false|  false|   false|   false|      (52,[1],[1.0])|         0|\n",
      "+-------+-------+--------+--------+-----+-------+------------------+--------------+--------------+----------------+----------------+----------------+-----+-----+-------+-------+-------------------------+-----------------+--------------------+------------------------+--------------+---------+---------+---------+---------+---------+---------+------+-------+---------+---------+---------+------+--------+-----+--------+--------+------+--------+---------+--------+---------+--------+---------+---------+---------+---------+---------+---------+---------+---------+---------+---------+---------+---------+---------+---------+---------+---------+---------+---------+--------+--------+------+--------+------+--------+--------+-------+--------+--------+--------------------+----------+\n",
      "only showing top 3 rows\n",
      "\n"
     ]
    }
   ],
   "source": [
    "predictions.show(3)"
   ]
  },
  {
   "cell_type": "code",
   "execution_count": 49,
   "metadata": {},
   "outputs": [],
   "source": [
    "Cluster1_df=predictions.where(col(\"prediction\")==0)"
   ]
  },
  {
   "cell_type": "code",
   "execution_count": 50,
   "metadata": {},
   "outputs": [
    {
     "data": {
      "text/plain": [
       "202107"
      ]
     },
     "execution_count": 50,
     "metadata": {},
     "output_type": "execute_result"
    }
   ],
   "source": [
    "Cluster1_df.count()"
   ]
  },
  {
   "cell_type": "code",
   "execution_count": 51,
   "metadata": {},
   "outputs": [],
   "source": [
    "summary = kmModel.summary"
   ]
  },
  {
   "cell_type": "code",
   "execution_count": 52,
   "metadata": {},
   "outputs": [
    {
     "data": {
      "text/plain": [
       "[202107,\n",
       " 1,\n",
       " 1,\n",
       " 1,\n",
       " 1,\n",
       " 1,\n",
       " 1,\n",
       " 1,\n",
       " 1,\n",
       " 1,\n",
       " 16223,\n",
       " 1,\n",
       " 1,\n",
       " 1,\n",
       " 37,\n",
       " 7082,\n",
       " 1,\n",
       " 1,\n",
       " 1,\n",
       " 7,\n",
       " 37,\n",
       " 1,\n",
       " 2,\n",
       " 142,\n",
       " 1,\n",
       " 1,\n",
       " 17,\n",
       " 1,\n",
       " 1,\n",
       " 7,\n",
       " 48,\n",
       " 1,\n",
       " 7,\n",
       " 1,\n",
       " 1,\n",
       " 1,\n",
       " 1247,\n",
       " 2,\n",
       " 71,\n",
       " 1,\n",
       " 1,\n",
       " 0,\n",
       " 0,\n",
       " 0,\n",
       " 0,\n",
       " 0,\n",
       " 0,\n",
       " 0,\n",
       " 0,\n",
       " 0,\n",
       " 0,\n",
       " 0,\n",
       " 0,\n",
       " 0,\n",
       " 0,\n",
       " 0,\n",
       " 0,\n",
       " 0,\n",
       " 0,\n",
       " 0,\n",
       " 0,\n",
       " 0,\n",
       " 0,\n",
       " 0,\n",
       " 0,\n",
       " 0,\n",
       " 0,\n",
       " 0,\n",
       " 0,\n",
       " 0,\n",
       " 0,\n",
       " 0,\n",
       " 0,\n",
       " 0,\n",
       " 0,\n",
       " 0,\n",
       " 0,\n",
       " 0,\n",
       " 0,\n",
       " 0,\n",
       " 0,\n",
       " 0,\n",
       " 0,\n",
       " 0,\n",
       " 0,\n",
       " 0,\n",
       " 0,\n",
       " 0,\n",
       " 0,\n",
       " 0,\n",
       " 0,\n",
       " 0,\n",
       " 0,\n",
       " 0,\n",
       " 0,\n",
       " 0,\n",
       " 0,\n",
       " 0,\n",
       " 0,\n",
       " 0]"
      ]
     },
     "execution_count": 52,
     "metadata": {},
     "output_type": "execute_result"
    }
   ],
   "source": [
    "summary.clusterSizes"
   ]
  },
  {
   "cell_type": "code",
   "execution_count": 53,
   "metadata": {},
   "outputs": [],
   "source": [
    "evaluator = ClusteringEvaluator()\n",
    "silhouette = evaluator.evaluate(predictions)"
   ]
  },
  {
   "cell_type": "code",
   "execution_count": 54,
   "metadata": {},
   "outputs": [
    {
     "name": "stdout",
     "output_type": "stream",
     "text": [
      "Silhouette Score of the Clustering Result is  0.9083484568569015\n"
     ]
    }
   ],
   "source": [
    "print('Silhouette Score of the Clustering Result is ', silhouette)"
   ]
  },
  {
   "cell_type": "code",
   "execution_count": 55,
   "metadata": {},
   "outputs": [],
   "source": [
    "centers = kmModel.clusterCenters()"
   ]
  },
  {
   "cell_type": "code",
   "execution_count": 56,
   "metadata": {},
   "outputs": [
    {
     "name": "stdout",
     "output_type": "stream",
     "text": [
      "[array([1.09118185e+03, 4.54591828e+01, 1.24042864e-01, 1.23592447e-01,\n",
      "       1.23538001e-01, 1.23359814e-01, 1.22419383e-01, 1.22290692e-01,\n",
      "       1.01913035e-01, 1.13183359e-01, 1.13871359e-01, 7.69718118e-02,\n",
      "       7.62491647e-02, 3.46573613e-02, 2.99354072e-02, 4.02850991e-02,\n",
      "       9.03308833e-03, 9.08258470e-03, 5.28621278e-03, 4.51901898e-03,\n",
      "       4.77640013e-03, 4.57841463e-03, 4.40022768e-03, 4.38537877e-03,\n",
      "       4.17254436e-03, 7.89467172e-03, 7.86497389e-03, 7.72638404e-03,\n",
      "       7.60759274e-03, 7.64718984e-03, 7.55314673e-03, 7.63729057e-03,\n",
      "       7.72143440e-03, 7.36506051e-03, 7.21162175e-03, 7.38980870e-03,\n",
      "       7.25616849e-03, 8.34508872e-03, 4.27648675e-03, 4.22204074e-03,\n",
      "       4.15274581e-03, 4.04385379e-03, 5.33075952e-03, 4.34083203e-03,\n",
      "       3.53404113e-03, 5.24661569e-04, 2.10854555e-03, 2.53916401e-03,\n",
      "       2.59361002e-03, 2.01450244e-03, 1.24235900e-03, 2.92028609e-04]), array([5.39254186e+08, 2.29895860e+07, 0.00000000e+00, 0.00000000e+00,\n",
      "       1.00000000e+00, 1.00000000e+00, 1.00000000e+00, 1.00000000e+00,\n",
      "       1.00000000e+00, 0.00000000e+00, 0.00000000e+00, 1.00000000e+00,\n",
      "       1.00000000e+00, 1.00000000e+00, 0.00000000e+00, 0.00000000e+00,\n",
      "       0.00000000e+00, 1.00000000e+00, 1.00000000e+00, 1.00000000e+00,\n",
      "       1.00000000e+00, 1.00000000e+00, 0.00000000e+00, 0.00000000e+00,\n",
      "       0.00000000e+00, 1.00000000e+00, 1.00000000e+00, 1.00000000e+00,\n",
      "       0.00000000e+00, 1.00000000e+00, 1.00000000e+00, 1.00000000e+00,\n",
      "       0.00000000e+00, 0.00000000e+00, 1.00000000e+00, 1.00000000e+00,\n",
      "       1.00000000e+00, 0.00000000e+00, 0.00000000e+00, 1.00000000e+00,\n",
      "       1.00000000e+00, 1.00000000e+00, 1.00000000e+00, 1.00000000e+00,\n",
      "       1.00000000e+00, 0.00000000e+00, 1.00000000e+00, 1.00000000e+00,\n",
      "       1.00000000e+00, 0.00000000e+00, 1.00000000e+00, 1.00000000e+00]), array([6.46934859e+07, 6.78087000e+05, 0.00000000e+00, 1.00000000e+00,\n",
      "       0.00000000e+00, 1.00000000e+00, 0.00000000e+00, 1.00000000e+00,\n",
      "       1.00000000e+00, 0.00000000e+00, 1.00000000e+00, 1.00000000e+00,\n",
      "       1.00000000e+00, 1.00000000e+00, 1.00000000e+00, 0.00000000e+00,\n",
      "       1.00000000e+00, 0.00000000e+00, 0.00000000e+00, 0.00000000e+00,\n",
      "       1.00000000e+00, 0.00000000e+00, 0.00000000e+00, 0.00000000e+00,\n",
      "       0.00000000e+00, 1.00000000e+00, 1.00000000e+00, 1.00000000e+00,\n",
      "       0.00000000e+00, 1.00000000e+00, 1.00000000e+00, 1.00000000e+00,\n",
      "       0.00000000e+00, 0.00000000e+00, 0.00000000e+00, 1.00000000e+00,\n",
      "       1.00000000e+00, 0.00000000e+00, 1.00000000e+00, 1.00000000e+00,\n",
      "       0.00000000e+00, 1.00000000e+00, 1.00000000e+00, 1.00000000e+00,\n",
      "       1.00000000e+00, 1.00000000e+00, 0.00000000e+00, 1.00000000e+00,\n",
      "       1.00000000e+00, 1.00000000e+00, 1.00000000e+00, 0.00000000e+00]), array([31414123.59,  5503873.  ,        0.  ,        0.  ,        0.  ,\n",
      "              0.  ,        0.  ,        0.  ,        0.  ,        0.  ,\n",
      "              0.  ,        0.  ,        0.  ,        0.  ,        0.  ,\n",
      "              0.  ,        0.  ,        0.  ,        0.  ,        0.  ,\n",
      "              0.  ,        0.  ,        0.  ,        0.  ,        0.  ,\n",
      "              0.  ,        0.  ,        0.  ,        0.  ,        0.  ,\n",
      "              0.  ,        0.  ,        0.  ,        0.  ,        0.  ,\n",
      "              0.  ,        0.  ,        0.  ,        0.  ,        0.  ,\n",
      "              0.  ,        0.  ,        0.  ,        0.  ,        0.  ,\n",
      "              0.  ,        0.  ,        0.  ,        0.  ,        0.  ,\n",
      "              0.  ,        0.  ]), array([6.33372359e+07, 6.76072000e+05, 1.00000000e+00, 0.00000000e+00,\n",
      "       0.00000000e+00, 1.00000000e+00, 0.00000000e+00, 1.00000000e+00,\n",
      "       1.00000000e+00, 0.00000000e+00, 0.00000000e+00, 0.00000000e+00,\n",
      "       0.00000000e+00, 1.00000000e+00, 0.00000000e+00, 0.00000000e+00,\n",
      "       1.00000000e+00, 1.00000000e+00, 1.00000000e+00, 0.00000000e+00,\n",
      "       0.00000000e+00, 1.00000000e+00, 1.00000000e+00, 1.00000000e+00,\n",
      "       1.00000000e+00, 1.00000000e+00, 1.00000000e+00, 1.00000000e+00,\n",
      "       1.00000000e+00, 0.00000000e+00, 1.00000000e+00, 1.00000000e+00,\n",
      "       0.00000000e+00, 1.00000000e+00, 1.00000000e+00, 0.00000000e+00,\n",
      "       1.00000000e+00, 0.00000000e+00, 1.00000000e+00, 0.00000000e+00,\n",
      "       1.00000000e+00, 1.00000000e+00, 1.00000000e+00, 1.00000000e+00,\n",
      "       1.00000000e+00, 0.00000000e+00, 1.00000000e+00, 1.00000000e+00,\n",
      "       1.00000000e+00, 1.00000000e+00, 1.00000000e+00, 0.00000000e+00]), array([5.29455354e+08, 2.37260330e+07, 1.00000000e+00, 1.00000000e+00,\n",
      "       1.00000000e+00, 1.00000000e+00, 1.00000000e+00, 1.00000000e+00,\n",
      "       0.00000000e+00, 0.00000000e+00, 1.00000000e+00, 1.00000000e+00,\n",
      "       0.00000000e+00, 1.00000000e+00, 1.00000000e+00, 0.00000000e+00,\n",
      "       0.00000000e+00, 1.00000000e+00, 0.00000000e+00, 0.00000000e+00,\n",
      "       1.00000000e+00, 1.00000000e+00, 1.00000000e+00, 0.00000000e+00,\n",
      "       1.00000000e+00, 0.00000000e+00, 1.00000000e+00, 1.00000000e+00,\n",
      "       1.00000000e+00, 1.00000000e+00, 1.00000000e+00, 1.00000000e+00,\n",
      "       1.00000000e+00, 0.00000000e+00, 1.00000000e+00, 1.00000000e+00,\n",
      "       0.00000000e+00, 1.00000000e+00, 1.00000000e+00, 1.00000000e+00,\n",
      "       0.00000000e+00, 0.00000000e+00, 1.00000000e+00, 1.00000000e+00,\n",
      "       1.00000000e+00, 1.00000000e+00, 1.00000000e+00, 1.00000000e+00,\n",
      "       1.00000000e+00, 0.00000000e+00, 1.00000000e+00, 0.00000000e+00]), array([6.30579645e+07, 6.76388000e+05, 1.00000000e+00, 1.00000000e+00,\n",
      "       0.00000000e+00, 0.00000000e+00, 0.00000000e+00, 0.00000000e+00,\n",
      "       1.00000000e+00, 0.00000000e+00, 0.00000000e+00, 0.00000000e+00,\n",
      "       0.00000000e+00, 1.00000000e+00, 1.00000000e+00, 0.00000000e+00,\n",
      "       0.00000000e+00, 1.00000000e+00, 1.00000000e+00, 0.00000000e+00,\n",
      "       0.00000000e+00, 1.00000000e+00, 0.00000000e+00, 0.00000000e+00,\n",
      "       0.00000000e+00, 1.00000000e+00, 1.00000000e+00, 1.00000000e+00,\n",
      "       0.00000000e+00, 0.00000000e+00, 0.00000000e+00, 0.00000000e+00,\n",
      "       0.00000000e+00, 0.00000000e+00, 0.00000000e+00, 1.00000000e+00,\n",
      "       1.00000000e+00, 1.00000000e+00, 0.00000000e+00, 1.00000000e+00,\n",
      "       1.00000000e+00, 1.00000000e+00, 1.00000000e+00, 1.00000000e+00,\n",
      "       0.00000000e+00, 1.00000000e+00, 1.00000000e+00, 1.00000000e+00,\n",
      "       1.00000000e+00, 1.00000000e+00, 1.00000000e+00, 0.00000000e+00]), array([6.39840137e+07, 6.79683000e+05, 1.00000000e+00, 0.00000000e+00,\n",
      "       0.00000000e+00, 1.00000000e+00, 0.00000000e+00, 1.00000000e+00,\n",
      "       0.00000000e+00, 0.00000000e+00, 1.00000000e+00, 1.00000000e+00,\n",
      "       1.00000000e+00, 1.00000000e+00, 0.00000000e+00, 0.00000000e+00,\n",
      "       1.00000000e+00, 0.00000000e+00, 1.00000000e+00, 0.00000000e+00,\n",
      "       1.00000000e+00, 0.00000000e+00, 1.00000000e+00, 0.00000000e+00,\n",
      "       0.00000000e+00, 1.00000000e+00, 1.00000000e+00, 0.00000000e+00,\n",
      "       1.00000000e+00, 0.00000000e+00, 1.00000000e+00, 1.00000000e+00,\n",
      "       1.00000000e+00, 0.00000000e+00, 1.00000000e+00, 0.00000000e+00,\n",
      "       0.00000000e+00, 0.00000000e+00, 1.00000000e+00, 1.00000000e+00,\n",
      "       0.00000000e+00, 0.00000000e+00, 1.00000000e+00, 1.00000000e+00,\n",
      "       1.00000000e+00, 0.00000000e+00, 1.00000000e+00, 0.00000000e+00,\n",
      "       0.00000000e+00, 1.00000000e+00, 0.00000000e+00, 1.00000000e+00]), array([1.0039328e+08, 7.0651340e+06, 0.0000000e+00, 0.0000000e+00,\n",
      "       0.0000000e+00, 0.0000000e+00, 0.0000000e+00, 0.0000000e+00,\n",
      "       0.0000000e+00, 0.0000000e+00, 0.0000000e+00, 0.0000000e+00,\n",
      "       0.0000000e+00, 0.0000000e+00, 0.0000000e+00, 0.0000000e+00,\n",
      "       0.0000000e+00, 0.0000000e+00, 0.0000000e+00, 0.0000000e+00,\n",
      "       0.0000000e+00, 0.0000000e+00, 0.0000000e+00, 0.0000000e+00,\n",
      "       0.0000000e+00, 0.0000000e+00, 0.0000000e+00, 0.0000000e+00,\n",
      "       0.0000000e+00, 0.0000000e+00, 0.0000000e+00, 0.0000000e+00,\n",
      "       0.0000000e+00, 0.0000000e+00, 0.0000000e+00, 0.0000000e+00,\n",
      "       0.0000000e+00, 0.0000000e+00, 0.0000000e+00, 0.0000000e+00,\n",
      "       0.0000000e+00, 0.0000000e+00, 0.0000000e+00, 0.0000000e+00,\n",
      "       0.0000000e+00, 0.0000000e+00, 0.0000000e+00, 1.0000000e+00,\n",
      "       1.0000000e+00, 0.0000000e+00, 1.0000000e+00, 1.0000000e+00]), array([ 121682.68, 5156788.  ,       0.  ,       0.  ,       0.  ,\n",
      "             0.  ,       0.  ,       0.  ,       0.  ,       0.  ,\n",
      "             0.  ,       0.  ,       0.  ,       0.  ,       0.  ,\n",
      "             0.  ,       0.  ,       0.  ,       0.  ,       0.  ,\n",
      "             0.  ,       0.  ,       0.  ,       0.  ,       0.  ,\n",
      "             0.  ,       0.  ,       0.  ,       0.  ,       0.  ,\n",
      "             0.  ,       0.  ,       0.  ,       0.  ,       0.  ,\n",
      "             0.  ,       0.  ,       0.  ,       0.  ,       0.  ,\n",
      "             0.  ,       0.  ,       0.  ,       0.  ,       0.  ,\n",
      "             0.  ,       0.  ,       0.  ,       0.  ,       0.  ,\n",
      "             0.  ,       0.  ]), array([1.51057901e+04, 8.35765248e+02, 3.26024200e-01, 3.23321663e-01,\n",
      "       3.23260242e-01, 3.22584608e-01, 3.23567348e-01, 3.23997297e-01,\n",
      "       2.28241509e-01, 1.29476076e-01, 1.32117192e-01, 2.80081076e-01,\n",
      "       2.80940974e-01, 2.49370432e-01, 2.31926786e-01, 1.51096370e-02,\n",
      "       1.55887231e-01, 1.40224802e-01, 1.20569990e-01, 1.20078619e-01,\n",
      "       1.15103495e-01, 1.15717708e-01, 1.15164916e-01, 1.14550703e-01,\n",
      "       1.13997912e-01, 6.18512376e-02, 6.01314416e-02, 6.08070757e-02,\n",
      "       6.11141822e-02, 6.12370248e-02, 6.25268718e-02, 6.04385480e-02,\n",
      "       5.84116455e-02, 6.18512376e-02, 6.19126589e-02, 5.84730668e-02,\n",
      "       6.03157054e-02, 4.41619065e-02, 3.67299306e-02, 3.69756157e-02,\n",
      "       3.76512499e-02, 3.46416068e-02, 4.11522634e-03, 2.08832381e-03,\n",
      "       3.50101345e-03, 6.81776304e-03, 5.71217984e-03, 6.75634175e-04,\n",
      "       6.14212886e-04, 1.41268964e-03, 3.56243474e-03, 2.82537928e-03]), array([3.01647987e+06, 5.33497000e+05, 0.00000000e+00, 0.00000000e+00,\n",
      "       0.00000000e+00, 0.00000000e+00, 0.00000000e+00, 0.00000000e+00,\n",
      "       0.00000000e+00, 0.00000000e+00, 0.00000000e+00, 0.00000000e+00,\n",
      "       0.00000000e+00, 0.00000000e+00, 0.00000000e+00, 0.00000000e+00,\n",
      "       0.00000000e+00, 0.00000000e+00, 0.00000000e+00, 0.00000000e+00,\n",
      "       0.00000000e+00, 0.00000000e+00, 0.00000000e+00, 0.00000000e+00,\n",
      "       0.00000000e+00, 0.00000000e+00, 0.00000000e+00, 0.00000000e+00,\n",
      "       0.00000000e+00, 0.00000000e+00, 0.00000000e+00, 0.00000000e+00,\n",
      "       0.00000000e+00, 0.00000000e+00, 0.00000000e+00, 0.00000000e+00,\n",
      "       0.00000000e+00, 0.00000000e+00, 0.00000000e+00, 0.00000000e+00,\n",
      "       0.00000000e+00, 0.00000000e+00, 0.00000000e+00, 0.00000000e+00,\n",
      "       0.00000000e+00, 0.00000000e+00, 0.00000000e+00, 0.00000000e+00,\n",
      "       0.00000000e+00, 0.00000000e+00, 1.00000000e+00, 0.00000000e+00]), array([18721525.55,   213661.  ,        0.  ,        0.  ,        0.  ,\n",
      "              0.  ,        0.  ,        0.  ,        0.  ,        0.  ,\n",
      "              0.  ,        0.  ,        0.  ,        0.  ,        0.  ,\n",
      "              0.  ,        0.  ,        0.  ,        0.  ,        0.  ,\n",
      "              0.  ,        0.  ,        0.  ,        0.  ,        0.  ,\n",
      "              0.  ,        0.  ,        0.  ,        0.  ,        0.  ,\n",
      "              0.  ,        0.  ,        0.  ,        0.  ,        0.  ,\n",
      "              0.  ,        0.  ,        0.  ,        0.  ,        0.  ,\n",
      "              0.  ,        0.  ,        0.  ,        0.  ,        0.  ,\n",
      "              0.  ,        0.  ,        0.  ,        0.  ,        0.  ,\n",
      "              0.  ,        0.  ]), array([17957627.1,   204668. ,        0. ,        0. ,        0. ,\n",
      "              0. ,        0. ,        0. ,        0. ,        0. ,\n",
      "              0. ,        0. ,        0. ,        0. ,        0. ,\n",
      "              0. ,        0. ,        0. ,        0. ,        0. ,\n",
      "              0. ,        0. ,        0. ,        0. ,        0. ,\n",
      "              0. ,        0. ,        0. ,        0. ,        0. ,\n",
      "              0. ,        0. ,        0. ,        0. ,        0. ,\n",
      "              0. ,        0. ,        0. ,        0. ,        0. ,\n",
      "              0. ,        0. ,        0. ,        0. ,        0. ,\n",
      "              0. ,        0. ,        0. ,        0. ,        0. ,\n",
      "              0. ,        0. ]), array([3.91635853e+05, 7.88124324e+03, 1.62162162e-01, 1.62162162e-01,\n",
      "       1.62162162e-01, 1.62162162e-01, 1.62162162e-01, 1.62162162e-01,\n",
      "       5.40540541e-02, 0.00000000e+00, 0.00000000e+00, 1.62162162e-01,\n",
      "       1.62162162e-01, 8.10810811e-01, 8.10810811e-01, 0.00000000e+00,\n",
      "       2.70270270e-02, 5.40540541e-02, 1.62162162e-01, 0.00000000e+00,\n",
      "       5.40540541e-02, 0.00000000e+00, 0.00000000e+00, 0.00000000e+00,\n",
      "       0.00000000e+00, 1.62162162e-01, 1.62162162e-01, 1.62162162e-01,\n",
      "       1.89189189e-01, 1.62162162e-01, 1.62162162e-01, 1.62162162e-01,\n",
      "       1.62162162e-01, 1.62162162e-01, 1.62162162e-01, 1.62162162e-01,\n",
      "       1.62162162e-01, 0.00000000e+00, 1.62162162e-01, 1.62162162e-01,\n",
      "       1.89189189e-01, 1.35135135e-01, 0.00000000e+00, 6.21621622e-01,\n",
      "       0.00000000e+00, 0.00000000e+00, 0.00000000e+00, 0.00000000e+00,\n",
      "       0.00000000e+00, 5.40540541e-02, 0.00000000e+00, 1.62162162e-01]), array([4.43864593e+04, 1.04579228e+03, 1.84329200e-01, 1.82356257e-01,\n",
      "       1.83060879e-01, 1.82356257e-01, 1.82215333e-01, 1.82779030e-01,\n",
      "       5.51719278e-01, 5.84836528e-02, 5.77790304e-03, 1.77564825e-01,\n",
      "       1.77282976e-01, 4.95490417e-01, 4.84357384e-01, 3.39627959e-02,\n",
      "       2.25056370e-01, 1.80101466e-01, 1.64177001e-01, 1.53889515e-01,\n",
      "       1.51352875e-01, 1.49943630e-01, 1.48111612e-01, 1.48393461e-01,\n",
      "       1.46420519e-01, 6.93348365e-02, 7.00394589e-02, 6.82074408e-02,\n",
      "       7.00394589e-02, 7.06031567e-02, 6.97576099e-02, 6.91939121e-02,\n",
      "       7.04622322e-02, 6.77846674e-02, 6.96166855e-02, 7.07440812e-02,\n",
      "       6.67981962e-02, 2.25479143e-03, 4.66459977e-02, 4.31228861e-02,\n",
      "       4.45321308e-02, 4.10090192e-02, 9.86471251e-04, 3.66403608e-03,\n",
      "       2.95941375e-03, 6.65163472e-02, 2.25479143e-03, 7.04622322e-04,\n",
      "       5.63697858e-04, 1.69109357e-03, 1.12739572e-03, 8.73731680e-03]), array([17740093.94,   202786.  ,        0.  ,        0.  ,        0.  ,\n",
      "              0.  ,        0.  ,        0.  ,        0.  ,        0.  ,\n",
      "              0.  ,        0.  ,        0.  ,        0.  ,        0.  ,\n",
      "              0.  ,        0.  ,        0.  ,        0.  ,        0.  ,\n",
      "              0.  ,        0.  ,        0.  ,        0.  ,        0.  ,\n",
      "              0.  ,        0.  ,        0.  ,        0.  ,        0.  ,\n",
      "              0.  ,        0.  ,        0.  ,        0.  ,        0.  ,\n",
      "              0.  ,        0.  ,        0.  ,        0.  ,        0.  ,\n",
      "              0.  ,        0.  ,        0.  ,        0.  ,        0.  ,\n",
      "              0.  ,        0.  ,        0.  ,        0.  ,        0.  ,\n",
      "              0.  ,        0.  ]), array([9.06220841e+06, 1.93573800e+06, 0.00000000e+00, 0.00000000e+00,\n",
      "       0.00000000e+00, 0.00000000e+00, 0.00000000e+00, 0.00000000e+00,\n",
      "       0.00000000e+00, 0.00000000e+00, 0.00000000e+00, 0.00000000e+00,\n",
      "       0.00000000e+00, 1.00000000e+00, 1.00000000e+00, 1.00000000e+00,\n",
      "       1.00000000e+00, 1.00000000e+00, 1.00000000e+00, 1.00000000e+00,\n",
      "       0.00000000e+00, 1.00000000e+00, 1.00000000e+00, 0.00000000e+00,\n",
      "       1.00000000e+00, 0.00000000e+00, 0.00000000e+00, 0.00000000e+00,\n",
      "       0.00000000e+00, 0.00000000e+00, 0.00000000e+00, 0.00000000e+00,\n",
      "       0.00000000e+00, 0.00000000e+00, 0.00000000e+00, 0.00000000e+00,\n",
      "       0.00000000e+00, 0.00000000e+00, 0.00000000e+00, 0.00000000e+00,\n",
      "       0.00000000e+00, 0.00000000e+00, 1.00000000e+00, 1.00000000e+00,\n",
      "       1.00000000e+00, 1.00000000e+00, 0.00000000e+00, 1.00000000e+00,\n",
      "       0.00000000e+00, 1.00000000e+00, 1.00000000e+00, 1.00000000e+00]), array([1.28118942e+07, 1.48584000e+05, 1.00000000e+00, 1.00000000e+00,\n",
      "       0.00000000e+00, 1.00000000e+00, 1.00000000e+00, 1.00000000e+00,\n",
      "       1.00000000e+00, 1.00000000e+00, 0.00000000e+00, 1.00000000e+00,\n",
      "       1.00000000e+00, 1.00000000e+00, 1.00000000e+00, 0.00000000e+00,\n",
      "       1.00000000e+00, 0.00000000e+00, 1.00000000e+00, 1.00000000e+00,\n",
      "       1.00000000e+00, 0.00000000e+00, 1.00000000e+00, 1.00000000e+00,\n",
      "       1.00000000e+00, 1.00000000e+00, 1.00000000e+00, 1.00000000e+00,\n",
      "       1.00000000e+00, 0.00000000e+00, 1.00000000e+00, 1.00000000e+00,\n",
      "       1.00000000e+00, 1.00000000e+00, 1.00000000e+00, 1.00000000e+00,\n",
      "       1.00000000e+00, 1.00000000e+00, 1.00000000e+00, 1.00000000e+00,\n",
      "       1.00000000e+00, 1.00000000e+00, 0.00000000e+00, 1.00000000e+00,\n",
      "       1.00000000e+00, 1.00000000e+00, 1.00000000e+00, 1.00000000e+00,\n",
      "       1.00000000e+00, 0.00000000e+00, 1.00000000e+00, 1.00000000e+00]), array([4.21091886e+04, 1.13299714e+06, 0.00000000e+00, 0.00000000e+00,\n",
      "       0.00000000e+00, 0.00000000e+00, 0.00000000e+00, 0.00000000e+00,\n",
      "       0.00000000e+00, 0.00000000e+00, 0.00000000e+00, 0.00000000e+00,\n",
      "       0.00000000e+00, 0.00000000e+00, 0.00000000e+00, 0.00000000e+00,\n",
      "       0.00000000e+00, 0.00000000e+00, 0.00000000e+00, 0.00000000e+00,\n",
      "       0.00000000e+00, 0.00000000e+00, 0.00000000e+00, 0.00000000e+00,\n",
      "       0.00000000e+00, 0.00000000e+00, 0.00000000e+00, 0.00000000e+00,\n",
      "       0.00000000e+00, 0.00000000e+00, 0.00000000e+00, 0.00000000e+00,\n",
      "       0.00000000e+00, 0.00000000e+00, 0.00000000e+00, 0.00000000e+00,\n",
      "       0.00000000e+00, 0.00000000e+00, 0.00000000e+00, 0.00000000e+00,\n",
      "       0.00000000e+00, 0.00000000e+00, 2.85714286e-01, 1.42857143e-01,\n",
      "       0.00000000e+00, 0.00000000e+00, 0.00000000e+00, 0.00000000e+00,\n",
      "       0.00000000e+00, 1.42857143e-01, 0.00000000e+00, 0.00000000e+00]), array([7.29476811e+05, 1.57320000e+04, 0.00000000e+00, 0.00000000e+00,\n",
      "       0.00000000e+00, 0.00000000e+00, 0.00000000e+00, 0.00000000e+00,\n",
      "       1.00000000e+00, 1.00000000e+00, 0.00000000e+00, 0.00000000e+00,\n",
      "       0.00000000e+00, 1.00000000e+00, 1.00000000e+00, 1.00000000e+00,\n",
      "       1.00000000e+00, 1.00000000e+00, 1.00000000e+00, 1.00000000e+00,\n",
      "       1.00000000e+00, 1.00000000e+00, 1.00000000e+00, 0.00000000e+00,\n",
      "       1.00000000e+00, 0.00000000e+00, 0.00000000e+00, 0.00000000e+00,\n",
      "       0.00000000e+00, 0.00000000e+00, 0.00000000e+00, 0.00000000e+00,\n",
      "       0.00000000e+00, 0.00000000e+00, 0.00000000e+00, 0.00000000e+00,\n",
      "       0.00000000e+00, 0.00000000e+00, 0.00000000e+00, 0.00000000e+00,\n",
      "       0.00000000e+00, 0.00000000e+00, 1.00000000e+00, 1.00000000e+00,\n",
      "       1.00000000e+00, 1.00000000e+00, 1.00000000e+00, 1.00000000e+00,\n",
      "       0.00000000e+00, 1.00000000e+00, 1.00000000e+00, 1.00000000e+00]), array([1.72708302e+07, 2.42377000e+05, 1.00000000e+00, 1.00000000e+00,\n",
      "       1.00000000e+00, 1.00000000e+00, 1.00000000e+00, 1.00000000e+00,\n",
      "       1.00000000e+00, 1.00000000e+00, 1.00000000e+00, 1.00000000e+00,\n",
      "       1.00000000e+00, 1.00000000e+00, 1.00000000e+00, 1.00000000e+00,\n",
      "       1.00000000e+00, 1.00000000e+00, 1.00000000e+00, 1.00000000e+00,\n",
      "       1.00000000e+00, 1.00000000e+00, 1.00000000e+00, 1.00000000e+00,\n",
      "       1.00000000e+00, 1.00000000e+00, 1.00000000e+00, 1.00000000e+00,\n",
      "       1.00000000e+00, 1.00000000e+00, 1.00000000e+00, 1.00000000e+00,\n",
      "       1.00000000e+00, 1.00000000e+00, 1.00000000e+00, 1.00000000e+00,\n",
      "       1.00000000e+00, 1.00000000e+00, 1.00000000e+00, 1.00000000e+00,\n",
      "       1.00000000e+00, 1.00000000e+00, 0.00000000e+00, 1.00000000e+00,\n",
      "       1.00000000e+00, 0.00000000e+00, 1.00000000e+00, 1.00000000e+00,\n",
      "       1.00000000e+00, 1.00000000e+00, 1.00000000e+00, 1.00000000e+00]), array([8.383559e+05, 2.766245e+05, 0.000000e+00, 5.000000e-01,\n",
      "       5.000000e-01, 0.000000e+00, 5.000000e-01, 5.000000e-01,\n",
      "       5.000000e-01, 0.000000e+00, 5.000000e-01, 0.000000e+00,\n",
      "       0.000000e+00, 5.000000e-01, 0.000000e+00, 0.000000e+00,\n",
      "       0.000000e+00, 0.000000e+00, 0.000000e+00, 0.000000e+00,\n",
      "       0.000000e+00, 5.000000e-01, 0.000000e+00, 0.000000e+00,\n",
      "       0.000000e+00, 0.000000e+00, 5.000000e-01, 0.000000e+00,\n",
      "       0.000000e+00, 5.000000e-01, 0.000000e+00, 0.000000e+00,\n",
      "       0.000000e+00, 0.000000e+00, 5.000000e-01, 5.000000e-01,\n",
      "       0.000000e+00, 0.000000e+00, 5.000000e-01, 0.000000e+00,\n",
      "       5.000000e-01, 0.000000e+00, 5.000000e-01, 5.000000e-01,\n",
      "       5.000000e-01, 1.000000e+00, 0.000000e+00, 5.000000e-01,\n",
      "       0.000000e+00, 5.000000e-01, 0.000000e+00, 5.000000e-01]), array([1.89099073e+05, 7.57907042e+03, 2.81690141e-01, 2.74647887e-01,\n",
      "       2.60563380e-01, 2.74647887e-01, 2.88732394e-01, 2.74647887e-01,\n",
      "       5.28169014e-01, 7.04225352e-03, 7.04225352e-03, 2.46478873e-01,\n",
      "       2.46478873e-01, 5.07042254e-01, 5.14084507e-01, 2.81690141e-02,\n",
      "       2.67605634e-01, 5.63380282e-02, 1.26760563e-01, 7.04225352e-03,\n",
      "       3.52112676e-02, 2.81690141e-02, 2.11267606e-02, 1.40845070e-02,\n",
      "       2.81690141e-02, 1.90140845e-01, 1.47887324e-01, 1.54929577e-01,\n",
      "       1.76056338e-01, 1.76056338e-01, 1.69014085e-01, 1.76056338e-01,\n",
      "       1.69014085e-01, 1.54929577e-01, 1.61971831e-01, 1.61971831e-01,\n",
      "       1.47887324e-01, 0.00000000e+00, 1.54929577e-01, 1.26760563e-01,\n",
      "       1.19718310e-01, 1.33802817e-01, 2.11267606e-02, 6.33802817e-02,\n",
      "       2.11267606e-02, 1.12676056e-01, 7.04225352e-03, 2.11267606e-02,\n",
      "       1.40845070e-02, 2.11267606e-02, 7.04225352e-03, 5.63380282e-02]), array([ 636228.57, 3153041.  ,       0.  ,       0.  ,       0.  ,\n",
      "             0.  ,       0.  ,       0.  ,       0.  ,       0.  ,\n",
      "             0.  ,       0.  ,       0.  ,       0.  ,       0.  ,\n",
      "             0.  ,       0.  ,       0.  ,       0.  ,       0.  ,\n",
      "             0.  ,       0.  ,       0.  ,       0.  ,       0.  ,\n",
      "             0.  ,       0.  ,       0.  ,       0.  ,       0.  ,\n",
      "             0.  ,       0.  ,       0.  ,       0.  ,       0.  ,\n",
      "             0.  ,       0.  ,       0.  ,       0.  ,       0.  ,\n",
      "             0.  ,       0.  ,       0.  ,       0.  ,       0.  ,\n",
      "             0.  ,       0.  ,       0.  ,       0.  ,       0.  ,\n",
      "             0.  ,       0.  ]), array([2.63627921e+07, 5.05455900e+06, 0.00000000e+00, 0.00000000e+00,\n",
      "       0.00000000e+00, 0.00000000e+00, 0.00000000e+00, 0.00000000e+00,\n",
      "       0.00000000e+00, 0.00000000e+00, 0.00000000e+00, 0.00000000e+00,\n",
      "       0.00000000e+00, 0.00000000e+00, 0.00000000e+00, 0.00000000e+00,\n",
      "       0.00000000e+00, 0.00000000e+00, 0.00000000e+00, 0.00000000e+00,\n",
      "       0.00000000e+00, 0.00000000e+00, 0.00000000e+00, 0.00000000e+00,\n",
      "       0.00000000e+00, 0.00000000e+00, 0.00000000e+00, 0.00000000e+00,\n",
      "       0.00000000e+00, 0.00000000e+00, 0.00000000e+00, 0.00000000e+00,\n",
      "       0.00000000e+00, 0.00000000e+00, 0.00000000e+00, 0.00000000e+00,\n",
      "       0.00000000e+00, 0.00000000e+00, 0.00000000e+00, 0.00000000e+00,\n",
      "       0.00000000e+00, 0.00000000e+00, 1.00000000e+00, 0.00000000e+00,\n",
      "       0.00000000e+00, 0.00000000e+00, 0.00000000e+00, 0.00000000e+00,\n",
      "       0.00000000e+00, 0.00000000e+00, 0.00000000e+00, 0.00000000e+00]), array([5.32074355e+05, 1.10177647e+04, 5.88235294e-02, 5.88235294e-02,\n",
      "       5.88235294e-02, 5.88235294e-02, 5.88235294e-02, 5.88235294e-02,\n",
      "       1.76470588e-01, 1.17647059e-01, 0.00000000e+00, 5.88235294e-02,\n",
      "       5.88235294e-02, 9.41176471e-01, 9.41176471e-01, 1.17647059e-01,\n",
      "       1.76470588e-01, 1.76470588e-01, 1.17647059e-01, 1.17647059e-01,\n",
      "       1.76470588e-01, 1.17647059e-01, 1.17647059e-01, 0.00000000e+00,\n",
      "       1.17647059e-01, 5.88235294e-02, 5.88235294e-02, 5.88235294e-02,\n",
      "       5.88235294e-02, 5.88235294e-02, 5.88235294e-02, 5.88235294e-02,\n",
      "       5.88235294e-02, 5.88235294e-02, 5.88235294e-02, 5.88235294e-02,\n",
      "       5.88235294e-02, 0.00000000e+00, 5.88235294e-02, 5.88235294e-02,\n",
      "       5.88235294e-02, 5.88235294e-02, 1.17647059e-01, 8.82352941e-01,\n",
      "       1.17647059e-01, 1.17647059e-01, 1.17647059e-01, 1.17647059e-01,\n",
      "       0.00000000e+00, 1.76470588e-01, 1.17647059e-01, 1.17647059e-01]), array([ 3473463.76, 14032642.  ,        0.  ,        0.  ,        0.  ,\n",
      "              0.  ,        0.  ,        0.  ,        0.  ,        0.  ,\n",
      "              0.  ,        0.  ,        0.  ,        0.  ,        0.  ,\n",
      "              0.  ,        0.  ,        0.  ,        0.  ,        0.  ,\n",
      "              0.  ,        0.  ,        0.  ,        0.  ,        0.  ,\n",
      "              0.  ,        0.  ,        0.  ,        0.  ,        0.  ,\n",
      "              0.  ,        0.  ,        0.  ,        0.  ,        0.  ,\n",
      "              0.  ,        0.  ,        0.  ,        0.  ,        0.  ,\n",
      "              0.  ,        0.  ,        0.  ,        0.  ,        0.  ,\n",
      "              0.  ,        0.  ,        0.  ,        0.  ,        0.  ,\n",
      "              0.  ,        0.  ]), array([1.4987841e+07, 1.8360700e+05, 0.0000000e+00, 0.0000000e+00,\n",
      "       0.0000000e+00, 0.0000000e+00, 0.0000000e+00, 0.0000000e+00,\n",
      "       1.0000000e+00, 1.0000000e+00, 0.0000000e+00, 0.0000000e+00,\n",
      "       0.0000000e+00, 1.0000000e+00, 1.0000000e+00, 0.0000000e+00,\n",
      "       1.0000000e+00, 1.0000000e+00, 0.0000000e+00, 1.0000000e+00,\n",
      "       1.0000000e+00, 1.0000000e+00, 1.0000000e+00, 0.0000000e+00,\n",
      "       1.0000000e+00, 0.0000000e+00, 0.0000000e+00, 0.0000000e+00,\n",
      "       0.0000000e+00, 0.0000000e+00, 0.0000000e+00, 0.0000000e+00,\n",
      "       0.0000000e+00, 0.0000000e+00, 0.0000000e+00, 0.0000000e+00,\n",
      "       0.0000000e+00, 0.0000000e+00, 0.0000000e+00, 0.0000000e+00,\n",
      "       0.0000000e+00, 0.0000000e+00, 1.0000000e+00, 0.0000000e+00,\n",
      "       1.0000000e+00, 1.0000000e+00, 1.0000000e+00, 1.0000000e+00,\n",
      "       0.0000000e+00, 1.0000000e+00, 1.0000000e+00, 1.0000000e+00]), array([1.61503258e+06, 2.58754857e+05, 0.00000000e+00, 1.42857143e-01,\n",
      "       0.00000000e+00, 0.00000000e+00, 0.00000000e+00, 0.00000000e+00,\n",
      "       4.28571429e-01, 4.28571429e-01, 1.42857143e-01, 0.00000000e+00,\n",
      "       0.00000000e+00, 4.28571429e-01, 4.28571429e-01, 0.00000000e+00,\n",
      "       4.28571429e-01, 4.28571429e-01, 4.28571429e-01, 4.28571429e-01,\n",
      "       1.42857143e-01, 4.28571429e-01, 5.71428571e-01, 0.00000000e+00,\n",
      "       0.00000000e+00, 0.00000000e+00, 0.00000000e+00, 0.00000000e+00,\n",
      "       0.00000000e+00, 0.00000000e+00, 0.00000000e+00, 0.00000000e+00,\n",
      "       0.00000000e+00, 0.00000000e+00, 0.00000000e+00, 0.00000000e+00,\n",
      "       0.00000000e+00, 1.42857143e-01, 0.00000000e+00, 0.00000000e+00,\n",
      "       0.00000000e+00, 0.00000000e+00, 4.28571429e-01, 0.00000000e+00,\n",
      "       4.28571429e-01, 4.28571429e-01, 4.28571429e-01, 0.00000000e+00,\n",
      "       0.00000000e+00, 5.71428571e-01, 4.28571429e-01, 4.28571429e-01]), array([1.98339879e+04, 3.63682146e+05, 2.08333333e-02, 0.00000000e+00,\n",
      "       0.00000000e+00, 0.00000000e+00, 0.00000000e+00, 0.00000000e+00,\n",
      "       0.00000000e+00, 2.08333333e-02, 0.00000000e+00, 0.00000000e+00,\n",
      "       0.00000000e+00, 2.08333333e-02, 2.08333333e-02, 2.08333333e-02,\n",
      "       2.08333333e-02, 0.00000000e+00, 0.00000000e+00, 0.00000000e+00,\n",
      "       0.00000000e+00, 2.08333333e-02, 0.00000000e+00, 0.00000000e+00,\n",
      "       2.08333333e-02, 0.00000000e+00, 0.00000000e+00, 0.00000000e+00,\n",
      "       0.00000000e+00, 0.00000000e+00, 0.00000000e+00, 0.00000000e+00,\n",
      "       0.00000000e+00, 0.00000000e+00, 0.00000000e+00, 0.00000000e+00,\n",
      "       0.00000000e+00, 0.00000000e+00, 0.00000000e+00, 0.00000000e+00,\n",
      "       0.00000000e+00, 0.00000000e+00, 6.25000000e-02, 0.00000000e+00,\n",
      "       6.25000000e-02, 2.08333333e-02, 0.00000000e+00, 0.00000000e+00,\n",
      "       0.00000000e+00, 0.00000000e+00, 4.16666667e-02, 0.00000000e+00]), array([ 3454263.42, 13980397.  ,        0.  ,        0.  ,        0.  ,\n",
      "              0.  ,        0.  ,        0.  ,        0.  ,        0.  ,\n",
      "              0.  ,        0.  ,        0.  ,        0.  ,        0.  ,\n",
      "              0.  ,        0.  ,        0.  ,        0.  ,        0.  ,\n",
      "              0.  ,        0.  ,        0.  ,        0.  ,        0.  ,\n",
      "              0.  ,        0.  ,        0.  ,        0.  ,        0.  ,\n",
      "              0.  ,        0.  ,        0.  ,        0.  ,        0.  ,\n",
      "              0.  ,        0.  ,        0.  ,        0.  ,        0.  ,\n",
      "              0.  ,        0.  ,        0.  ,        0.  ,        0.  ,\n",
      "              0.  ,        0.  ,        0.  ,        0.  ,        0.  ,\n",
      "              0.  ,        0.  ]), array([6.88888869e+05, 1.49852857e+04, 0.00000000e+00, 0.00000000e+00,\n",
      "       0.00000000e+00, 0.00000000e+00, 0.00000000e+00, 0.00000000e+00,\n",
      "       1.00000000e+00, 1.00000000e+00, 0.00000000e+00, 0.00000000e+00,\n",
      "       0.00000000e+00, 1.00000000e+00, 1.00000000e+00, 1.00000000e+00,\n",
      "       1.00000000e+00, 1.00000000e+00, 1.00000000e+00, 1.00000000e+00,\n",
      "       1.00000000e+00, 1.00000000e+00, 1.00000000e+00, 0.00000000e+00,\n",
      "       1.00000000e+00, 0.00000000e+00, 0.00000000e+00, 0.00000000e+00,\n",
      "       0.00000000e+00, 0.00000000e+00, 0.00000000e+00, 0.00000000e+00,\n",
      "       0.00000000e+00, 0.00000000e+00, 0.00000000e+00, 0.00000000e+00,\n",
      "       0.00000000e+00, 0.00000000e+00, 0.00000000e+00, 0.00000000e+00,\n",
      "       0.00000000e+00, 0.00000000e+00, 1.00000000e+00, 1.00000000e+00,\n",
      "       1.00000000e+00, 1.00000000e+00, 1.00000000e+00, 1.00000000e+00,\n",
      "       0.00000000e+00, 1.00000000e+00, 1.00000000e+00, 1.00000000e+00]), array([2.30171159e+07, 3.82120600e+06, 0.00000000e+00, 0.00000000e+00,\n",
      "       0.00000000e+00, 0.00000000e+00, 0.00000000e+00, 0.00000000e+00,\n",
      "       0.00000000e+00, 0.00000000e+00, 0.00000000e+00, 0.00000000e+00,\n",
      "       0.00000000e+00, 1.00000000e+00, 1.00000000e+00, 0.00000000e+00,\n",
      "       0.00000000e+00, 1.00000000e+00, 0.00000000e+00, 0.00000000e+00,\n",
      "       0.00000000e+00, 1.00000000e+00, 0.00000000e+00, 0.00000000e+00,\n",
      "       0.00000000e+00, 0.00000000e+00, 0.00000000e+00, 0.00000000e+00,\n",
      "       0.00000000e+00, 0.00000000e+00, 0.00000000e+00, 0.00000000e+00,\n",
      "       0.00000000e+00, 0.00000000e+00, 0.00000000e+00, 0.00000000e+00,\n",
      "       0.00000000e+00, 0.00000000e+00, 0.00000000e+00, 0.00000000e+00,\n",
      "       0.00000000e+00, 0.00000000e+00, 0.00000000e+00, 0.00000000e+00,\n",
      "       0.00000000e+00, 0.00000000e+00, 0.00000000e+00, 0.00000000e+00,\n",
      "       0.00000000e+00, 0.00000000e+00, 0.00000000e+00, 1.00000000e+00]), array([2.46436118e+07, 3.24582000e+05, 0.00000000e+00, 0.00000000e+00,\n",
      "       0.00000000e+00, 0.00000000e+00, 0.00000000e+00, 0.00000000e+00,\n",
      "       1.00000000e+00, 1.00000000e+00, 0.00000000e+00, 0.00000000e+00,\n",
      "       0.00000000e+00, 1.00000000e+00, 1.00000000e+00, 1.00000000e+00,\n",
      "       1.00000000e+00, 1.00000000e+00, 1.00000000e+00, 1.00000000e+00,\n",
      "       1.00000000e+00, 1.00000000e+00, 1.00000000e+00, 0.00000000e+00,\n",
      "       1.00000000e+00, 0.00000000e+00, 0.00000000e+00, 0.00000000e+00,\n",
      "       0.00000000e+00, 0.00000000e+00, 0.00000000e+00, 0.00000000e+00,\n",
      "       0.00000000e+00, 0.00000000e+00, 0.00000000e+00, 0.00000000e+00,\n",
      "       0.00000000e+00, 0.00000000e+00, 0.00000000e+00, 0.00000000e+00,\n",
      "       0.00000000e+00, 0.00000000e+00, 1.00000000e+00, 1.00000000e+00,\n",
      "       1.00000000e+00, 1.00000000e+00, 1.00000000e+00, 1.00000000e+00,\n",
      "       0.00000000e+00, 1.00000000e+00, 1.00000000e+00, 1.00000000e+00]), array([17596573.68,   200779.  ,        0.  ,        0.  ,        0.  ,\n",
      "              0.  ,        0.  ,        0.  ,        0.  ,        0.  ,\n",
      "              0.  ,        0.  ,        0.  ,        0.  ,        0.  ,\n",
      "              0.  ,        0.  ,        0.  ,        0.  ,        0.  ,\n",
      "              0.  ,        0.  ,        0.  ,        0.  ,        0.  ,\n",
      "              0.  ,        0.  ,        0.  ,        0.  ,        0.  ,\n",
      "              0.  ,        0.  ,        0.  ,        0.  ,        0.  ,\n",
      "              0.  ,        0.  ,        0.  ,        0.  ,        0.  ,\n",
      "              0.  ,        0.  ,        0.  ,        0.  ,        0.  ,\n",
      "              0.  ,        0.  ,        0.  ,        0.  ,        0.  ,\n",
      "              0.  ,        0.  ]), array([1.02015826e+05, 1.63939904e+03, 2.13141026e-01, 2.13942308e-01,\n",
      "       2.12339744e-01, 2.13141026e-01, 2.13942308e-01, 2.13942308e-01,\n",
      "       6.49839744e-01, 1.52243590e-02, 8.01282051e-03, 2.11538462e-01,\n",
      "       2.08333333e-01, 1.64262821e-01, 1.67467949e-01, 5.44871795e-02,\n",
      "       1.41826923e-01, 6.00961538e-02, 4.95993590e-01, 5.28846154e-02,\n",
      "       5.68910256e-02, 5.28846154e-02, 5.36858974e-02, 5.36858974e-02,\n",
      "       5.44871795e-02, 1.34615385e-01, 1.30608974e-01, 1.37820513e-01,\n",
      "       1.39423077e-01, 1.25801282e-01, 1.28205128e-01, 1.32211538e-01,\n",
      "       1.21794872e-01, 1.25000000e-01, 1.25801282e-01, 1.25801282e-01,\n",
      "       1.29006410e-01, 8.01282051e-04, 8.97435897e-02, 9.29487179e-02,\n",
      "       8.65384615e-02, 8.41346154e-02, 4.00641026e-03, 7.21153846e-03,\n",
      "       2.08333333e-02, 6.65064103e-02, 6.41025641e-03, 3.20512821e-03,\n",
      "       4.00641026e-03, 0.00000000e+00, 0.00000000e+00, 4.56730769e-02]), array([2.56905207e+06, 7.19360000e+04, 5.00000000e-01, 0.00000000e+00,\n",
      "       0.00000000e+00, 5.00000000e-01, 0.00000000e+00, 5.00000000e-01,\n",
      "       5.00000000e-01, 1.00000000e+00, 5.00000000e-01, 5.00000000e-01,\n",
      "       0.00000000e+00, 1.00000000e+00, 5.00000000e-01, 5.00000000e-01,\n",
      "       5.00000000e-01, 5.00000000e-01, 5.00000000e-01, 1.00000000e+00,\n",
      "       5.00000000e-01, 5.00000000e-01, 1.00000000e+00, 0.00000000e+00,\n",
      "       5.00000000e-01, 5.00000000e-01, 0.00000000e+00, 5.00000000e-01,\n",
      "       5.00000000e-01, 5.00000000e-01, 5.00000000e-01, 5.00000000e-01,\n",
      "       0.00000000e+00, 5.00000000e-01, 0.00000000e+00, 0.00000000e+00,\n",
      "       0.00000000e+00, 0.00000000e+00, 5.00000000e-01, 5.00000000e-01,\n",
      "       5.00000000e-01, 5.00000000e-01, 5.00000000e-01, 5.00000000e-01,\n",
      "       5.00000000e-01, 1.00000000e+00, 1.00000000e+00, 0.00000000e+00,\n",
      "       0.00000000e+00, 1.00000000e+00, 5.00000000e-01, 5.00000000e-01]), array([3.03003304e+05, 5.57758571e+03, 2.28571429e-01, 2.42857143e-01,\n",
      "       2.28571429e-01, 2.28571429e-01, 2.28571429e-01, 2.28571429e-01,\n",
      "       4.28571429e-01, 0.00000000e+00, 0.00000000e+00, 2.28571429e-01,\n",
      "       2.28571429e-01, 6.57142857e-01, 7.28571429e-01, 4.14285714e-01,\n",
      "       4.14285714e-01, 1.57142857e-01, 4.71428571e-01, 2.71428571e-01,\n",
      "       1.42857143e-01, 1.14285714e-01, 1.28571429e-01, 1.28571429e-01,\n",
      "       1.28571429e-01, 2.00000000e-01, 2.00000000e-01, 2.00000000e-01,\n",
      "       2.14285714e-01, 2.14285714e-01, 2.00000000e-01, 1.85714286e-01,\n",
      "       1.57142857e-01, 2.00000000e-01, 2.00000000e-01, 2.00000000e-01,\n",
      "       1.85714286e-01, 1.42857143e-02, 1.71428571e-01, 1.57142857e-01,\n",
      "       1.57142857e-01, 1.42857143e-01, 0.00000000e+00, 2.00000000e-01,\n",
      "       0.00000000e+00, 4.14285714e-01, 0.00000000e+00, 0.00000000e+00,\n",
      "       1.42857143e-02, 2.85714286e-02, 0.00000000e+00, 4.57142857e-01]), array([17241988.91,   196206.  ,        0.  ,        0.  ,        0.  ,\n",
      "              0.  ,        0.  ,        0.  ,        0.  ,        0.  ,\n",
      "              0.  ,        0.  ,        0.  ,        0.  ,        0.  ,\n",
      "              0.  ,        0.  ,        0.  ,        0.  ,        0.  ,\n",
      "              0.  ,        0.  ,        0.  ,        0.  ,        0.  ,\n",
      "              0.  ,        0.  ,        0.  ,        0.  ,        0.  ,\n",
      "              0.  ,        0.  ,        0.  ,        0.  ,        0.  ,\n",
      "              0.  ,        0.  ,        0.  ,        0.  ,        0.  ,\n",
      "              0.  ,        0.  ,        0.  ,        0.  ,        0.  ,\n",
      "              0.  ,        0.  ,        0.  ,        0.  ,        0.  ,\n",
      "              0.  ,        0.  ]), array([3923102.66, 1066275.  ,       0.  ,       0.  ,       0.  ,\n",
      "             0.  ,       0.  ,       0.  ,       0.  ,       0.  ,\n",
      "             0.  ,       0.  ,       0.  ,       0.  ,       0.  ,\n",
      "             0.  ,       0.  ,       0.  ,       0.  ,       0.  ,\n",
      "             0.  ,       0.  ,       0.  ,       0.  ,       0.  ,\n",
      "             0.  ,       0.  ,       0.  ,       0.  ,       0.  ,\n",
      "             0.  ,       0.  ,       0.  ,       0.  ,       0.  ,\n",
      "             0.  ,       0.  ,       0.  ,       0.  ,       0.  ,\n",
      "             0.  ,       0.  ,       0.  ,       0.  ,       0.  ,\n",
      "             0.  ,       0.  ,       0.  ,       0.  ,       0.  ,\n",
      "             0.  ,       0.  ])]\n"
     ]
    }
   ],
   "source": [
    "print(centers)"
   ]
  },
  {
   "cell_type": "code",
   "execution_count": 57,
   "metadata": {},
   "outputs": [],
   "source": [
    "sc = ss.sparkContext"
   ]
  },
  {
   "cell_type": "code",
   "execution_count": 58,
   "metadata": {},
   "outputs": [],
   "source": [
    "centers_rdd = sc.parallelize(centers)"
   ]
  },
  {
   "cell_type": "code",
   "execution_count": 59,
   "metadata": {},
   "outputs": [],
   "source": [
    "centers_rdd.saveAsTextFile(\"MiniProject 2 ClusterResult A\")"
   ]
  },
  {
   "cell_type": "markdown",
   "metadata": {},
   "source": [
    "## Exercise 7 Complete the code below to perform k-means clustering using only One Hot Encoded Features (15%)"
   ]
  },
  {
   "cell_type": "code",
   "execution_count": 60,
   "metadata": {},
   "outputs": [],
   "source": [
    "input_features2 = [ ]\n",
    "for i in range(0, top_ports ):\n",
    "    input_features2.append( \"Port\"+ Top_Ports_list[i] )"
   ]
  },
  {
   "cell_type": "code",
   "execution_count": 61,
   "metadata": {},
   "outputs": [
    {
     "name": "stdout",
     "output_type": "stream",
     "text": [
      "['Port17132', 'Port17140', 'Port17128', 'Port17138', 'Port17130', 'Port17136', 'Port23', 'Port445', 'Port54594', 'Port17142', 'Port17134', 'Port80', 'Port8080', 'Port0', 'Port2323', 'Port5555', 'Port81', 'Port1023', 'Port52869', 'Port8443', 'Port49152', 'Port7574', 'Port37215', 'Port34218', 'Port34220', 'Port33968', 'Port34224', 'Port34228', 'Port33962', 'Port33960', 'Port33964', 'Port34216', 'Port34226', 'Port33970', 'Port33972', 'Port50401', 'Port34222', 'Port34230', 'Port33966', 'Port33974', 'Port3389', 'Port1433', 'Port22', 'Port5353', 'Port21', 'Port8291', 'Port8728', 'Port443', 'Port5900', 'Port8000']\n"
     ]
    }
   ],
   "source": [
    "print(input_features2)"
   ]
  },
  {
   "cell_type": "code",
   "execution_count": 62,
   "metadata": {},
   "outputs": [],
   "source": [
    "va2 = VectorAssembler().setInputCols(input_features2).setOutputCol(\"features2\")"
   ]
  },
  {
   "cell_type": "code",
   "execution_count": 63,
   "metadata": {},
   "outputs": [],
   "source": [
    "data2= va2.transform(Scanners_df2)"
   ]
  },
  {
   "cell_type": "code",
   "execution_count": 64,
   "metadata": {},
   "outputs": [
    {
     "data": {
      "text/plain": [
       "DataFrame[_c0: int, id: int, numports: int, lifetime: double, Bytes: int, Packets: int, average_packetsize: int, MinUniqueDests: int, MaxUniqueDests: int, MinUniqueDest24s: int, MaxUniqueDest24s: int, average_lifetime: double, mirai: boolean, zmap: boolean, masscan: boolean, country: string, traffic_types_scanned_str: string, ports_scanned_str: string, host_tags_per_censys: string, host_services_per_censys: string, Ports_Array: array<string>, Port17132: boolean, Port17140: boolean, Port17128: boolean, Port17138: boolean, Port17130: boolean, Port17136: boolean, Port23: boolean, Port445: boolean, Port54594: boolean, Port17142: boolean, Port17134: boolean, Port80: boolean, Port8080: boolean, Port0: boolean, Port2323: boolean, Port5555: boolean, Port81: boolean, Port1023: boolean, Port52869: boolean, Port8443: boolean, Port49152: boolean, Port7574: boolean, Port37215: boolean, Port34218: boolean, Port34220: boolean, Port33968: boolean, Port34224: boolean, Port34228: boolean, Port33962: boolean, Port33960: boolean, Port33964: boolean, Port34216: boolean, Port34226: boolean, Port33970: boolean, Port33972: boolean, Port50401: boolean, Port34222: boolean, Port34230: boolean, Port33966: boolean, Port33974: boolean, Port3389: boolean, Port1433: boolean, Port22: boolean, Port5353: boolean, Port21: boolean, Port8291: boolean, Port8728: boolean, Port443: boolean, Port5900: boolean, Port8000: boolean, features2: vector]"
      ]
     },
     "execution_count": 64,
     "metadata": {},
     "output_type": "execute_result"
    }
   ],
   "source": [
    "data2.persist()"
   ]
  },
  {
   "cell_type": "code",
   "execution_count": 65,
   "metadata": {},
   "outputs": [
    {
     "name": "stdout",
     "output_type": "stream",
     "text": [
      "+-------+-------+--------+--------+-----+-------+------------------+--------------+--------------+----------------+----------------+----------------+-----+-----+-------+-------+-------------------------+-----------------+--------------------+------------------------+--------------+---------+---------+---------+---------+---------+---------+------+-------+---------+---------+---------+------+--------+-----+--------+--------+------+--------+---------+--------+---------+--------+---------+---------+---------+---------+---------+---------+---------+---------+---------+---------+---------+---------+---------+---------+---------+---------+---------+---------+--------+--------+------+--------+------+--------+--------+-------+--------+--------+--------------------+\n",
      "|    _c0|     id|numports|lifetime|Bytes|Packets|average_packetsize|MinUniqueDests|MaxUniqueDests|MinUniqueDest24s|MaxUniqueDest24s|average_lifetime|mirai| zmap|masscan|country|traffic_types_scanned_str|ports_scanned_str|host_tags_per_censys|host_services_per_censys|   Ports_Array|Port17132|Port17140|Port17128|Port17138|Port17130|Port17136|Port23|Port445|Port54594|Port17142|Port17134|Port80|Port8080|Port0|Port2323|Port5555|Port81|Port1023|Port52869|Port8443|Port49152|Port7574|Port37215|Port34218|Port34220|Port33968|Port34224|Port34228|Port33962|Port33960|Port33964|Port34216|Port34226|Port33970|Port33972|Port50401|Port34222|Port34230|Port33966|Port33974|Port3389|Port1433|Port22|Port5353|Port21|Port8291|Port8728|Port443|Port5900|Port8000|           features2|\n",
      "+-------+-------+--------+--------+-----+-------+------------------+--------------+--------------+----------------+----------------+----------------+-----+-----+-------+-------+-------------------------+-----------------+--------------------+------------------------+--------------+---------+---------+---------+---------+---------+---------+------+-------+---------+---------+---------+------+--------+-----+--------+--------+------+--------+---------+--------+---------+--------+---------+---------+---------+---------+---------+---------+---------+---------+---------+---------+---------+---------+---------+---------+---------+---------+---------+---------+--------+--------+------+--------+------+--------+--------+-------+--------+--------+--------------------+\n",
      "|1645181|1645181|       1|     0.0|   60|      1|                60|             1|             1|               1|               1|             0.0|false|false|  false|     BR|                       15|            13716|                null|                    null|       [13716]|    false|    false|    false|    false|    false|    false| false|  false|    false|    false|    false| false|   false|false|   false|   false| false|   false|    false|   false|    false|   false|    false|    false|    false|    false|    false|    false|    false|    false|    false|    false|    false|    false|    false|    false|    false|    false|    false|    false|   false|   false| false|   false| false|   false|   false|  false|   false|   false|          (50,[],[])|\n",
      "|2091467|2091467|       2|  199.84|  752|     12|                62|             1|             1|               1|               1|           66.61|false|false|  false|     CN|                    11-16|      17128-17136|                null|                    null|[17128, 17136]|    false|    false|     true|    false|    false|     true| false|  false|    false|    false|    false| false|   false|false|   false|   false| false|   false|    false|   false|    false|   false|    false|    false|    false|    false|    false|    false|    false|    false|    false|    false|    false|    false|    false|    false|    false|    false|    false|    false|   false|   false| false|   false| false|   false|   false|  false|   false|   false|(50,[2,5],[1.0,1.0])|\n",
      "| 888618| 888618|       1|     0.0|   60|      1|                60|             1|             1|               1|               1|             0.0|false|false|  false|     US|                       15|            35134|                null|                    null|       [35134]|    false|    false|    false|    false|    false|    false| false|  false|    false|    false|    false| false|   false|false|   false|   false| false|   false|    false|   false|    false|   false|    false|    false|    false|    false|    false|    false|    false|    false|    false|    false|    false|    false|    false|    false|    false|    false|    false|    false|   false|   false| false|   false| false|   false|   false|  false|   false|   false|          (50,[],[])|\n",
      "+-------+-------+--------+--------+-----+-------+------------------+--------------+--------------+----------------+----------------+----------------+-----+-----+-------+-------+-------------------------+-----------------+--------------------+------------------------+--------------+---------+---------+---------+---------+---------+---------+------+-------+---------+---------+---------+------+--------+-----+--------+--------+------+--------+---------+--------+---------+--------+---------+---------+---------+---------+---------+---------+---------+---------+---------+---------+---------+---------+---------+---------+---------+---------+---------+---------+--------+--------+------+--------+------+--------+--------+-------+--------+--------+--------------------+\n",
      "only showing top 3 rows\n",
      "\n"
     ]
    }
   ],
   "source": [
    "data2.show(3)"
   ]
  },
  {
   "cell_type": "code",
   "execution_count": 66,
   "metadata": {},
   "outputs": [
    {
     "data": {
      "text/plain": [
       "'distanceMeasure: the distance measure. Supported options: \\'euclidean\\' and \\'cosine\\'. (default: euclidean)\\nfeaturesCol: features column name. (default: features, current: features2)\\ninitMode: The initialization algorithm. This can be either \"random\" to choose random points as initial cluster centers, or \"k-means||\" to use a parallel variant of k-means++ (default: k-means||)\\ninitSteps: The number of steps for k-means|| initialization mode. Must be > 0. (default: 2)\\nk: The number of clusters to create. Must be > 1. (default: 2, current: 100)\\nmaxIter: max number of iterations (>= 0). (default: 20)\\npredictionCol: prediction column name. (default: prediction, current: prediction2)\\nseed: random seed. (default: -2704299597103909330, current: 123)\\ntol: the convergence tolerance for iterative algorithms (>= 0). (default: 0.0001)\\nweightCol: weight column name. If this is not set or empty, we treat all instance weights as 1.0. (undefined)'"
      ]
     },
     "execution_count": 66,
     "metadata": {},
     "output_type": "execute_result"
    }
   ],
   "source": [
    "km2 = KMeans(featuresCol=\"features2\", predictionCol=\"prediction2\").setK(100).setSeed(123)\n",
    "km2.explainParams()"
   ]
  },
  {
   "cell_type": "code",
   "execution_count": 67,
   "metadata": {},
   "outputs": [],
   "source": [
    "kmModel2=km2.fit(data2)"
   ]
  },
  {
   "cell_type": "code",
   "execution_count": 68,
   "metadata": {},
   "outputs": [
    {
     "data": {
      "text/plain": [
       "KMeansModel: uid=KMeans_96198e02a611, k=100, distanceMeasure=euclidean, numFeatures=50"
      ]
     },
     "execution_count": 68,
     "metadata": {},
     "output_type": "execute_result"
    }
   ],
   "source": [
    "kmModel2"
   ]
  },
  {
   "cell_type": "code",
   "execution_count": 69,
   "metadata": {},
   "outputs": [],
   "source": [
    "predictions2 = kmModel2.transform(data2)"
   ]
  },
  {
   "cell_type": "code",
   "execution_count": 70,
   "metadata": {},
   "outputs": [
    {
     "name": "stdout",
     "output_type": "stream",
     "text": [
      "+-------+-------+--------+--------+-----+-------+------------------+--------------+--------------+----------------+----------------+----------------+-----+-----+-------+-------+-------------------------+-----------------+--------------------+------------------------+--------------+---------+---------+---------+---------+---------+---------+------+-------+---------+---------+---------+------+--------+-----+--------+--------+------+--------+---------+--------+---------+--------+---------+---------+---------+---------+---------+---------+---------+---------+---------+---------+---------+---------+---------+---------+---------+---------+---------+---------+--------+--------+------+--------+------+--------+--------+-------+--------+--------+--------------------+-----------+\n",
      "|    _c0|     id|numports|lifetime|Bytes|Packets|average_packetsize|MinUniqueDests|MaxUniqueDests|MinUniqueDest24s|MaxUniqueDest24s|average_lifetime|mirai| zmap|masscan|country|traffic_types_scanned_str|ports_scanned_str|host_tags_per_censys|host_services_per_censys|   Ports_Array|Port17132|Port17140|Port17128|Port17138|Port17130|Port17136|Port23|Port445|Port54594|Port17142|Port17134|Port80|Port8080|Port0|Port2323|Port5555|Port81|Port1023|Port52869|Port8443|Port49152|Port7574|Port37215|Port34218|Port34220|Port33968|Port34224|Port34228|Port33962|Port33960|Port33964|Port34216|Port34226|Port33970|Port33972|Port50401|Port34222|Port34230|Port33966|Port33974|Port3389|Port1433|Port22|Port5353|Port21|Port8291|Port8728|Port443|Port5900|Port8000|           features2|prediction2|\n",
      "+-------+-------+--------+--------+-----+-------+------------------+--------------+--------------+----------------+----------------+----------------+-----+-----+-------+-------+-------------------------+-----------------+--------------------+------------------------+--------------+---------+---------+---------+---------+---------+---------+------+-------+---------+---------+---------+------+--------+-----+--------+--------+------+--------+---------+--------+---------+--------+---------+---------+---------+---------+---------+---------+---------+---------+---------+---------+---------+---------+---------+---------+---------+---------+---------+---------+--------+--------+------+--------+------+--------+--------+-------+--------+--------+--------------------+-----------+\n",
      "|1645181|1645181|       1|     0.0|   60|      1|                60|             1|             1|               1|               1|             0.0|false|false|  false|     BR|                       15|            13716|                null|                    null|       [13716]|    false|    false|    false|    false|    false|    false| false|  false|    false|    false|    false| false|   false|false|   false|   false| false|   false|    false|   false|    false|   false|    false|    false|    false|    false|    false|    false|    false|    false|    false|    false|    false|    false|    false|    false|    false|    false|    false|    false|   false|   false| false|   false| false|   false|   false|  false|   false|   false|          (50,[],[])|          6|\n",
      "|2091467|2091467|       2|  199.84|  752|     12|                62|             1|             1|               1|               1|           66.61|false|false|  false|     CN|                    11-16|      17128-17136|                null|                    null|[17128, 17136]|    false|    false|     true|    false|    false|     true| false|  false|    false|    false|    false| false|   false|false|   false|   false| false|   false|    false|   false|    false|   false|    false|    false|    false|    false|    false|    false|    false|    false|    false|    false|    false|    false|    false|    false|    false|    false|    false|    false|   false|   false| false|   false| false|   false|   false|  false|   false|   false|(50,[2,5],[1.0,1.0])|         39|\n",
      "| 888618| 888618|       1|     0.0|   60|      1|                60|             1|             1|               1|               1|             0.0|false|false|  false|     US|                       15|            35134|                null|                    null|       [35134]|    false|    false|    false|    false|    false|    false| false|  false|    false|    false|    false| false|   false|false|   false|   false| false|   false|    false|   false|    false|   false|    false|    false|    false|    false|    false|    false|    false|    false|    false|    false|    false|    false|    false|    false|    false|    false|    false|    false|   false|   false| false|   false| false|   false|   false|  false|   false|   false|          (50,[],[])|          6|\n",
      "+-------+-------+--------+--------+-----+-------+------------------+--------------+--------------+----------------+----------------+----------------+-----+-----+-------+-------+-------------------------+-----------------+--------------------+------------------------+--------------+---------+---------+---------+---------+---------+---------+------+-------+---------+---------+---------+------+--------+-----+--------+--------+------+--------+---------+--------+---------+--------+---------+---------+---------+---------+---------+---------+---------+---------+---------+---------+---------+---------+---------+---------+---------+---------+---------+---------+--------+--------+------+--------+------+--------+--------+-------+--------+--------+--------------------+-----------+\n",
      "only showing top 3 rows\n",
      "\n"
     ]
    }
   ],
   "source": [
    "predictions2.persist().show(3)"
   ]
  },
  {
   "cell_type": "code",
   "execution_count": 71,
   "metadata": {},
   "outputs": [],
   "source": [
    "summary2 = kmModel2.summary"
   ]
  },
  {
   "cell_type": "code",
   "execution_count": 72,
   "metadata": {},
   "outputs": [
    {
     "data": {
      "text/plain": [
       "[1226,\n",
       " 7751,\n",
       " 760,\n",
       " 25079,\n",
       " 430,\n",
       " 2808,\n",
       " 37512,\n",
       " 532,\n",
       " 318,\n",
       " 611,\n",
       " 8408,\n",
       " 22175,\n",
       " 17349,\n",
       " 7438,\n",
       " 220,\n",
       " 505,\n",
       " 966,\n",
       " 1518,\n",
       " 979,\n",
       " 1226,\n",
       " 168,\n",
       " 369,\n",
       " 8087,\n",
       " 1182,\n",
       " 412,\n",
       " 229,\n",
       " 531,\n",
       " 448,\n",
       " 256,\n",
       " 1160,\n",
       " 287,\n",
       " 226,\n",
       " 634,\n",
       " 4042,\n",
       " 7079,\n",
       " 7044,\n",
       " 1204,\n",
       " 641,\n",
       " 8115,\n",
       " 894,\n",
       " 1042,\n",
       " 381,\n",
       " 4057,\n",
       " 8360,\n",
       " 189,\n",
       " 89,\n",
       " 1802,\n",
       " 249,\n",
       " 515,\n",
       " 312,\n",
       " 924,\n",
       " 53,\n",
       " 222,\n",
       " 1048,\n",
       " 253,\n",
       " 432,\n",
       " 446,\n",
       " 903,\n",
       " 284,\n",
       " 974,\n",
       " 320,\n",
       " 445,\n",
       " 545,\n",
       " 638,\n",
       " 1567,\n",
       " 603,\n",
       " 227,\n",
       " 743,\n",
       " 343,\n",
       " 437,\n",
       " 466,\n",
       " 780,\n",
       " 200,\n",
       " 609,\n",
       " 255,\n",
       " 323,\n",
       " 395,\n",
       " 606,\n",
       " 185,\n",
       " 304,\n",
       " 2402,\n",
       " 985,\n",
       " 854,\n",
       " 643,\n",
       " 326,\n",
       " 736,\n",
       " 411,\n",
       " 94,\n",
       " 656,\n",
       " 787,\n",
       " 1109,\n",
       " 1253,\n",
       " 464,\n",
       " 1120,\n",
       " 403,\n",
       " 374,\n",
       " 14,\n",
       " 712,\n",
       " 157,\n",
       " 217]"
      ]
     },
     "execution_count": 72,
     "metadata": {},
     "output_type": "execute_result"
    }
   ],
   "source": [
    "summary2.clusterSizes"
   ]
  },
  {
   "cell_type": "code",
   "execution_count": 73,
   "metadata": {},
   "outputs": [],
   "source": [
    "evaluator2 = ClusteringEvaluator(featuresCol='features2', predictionCol='prediction2')\n",
    "silhouette2 = evaluator2.evaluate(predictions2)"
   ]
  },
  {
   "cell_type": "code",
   "execution_count": 74,
   "metadata": {},
   "outputs": [
    {
     "name": "stdout",
     "output_type": "stream",
     "text": [
      "Silhouette Score of the Clustering Result is  0.7394072054440451\n"
     ]
    }
   ],
   "source": [
    "print('Silhouette Score of the Clustering Result is ', silhouette2)"
   ]
  },
  {
   "cell_type": "code",
   "execution_count": 75,
   "metadata": {},
   "outputs": [],
   "source": [
    "centers2 = kmModel2.clusterCenters()"
   ]
  },
  {
   "cell_type": "code",
   "execution_count": 76,
   "metadata": {},
   "outputs": [],
   "source": [
    "centers2_rdd = sc.parallelize(centers2)"
   ]
  },
  {
   "cell_type": "code",
   "execution_count": 77,
   "metadata": {},
   "outputs": [],
   "source": [
    "centers2_rdd.saveAsTextFile(\"MiniProject 2 Cluster Centers Only OHE\")"
   ]
  },
  {
   "cell_type": "markdown",
   "metadata": {},
   "source": [
    "# Exercise 8 (10 points) \n",
    "- (a) Compare the clutering results of the two approaches above (1) OHE + three numerical features, and (2) OHE.  (5 points)\n",
    "- (b) Discuss the reasons one approach is worse than the other. (5 points)"
   ]
  },
  {
   "cell_type": "markdown",
   "metadata": {},
   "source": [
    "# Answer to Exercise 8:\n",
    "- (a) OHE+features' Clustering Result is  0.9083484568569015. The OHE Clustering Result is  0.7394072054440451. The OHE+features is better. \n",
    "- (b) Selecting specific features can help to find clusters more efficiently, understand the data better, and reduce data size for storage, collection, and processing. "
   ]
  },
  {
   "cell_type": "markdown",
   "metadata": {},
   "source": [
    "# Exercise 9 (30 points)\n",
    "Modify the Jupyter Notebook for running in cluster mode using the big dataset (Day_2020_profile.csv). \n",
    "Submit the .py file using spark-submit in the cluster mode to calculate cluster centers of the two different approaches (one using OHE + numerical features, the other using only OHE).\n",
    "- Submit the .py file and the log file that contains the run time information.\n",
    "- Submit a screen shot showing the output directories (both in local mode and in cluster mode)\n",
    "- Submit the output files for each approach in the cluster mode."
   ]
  },
  {
   "cell_type": "code",
   "execution_count": null,
   "metadata": {},
   "outputs": [],
   "source": [
    "ss.stop()"
   ]
  }
 ],
 "metadata": {
  "kernelspec": {
   "display_name": "Python 3",
   "language": "python",
   "name": "python3"
  },
  "language_info": {
   "codemirror_mode": {
    "name": "ipython",
    "version": 3
   },
   "file_extension": ".py",
   "mimetype": "text/x-python",
   "name": "python",
   "nbconvert_exporter": "python",
   "pygments_lexer": "ipython3",
   "version": "3.8.3"
  }
 },
 "nbformat": 4,
 "nbformat_minor": 4
}
