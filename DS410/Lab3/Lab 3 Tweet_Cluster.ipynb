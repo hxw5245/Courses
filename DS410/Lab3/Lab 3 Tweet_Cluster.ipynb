{
 "cells": [
  {
   "cell_type": "markdown",
   "metadata": {},
   "source": [
    "## DS/CMPSC 410 Spring 2022\n",
    "## Instructor: Professor John Yen\n",
    "## TA: Rupesh Prajapati \n",
    "## LAs: Lily Jakielaszek and Cayla Shan Pun\n",
    "## Lab 3: Hashtag Twitter Counts, Cluster Mode, and Persist\n",
    "## The goals of this lab are for you to be able to\n",
    "## - Use SparkSession (of Spark SQL) to read csv file into a DataFrame\n",
    "## - Use withColumn of DataFrame and SQL function split to create a new column for parking tweets into tokens.\n",
    "## - Be familiar with running pyspark in ICDS cluster \n",
    "## - Evaluate the impact of using persist on an RDD used multiple times\n",
    "## - Be familiar with the following RDD transformations in Spark:\n",
    "`filter, sortByKey'\n",
    "## - Apply the obove to find top hashtags and top Twitters mentioned in a set of tweets.\n",
    "\n",
    "## Total Number of Exercises: 6\n",
    "- Exercise 1: 5 points\n",
    "- Exercise 2: 5 points\n",
    "- Exercise 3: 10 points\n",
    "- Exercise 4: 10 points\n",
    "- Exercise 5: 10 points\n",
    "- Exercise 6: 15 points\n",
    "\n",
    "## Total Points: 55 points\n",
    "\n",
    "# Due: midnight, Jan 30th, 2022"
   ]
  },
  {
   "cell_type": "markdown",
   "metadata": {},
   "source": [
    "## Like Lab 2, the first thing we need to do in each Jupyter Notebook running pyspark is to import pyspark first."
   ]
  },
  {
   "cell_type": "code",
   "execution_count": 1,
   "metadata": {},
   "outputs": [],
   "source": [
    "import pyspark"
   ]
  },
  {
   "cell_type": "markdown",
   "metadata": {},
   "source": [
    "## In addition to `SparkContext`, we import `SparkSession` from Spark SQL module. This enables us to read a CSV file into a structured Spark representation (called DataFrame).\n",
    "## We also need to import two SQL functions: `split` and `col`\n",
    "## Finally, we import Row from Spark SQL so that we can convert DataFrame into RDD."
   ]
  },
  {
   "cell_type": "code",
   "execution_count": 2,
   "metadata": {},
   "outputs": [],
   "source": [
    "from pyspark import SparkContext\n",
    "from pyspark.sql import SparkSession\n",
    "from pyspark.sql.functions import split,col,column\n",
    "from pyspark.sql import Row"
   ]
  },
  {
   "cell_type": "markdown",
   "metadata": {},
   "source": [
    "## We then create a Spark Session variable (rathern than Spark Context) in order to use DataFrame.  Once we have a spark session variable, we can use spark codes associated with Spark SQL module (e.g., using DataFrame).\n",
    "\n",
    "- Note: We temporarily use \"local\" as the parameter for master in this notebook so that we can test it in ICDS Jupyter Server.  However, we need to remove `.master(\"local\")` later when you convert this notebook into a .py file to run in cluster mode."
   ]
  },
  {
   "cell_type": "code",
   "execution_count": 3,
   "metadata": {},
   "outputs": [
    {
     "data": {
      "text/html": [
       "\n",
       "            <div>\n",
       "                <p><b>SparkSession - in-memory</b></p>\n",
       "                \n",
       "        <div>\n",
       "            <p><b>SparkContext</b></p>\n",
       "\n",
       "            <p><a href=\"http://comp-sc-0196.acib.production.int.aci.ics.psu.edu:4040\">Spark UI</a></p>\n",
       "\n",
       "            <dl>\n",
       "              <dt>Version</dt>\n",
       "                <dd><code>v3.2.0</code></dd>\n",
       "              <dt>Master</dt>\n",
       "                <dd><code>local</code></dd>\n",
       "              <dt>AppName</dt>\n",
       "                <dd><code>Lab3</code></dd>\n",
       "            </dl>\n",
       "        </div>\n",
       "        \n",
       "            </div>\n",
       "        "
      ],
      "text/plain": [
       "<pyspark.sql.session.SparkSession at 0x2b64a3d3bcd0>"
      ]
     },
     "execution_count": 3,
     "metadata": {},
     "output_type": "execute_result"
    }
   ],
   "source": [
    "ss=SparkSession.builder.appName(\"Lab3\").getOrCreate()\n",
    "ss"
   ]
  },
  {
   "cell_type": "markdown",
   "metadata": {},
   "source": [
    "# Exercise 1 (5 points)  Add your name below \n",
    "## Answer for Exercise 1\n",
    "- Your Name: Haichen Wei"
   ]
  },
  {
   "cell_type": "markdown",
   "metadata": {},
   "source": [
    "# Schema of Data Frame:\n",
    "Each DataFrame needs a `schema`, which defines the heading and type of each column. The following code uses existing heading in the input csv file and uses the content of CSV file to infer the schema.  We will talk about how to explicitly define a schema next week."
   ]
  },
  {
   "cell_type": "markdown",
   "metadata": {},
   "source": [
    "# Exercise 2 (5 points) \n",
    "## Complete the code below using your home directory to read the CSV file that contains tweets and sentiment label (one line for each tweet) for later processing."
   ]
  },
  {
   "cell_type": "code",
   "execution_count": 5,
   "metadata": {},
   "outputs": [
    {
     "data": {
      "text/plain": [
       "DataFrame[Text: string, Support: int]"
      ]
     },
     "execution_count": 5,
     "metadata": {},
     "output_type": "execute_result"
    }
   ],
   "source": [
    "tweets_DF = ss.read.csv(\"/storage/home/hxw5245/Lab2/TweetsClimateChangeSentiment(1).csv\", header=True, inferSchema=True)\n",
    "tweets_DF"
   ]
  },
  {
   "cell_type": "code",
   "execution_count": 6,
   "metadata": {},
   "outputs": [
    {
     "name": "stdout",
     "output_type": "stream",
     "text": [
      "root\n",
      " |-- Text: string (nullable = true)\n",
      " |-- Support: integer (nullable = true)\n",
      "\n"
     ]
    }
   ],
   "source": [
    "tweets_DF.printSchema()"
   ]
  },
  {
   "cell_type": "code",
   "execution_count": 7,
   "metadata": {},
   "outputs": [
    {
     "name": "stdout",
     "output_type": "stream",
     "text": [
      "+--------------------+-------+\n",
      "|                Text|Support|\n",
      "+--------------------+-------+\n",
      "|RT @kasserolees: ...|      1|\n",
      "|RT @edelman_barba...|      1|\n",
      "+--------------------+-------+\n",
      "only showing top 2 rows\n",
      "\n"
     ]
    }
   ],
   "source": [
    "tweets_DF.show(2)"
   ]
  },
  {
   "cell_type": "markdown",
   "metadata": {},
   "source": [
    "# Exercise 3 (10 points) \n",
    "## Execute the code below, which computes total counts of hashtags and Twitter users in the given dataset, sort them by count (in descending order), and save them in two output directories:\n",
    "- (a) Uses an SQL split function to parse a tweet into a list of tokens.\n",
    "- (b) Filter the token into two lists: a list of hashtags and a list of twitter users.\n",
    "- (c) Count the total number of hashtags and total number of twitter users.\n",
    "- (d) Sort both the hashtag count and Twitter user count in descending order.\n",
    "- (e) Save the sorted hashtag counts and sorted Twitter user counts in two output directories."
   ]
  },
  {
   "cell_type": "markdown",
   "metadata": {},
   "source": [
    "## Code for Exercise 3 is shown in the Code Cells below."
   ]
  },
  {
   "cell_type": "markdown",
   "metadata": {
    "jupyter": {
     "outputs_hidden": true
    }
   },
   "source": [
    "## Adding a Column to a DataFrame using withColumn\n",
    "### We often need to transform content of a column into another column. For example, we would like to transform the column Text in the tweets DataFrame into a `list` of tokens. We can do this using the DataFrame method `withColumn`.  \n",
    "\n",
    "### This transformation can be done using `split` Spark SQL function (which is different from python `split` function).\n",
    "### The `split` Spark SQL function takes two arguments:\n",
    "- The first argument refers to a column of the DataFrame, such as `col(\"Text\")`.\n",
    "- The second argument is a string that serves as the delimeter. "
   ]
  },
  {
   "cell_type": "code",
   "execution_count": 8,
   "metadata": {},
   "outputs": [],
   "source": [
    "tweets_tokens_DF= tweets_DF.withColumn(\"Tokens\", split(col(\"Text\"), \" \"))"
   ]
  },
  {
   "cell_type": "markdown",
   "metadata": {},
   "source": [
    "# View Content of a DataFrame\n",
    "### Like RDD, DataFrame is not actually computed until an action is invoked.  To see some content of the RDD, we can use `.show(n)` where n is the number of rows we want to show.  Like `.take` for RDD, `.show` for DataFrame is an action."
   ]
  },
  {
   "cell_type": "code",
   "execution_count": 9,
   "metadata": {},
   "outputs": [
    {
     "name": "stdout",
     "output_type": "stream",
     "text": [
      "+--------------------+-------+--------------------+\n",
      "|                Text|Support|              Tokens|\n",
      "+--------------------+-------+--------------------+\n",
      "|RT @kasserolees: ...|      1|[RT, @kasserolees...|\n",
      "|RT @edelman_barba...|      1|[RT, @edelman_bar...|\n",
      "|RT @OtagoGrad: @a...|      0|[RT, @OtagoGrad:,...|\n",
      "+--------------------+-------+--------------------+\n",
      "only showing top 3 rows\n",
      "\n"
     ]
    }
   ],
   "source": [
    "tweets_tokens_DF.show(3)"
   ]
  },
  {
   "cell_type": "markdown",
   "metadata": {},
   "source": [
    "## DataFrame Transformation for Selecting Columns\n",
    "\n",
    "### DataFrame transformation `select` is similar to the projection operation in SQL: it returns a DataFrame that contains all of the columns selected."
   ]
  },
  {
   "cell_type": "markdown",
   "metadata": {},
   "source": [
    "## Conversion from a DataFrame to RDD\n",
    "### A DataFrame can be converted to an RDD by the method `.rdd`"
   ]
  },
  {
   "cell_type": "code",
   "execution_count": 10,
   "metadata": {},
   "outputs": [],
   "source": [
    "token_list_RDD = tweets_tokens_DF.select(\"Tokens\").rdd"
   ]
  },
  {
   "cell_type": "code",
   "execution_count": 11,
   "metadata": {},
   "outputs": [
    {
     "data": {
      "text/plain": [
       "[Row(Tokens=['RT', '@kasserolees:', 'Energy', 'is', 'the', '#1', 'contributer', 'to', 'climate', 'change', 'by', 'far.', 'Also', 'ALL', 'agriculture', '(not', 'just', 'animal', 'ag)', 'contributes', 'to', 'climate', 'ch']),\n",
       " Row(Tokens=['RT', '@edelman_barbara:', '@msnbc', 'why', 'don', 't', 'you', 'have', 'a', 'climate', 'change', 'scientist', 'on', 'the', 'air?'])]"
      ]
     },
     "execution_count": 11,
     "metadata": {},
     "output_type": "execute_result"
    }
   ],
   "source": [
    "token_list_RDD.take(2)"
   ]
  },
  {
   "cell_type": "markdown",
   "metadata": {},
   "source": [
    "# Row of DataFrame\n",
    "## When a DataFrame is converted into an RDD, it maintains the strucutre of the DataFrame (e.g., heading) using a `Row` structure, as shown in the output in the previous code cell. To access a specific column of a row, we can use the column name.  For example, the code below use `row.Tokens` to access the value of Tokens column for each row in the RDD (converted from the DataFrame tweets_token_DF)."
   ]
  },
  {
   "cell_type": "code",
   "execution_count": 12,
   "metadata": {},
   "outputs": [],
   "source": [
    "token_list2_RDD= token_list_RDD.map(lambda row: row.Tokens)"
   ]
  },
  {
   "cell_type": "code",
   "execution_count": 13,
   "metadata": {},
   "outputs": [
    {
     "data": {
      "text/plain": [
       "[['RT',\n",
       "  '@kasserolees:',\n",
       "  'Energy',\n",
       "  'is',\n",
       "  'the',\n",
       "  '#1',\n",
       "  'contributer',\n",
       "  'to',\n",
       "  'climate',\n",
       "  'change',\n",
       "  'by',\n",
       "  'far.',\n",
       "  'Also',\n",
       "  'ALL',\n",
       "  'agriculture',\n",
       "  '(not',\n",
       "  'just',\n",
       "  'animal',\n",
       "  'ag)',\n",
       "  'contributes',\n",
       "  'to',\n",
       "  'climate',\n",
       "  'ch'],\n",
       " ['RT',\n",
       "  '@edelman_barbara:',\n",
       "  '@msnbc',\n",
       "  'why',\n",
       "  'don',\n",
       "  't',\n",
       "  'you',\n",
       "  'have',\n",
       "  'a',\n",
       "  'climate',\n",
       "  'change',\n",
       "  'scientist',\n",
       "  'on',\n",
       "  'the',\n",
       "  'air?']]"
      ]
     },
     "execution_count": 13,
     "metadata": {},
     "output_type": "execute_result"
    }
   ],
   "source": [
    "token_list2_RDD.take(2)"
   ]
  },
  {
   "cell_type": "code",
   "execution_count": 14,
   "metadata": {},
   "outputs": [],
   "source": [
    "token_RDD = token_list2_RDD.flatMap(lambda x: x)"
   ]
  },
  {
   "cell_type": "code",
   "execution_count": 15,
   "metadata": {},
   "outputs": [
    {
     "data": {
      "text/plain": [
       "['RT',\n",
       " '@kasserolees:',\n",
       " 'Energy',\n",
       " 'is',\n",
       " 'the',\n",
       " '#1',\n",
       " 'contributer',\n",
       " 'to',\n",
       " 'climate',\n",
       " 'change']"
      ]
     },
     "execution_count": 15,
     "metadata": {},
     "output_type": "execute_result"
    }
   ],
   "source": [
    "token_RDD.take(10)"
   ]
  },
  {
   "cell_type": "markdown",
   "metadata": {},
   "source": [
    "# Filtering an RDD\n",
    "\n",
    "## The syntax for filter (one type of data trasnformation in spark) is\n",
    "## RDD.filter(lambda parameter : condition ) ##\n",
    "## Notice the syntax is not what is described in p. 38 of the textbook.\n",
    "##  The result of filtering the input RDD is the collection of all elements that pass the filter condition (i.e., returns True when the filtering condition is applied to the parameter. \n",
    "## For example, the filtering condition in the pyspark conde below checks whether each element of the input RDD (i.e., token_RDD) starts with the character \"#\", using Python startswith() method for string."
   ]
  },
  {
   "cell_type": "code",
   "execution_count": 16,
   "metadata": {},
   "outputs": [],
   "source": [
    "hashtag_RDD = token_RDD.filter(lambda pair: pair[0].startswith(\"#\"))"
   ]
  },
  {
   "cell_type": "code",
   "execution_count": 17,
   "metadata": {},
   "outputs": [],
   "source": [
    "twitter_RDD = token_RDD.filter(lambda pair: pair[0].startswith(\"@\"))"
   ]
  },
  {
   "cell_type": "code",
   "execution_count": 18,
   "metadata": {},
   "outputs": [],
   "source": [
    "hashtag_1_RDD = hashtag_RDD.map(lambda x: (x, 1))"
   ]
  },
  {
   "cell_type": "code",
   "execution_count": 19,
   "metadata": {},
   "outputs": [],
   "source": [
    "twitter_1_RDD = twitter_RDD.map(lambda x: (x, 1))"
   ]
  },
  {
   "cell_type": "code",
   "execution_count": 20,
   "metadata": {},
   "outputs": [],
   "source": [
    "hashtag_count_RDD = hashtag_1_RDD.reduceByKey(lambda x, y: x+y, 3)"
   ]
  },
  {
   "cell_type": "code",
   "execution_count": 21,
   "metadata": {},
   "outputs": [],
   "source": [
    "twitter_count_RDD = twitter_1_RDD.reduceByKey(lambda x, y: x+y, 3)"
   ]
  },
  {
   "cell_type": "markdown",
   "metadata": {},
   "source": [
    "## To sort hashtag and Twitter user count so that those that occur more frequent appear first, we switch the order of key and value (so that key is count, value is hashtag or Twitter user) using map.  \n",
    "## `sortByKey` sort a key value RDD based on the order of key.  The default order is ascending, so we need to set the flag `ascending` to `False` so that more frequently occured hashtags and Twitter users occur first."
   ]
  },
  {
   "cell_type": "code",
   "execution_count": 22,
   "metadata": {},
   "outputs": [],
   "source": [
    "sorted_count_hashtag_RDD = hashtag_count_RDD.map(lambda x: (x[1], x[0])).sortByKey(ascending=False)"
   ]
  },
  {
   "cell_type": "code",
   "execution_count": 23,
   "metadata": {},
   "outputs": [],
   "source": [
    "sorted_count_twitter_RDD = twitter_count_RDD.map(lambda x: (x[1], x[0])).sortByKey(ascending=False)"
   ]
  },
  {
   "cell_type": "markdown",
   "metadata": {},
   "source": [
    "# Note: You need to replace the path with your directory. You also need to change the directory names (e.g., replace \"1\" with \"2\" or \"B\") before you convert this notebook into a .py file for submitting it to ICDS.  "
   ]
  },
  {
   "cell_type": "code",
   "execution_count": 24,
   "metadata": {},
   "outputs": [],
   "source": [
    "output_hashtag = \"/storage/home/hxw5245/Lab3/sorted_count_hashtag2\" \n",
    "sorted_count_hashtag_RDD.saveAsTextFile(output_hashtag)"
   ]
  },
  {
   "cell_type": "code",
   "execution_count": 25,
   "metadata": {},
   "outputs": [],
   "source": [
    "output_twitter = \"/storage/home/hxw5245/Lab3/sorted_count_twitter2\" \n",
    "sorted_count_twitter_RDD.saveAsTextFile(output_twitter)"
   ]
  },
  {
   "cell_type": "code",
   "execution_count": 26,
   "metadata": {},
   "outputs": [],
   "source": [
    "ss.stop()"
   ]
  },
  {
   "cell_type": "markdown",
   "metadata": {},
   "source": [
    "# Exercise 4 (10 points)\n",
    "After running this Jupyter Notebook successfully in local mode, modify the notebook in two ways\n",
    "- remove `.master(\"local\")` in SparkSession statement so that the Spark code runs in cluster (Stand Alone cluster) mode.\n",
    "- modify the output directory names\n",
    "- Export the notebook as Executable Script (change the file name to Lab3.py)\n",
    "- upload Lab3.py to this directory.\n",
    "- Follow the direction of \"Instructions for Running Spark in Cluster Mode\""
   ]
  },
  {
   "cell_type": "markdown",
   "metadata": {},
   "source": [
    "# Exercise 5 (10 points)\n",
    "Add persist() to token_RDD in your Lab3.py file.  You can edit the Lab3.py file directly in Jupyter Server (this window), then use `Save Python File as` pull down menu under `File` on the upper left corner of this window to save it `Lab3B.py`. When you run spark-submit, save the log output file in a filae DIFFERENT from that you used for Exercise 4 (e.g., Lab3_log.txt for Exercise 4, Lab3B_log.txt for Exercise 5)."
   ]
  },
  {
   "cell_type": "markdown",
   "metadata": {},
   "source": [
    "# Exercise 6 (15 points)\n",
    "Compare the run-time cost (both real time and user time) for running in cluster mode with persist and without persist. Provide your answer below:"
   ]
  },
  {
   "cell_type": "markdown",
   "metadata": {},
   "source": [
    "# Answer to Exercise 6:\n",
    "- The real run-time with persist is 1m3.686s, without persist is 1m9.679s. The user time with persist is 0m22.760s, without persist is 0m23.583s. The run-time cost less for running in cluster mode with persist; code without persist will take longer time to run. "
   ]
  },
  {
   "cell_type": "code",
   "execution_count": null,
   "metadata": {},
   "outputs": [],
   "source": []
  }
 ],
 "metadata": {
  "kernelspec": {
   "display_name": "Python 3",
   "language": "python",
   "name": "python3"
  },
  "language_info": {
   "codemirror_mode": {
    "name": "ipython",
    "version": 3
   },
   "file_extension": ".py",
   "mimetype": "text/x-python",
   "name": "python",
   "nbconvert_exporter": "python",
   "pygments_lexer": "ipython3",
   "version": "3.8.3"
  }
 },
 "nbformat": 4,
 "nbformat_minor": 4
}
