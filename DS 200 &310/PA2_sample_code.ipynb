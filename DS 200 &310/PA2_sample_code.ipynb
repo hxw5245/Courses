{
  "cells": [
    {
      "metadata": {
        "trusted": true
      },
      "cell_type": "code",
      "source": "import numpy as np\nimport pandas as pd\nfrom sklearn.impute import SimpleImputer\nfrom sklearn import preprocessing\nfrom sklearn.neighbors import KNeighborsClassifier\n\ndf_train = pd.read_csv('train_data.csv', sep=',')\ndf_test = pd.read_csv('test_data.csv', sep=',')\n\ntrain_data = df_train.values\ntest_data = df_test.values\n\ntrain_features = train_data[:, 1:-2] # only keep the continuous features\ntrain_labels = list(train_data[:, -1])\ntest_features = test_data[:, 1:-1] # only keep the continuous features\n\n# preprocessing\n# You can try any preprocessing approaches\nimp = SimpleImputer(missing_values=np.nan, strategy='mean') # impute the data with mean value\nimp.fit(train_features)\nSimpleImputer()\nimputed_train_features = imp.transform(train_features)\nimputed_test_features = imp.transform(test_features)\n\n# classifier\n# You can try any classifiers\n# training\nneigh = KNeighborsClassifier(n_neighbors=5) # KNN classifier\nneigh.fit(imputed_train_features, train_labels)\n# prediction\npredictions = neigh.predict(imputed_test_features)\n\n# write to submission file\ndf_sub = pd.read_csv('sampleSubmission.csv', sep=',')\ndf_sub['Class'] = predictions\ndf_sub.to_csv ('my_sample_submission.csv', index = False, header=True)\nprint('done!')\n\n",
      "execution_count": 35,
      "outputs": [
        {
          "output_type": "stream",
          "text": "done!\n",
          "name": "stdout"
        }
      ]
    },
    {
      "metadata": {
        "trusted": true
      },
      "cell_type": "code",
      "source": "",
      "execution_count": null,
      "outputs": []
    }
  ],
  "metadata": {
    "kernelspec": {
      "name": "python36",
      "display_name": "Python 3.6",
      "language": "python"
    },
    "language_info": {
      "mimetype": "text/x-python",
      "nbconvert_exporter": "python",
      "name": "python",
      "pygments_lexer": "ipython3",
      "version": "3.6.6",
      "file_extension": ".py",
      "codemirror_mode": {
        "version": 3,
        "name": "ipython"
      }
    }
  },
  "nbformat": 4,
  "nbformat_minor": 2
}