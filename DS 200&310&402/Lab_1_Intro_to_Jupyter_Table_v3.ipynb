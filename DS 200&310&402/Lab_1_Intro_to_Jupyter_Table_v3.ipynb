{
  "nbformat": 4,
  "nbformat_minor": 0,
  "metadata": {
    "kernelspec": {
      "name": "python3",
      "display_name": "Python 3",
      "language": "python"
    },
    "language_info": {
      "mimetype": "text/x-python",
      "nbconvert_exporter": "python",
      "name": "python",
      "pygments_lexer": "ipython3",
      "version": "3.5.4",
      "file_extension": ".py",
      "codemirror_mode": {
        "version": 3,
        "name": "ipython"
      }
    },
    "colab": {
      "name": "Lab_1_Intro_to_Jupyter_Table_v3.ipynb",
      "provenance": [],
      "collapsed_sections": [],
      "toc_visible": true
    }
  },
  "cells": [
    {
      "cell_type": "markdown",
      "metadata": {
        "id": "aSkaXuDIBL-2",
        "colab_type": "text"
      },
      "source": [
        "# DS 200 Introduction to Data Science Lab 1\n",
        "# Introduction to Jupyter Notebook and Tables \n",
        "# Instructor: John Yen\n",
        "# TA: Rupesh Prajapati\n",
        "# LA: Nathan Joel Tack\n",
        "\n",
        "## Acknowledgement: This lab has been adopted from a lab previously developed at UC Berkeley (for the data 8 course).\n",
        "\n",
        "## Learning Objectives\n",
        "- Be able to execute Python code cells in Jupyter Notebook\n",
        "- Be able to edit text cells in Jupyter Notebook\n",
        "- Be able to read a file from your Google Drive\n",
        "- Be able to display some content of a table\n",
        "\n",
        "# Total points: 30 \n",
        "- Exercise 1: 10 points\n",
        "- Exercise 2: 3 points\n",
        "- Exercise 3: 3 points\n",
        "- Exercise 4: 3 points\n",
        "- Exercise 5: 3 points\n",
        "- Exercise 6: 8 points\n",
        "# Due: 5 pm, August 31\n",
        "\n",
        "# Part A Install and Import Datascience Module\n",
        "\n",
        "## The first thing we need to do is to install the datascience module, which was also developed at UC Berkeley for the data 8 course.\n",
        "\n",
        "### A module is a collection of Python code that, together, forms a code library that can be directly used by Python developer.\n",
        "### Google Colab already has several modules installed.  For example, we will later use sklearn module to create decision tree models from a set of labelled data.  \n",
        "### Because the datascience module is not pre-installed in Google Colab,  we need to use the following command to install it in the beginning of every Colab notebook that needs to use it.\n",
        "### Complete \"!pip install datascience\" in the line below.  Then click the \"Run\" button (under the \"Cell\" menu item on the top row of this web page)"
      ]
    },
    {
      "cell_type": "markdown",
      "metadata": {
        "id": "C3LX7o0Oc1ab",
        "colab_type": "text"
      },
      "source": [
        ""
      ]
    },
    {
      "cell_type": "code",
      "metadata": {
        "trusted": true,
        "id": "xOHmkUAjBL-4",
        "colab_type": "code",
        "colab": {}
      },
      "source": [
        "!pip install datascience"
      ],
      "execution_count": null,
      "outputs": []
    },
    {
      "cell_type": "markdown",
      "metadata": {
        "id": "jFsRxX-KBL-_",
        "colab_type": "text"
      },
      "source": [
        "## Import datascience module\n",
        "### After we successfully install the datascience module, we can now import it.\n",
        "### Importing a module enables us later to use functions (code) defined in the module.\n",
        "### For Example, one of the feature of datascience module is to enable us to easily read a tabular data stored in a CSV file, process the table in various way, and visualize data in the table in multiple ways (e.g., bar chart, scatter plot, etc)."
      ]
    },
    {
      "cell_type": "code",
      "metadata": {
        "trusted": true,
        "id": "s0N3N_PDBL_A",
        "colab_type": "code",
        "colab": {}
      },
      "source": [
        "from datascience import *"
      ],
      "execution_count": null,
      "outputs": []
    },
    {
      "cell_type": "markdown",
      "metadata": {
        "id": "w1nuJ5HxBL_F",
        "colab_type": "text"
      },
      "source": [
        "### Milestone 1: \n",
        "Congratulations!  You have reached your first milestone for Lab 1. "
      ]
    },
    {
      "cell_type": "markdown",
      "metadata": {
        "id": "OEqDGsBnBL_G",
        "colab_type": "text"
      },
      "source": [
        "# Part B Read a Table\n",
        "## In the second part of the lab, we will use a utility (Table class) of datascience module to read a CSV file that contains salary data of employees of San Francisco City.\n",
        "## Source of The Data: Kaggle https://www.kaggle.com/kaggle/sf-salaries\n",
        "\n",
        "A table is a fundamental object type for representing data sets. A table can be viewed in two ways:\n",
        "* A sequence of named columns that each describe a single aspect of all entries in a data set\n",
        "* A sequence of rows that each contain all information about a single entry in a data set\n",
        "\n",
        "Each column of this table data structure must contain values of the same kind. For example, a table can have a column of integers or a column of strings. We can create a table from scratch or from a CSV file. Let's try reading a CSV file into a table.\n",
        "\n",
        "In the Python code below, we use Table.read_table to read a CSV file called \"SFSalaries2011_2014.csv\".\n",
        "\n",
        "- Note 1: We use a pair of double quotes \".....\" to indicate a string in Python.  Otherwise, Python may interpret it as a variable name (like salaries).\n",
        "- Note 2: Table.read_table is like a function.  It takes a file name as input, and returns a Table object as its output.\n",
        "- Note 3: We can use assignment (=) in Python to assign the output of the function Table.read_table to a variable (like salaries)\n",
        "- Note 4: Running a line that contains only a variable results in displaying the content of the variable.\n"
      ]
    },
    {
      "cell_type": "markdown",
      "metadata": {
        "id": "_nJfHh7DC5-3",
        "colab_type": "text"
      },
      "source": [
        "## Read Data from a file in your Google Doc\n",
        "\n",
        "### Execute the following code cell, which lets this notebook know how to access your Google Drive (linked to your PSU account for accessing G suite, which includes Colab).\n",
        "### Follow the instruction to go to the designated URL to find the \"authorization code\", then enter the authorization code in the field reserved for it.\n",
        "### When you see \"Mounted at /content/drive\", that means your Google Drive is accessible from your python code in this Notebook.\n",
        " "
      ]
    },
    {
      "cell_type": "code",
      "metadata": {
        "id": "JCGOKA4JDnwi",
        "colab_type": "code",
        "colab": {}
      },
      "source": [
        "from google.colab import drive\n",
        "drive.mount('/content/drive')"
      ],
      "execution_count": null,
      "outputs": []
    },
    {
      "cell_type": "markdown",
      "metadata": {
        "id": "8L-tP6Edg6mV",
        "colab_type": "text"
      },
      "source": [
        "## Read a Data File from your Google Drive\n",
        "### A \"path\" is the sequence of directory (or folder) through which you can find a file in a computer.\n",
        "### You can now use the path of the data file in your Google Drive to read it into this notebook by adding \"content/drive/My Drive/\" to the directory (e.g., \"DS200Labs\") that you use to store data files for labs of this course."
      ]
    },
    {
      "cell_type": "markdown",
      "metadata": {
        "id": "pXXoasteiUAs",
        "colab_type": "text"
      },
      "source": [
        "# Exercise 1 Read and Display Data from your Google Drive\n",
        "\n",
        "## Exercise 1.A Set path to IMDB5000movies.csv in DS200Labs directory of My Drive in Google Drive (3 points)"
      ]
    },
    {
      "cell_type": "code",
      "metadata": {
        "colab_type": "code",
        "id": "sX3aoCRoi7g-",
        "colab": {}
      },
      "source": [
        "path=\"/content/drive/My Drive/???/IMDB5000movies.csv\"\n",
        "Moviesdata = Table.read_table(path)"
      ],
      "execution_count": null,
      "outputs": []
    },
    {
      "cell_type": "markdown",
      "metadata": {
        "id": "_e_C_GR4jOJ-",
        "colab_type": "text"
      },
      "source": [
        "## Exercise 1.B Display Table (3 points)\n",
        "### To display some contents of the table, we can use .show(10) method to show the first 10 rows of the table you just red from Google Drive.\n",
        "###  Notice that you need to use the variable (i.e., Moviesdata) that saves the table red in the previous code cell to display the table's content."
      ]
    },
    {
      "cell_type": "code",
      "metadata": {
        "id": "vYjjD1m1JwJJ",
        "colab_type": "code",
        "colab": {}
      },
      "source": [
        "Moviesdata.show(10)"
      ],
      "execution_count": null,
      "outputs": []
    },
    {
      "cell_type": "markdown",
      "metadata": {
        "id": "4op3XVVjpC_2",
        "colab_type": "text"
      },
      "source": [
        "## Exercise 1.C Display Another Table (4 points)\n",
        "\n",
        "### You need to replace \"????\" with the correct variable name for the table created by reading from the SF city empoyees salary dataset.  What is the variable name?\n",
        "\n",
        "### Exercise 5 is also about variable and assignment.  You may find it useful for completing this exercise."
      ]
    },
    {
      "cell_type": "code",
      "metadata": {
        "id": "Pu30aDHhKHyS",
        "colab_type": "code",
        "colab": {}
      },
      "source": [
        "path2=\"/content/drive/My Drive/DS200Labs/SFSalaries2011_2014.csv\"\n",
        "salaries= Table.read_table(path2)\n",
        "????.show(10)"
      ],
      "execution_count": null,
      "outputs": []
    },
    {
      "cell_type": "markdown",
      "metadata": {
        "id": "s6hitsuLBL_K",
        "colab_type": "text"
      },
      "source": [
        "# Milestone 2: \n",
        "If you successfully read the salary file into a table and show some of the content of the table, congratulations! You have reached Milestone 2."
      ]
    },
    {
      "cell_type": "markdown",
      "metadata": {
        "id": "pqK5QolsBL_K",
        "colab_type": "text"
      },
      "source": [
        "# <a name=\"notebooks\"></a>Part C Introduction to Jupyter Notebooks\n",
        "\n",
        "Part C of this lab is intended to be a hands-on introduction to Jupyter Notebook.  You are currently working in a Jupyter Notebook. A Notebook allows text and code to be combined into one document. Each rectangular section of a notebook is called a \"cell.\" There are two types of cells in this notebook: text cells and code cells. "
      ]
    },
    {
      "cell_type": "markdown",
      "metadata": {
        "id": "fUHS1_dIBL_L",
        "colab_type": "text"
      },
      "source": [
        "## 1.1 Text Cells\n",
        "\n",
        "Text cells (like this one) can be edited by double-clicking on them. They're written in a simple format called [Markdown](http://daringfireball.net/projects/markdown/syntax) to add formatting and section headings.  If you want to write your own notebooks, it will be useful to know the basics of Markdown.\n",
        "\n",
        "After you edit a text cell, click the \"run cell\" button at the top that looks like ▶ to confirm any changes. Alternatively, you can hold down the `shift` key and then press `return` or `enter`."
      ]
    },
    {
      "cell_type": "markdown",
      "metadata": {
        "id": "_ai_v-StBL_L",
        "colab_type": "text"
      },
      "source": [
        "# <a name=\"1\"></a>Exercise 2 Edit a Text Cell of Jupyter Notebook (3 points)\n",
        "\n",
        "This paragraph is in its own text cell.  Try editing it so that this sentence is the last sentence in the paragraph.  This sentence, for example, should be deleted.  So should this one. Replace this sentence here with one sentence about your self (e.g., John Yen plays the violin.)."
      ]
    },
    {
      "cell_type": "markdown",
      "metadata": {
        "id": "UdjyEW7cBL_M",
        "colab_type": "text"
      },
      "source": [
        "## 1.2 Code Cells\n",
        "\n",
        "Other cells contain code in the Python 3 language. Running a code cell will execute all of the code it contains. To run the code in a code cell, first click on that cell to activate it. Next, either click ▶ or hold down the `shift` key and then press `return` or `enter`.\n",
        "\n",
        "Try running the two cells below."
      ]
    },
    {
      "cell_type": "code",
      "metadata": {
        "trusted": true,
        "id": "S8a3ygGwBL_O",
        "colab_type": "code",
        "colab": {}
      },
      "source": [
        "print(\"Hello, World!\")"
      ],
      "execution_count": null,
      "outputs": []
    },
    {
      "cell_type": "markdown",
      "metadata": {
        "id": "qK1Q_ujoBL_Q",
        "colab_type": "text"
      },
      "source": [
        "# Exercise 3 Print A String (3 points)\n",
        "Replace \"Jo Smith\" below with your name.  You can also change the rest of the sentece. Run the code cell to see whether the sentence printed is what you expected.\n",
        "#### Tip: \"+\" is used here to concatenate two strings into one."
      ]
    },
    {
      "cell_type": "code",
      "metadata": {
        "trusted": true,
        "id": "8YxChE1bBL_R",
        "colab_type": "code",
        "colab": {}
      },
      "source": [
        "print(\"Jo Smith \" + \"likes to play with data.\")"
      ],
      "execution_count": null,
      "outputs": []
    },
    {
      "cell_type": "markdown",
      "metadata": {
        "id": "7VJ_n8FFBL_V",
        "colab_type": "text"
      },
      "source": [
        "Code cells can contain multiple lines. When you run a cell with multiple lines, each line will be executed. Every print expression in the following cell prints a line. Run the next cell and notice the order of the output.\n",
        "\n"
      ]
    },
    {
      "cell_type": "markdown",
      "metadata": {
        "colab_type": "text",
        "id": "pNoryhyLar7A"
      },
      "source": [
        "\n",
        "# Exercise 4 Print Two Strings (3 points)\n",
        "Change the two strings below into two sentences about Penn State. Run the Cell"
      ]
    },
    {
      "cell_type": "code",
      "metadata": {
        "trusted": true,
        "id": "XdNPg1olBL_W",
        "colab_type": "code",
        "colab": {}
      },
      "source": [
        "print(\"First this line is printed,\")\n",
        "print(\"and then this one.\")"
      ],
      "execution_count": null,
      "outputs": []
    },
    {
      "cell_type": "markdown",
      "metadata": {
        "id": "VSEC3MEzBL_Z",
        "colab_type": "text"
      },
      "source": [
        "## 1.3 Comments\n",
        "\n",
        "Code cells can also contain text in the form of comments. Comments don't make anything happen in Python; Python ignores anything on a line after a #.  Instead, comments are there to communicate something about the code to you, the human reader.  Comments are extremely useful. The cell below contains two examples of how comments can be used.\n",
        "\n",
        "<img src=\"http://imgs.xkcd.com/comics/future_self.png\">"
      ]
    },
    {
      "cell_type": "code",
      "metadata": {
        "trusted": true,
        "id": "BA8Lf5vCBL_Z",
        "colab_type": "code",
        "colab": {}
      },
      "source": [
        "# This is a comment\n",
        "print(\"Hello, World!\")    # This is also a comment"
      ],
      "execution_count": null,
      "outputs": []
    },
    {
      "cell_type": "markdown",
      "metadata": {
        "id": "KHNOktlPBL_c",
        "colab_type": "text"
      },
      "source": [
        "# <a name=\"python\"></a>2. Intro to Python"
      ]
    },
    {
      "cell_type": "markdown",
      "metadata": {
        "id": "AW7-_JaeBL_c",
        "colab_type": "text"
      },
      "source": [
        "Python is a language, and like natural human languages, it has rules.  It differs from natural language in at least two important ways:\n",
        "\n",
        "1. The rules are *simple*.  You can learn most of them in a few weeks and gain reasonable proficiency with the language in a semester.\n",
        "2. The rules are *rigid*.  If you're proficient in a natural language, you can understand a non-proficient speaker, glossing over small mistakes.  A computer running Python code is not smart enough to do that.\n",
        "\n",
        "We will cover some of these rules in this lab. Because the rules are so rigid, you may come across syntax errors throughout the lab. Don't hesitate to ask a lab assistant for help if you see such errors."
      ]
    },
    {
      "cell_type": "markdown",
      "metadata": {
        "id": "NOK9X1yyBL_c",
        "colab_type": "text"
      },
      "source": [
        "## 2.1 Numbers\n",
        "\n",
        "Quantitative information arises everywhere in data science. Python has two different types of numbers we can work with: integer and floats (aka decimals). Try running the first cell below which contains an integer. "
      ]
    },
    {
      "cell_type": "code",
      "metadata": {
        "trusted": true,
        "id": "ejT89FsmBL_d",
        "colab_type": "code",
        "colab": {}
      },
      "source": [
        "3"
      ],
      "execution_count": null,
      "outputs": []
    },
    {
      "cell_type": "markdown",
      "metadata": {
        "id": "nzL4L731BL_f",
        "colab_type": "text"
      },
      "source": [
        "Notice that we didn't have to `print`. When you run a notebook cell, if the last line has a value, then Jupyter helpfully prints out that value for you. The value of the integer 3 is simply 3. "
      ]
    },
    {
      "cell_type": "code",
      "metadata": {
        "trusted": true,
        "id": "rEypGN_CBL_f",
        "colab_type": "code",
        "colab": {}
      },
      "source": [
        "3.14"
      ],
      "execution_count": null,
      "outputs": []
    },
    {
      "cell_type": "markdown",
      "metadata": {
        "id": "atQz1k8oBL_h",
        "colab_type": "text"
      },
      "source": [
        "Similarly, the value of the float 3.14 is simply 3.14. \n",
        "\n",
        "Only the value of the last line of a cell is automatically displayed. If you want to display the value of previous lines, you must explicitly do so using `print`. Notice that 3 does not get displayed when you run the cell below."
      ]
    },
    {
      "cell_type": "code",
      "metadata": {
        "trusted": true,
        "id": "Nof5U2gnBL_h",
        "colab_type": "code",
        "colab": {
          "base_uri": "https://localhost:8080/",
          "height": 52
        },
        "outputId": "f6cd5d4c-3438-4f41-f430-75d066f9634b"
      },
      "source": [
        "print(2.5)    # The print command enables the result to be displayed after the cell is executed.\n",
        "3             # The number 3 is not displayed because it is not the last line of the cell\n",
        "4             # The number 4 is displayed automatically because this is the last line of the cell."
      ],
      "execution_count": null,
      "outputs": [
        {
          "output_type": "stream",
          "text": [
            "2.5\n"
          ],
          "name": "stdout"
        },
        {
          "output_type": "execute_result",
          "data": {
            "text/plain": [
              "4"
            ]
          },
          "metadata": {
            "tags": []
          },
          "execution_count": 1
        }
      ]
    },
    {
      "cell_type": "markdown",
      "metadata": {
        "id": "x-icMPiHBL_j",
        "colab_type": "text"
      },
      "source": [
        "## 2.2 Text\n",
        "\n",
        "Programming doesn't just concern numbers. Text is one of the most common types of values used in programs.\n",
        "\n",
        "A snippet of text is represented by a string value in Python. The word **\"string\"** is a programming term for a sequence of characters. A string might contain a single character, a word, a sentence, or a whole book.\n",
        "\n",
        "To distinguish text data from actual code, we demarcate strings by putting quotation marks around them. Single quotes (') and double quotes (\") are both valid, but the types of opening and closing quotation marks must match. The contents can be any sequence of characters, including numbers and symbols."
      ]
    },
    {
      "cell_type": "code",
      "metadata": {
        "trusted": true,
        "id": "nWwL0tohBL_k",
        "colab_type": "code",
        "colab": {}
      },
      "source": [
        "\"hello\""
      ],
      "execution_count": null,
      "outputs": []
    },
    {
      "cell_type": "code",
      "metadata": {
        "trusted": true,
        "id": "jh9s0-fKBL_l",
        "colab_type": "code",
        "colab": {}
      },
      "source": [
        "'world'"
      ],
      "execution_count": null,
      "outputs": []
    },
    {
      "cell_type": "markdown",
      "metadata": {
        "id": "V7SnDnaTBL_n",
        "colab_type": "text"
      },
      "source": [
        "## 2.3 Expressions\n",
        "\n",
        "Expressions are the building blocks of programs, and they describe to the computer how to combine pieces of data. We can combine numbers using expressions. For example, we can add two numbers using + and multiply two numbers using \\*. \n",
        "\n",
        "Run the following cell to evaluate the multiplication expression shown. The value of the expression, 12 in this case, will be displayed below the cell."
      ]
    },
    {
      "cell_type": "code",
      "metadata": {
        "trusted": true,
        "id": "6nHGfBivBL_n",
        "colab_type": "code",
        "colab": {}
      },
      "source": [
        "3 * 4"
      ],
      "execution_count": null,
      "outputs": []
    },
    {
      "cell_type": "markdown",
      "metadata": {
        "id": "Lo5a6ZfMBL_o",
        "colab_type": "text"
      },
      "source": [
        "When there are multiple expressions in a cell, only the value of the final expression will be automatically displayed upon running the cell. If you want to display the value of previous expressions, you must explicitly do so using `print`. Notice that 5 does not get displayed when you run the cell below."
      ]
    },
    {
      "cell_type": "markdown",
      "metadata": {
        "id": "TwuOUbiLBL_p",
        "colab_type": "text"
      },
      "source": [
        "## 2.4 Names\n",
        "\n",
        "In natural language, we have terminology that lets us quickly reference very complicated concepts.  We don't say, \"That's a large mammal with brown fur and sharp teeth!\"  Instead, we say, \"Bear!\"\n",
        "\n",
        "Similarly, an effective strategy for writing code is to define names for data as we compute it, like a lawyer would define terms for complex ideas at the start of a legal document. Names are given to values in Python using an **assignment statement**. In an assignment, a name is followed by =, which is followed by any expression. The value of the expression to the right of = is assigned to the name. Once a name has a value assigned to it, the value will be substituted for that name in future expressions."
      ]
    },
    {
      "cell_type": "code",
      "metadata": {
        "trusted": true,
        "id": "gHza8kNcBL_p",
        "colab_type": "code",
        "colab": {}
      },
      "source": [
        "a = 10\n",
        "b = 20\n",
        "a + b"
      ],
      "execution_count": null,
      "outputs": []
    },
    {
      "cell_type": "markdown",
      "metadata": {
        "id": "xAfbCwQPBL_q",
        "colab_type": "text"
      },
      "source": [
        "A previously assigned name can be used in the expression to the right of = ."
      ]
    },
    {
      "cell_type": "code",
      "metadata": {
        "trusted": true,
        "id": "bjQvbNS1BL_q",
        "colab_type": "code",
        "colab": {}
      },
      "source": [
        "quarter = 1/4\n",
        "half = 2 * quarter\n",
        "half"
      ],
      "execution_count": null,
      "outputs": []
    },
    {
      "cell_type": "markdown",
      "metadata": {
        "id": "RSPDCMKSBL_s",
        "colab_type": "text"
      },
      "source": [
        "These are sometimes alternatively called variables.  We say that the variable named `quarter` is equal to 0.25.\n",
        "\n",
        "Names can also be used with strings."
      ]
    },
    {
      "cell_type": "markdown",
      "metadata": {
        "id": "nPz8y6Pubus-",
        "colab_type": "text"
      },
      "source": [
        "# Exercise 5 Varialbe and Assignment (3 point)\n",
        "## An assignment statement assigns the result of evaluating an expression to a variable. For example, replace \"???\" with your favorite movie, which is assigned to the variable \"favorite_movie\".\n",
        "\n",
        "## As we have seen before, strings can be concatenated into a larger string using \"+\".  So, \"+\" in python does not always mean addition.  "
      ]
    },
    {
      "cell_type": "code",
      "metadata": {
        "trusted": true,
        "id": "kFFHd6wQBL_s",
        "colab_type": "code",
        "colab": {}
      },
      "source": [
        "favorite_movie = \"???\"\n",
        "print(\"My favorite movie is \" + favorite_movie)"
      ],
      "execution_count": null,
      "outputs": []
    },
    {
      "cell_type": "markdown",
      "metadata": {
        "id": "4OHMAIWWBL_u",
        "colab_type": "text"
      },
      "source": [
        "# <a name=\"tables\"></a>3. Introduction to Tables"
      ]
    },
    {
      "cell_type": "markdown",
      "metadata": {
        "id": "D3mv8o7TBL_u",
        "colab_type": "text"
      },
      "source": [
        "If we want just the Salary of the data, we can use \".column\" method of Table.  Since salaries is a Table, we can get the entire list of salaries using \"salaries.colum(\"TotalPay\")\".  This will return an array of the salaries.\n",
        "Similar to integers, floats, and strings, arrays are another **data type** that we can use in Python."
      ]
    },
    {
      "cell_type": "code",
      "metadata": {
        "trusted": true,
        "id": "F8_Hr8KYBL_u",
        "colab_type": "code",
        "colab": {}
      },
      "source": [
        "salary_array = salaries.column(\"TotalPay\")    # Select just the \"TotalPay\" column\n",
        "print(salary_array)"
      ],
      "execution_count": null,
      "outputs": []
    },
    {
      "cell_type": "markdown",
      "metadata": {
        "id": "1YDWcaewBL_v",
        "colab_type": "text"
      },
      "source": [
        "If we want to get the top 100 salaries, we can first sort the salaries in descending order.  We can do this using \".sort\" method of Table."
      ]
    },
    {
      "cell_type": "code",
      "metadata": {
        "trusted": true,
        "id": "HkZTzIS1BL_w",
        "colab_type": "code",
        "colab": {}
      },
      "source": [
        "# default sort order is ascending\n",
        "sorted_salaries = salaries.sort(\"TotalPay\") \n",
        "sorted_salaries.show(20)"
      ],
      "execution_count": null,
      "outputs": []
    },
    {
      "cell_type": "markdown",
      "metadata": {
        "id": "6QvdDJBQBL_x",
        "colab_type": "text"
      },
      "source": [
        "When using `sort`, the default sort order is ascending (from lowest salary to highest salary). Since we are interested in getting top salaries, it is more convenient to sort the table in DESCENDING order (from highest slary to lowest salary).  We can do this  using the `descending` argument of `sort` with the boolean value `True`, shown below and. The `descending` argument is optional and is set to `False` when its value is not specified as in the previous case. \n",
        "\n",
        "Additional Note: In Python, whenever you see a function argument of the form `<argument name>=<argument value>`, the argument is optional and does not need to be passed in. Not passing in the argument will cause the default value (e.g., `False` is the default value of the `descending` argument) to be used.  \n"
      ]
    },
    {
      "cell_type": "markdown",
      "metadata": {
        "colab_type": "text",
        "id": "mCcUcNTCcnMy"
      },
      "source": [
        "# Exercise 6 (8 points)\n",
        "Fill in the correct value for the descending parameter of salaries.sort so that the salary table can be sorted such that employees with highest TotalPay are on the top of the table."
      ]
    },
    {
      "cell_type": "code",
      "metadata": {
        "trusted": true,
        "id": "Y9-TEGBsBL_x",
        "colab_type": "code",
        "colab": {}
      },
      "source": [
        "sorted_salaries2 = salaries.sort(\"TotalPay\", descending=??)\n",
        "sorted_salaries2.show(20)"
      ],
      "execution_count": null,
      "outputs": []
    },
    {
      "cell_type": "markdown",
      "metadata": {
        "id": "oo7nExLSc4L6",
        "colab_type": "text"
      },
      "source": [
        "## After you complete all six exercises, save the notebook by clicking on \"File\" on the upper left corner of Colab window, then select \"Save\".  You can do this any time while you are working on a Jupyter Notebook so that you do not loose changes you made to the notebook.\n",
        "## Rename the Notebook file by clicking on the file name \"Lab_1_Intro_to_Jupyter_Table_v2.ipynb\" in the upper left corner to Lab1 followed by your Last Name, then your first name.  For example, a student with the name John Brown will rename the file as \"Lab1BrownJohn.ipynb\". Save the notebook using File > Save again.\n"
      ]
    },
    {
      "cell_type": "markdown",
      "metadata": {
        "id": "Tl4hj7VveTUQ",
        "colab_type": "text"
      },
      "source": [
        "# Congrats! \n",
        "# The last step is to convert this Jupyter Notebook file into an HTML file for submission to Canvas. To to this, you clicke on File, select \"Upload Notebook\", then choose the notebook \"Convert_Jupyter_Notebook_To_HTML.ipynb\". \n",
        "# Follow the instructions of this notebook to convert this ipynb file to an HTML file, then submit the HTML file to Canvas."
      ]
    }
  ]
}